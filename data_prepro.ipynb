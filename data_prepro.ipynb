{
 "cells": [
  {
   "cell_type": "code",
   "execution_count": 3,
   "metadata": {},
   "outputs": [],
   "source": [
    "import pandas as pd\n",
    "import dash\n",
    "import numpy as np\n",
    "import plotly.express as px\n",
    "import pandas_profiling"
   ]
  },
  {
   "cell_type": "markdown",
   "metadata": {},
   "source": [
    "# Import the csv file"
   ]
  },
  {
   "cell_type": "code",
   "execution_count": 9,
   "metadata": {},
   "outputs": [],
   "source": [
    "import pandas_profiling"
   ]
  },
  {
   "cell_type": "code",
   "execution_count": 248,
   "metadata": {},
   "outputs": [
    {
     "name": "stderr",
     "output_type": "stream",
     "text": [
      "D:\\Python37\\lib\\site-packages\\IPython\\core\\interactiveshell.py:3063: DtypeWarning:\n",
      "\n",
      "Columns (7) have mixed types.Specify dtype option on import or set low_memory=False.\n",
      "\n"
     ]
    }
   ],
   "source": [
    "df=pd.read_csv('BPD_Part_1_Victim_Based_Crime_Data.csv')"
   ]
  },
  {
   "cell_type": "markdown",
   "metadata": {},
   "source": [
    "# Data Integrity Check"
   ]
  },
  {
   "cell_type": "code",
   "execution_count": 10,
   "metadata": {},
   "outputs": [
    {
     "data": {
      "application/vnd.jupyter.widget-view+json": {
       "model_id": "62c274df6f3543699c92e2a85fe1c40a",
       "version_major": 2,
       "version_minor": 0
      },
      "text/plain": [
       "HBox(children=(FloatProgress(value=0.0, description='Summarize dataset', max=30.0, style=ProgressStyle(descrip…"
      ]
     },
     "metadata": {},
     "output_type": "display_data"
    },
    {
     "name": "stdout",
     "output_type": "stream",
     "text": [
      "\n"
     ]
    },
    {
     "data": {
      "application/vnd.jupyter.widget-view+json": {
       "model_id": "ccbc4be6c1a746cfb044699de5a64d6d",
       "version_major": 2,
       "version_minor": 0
      },
      "text/plain": [
       "HBox(children=(FloatProgress(value=0.0, description='Generate report structure', max=1.0, style=ProgressStyle(…"
      ]
     },
     "metadata": {},
     "output_type": "display_data"
    },
    {
     "name": "stdout",
     "output_type": "stream",
     "text": [
      "\n"
     ]
    },
    {
     "data": {
      "application/vnd.jupyter.widget-view+json": {
       "model_id": "9150dc03dc7c4821ac51092038db5a18",
       "version_major": 2,
       "version_minor": 0
      },
      "text/plain": [
       "HBox(children=(FloatProgress(value=0.0, description='Render HTML', max=1.0, style=ProgressStyle(description_wi…"
      ]
     },
     "metadata": {},
     "output_type": "display_data"
    },
    {
     "name": "stdout",
     "output_type": "stream",
     "text": [
      "\n"
     ]
    },
    {
     "data": {
      "application/vnd.jupyter.widget-view+json": {
       "model_id": "f006ffb5630546cd881b78ad908b2232",
       "version_major": 2,
       "version_minor": 0
      },
      "text/plain": [
       "HBox(children=(FloatProgress(value=0.0, description='Export report to file', max=1.0, style=ProgressStyle(desc…"
      ]
     },
     "metadata": {},
     "output_type": "display_data"
    },
    {
     "name": "stdout",
     "output_type": "stream",
     "text": [
      "\n"
     ]
    }
   ],
   "source": [
    "# generating the EDA \n",
    "df.profile_report(title='Pandas Profiling Report').to_file(output_file=\"eda.html\")"
   ]
  },
  {
   "cell_type": "markdown",
   "metadata": {},
   "source": [
    "* Duplicates of records\n",
    "* High correlation between some variables\n",
    "* Missing values on two variables"
   ]
  },
  {
   "cell_type": "markdown",
   "metadata": {},
   "source": [
    "## Grouping the records to keep the number of incidents but drop duplicates"
   ]
  },
  {
   "cell_type": "code",
   "execution_count": 249,
   "metadata": {},
   "outputs": [],
   "source": [
    "df_nodup=df.fillna('')\\\n",
    "      .groupby(df.columns.tolist()).apply(len)\\\n",
    "      .rename('group_count')\\\n",
    "      .reset_index()\\\n",
    "      .replace('',np.nan)\\\n",
    "      .sort_values(by = ['group_count'], ascending = False)"
   ]
  },
  {
   "cell_type": "markdown",
   "metadata": {},
   "source": [
    "## ~~ Convert the Data/Time to proper time format~~"
   ]
  },
  {
   "cell_type": "code",
   "execution_count": 250,
   "metadata": {},
   "outputs": [],
   "source": [
    "# df_nodup.CrimeDate=pd.to_datetime(df_nodup.CrimeDate)\n",
    "# df_nodup.CrimeTime=pd.to_timedelta(df_nodup.CrimeTime)\n",
    "# df_nodup.CrimeTime_dt=pd.to_datetime(df_nodup.CrimeTime)"
   ]
  },
  {
   "cell_type": "markdown",
   "metadata": {},
   "source": [
    "## Handling missing values"
   ]
  },
  {
   "cell_type": "code",
   "execution_count": 251,
   "metadata": {},
   "outputs": [
    {
     "name": "stdout",
     "output_type": "stream",
     "text": [
      "<class 'pandas.core.frame.DataFrame'>\n",
      "Int64Index: 296586 entries, 215100 to 296585\n",
      "Data columns (total 17 columns):\n",
      " #   Column           Non-Null Count   Dtype  \n",
      "---  ------           --------------   -----  \n",
      " 0   CrimeDate        296586 non-null  object \n",
      " 1   CrimeTime        296561 non-null  object \n",
      " 2   CrimeCode        296586 non-null  object \n",
      " 3   Location         295207 non-null  object \n",
      " 4   Description      296586 non-null  object \n",
      " 5   Inside/Outside   260776 non-null  object \n",
      " 6   Weapon           59666 non-null   object \n",
      " 7   Post             294212 non-null  object \n",
      " 8   District         296586 non-null  object \n",
      " 9   Neighborhood     286259 non-null  object \n",
      " 10  Longitude        294900 non-null  float64\n",
      " 11  Latitude         294900 non-null  float64\n",
      " 12  Location 1       0 non-null       float64\n",
      " 13  Premise          260538 non-null  object \n",
      " 14  vri_name1        35204 non-null   object \n",
      " 15  Total Incidents  296586 non-null  int64  \n",
      " 16  group_count      296586 non-null  int64  \n",
      "dtypes: float64(3), int64(2), object(12)\n",
      "memory usage: 40.7+ MB\n"
     ]
    }
   ],
   "source": [
    "df_nodup.info()"
   ]
  },
  {
   "cell_type": "code",
   "execution_count": 252,
   "metadata": {},
   "outputs": [
    {
     "data": {
      "text/html": [
       "<div>\n",
       "<style scoped>\n",
       "    .dataframe tbody tr th:only-of-type {\n",
       "        vertical-align: middle;\n",
       "    }\n",
       "\n",
       "    .dataframe tbody tr th {\n",
       "        vertical-align: top;\n",
       "    }\n",
       "\n",
       "    .dataframe thead th {\n",
       "        text-align: right;\n",
       "    }\n",
       "</style>\n",
       "<table border=\"1\" class=\"dataframe\">\n",
       "  <thead>\n",
       "    <tr style=\"text-align: right;\">\n",
       "      <th></th>\n",
       "      <th>CrimeDate</th>\n",
       "      <th>CrimeTime</th>\n",
       "      <th>CrimeCode</th>\n",
       "      <th>Location</th>\n",
       "      <th>Description</th>\n",
       "      <th>Inside/Outside</th>\n",
       "      <th>Weapon</th>\n",
       "      <th>Post</th>\n",
       "      <th>District</th>\n",
       "      <th>Neighborhood</th>\n",
       "      <th>Longitude</th>\n",
       "      <th>Latitude</th>\n",
       "      <th>Location 1</th>\n",
       "      <th>Premise</th>\n",
       "      <th>vri_name1</th>\n",
       "      <th>Total Incidents</th>\n",
       "      <th>group_count</th>\n",
       "    </tr>\n",
       "  </thead>\n",
       "  <tbody>\n",
       "    <tr>\n",
       "      <th>2922</th>\n",
       "      <td>1/12/2015</td>\n",
       "      <td>4:40:00</td>\n",
       "      <td>4A</td>\n",
       "      <td>1700 NORMAL AV</td>\n",
       "      <td>AGG. ASSAULT</td>\n",
       "      <td>I</td>\n",
       "      <td>FIREARM</td>\n",
       "      <td>312</td>\n",
       "      <td>EASTERN</td>\n",
       "      <td>DARLEY PARK</td>\n",
       "      <td>-76.593663</td>\n",
       "      <td>39.315562</td>\n",
       "      <td>NaN</td>\n",
       "      <td>ROW/TOWNHOUSE-OCC</td>\n",
       "      <td>Eastern 1</td>\n",
       "      <td>1</td>\n",
       "      <td>10</td>\n",
       "    </tr>\n",
       "    <tr>\n",
       "      <th>123765</th>\n",
       "      <td>3/17/2020</td>\n",
       "      <td>18:27:00</td>\n",
       "      <td>4A</td>\n",
       "      <td>1800 RAMSAY ST</td>\n",
       "      <td>AGG. ASSAULT</td>\n",
       "      <td>NaN</td>\n",
       "      <td>FIREARM</td>\n",
       "      <td>934</td>\n",
       "      <td>SOUTHERN</td>\n",
       "      <td>CARROLLTON RIDGE</td>\n",
       "      <td>-76.645249</td>\n",
       "      <td>39.283106</td>\n",
       "      <td>NaN</td>\n",
       "      <td>NaN</td>\n",
       "      <td>Tri-District</td>\n",
       "      <td>1</td>\n",
       "      <td>9</td>\n",
       "    </tr>\n",
       "    <tr>\n",
       "      <th>271597</th>\n",
       "      <td>8/9/2017</td>\n",
       "      <td>20:22:00</td>\n",
       "      <td>4C</td>\n",
       "      <td>2100 HOLLINS ST</td>\n",
       "      <td>AGG. ASSAULT</td>\n",
       "      <td>I</td>\n",
       "      <td>OTHER</td>\n",
       "      <td>835</td>\n",
       "      <td>SOUTHWEST</td>\n",
       "      <td>BOOTH-BOYD</td>\n",
       "      <td>-76.650689</td>\n",
       "      <td>39.287050</td>\n",
       "      <td>NaN</td>\n",
       "      <td>ROW/TOWNHOUSE-OCC</td>\n",
       "      <td>Tri-District</td>\n",
       "      <td>1</td>\n",
       "      <td>9</td>\n",
       "    </tr>\n",
       "    <tr>\n",
       "      <th>89916</th>\n",
       "      <td>12/3/2014</td>\n",
       "      <td>15:11:00</td>\n",
       "      <td>4C</td>\n",
       "      <td>1000 EDMONDSON AV</td>\n",
       "      <td>AGG. ASSAULT</td>\n",
       "      <td>I</td>\n",
       "      <td>OTHER</td>\n",
       "      <td>713</td>\n",
       "      <td>WESTERN</td>\n",
       "      <td>HARLEM PARK</td>\n",
       "      <td>-76.634581</td>\n",
       "      <td>39.295513</td>\n",
       "      <td>NaN</td>\n",
       "      <td>ROW/TOWNHOUSE-OCC</td>\n",
       "      <td>Central</td>\n",
       "      <td>1</td>\n",
       "      <td>8</td>\n",
       "    </tr>\n",
       "    <tr>\n",
       "      <th>179796</th>\n",
       "      <td>5/25/2015</td>\n",
       "      <td>0:01:00</td>\n",
       "      <td>6E</td>\n",
       "      <td>5100 REISTERSTOWN RD</td>\n",
       "      <td>LARCENY</td>\n",
       "      <td>O</td>\n",
       "      <td>NaN</td>\n",
       "      <td>613</td>\n",
       "      <td>NORTHWEST</td>\n",
       "      <td>LANGSTON HUGHES</td>\n",
       "      <td>-76.682544</td>\n",
       "      <td>39.342345</td>\n",
       "      <td>NaN</td>\n",
       "      <td>PARKING LOT-OUTSIDE</td>\n",
       "      <td>Northwestern</td>\n",
       "      <td>1</td>\n",
       "      <td>8</td>\n",
       "    </tr>\n",
       "    <tr>\n",
       "      <th>228996</th>\n",
       "      <td>7/19/2017</td>\n",
       "      <td>16:33:00</td>\n",
       "      <td>3JF</td>\n",
       "      <td>1600 N BROADWAY</td>\n",
       "      <td>ROBBERY - RESIDENCE</td>\n",
       "      <td>I</td>\n",
       "      <td>FIREARM</td>\n",
       "      <td>314</td>\n",
       "      <td>EASTERN</td>\n",
       "      <td>OLIVER</td>\n",
       "      <td>-76.595103</td>\n",
       "      <td>39.308805</td>\n",
       "      <td>NaN</td>\n",
       "      <td>ROW/TOWNHOUSE-OCC</td>\n",
       "      <td>Eastern 1</td>\n",
       "      <td>1</td>\n",
       "      <td>6</td>\n",
       "    </tr>\n",
       "    <tr>\n",
       "      <th>155708</th>\n",
       "      <td>4/27/2015</td>\n",
       "      <td>16:00:00</td>\n",
       "      <td>4C</td>\n",
       "      <td>1600 W NORTH AVE</td>\n",
       "      <td>AGG. ASSAULT</td>\n",
       "      <td>O</td>\n",
       "      <td>OTHER</td>\n",
       "      <td>733</td>\n",
       "      <td>WESTERN</td>\n",
       "      <td>PENN NORTH</td>\n",
       "      <td>-76.643429</td>\n",
       "      <td>39.310091</td>\n",
       "      <td>NaN</td>\n",
       "      <td>STREET</td>\n",
       "      <td>Western</td>\n",
       "      <td>1</td>\n",
       "      <td>6</td>\n",
       "    </tr>\n",
       "    <tr>\n",
       "      <th>184451</th>\n",
       "      <td>5/3/2016</td>\n",
       "      <td>3:33:00</td>\n",
       "      <td>4A</td>\n",
       "      <td>2200 E BIDDLE ST</td>\n",
       "      <td>AGG. ASSAULT</td>\n",
       "      <td>O</td>\n",
       "      <td>FIREARM</td>\n",
       "      <td>331</td>\n",
       "      <td>EASTERN</td>\n",
       "      <td>BROADWAY EAST</td>\n",
       "      <td>-76.586960</td>\n",
       "      <td>39.304670</td>\n",
       "      <td>NaN</td>\n",
       "      <td>STREET</td>\n",
       "      <td>Eastern 2</td>\n",
       "      <td>1</td>\n",
       "      <td>6</td>\n",
       "    </tr>\n",
       "    <tr>\n",
       "      <th>93188</th>\n",
       "      <td>12/5/2018</td>\n",
       "      <td>20:44:00</td>\n",
       "      <td>4E</td>\n",
       "      <td>2400 W BALTIMORE ST</td>\n",
       "      <td>COMMON ASSAULT</td>\n",
       "      <td>I</td>\n",
       "      <td>NaN</td>\n",
       "      <td>714</td>\n",
       "      <td>WESTERN</td>\n",
       "      <td>SHIPLEY HILL</td>\n",
       "      <td>-76.655035</td>\n",
       "      <td>39.287728</td>\n",
       "      <td>NaN</td>\n",
       "      <td>HOSP/NURS. HOME</td>\n",
       "      <td>Tri-District</td>\n",
       "      <td>1</td>\n",
       "      <td>6</td>\n",
       "    </tr>\n",
       "    <tr>\n",
       "      <th>29289</th>\n",
       "      <td>10/14/2015</td>\n",
       "      <td>0:02:00</td>\n",
       "      <td>4C</td>\n",
       "      <td>1000 DRUID HILL AVE</td>\n",
       "      <td>AGG. ASSAULT</td>\n",
       "      <td>I</td>\n",
       "      <td>OTHER</td>\n",
       "      <td>123</td>\n",
       "      <td>CENTRAL</td>\n",
       "      <td>UPTON</td>\n",
       "      <td>-76.626366</td>\n",
       "      <td>39.300154</td>\n",
       "      <td>NaN</td>\n",
       "      <td>ROW/TOWNHOUSE-OCC</td>\n",
       "      <td>Central</td>\n",
       "      <td>1</td>\n",
       "      <td>6</td>\n",
       "    </tr>\n",
       "  </tbody>\n",
       "</table>\n",
       "</div>"
      ],
      "text/plain": [
       "         CrimeDate CrimeTime CrimeCode              Location  \\\n",
       "2922     1/12/2015   4:40:00        4A        1700 NORMAL AV   \n",
       "123765   3/17/2020  18:27:00        4A        1800 RAMSAY ST   \n",
       "271597    8/9/2017  20:22:00        4C       2100 HOLLINS ST   \n",
       "89916    12/3/2014  15:11:00        4C     1000 EDMONDSON AV   \n",
       "179796   5/25/2015   0:01:00        6E  5100 REISTERSTOWN RD   \n",
       "228996   7/19/2017  16:33:00       3JF       1600 N BROADWAY   \n",
       "155708   4/27/2015  16:00:00        4C      1600 W NORTH AVE   \n",
       "184451    5/3/2016   3:33:00        4A      2200 E BIDDLE ST   \n",
       "93188    12/5/2018  20:44:00        4E   2400 W BALTIMORE ST   \n",
       "29289   10/14/2015   0:02:00        4C   1000 DRUID HILL AVE   \n",
       "\n",
       "                Description Inside/Outside   Weapon Post   District  \\\n",
       "2922           AGG. ASSAULT              I  FIREARM  312    EASTERN   \n",
       "123765         AGG. ASSAULT            NaN  FIREARM  934   SOUTHERN   \n",
       "271597         AGG. ASSAULT              I    OTHER  835  SOUTHWEST   \n",
       "89916          AGG. ASSAULT              I    OTHER  713    WESTERN   \n",
       "179796              LARCENY              O      NaN  613  NORTHWEST   \n",
       "228996  ROBBERY - RESIDENCE              I  FIREARM  314    EASTERN   \n",
       "155708         AGG. ASSAULT              O    OTHER  733    WESTERN   \n",
       "184451         AGG. ASSAULT              O  FIREARM  331    EASTERN   \n",
       "93188        COMMON ASSAULT              I      NaN  714    WESTERN   \n",
       "29289          AGG. ASSAULT              I    OTHER  123    CENTRAL   \n",
       "\n",
       "            Neighborhood  Longitude   Latitude  Location 1  \\\n",
       "2922         DARLEY PARK -76.593663  39.315562         NaN   \n",
       "123765  CARROLLTON RIDGE -76.645249  39.283106         NaN   \n",
       "271597        BOOTH-BOYD -76.650689  39.287050         NaN   \n",
       "89916        HARLEM PARK -76.634581  39.295513         NaN   \n",
       "179796   LANGSTON HUGHES -76.682544  39.342345         NaN   \n",
       "228996            OLIVER -76.595103  39.308805         NaN   \n",
       "155708        PENN NORTH -76.643429  39.310091         NaN   \n",
       "184451     BROADWAY EAST -76.586960  39.304670         NaN   \n",
       "93188       SHIPLEY HILL -76.655035  39.287728         NaN   \n",
       "29289              UPTON -76.626366  39.300154         NaN   \n",
       "\n",
       "                    Premise     vri_name1  Total Incidents  group_count  \n",
       "2922      ROW/TOWNHOUSE-OCC     Eastern 1                1           10  \n",
       "123765                  NaN  Tri-District                1            9  \n",
       "271597    ROW/TOWNHOUSE-OCC  Tri-District                1            9  \n",
       "89916     ROW/TOWNHOUSE-OCC       Central                1            8  \n",
       "179796  PARKING LOT-OUTSIDE  Northwestern                1            8  \n",
       "228996    ROW/TOWNHOUSE-OCC     Eastern 1                1            6  \n",
       "155708               STREET       Western                1            6  \n",
       "184451               STREET     Eastern 2                1            6  \n",
       "93188       HOSP/NURS. HOME  Tri-District                1            6  \n",
       "29289     ROW/TOWNHOUSE-OCC       Central                1            6  "
      ]
     },
     "execution_count": 252,
     "metadata": {},
     "output_type": "execute_result"
    }
   ],
   "source": [
    "df_nodup[df_nodup['vri_name1'].notna()].head(10)"
   ]
  },
  {
   "cell_type": "code",
   "execution_count": 253,
   "metadata": {},
   "outputs": [
    {
     "data": {
      "text/html": [
       "<div>\n",
       "<style scoped>\n",
       "    .dataframe tbody tr th:only-of-type {\n",
       "        vertical-align: middle;\n",
       "    }\n",
       "\n",
       "    .dataframe tbody tr th {\n",
       "        vertical-align: top;\n",
       "    }\n",
       "\n",
       "    .dataframe thead tr th {\n",
       "        text-align: left;\n",
       "    }\n",
       "\n",
       "    .dataframe thead tr:last-of-type th {\n",
       "        text-align: right;\n",
       "    }\n",
       "</style>\n",
       "<table border=\"1\" class=\"dataframe\">\n",
       "  <thead>\n",
       "    <tr>\n",
       "      <th></th>\n",
       "      <th colspan=\"10\" halign=\"left\">Total Incidents</th>\n",
       "    </tr>\n",
       "    <tr>\n",
       "      <th>District</th>\n",
       "      <th>CENTRAL</th>\n",
       "      <th>EASTERN</th>\n",
       "      <th>NORTHEAST</th>\n",
       "      <th>NORTHERN</th>\n",
       "      <th>NORTHWEST</th>\n",
       "      <th>SOUTHEAST</th>\n",
       "      <th>SOUTHERN</th>\n",
       "      <th>SOUTHWEST</th>\n",
       "      <th>UNKNOWN</th>\n",
       "      <th>WESTERN</th>\n",
       "    </tr>\n",
       "    <tr>\n",
       "      <th>vri_name1</th>\n",
       "      <th></th>\n",
       "      <th></th>\n",
       "      <th></th>\n",
       "      <th></th>\n",
       "      <th></th>\n",
       "      <th></th>\n",
       "      <th></th>\n",
       "      <th></th>\n",
       "      <th></th>\n",
       "      <th></th>\n",
       "    </tr>\n",
       "  </thead>\n",
       "  <tbody>\n",
       "    <tr>\n",
       "      <th>Brooklyn</th>\n",
       "      <td>NaN</td>\n",
       "      <td>NaN</td>\n",
       "      <td>NaN</td>\n",
       "      <td>NaN</td>\n",
       "      <td>1.0</td>\n",
       "      <td>NaN</td>\n",
       "      <td>2471.0</td>\n",
       "      <td>1.0</td>\n",
       "      <td>2.0</td>\n",
       "      <td>NaN</td>\n",
       "    </tr>\n",
       "    <tr>\n",
       "      <th>Central</th>\n",
       "      <td>2783.0</td>\n",
       "      <td>29.0</td>\n",
       "      <td>NaN</td>\n",
       "      <td>1.0</td>\n",
       "      <td>1.0</td>\n",
       "      <td>NaN</td>\n",
       "      <td>5.0</td>\n",
       "      <td>1.0</td>\n",
       "      <td>1.0</td>\n",
       "      <td>2677.0</td>\n",
       "    </tr>\n",
       "    <tr>\n",
       "      <th>Eastern 1</th>\n",
       "      <td>11.0</td>\n",
       "      <td>4611.0</td>\n",
       "      <td>184.0</td>\n",
       "      <td>NaN</td>\n",
       "      <td>NaN</td>\n",
       "      <td>NaN</td>\n",
       "      <td>NaN</td>\n",
       "      <td>1.0</td>\n",
       "      <td>2.0</td>\n",
       "      <td>19.0</td>\n",
       "    </tr>\n",
       "    <tr>\n",
       "      <th>Eastern 2</th>\n",
       "      <td>4.0</td>\n",
       "      <td>3398.0</td>\n",
       "      <td>NaN</td>\n",
       "      <td>1.0</td>\n",
       "      <td>NaN</td>\n",
       "      <td>31.0</td>\n",
       "      <td>NaN</td>\n",
       "      <td>NaN</td>\n",
       "      <td>1.0</td>\n",
       "      <td>NaN</td>\n",
       "    </tr>\n",
       "    <tr>\n",
       "      <th>Northeastern</th>\n",
       "      <td>NaN</td>\n",
       "      <td>1.0</td>\n",
       "      <td>2981.0</td>\n",
       "      <td>NaN</td>\n",
       "      <td>NaN</td>\n",
       "      <td>NaN</td>\n",
       "      <td>NaN</td>\n",
       "      <td>NaN</td>\n",
       "      <td>1.0</td>\n",
       "      <td>NaN</td>\n",
       "    </tr>\n",
       "    <tr>\n",
       "      <th>Northwestern</th>\n",
       "      <td>1.0</td>\n",
       "      <td>NaN</td>\n",
       "      <td>NaN</td>\n",
       "      <td>1.0</td>\n",
       "      <td>3254.0</td>\n",
       "      <td>NaN</td>\n",
       "      <td>NaN</td>\n",
       "      <td>NaN</td>\n",
       "      <td>NaN</td>\n",
       "      <td>NaN</td>\n",
       "    </tr>\n",
       "    <tr>\n",
       "      <th>Tri-District</th>\n",
       "      <td>NaN</td>\n",
       "      <td>NaN</td>\n",
       "      <td>NaN</td>\n",
       "      <td>NaN</td>\n",
       "      <td>1.0</td>\n",
       "      <td>73.0</td>\n",
       "      <td>3121.0</td>\n",
       "      <td>2624.0</td>\n",
       "      <td>2.0</td>\n",
       "      <td>927.0</td>\n",
       "    </tr>\n",
       "    <tr>\n",
       "      <th>Western</th>\n",
       "      <td>8.0</td>\n",
       "      <td>34.0</td>\n",
       "      <td>2.0</td>\n",
       "      <td>NaN</td>\n",
       "      <td>2.0</td>\n",
       "      <td>NaN</td>\n",
       "      <td>7.0</td>\n",
       "      <td>1.0</td>\n",
       "      <td>2.0</td>\n",
       "      <td>5925.0</td>\n",
       "    </tr>\n",
       "  </tbody>\n",
       "</table>\n",
       "</div>"
      ],
      "text/plain": [
       "             Total Incidents                                                 \\\n",
       "District             CENTRAL EASTERN NORTHEAST NORTHERN NORTHWEST SOUTHEAST   \n",
       "vri_name1                                                                     \n",
       "Brooklyn                 NaN     NaN       NaN      NaN       1.0       NaN   \n",
       "Central               2783.0    29.0       NaN      1.0       1.0       NaN   \n",
       "Eastern 1               11.0  4611.0     184.0      NaN       NaN       NaN   \n",
       "Eastern 2                4.0  3398.0       NaN      1.0       NaN      31.0   \n",
       "Northeastern             NaN     1.0    2981.0      NaN       NaN       NaN   \n",
       "Northwestern             1.0     NaN       NaN      1.0    3254.0       NaN   \n",
       "Tri-District             NaN     NaN       NaN      NaN       1.0      73.0   \n",
       "Western                  8.0    34.0       2.0      NaN       2.0       NaN   \n",
       "\n",
       "                                                 \n",
       "District     SOUTHERN SOUTHWEST UNKNOWN WESTERN  \n",
       "vri_name1                                        \n",
       "Brooklyn       2471.0       1.0     2.0     NaN  \n",
       "Central           5.0       1.0     1.0  2677.0  \n",
       "Eastern 1         NaN       1.0     2.0    19.0  \n",
       "Eastern 2         NaN       NaN     1.0     NaN  \n",
       "Northeastern      NaN       NaN     1.0     NaN  \n",
       "Northwestern      NaN       NaN     NaN     NaN  \n",
       "Tri-District   3121.0    2624.0     2.0   927.0  \n",
       "Western           7.0       1.0     2.0  5925.0  "
      ]
     },
     "execution_count": 253,
     "metadata": {},
     "output_type": "execute_result"
    }
   ],
   "source": [
    "# df_nodup[df_nodup['vri_name1'].notna()][['vri_name1','District']].\n",
    "pd.pivot_table(index=['vri_name1'], columns=['District'], data=df_nodup[df_nodup['vri_name1'].notna()][['vri_name1','District','Total Incidents']], aggfunc=np.sum)"
   ]
  },
  {
   "cell_type": "code",
   "execution_count": 254,
   "metadata": {},
   "outputs": [],
   "source": [
    "df_nodup=df_nodup.drop(columns=['Location 1','vri_name1'])"
   ]
  },
  {
   "cell_type": "markdown",
   "metadata": {},
   "source": [
    "## Value Consistency"
   ]
  },
  {
   "cell_type": "code",
   "execution_count": 255,
   "metadata": {},
   "outputs": [
    {
     "data": {
      "text/plain": [
       "array(['5D', '5E', '4C', '6D', '5A', '4A', '4E', '3AF', '6E', '6J', '9S',\n",
       "       '3JF', '3CF', '3NF', '6A', '6G', '3B', '4B', '5F', '8AO', '3P',\n",
       "       '3AO', '6C', '8AV', '3AK', '7A', '5G', '3JO', '4D', '5C', '7C',\n",
       "       '2A', '6L', '1A', '3GK', '8GO', '6F', '3BJ', '8H', '3AJF', '3K',\n",
       "       '3AJK', '3GF', '8BO', '3JK', '3F', '1K', '5B', '3EF', '3D', '3NK',\n",
       "       '3LF', '3CO', '6B', '8J', '3CK', '8FO', '1O', '8EO', '8BV', '6H',\n",
       "       '3NO', '3GO', '3AJO', '3M', '7B', '3EO', '3H', '2B', '3EK', '3LO',\n",
       "       '8CO', '6K', '8GV', '8CV', '3LK', '8FV', '8EV', '8I', '8DO', '3N'],\n",
       "      dtype=object)"
      ]
     },
     "execution_count": 255,
     "metadata": {},
     "output_type": "execute_result"
    }
   ],
   "source": [
    "df_nodup.CrimeCode.unique()"
   ]
  },
  {
   "cell_type": "code",
   "execution_count": 256,
   "metadata": {},
   "outputs": [
    {
     "data": {
      "text/plain": [
       "array(['BURGLARY', 'AGG. ASSAULT', 'LARCENY FROM AUTO', 'COMMON ASSAULT',\n",
       "       'ROBBERY - STREET', 'LARCENY', 'SHOOTING', 'ROBBERY - RESIDENCE',\n",
       "       'ROBBERY - COMMERCIAL', 'ARSON', 'AUTO THEFT', 'RAPE', 'HOMICIDE',\n",
       "       'ROBBERY - CARJACKING'], dtype=object)"
      ]
     },
     "execution_count": 256,
     "metadata": {},
     "output_type": "execute_result"
    }
   ],
   "source": [
    "df_nodup.Description.unique()"
   ]
  },
  {
   "cell_type": "code",
   "execution_count": 257,
   "metadata": {},
   "outputs": [],
   "source": [
    "#Before Mapping"
   ]
  },
  {
   "cell_type": "code",
   "execution_count": 258,
   "metadata": {},
   "outputs": [
    {
     "data": {
      "text/plain": [
       "array(['I', nan, 'O', 'Outside', 'Inside'], dtype=object)"
      ]
     },
     "execution_count": 258,
     "metadata": {},
     "output_type": "execute_result"
    }
   ],
   "source": [
    "df_nodup['Inside/Outside'].unique()"
   ]
  },
  {
   "cell_type": "code",
   "execution_count": 259,
   "metadata": {},
   "outputs": [],
   "source": [
    "df_nodup['Inside/Outside']=df_nodup['Inside/Outside'].map({'O':'Outside','I':'Inside'})"
   ]
  },
  {
   "cell_type": "code",
   "execution_count": 260,
   "metadata": {},
   "outputs": [],
   "source": [
    "#After Mapping"
   ]
  },
  {
   "cell_type": "code",
   "execution_count": 261,
   "metadata": {},
   "outputs": [
    {
     "data": {
      "text/plain": [
       "array(['Inside', nan, 'Outside'], dtype=object)"
      ]
     },
     "execution_count": 261,
     "metadata": {},
     "output_type": "execute_result"
    }
   ],
   "source": [
    "df_nodup['Inside/Outside'].unique()"
   ]
  },
  {
   "cell_type": "code",
   "execution_count": null,
   "metadata": {},
   "outputs": [],
   "source": []
  },
  {
   "cell_type": "code",
   "execution_count": 262,
   "metadata": {},
   "outputs": [],
   "source": [
    "# cleaning posts"
   ]
  },
  {
   "cell_type": "code",
   "execution_count": 263,
   "metadata": {},
   "outputs": [],
   "source": [
    "df_nodup.loc[df_nodup['Post'].notna(),'Post']=df_nodup[df_nodup['Post'].notna()]['Post'].apply(lambda x: str(x).replace('.0',''))"
   ]
  },
  {
   "cell_type": "code",
   "execution_count": 264,
   "metadata": {},
   "outputs": [
    {
     "data": {
      "text/plain": [
       "array(['922', '232', '533', '731', '832', '835', '912', '625', '632',\n",
       "       '426', '724', '813', '212', '441', '411', '423', '445', '714',\n",
       "       '941', '511', '312', '622', '634', '614', nan, '132', '934', '125',\n",
       "       '833', '334', '134', '713', '313', '633', '923', '225', '322',\n",
       "       '613', '231', '711', '624', '222', '523', '413', '721', '443',\n",
       "       '323', '942', '114', '425', '124', '113', '723', '822', '433',\n",
       "       '424', '121', '621', '211', '712', '422', '314', '512', '824',\n",
       "       '221', '534', '733', '331', '233', '412', '123', '631', '812',\n",
       "       '214', '324', '514', '821', '931', '521', '911', '111', '722',\n",
       "       '224', '414', '234', '513', '213', '442', '532', '834', '321',\n",
       "       '943', '525', '223', '432', '612', '831', '735', '734', '131',\n",
       "       '112', '431', '935', '932', '814', '421', '623', '333', '921',\n",
       "       '823', '913', '434', '311', '332', '524', '522', '515', '531',\n",
       "       '444', '133', '611', '811', '815', '732', '415', '122', '933',\n",
       "       'ED4', '427', 'SW2', '816', 'ED1', '626', '141'], dtype=object)"
      ]
     },
     "execution_count": 264,
     "metadata": {},
     "output_type": "execute_result"
    }
   ],
   "source": [
    "df_nodup['Post'].unique()"
   ]
  },
  {
   "cell_type": "markdown",
   "metadata": {},
   "source": [
    "## Normalizing the Neigh."
   ]
  },
  {
   "cell_type": "code",
   "execution_count": 266,
   "metadata": {},
   "outputs": [],
   "source": []
  },
  {
   "cell_type": "code",
   "execution_count": null,
   "metadata": {},
   "outputs": [],
   "source": []
  },
  {
   "cell_type": "markdown",
   "metadata": {},
   "source": [
    "* SANDTO ---> Sandtown\n",
    "* HARFORD-ECHODALE-PER --->?\n",
    "* CLAREMONT-FREEDOM -->?\n",
    "* GLEN -->\n",
    "* HOLLIN'S PARK -->\n",
    "* JOSEPH LEE --> ?"
   ]
  },
  {
   "cell_type": "code",
   "execution_count": 27,
   "metadata": {},
   "outputs": [],
   "source": [
    "from fuzzywuzzy import fuzz\n",
    "from fuzzywuzzy import process\n",
    "from shapely.geometry import shape, Point"
   ]
  },
  {
   "cell_type": "code",
   "execution_count": 72,
   "metadata": {},
   "outputs": [
    {
     "name": "stderr",
     "output_type": "stream",
     "text": [
      "D:\\Python37\\lib\\site-packages\\IPython\\core\\interactiveshell.py:3063: DtypeWarning: Columns (7) have mixed types.Specify dtype option on import or set low_memory=False.\n",
      "  interactivity=interactivity, compiler=compiler, result=result)\n"
     ]
    }
   ],
   "source": [
    "df_nodup=pd.read_csv(\"cleaned_df.csv\")\n",
    "\n",
    "with open(\"Neighborhoods.geojson\") as f:\n",
    "    geojson = json.load(f)"
   ]
  },
  {
   "cell_type": "code",
   "execution_count": 73,
   "metadata": {},
   "outputs": [],
   "source": [
    "def find_nei(pp):\n",
    "    name=None\n",
    "    for feature in geojson['features']:\n",
    "        polygon = shape(feature['geometry'])\n",
    "        if polygon.contains(pp):\n",
    "            return feature['properties']['Name']\n",
    "        else:\n",
    "            continue\n",
    "    return name\n",
    "        "
   ]
  },
  {
   "cell_type": "code",
   "execution_count": null,
   "metadata": {},
   "outputs": [],
   "source": []
  },
  {
   "cell_type": "code",
   "execution_count": 6,
   "metadata": {},
   "outputs": [],
   "source": [
    "neib_ls=[]\n",
    "for nei in geojson['features']:\n",
    "    neib_ls.append(nei['properties']['Name'])"
   ]
  },
  {
   "cell_type": "code",
   "execution_count": 40,
   "metadata": {
    "scrolled": true
   },
   "outputs": [
    {
     "name": "stdout",
     "output_type": "stream",
     "text": [
      "Matching CHERRY HILL-----\n",
      "Matching GRACELAND PARK-----\n",
      "Matching WOODBERRY-----\n",
      "Matching MONDAWMIN-----\n",
      "Matching SAINT AGNES-----\n",
      "Matching CARROLL-SOUTH HILTON-----\n",
      "Matching SABINA-MATTFELDT-----\n",
      "Matching ASHBURTON-----\n",
      "Matching CROSS COUNTRY-----\n",
      "Matching GWYNNS FALLS-----\n",
      "Matching WALTHERSON-----\n",
      "Matching SANDTOWN-WINCHESTER-----\n",
      "Matching ROSEMONT-----\n",
      "Matching DUNBAR-----\n",
      "Failed. Adding to the List\n",
      "Matching PULASKI INDUSTRIAL AREA-----\n",
      "Matching LIBERTY SQUARE-----\n",
      "Matching EAST BALTIMORE MIDWA-----\n",
      "Matching HARFORD-ECHODALE-PER-----\n",
      "Failed. Adding to the List\n",
      "Matching COLDSTREAM HOMESTEAD-----\n",
      "Failed. Adding to the List\n",
      "Matching CEDMONT-----\n",
      "Matching PENROSE/FAYETTE ST OUTREACH-----\n",
      "Matching OTTERBEIN-----\n",
      "Matching REMINGTON-----\n",
      "Matching DARLEY PARK-----\n",
      "Matching HOWARD PARK-----\n",
      "Matching GROVE PARK-----\n",
      "Matching CENTRAL PARK HEIGHTS-----\n",
      "Matching BOLTON HILL-----\n",
      "Matching CARROLLTON RIDGE-----\n",
      "Matching BOOTH-BOYD-----\n",
      "Matching SETON HILL-----\n",
      "Matching IRVINGTON-----\n",
      "Matching YALE HEIGHTS-----\n",
      "Matching ORANGEVILLE-----\n",
      "Matching MID-TOWN BELVEDERE-----\n",
      "Matching HARLEM PARK-----\n",
      "Matching JOHNSTON SQUARE-----\n",
      "Matching ARLINGTON-----\n",
      "Matching LAKELAND-----\n",
      "Matching HUDSON-HIGHLANDTOWN-----\n",
      "Failed. Adding to the List\n",
      "Matching MIDDLE EAST-----\n",
      "Matching LANGSTON HUGHES-----\n",
      "Matching CANTON INDUSTRIAL AREA-----\n",
      "Matching FRANKLIN SQUARE-----\n",
      "Matching GARWYN OAKS-----\n",
      "Matching BALTIMORE-LINWOOD-----\n",
      "Failed. Adding to the List\n",
      "Matching ROSEBANK-----\n",
      "Matching ROSEMONT HOMEOWNERS-----\n",
      "Matching FRANKFORD-----\n",
      "Matching FELLS POINT-----\n",
      "Matching SHARP LEADENHALL-----\n",
      "Matching DOWNTOWN-----\n",
      "Matching GLENHAM-BELFORD-----\n",
      "Failed. Adding to the List\n",
      "Matching MOUNT VERNON-----\n",
      "Matching INNER HARBOR-----\n",
      "Matching BRIDGEVIEW/GREENLAWN-----\n",
      "Matching HUNTING RIDGE-----\n",
      "Matching CLAREMONT-FREEDOM-----\n",
      "Failed. Adding to the List\n",
      "Matching MOSHER-----\n",
      "Matching NORTHWEST COMMUNITY-----\n",
      "Matching WESTFIELD-----\n",
      "Matching RIDGELYS DELIGHT-----\n",
      "Matching SHIPLEY HILL-----\n",
      "Matching WEST ARLINGTON-----\n",
      "Matching POPPLETON-----\n",
      "Matching ARCADIA-----\n",
      "Matching BEECHFIELD-----\n",
      "Matching OLIVER-----\n",
      "Matching OAKENSHAWE-----\n",
      "Matching ALLENDALE-----\n",
      "Matching UPPER FELLS POINT-----\n",
      "Matching BUTCHERS HILL-----\n",
      "Matching MCELDERRY PARK-----\n",
      "Matching CROSS KEYS-----\n",
      "Matching PENN NORTH-----\n",
      "Matching BROADWAY EAST-----\n",
      "Matching GREEKTOWN-----\n",
      "Matching KRESSON-----\n",
      "Matching UPTON-----\n",
      "Matching FALLSTAFF-----\n",
      "Matching FAIRMOUNT-----\n",
      "Matching CANTON-----\n",
      "Matching PEN-FALLSWAY-----\n",
      "Matching CHARLES VILLAGE-----\n",
      "Matching UNIVERSITY OF MARYLA-----\n",
      "Matching CHARLES NORTH-----\n",
      "Matching ROLAND PARK-----\n",
      "Matching DOLFIELD-----\n",
      "Matching HOLLINS PARK-----\n",
      "Failed. Adding to the List\n",
      "Matching RADNOR-WINSTON-----\n",
      "Matching DORCHESTER/GRAN-BARR-----\n",
      "Failed. Adding to the List\n",
      "Matching CURTIS BAY-----\n",
      "Matching ORIGINAL NORTHWOOD-----\n",
      "Matching MIDTOWN EDMONDSON-----\n",
      "Matching RIVERSIDE-----\n",
      "Matching ELLWOOD PARK/MONUMEN-----\n",
      "Matching WOODBOURNE HEIGHTS-----\n",
      "Matching ODONNELL HEIGHTS-----\n",
      "Matching JOSEPH LEE-----\n",
      "Failed. Adding to the List\n",
      "Matching BETTER WAVERLY-----\n",
      "Matching OLDTOWN-----\n",
      "Matching BELAIR-EDISON-----\n",
      "Matching FEDERAL HILL/MONTGOM-----\n",
      "Failed. Adding to the List\n",
      "Matching MORAVIA-WALTHER-----\n",
      "Matching SAINT JOSEPHS-----\n",
      "Matching VIOLETVILLE-----\n",
      "Matching LEVINDALE-----\n",
      "Matching MILL HILL-----\n",
      "Matching REISTERSTOWN STATION-----\n",
      "Matching BAYVIEW-----\n",
      "Matching WOODMERE-----\n",
      "Matching LOCUST POINT-----\n",
      "Matching BELAIR-PARKSIDE-----\n",
      "Matching WILSON PARK-----\n",
      "Matching GAY STREET-----\n",
      "Matching BALTIMORE HIGHLANDS-----\n",
      "Matching PARK CIRCLE-----\n",
      "Matching MORRELL PARK-----\n",
      "Matching EASTERWOOD-----\n",
      "Matching MIDDLE BRANCH/REEBIRD PARKS-----\n",
      "Matching DRUID HEIGHTS-----\n",
      "Matching PIMLICO GOOD NEIGHBO-----\n",
      "Matching CLIFTON PARK-----\n",
      "Matching MOUNT HOLLY-----\n",
      "Matching CARROLL PARK-----\n",
      "Matching WASHINGTON VILLAGE-----\n",
      "Matching FRANKLINTOWN ROAD-----\n",
      "Matching LAURAVILLE-----\n",
      "Matching NEW NORTHWOOD-----\n",
      "Matching CALLAWAY-GARRISON-----\n",
      "Matching HERITAGE CROSSING-----\n",
      "Matching MADISON EASTEND-----\n",
      "Matching WESTPORT-----\n",
      "Matching PLEASENT VIEW GARDENS-----\n",
      "Matching WEST HILLS-----\n",
      "Matching PATTERSON PARK-----\n",
      "Matching COLDSPRING-----\n",
      "Matching BROOKLYN-----\n",
      "Matching BARCLAY-----\n",
      "Matching KERNEWOOD-----\n",
      "Matching COPPIN HEIGHTS/ASHBU-----\n",
      "Failed. Adding to the List\n",
      "Matching MADISON PARK-----\n",
      "Matching NORTH HARFORD ROAD-----\n",
      "Matching MILTON-MONTFORD-----\n",
      "Matching FOREST PARK-----\n",
      "Matching HANLON/LONGWOOD-----\n",
      "Matching BEREA-----\n",
      "Matching LAKE WALKER-----\n",
      "Matching WAVERLY-----\n",
      "Matching DRUID HILL PARK ASSO-----\n",
      "Matching TOWANDA-GRANTLEY-----\n",
      "Matching WINSTON-GOVANS-----\n",
      "Matching CARROLL - CAMDEN INDUSTRIAL AREA-----\n",
      "Matching MEDFIELD-----\n",
      "Matching WINCHESTER-----\n",
      "Matching EAST ARLINGTON-----\n",
      "Matching S.B.I.C.-----\n",
      "Failed. Adding to the List\n",
      "Matching GREENMOUNT WEST-----\n",
      "Matching HOMELAND-----\n",
      "Matching TREMONT-----\n",
      "Matching RESERVOIR HILL-----\n",
      "Matching CAMERON VILLAGE-----\n",
      "Matching HILLEN-----\n",
      "Matching ABELL-----\n",
      "Matching ARMISTEAD GARDENS-----\n",
      "Matching ORANGEVILLE INDUSTRIAL AREA-----\n",
      "Matching LOCUST POINT INDUSTRIAL AREA-----\n",
      "Matching PARKSIDE-----\n",
      "Matching PERKINS HOMES-----\n",
      "Matching WASHINGTON HILL-----\n",
      "Matching GLEN-----\n",
      "Matching GREENSPRING-----\n",
      "Matching MOUNT WINANS-----\n",
      "Matching 4X4-----\n",
      "Failed. Adding to the List\n",
      "Matching WALBROOK-----\n",
      "Matching BLYTHEWOOD-----\n",
      "Matching EDNOR GARDENS-LAKESI-----\n",
      "Matching PARKLANE-----\n",
      "Matching SOUTH CLIFTON PARK-----\n",
      "Matching GWYNNS FALLS/LEAKIN PARK-----\n",
      "Matching GUILFORD-----\n",
      "Matching EDMONDSON VILLAGE-----\n",
      "Matching HAMPDEN-----\n",
      "Matching FRANKLINTOWN-----\n",
      "Matching JONES FALLS AREA-----\n",
      "Matching JOHN HOPKINS HOMEWOO-----\n",
      "Matching GLEN OAKS-----\n",
      "Matching HARWOOD-----\n",
      "Matching WESTGATE-----\n",
      "Matching MEDFORD/BROENING MAN-----\n",
      "Failed. Adding to the List\n",
      "Matching CYLBURN-----\n",
      "Matching IDLEWOOD-----\n",
      "Matching EVERGREEN-----\n",
      "Matching CEDONIA-----\n",
      "Matching PEN LUCY-----\n",
      "Matching WEST FOREST PARK-----\n",
      "Matching PATTERSON PLACE-----\n",
      "Matching WOODBROOK-----\n",
      "Failed. Adding to the List\n",
      "Matching CENTRAL FOREST PARK-----\n",
      "Matching PERRING LOCH-----\n",
      "Matching MORGAN STATE UNIVERS-----\n",
      "Matching CURTIS BAY INDUSTRIAL AREA-----\n",
      "Matching WOODBOURNE MCCABE-----\n",
      "Matching JONESTOWN-----\n",
      "Matching RICHNOR SPRINGS-----\n",
      "Matching WOODRING-----\n",
      "Failed. Adding to the List\n",
      "Matching LOWER HERRING RUN PARK-----\n",
      "Matching NEW SOUTHWEST/MOUNT CLARE-----\n",
      "Matching HAWKINS POINT-----\n",
      "Matching MOUNT WASHINGTON-----\n",
      "Matching SPRING GARDEN INDUSTRIAL AREA-----\n",
      "Matching MONTEBELLO-----\n",
      "Matching CONCERNED CITIZENS O-----\n",
      "Failed. Adding to the List\n",
      "Matching WYMAN PARK-----\n",
      "Matching SAINT HELENA-----\n",
      "Matching OAKLEE-----\n",
      "Matching FAIRFIELD-----\n",
      "Failed. Adding to the List\n",
      "Matching ROGNEL HEIGHTS-----\n",
      "Matching BRADDISH AVE./PANWAY-----\n",
      "Failed. Adding to the List\n",
      "Matching LOCH RAVEN-----\n",
      "Matching WAKEFIELD-----\n",
      "Matching STADIUM AREA-----\n",
      "Matching LAKE-EVESHAM-----\n",
      "Matching MAYFIELD-----\n",
      "Matching GREENMOUNT CEMETERY-----\n",
      "Matching RAMBLEWOOD-----\n",
      "Matching LITTLE ITALY-----\n",
      "Matching SAINT PAUL-----\n",
      "Matching WINDSOR HILLS-----\n",
      "Matching TUSCANY-CANTERBURY-----\n",
      "Matching MID-GOVANS-----\n",
      "Matching KENILWORTH PARK-----\n",
      "Matching LUCILLE PARK-----\n",
      "Matching NORTH ROLAND PARK/POPLAR HILL-----\n",
      "Matching UNION SQUARE-----\n",
      "Matching BREWERS HILL-----\n",
      "Matching EVERGREEN LAWN-----\n",
      "Matching MEDFORD-----\n",
      "Matching PORT COVINGTON-----\n",
      "Matching CEDARCROFT-----\n",
      "Matching CHESWOLDE-----\n",
      "Matching BURLEITH-LEIGHTON-----\n",
      "Matching SETON BUSINESS PARK-----\n",
      "Matching CHINQUAPIN PARK/BELV-----\n",
      "Matching WYNDHURST-----\n",
      "Matching TAYLOR HEIGHTS-----\n",
      "Matching BIDDLE STREET-----\n",
      "Matching UPLANDS-----\n",
      "Matching ROSEMONT AVENUE-----\n",
      "Failed. Adding to the List\n",
      "Matching WILSON HEIGHTS-----\n",
      "Failed. Adding to the List\n",
      "Matching LOYOLA/NOTRE DAME-----\n",
      "Matching FORT HOLABIRD-----\n",
      "Failed. Adding to the List\n",
      "Matching CHRISTOPHER-----\n",
      "Failed. Adding to the List\n",
      "Matching OVERLEA-----\n",
      "Matching MOUNT PLEASANT PARK-----\n",
      "Matching TEN HILLS-----\n",
      "Matching HOES HEIGHTS-----\n",
      "Matching BEVERLY HILLS-----\n",
      "Matching STONEWOOD-PENTWOOD-W-----\n",
      "Failed. Adding to the List\n",
      "Matching THE ORCHARDS-----\n",
      "Matching BARRE CIRCLE-----\n",
      "Matching DICKEYVILLE-----\n",
      "Matching EASTWOOD-----\n",
      "Matching 0-----\n",
      "Failed. Adding to the List\n",
      "Matching MORGAN PARK-----\n",
      "Matching PURNELL-----\n",
      "Matching BELLONA-GITTINGS-----\n",
      "Matching HERRING RUN PARK-----\n",
      "Matching KESWICK-----\n",
      "Matching FOREST PARK/GOLF COU-----\n"
     ]
    },
    {
     "name": "stdout",
     "output_type": "stream",
     "text": [
      "Matching WOODME-----\n",
      "Failed. Adding to the List\n",
      "Matching VILLAGES OF HOMELAND-----\n",
      "Matching BELAIR-----\n",
      "Failed. Adding to the List\n",
      "Matching CARROL-----\n",
      "Failed. Adding to the List\n",
      "Matching SANDTO-----\n",
      "Failed. Adding to the List\n",
      "Matching DUNDALK MARINE TERMINAL-----\n",
      "Matching HOLLIN-----\n",
      "Failed. Adding to the List\n",
      "Matching 116102-----\n",
      "Failed. Adding to the List\n"
     ]
    }
   ],
   "source": [
    "neigh_name_map={}\n",
    "second_match_ls=[]\n",
    "for nei_name in df_nodup[df_nodup.Neighborhood.notna()].Neighborhood.unique():\n",
    "    print('Matching {}-----'.format(nei_name))\n",
    "    re=process.extract(nei_name,neib_ls)\n",
    "#     print('Matching {}-----'.format(nei_name))\n",
    "#     print(re)\n",
    "    if re[0][1]>90:\n",
    "        neigh_name_map[nei_name]=re[0][0]\n",
    "    else:\n",
    "        print('Failed. Adding to the List')\n",
    "        second_match_ls.append(nei_name)"
   ]
  },
  {
   "cell_type": "code",
   "execution_count": 74,
   "metadata": {},
   "outputs": [
    {
     "data": {
      "text/plain": [
       "246"
      ]
     },
     "execution_count": 74,
     "metadata": {},
     "output_type": "execute_result"
    }
   ],
   "source": [
    "#Able to match 246 neigh names\n",
    "len(neigh_name_map.values())"
   ]
  },
  {
   "cell_type": "code",
   "execution_count": 81,
   "metadata": {},
   "outputs": [
    {
     "data": {
      "text/plain": [
       "['DUNBAR',\n",
       " 'HARFORD-ECHODALE-PER',\n",
       " 'COLDSTREAM HOMESTEAD',\n",
       " 'HUDSON-HIGHLANDTOWN',\n",
       " 'BALTIMORE-LINWOOD',\n",
       " 'GLENHAM-BELFORD',\n",
       " 'CLAREMONT-FREEDOM',\n",
       " 'HOLLINS PARK',\n",
       " 'DORCHESTER/GRAN-BARR',\n",
       " 'JOSEPH LEE',\n",
       " 'FEDERAL HILL/MONTGOM',\n",
       " 'COPPIN HEIGHTS/ASHBU',\n",
       " 'S.B.I.C.',\n",
       " '4X4',\n",
       " 'MEDFORD/BROENING MAN',\n",
       " 'WOODBROOK',\n",
       " 'WOODRING',\n",
       " 'CONCERNED CITIZENS O',\n",
       " 'FAIRFIELD',\n",
       " 'BRADDISH AVE./PANWAY',\n",
       " 'ROSEMONT AVENUE',\n",
       " 'WILSON HEIGHTS',\n",
       " 'FORT HOLABIRD',\n",
       " 'CHRISTOPHER',\n",
       " 'STONEWOOD-PENTWOOD-W',\n",
       " '0',\n",
       " 'WOODME',\n",
       " 'BELAIR',\n",
       " 'CARROL',\n",
       " 'SANDTO',\n",
       " 'HOLLIN',\n",
       " '116102']"
      ]
     },
     "execution_count": 81,
     "metadata": {},
     "output_type": "execute_result"
    }
   ],
   "source": [
    "second_match_ls"
   ]
  },
  {
   "cell_type": "code",
   "execution_count": 75,
   "metadata": {},
   "outputs": [],
   "source": [
    "df_nodup['Neighborhood_New']=df_nodup.Neighborhood.map(neigh_name_map)"
   ]
  },
  {
   "cell_type": "code",
   "execution_count": 76,
   "metadata": {},
   "outputs": [
    {
     "data": {
      "text/plain": [
       "38486"
      ]
     },
     "execution_count": 76,
     "metadata": {},
     "output_type": "execute_result"
    }
   ],
   "source": [
    "len(df_nodup[df_nodup['Neighborhood_New'].isna()])"
   ]
  },
  {
   "cell_type": "code",
   "execution_count": 69,
   "metadata": {},
   "outputs": [],
   "source": [
    "t=df_nodup[df_nodup['Neighborhood_New'].isna()].apply(lambda x: find_nei(Point(x.Longitude, x.Latitude)), axis=1)"
   ]
  },
  {
   "cell_type": "code",
   "execution_count": 70,
   "metadata": {},
   "outputs": [
    {
     "data": {
      "text/plain": [
       "[('Patterson Park Neighborhood', 3486),\n",
       " ('Hamilton Hills', 3353),\n",
       " ('Coldstream Homestead Montebello', 3266),\n",
       " ('Highlandtown', 2063),\n",
       " ('Glenham-Belhar', 1931),\n",
       " ('Dunbar-Broadway', 1638),\n",
       " ('Federal Hill', 1396),\n",
       " ('Hollins Market', 1316),\n",
       " ('Coppin Heights/Ash-Co-East', 1150),\n",
       " ('South Baltimore', 927),\n",
       " ('Parkview/Woodbrook', 862),\n",
       " ('Bayview', 843),\n",
       " ('Dorchester', 807),\n",
       " ('Broening Manor', 786),\n",
       " (None, 675),\n",
       " ('North Harford Road', 584),\n",
       " ('Rosemont East', 579),\n",
       " ('Four By Four', 572),\n",
       " ('Orchard Ridge', 504),\n",
       " ('Panway/Braddish Avenue', 443),\n",
       " ('Concerned Citizens Of Forest Park', 405),\n",
       " ('Fairfield Area', 369),\n",
       " ('Downtown', 366),\n",
       " ('Pulaski Industrial Area', 294),\n",
       " ('Waltherson', 261),\n",
       " ('Brooklyn', 254),\n",
       " ('Canton', 250),\n",
       " ('Stonewood-Pentwood-Winston', 241),\n",
       " ('McElderry Park', 172),\n",
       " ('Sandtown-Winchester', 165),\n",
       " ('Central Park Heights', 161),\n",
       " ('Frankford', 155),\n",
       " ('Westgate', 150),\n",
       " ('Fells Point', 149),\n",
       " ('Medford', 144),\n",
       " ('Ellwood Park/Monument', 140),\n",
       " ('Inner Harbor', 138),\n",
       " ('Greektown', 134),\n",
       " ('Belair-Edison', 133),\n",
       " ('Holabird Industrial Park', 131),\n",
       " ('Baltimore Highlands', 130),\n",
       " ('Graceland Park', 124),\n",
       " ('Broadway East', 118),\n",
       " ('Canton Industrial Area', 115),\n",
       " ('Cherry Hill', 115),\n",
       " ('Curtis Bay', 112),\n",
       " ('East Baltimore Midway', 111),\n",
       " ('Mondawmin', 111),\n",
       " ('Poppleton', 106),\n",
       " ('Upton', 104),\n",
       " ('Jonestown', 100),\n",
       " ('Clifton Park', 100),\n",
       " ('Oldtown', 97),\n",
       " ('Carrollton Ridge', 92),\n",
       " ('Washington Hill', 90),\n",
       " ('Winchester', 86),\n",
       " ('Mount Vernon', 82),\n",
       " ('Ednor Gardens-Lakeside', 82),\n",
       " ('Allendale', 81),\n",
       " ('Oliver', 81),\n",
       " ('Franklintown Road', 80),\n",
       " ('Washington Village/Pigtown', 76),\n",
       " ('Harlem Park', 75),\n",
       " ('Mid-Town Belvedere', 74),\n",
       " ('Hampden', 73),\n",
       " ('Madison Park', 72),\n",
       " (\"O'Donnell Heights\", 72),\n",
       " ('Charles North', 72),\n",
       " ('Riverside', 70),\n",
       " ('Woodbourne-McCabe', 69),\n",
       " ('Seton Hill', 67),\n",
       " ('Gay Street', 67),\n",
       " ('Penrose/Fayette Street Outreach', 67),\n",
       " ('Penn North', 66),\n",
       " ('Penn-Fallsway', 62),\n",
       " ('Franklin Square', 61),\n",
       " ('Better Waverly', 61),\n",
       " ('Cedmont', 59),\n",
       " ('Berea', 57),\n",
       " ('Perkins Homes', 57),\n",
       " ('Druid Hill Park', 56),\n",
       " ('Downtown West', 56),\n",
       " ('Woodmere', 56),\n",
       " ('Irvington', 54),\n",
       " ('Dickeyville', 53),\n",
       " ('Barclay', 52),\n",
       " ('Morrell Park', 51),\n",
       " ('Charles Village', 50),\n",
       " ('Reservoir Hill', 49),\n",
       " ('Millhill', 49),\n",
       " ('New Southwest/Mount Clare', 45),\n",
       " ('Druid Heights', 44),\n",
       " ('Morgan State University', 44),\n",
       " ('Loch Raven', 43),\n",
       " ('Upper Fells Point', 43),\n",
       " ('Rosemont', 42),\n",
       " ('Bolton Hill', 42),\n",
       " ('Reisterstown Station', 41),\n",
       " ('Middle East', 39),\n",
       " ('Howard Park', 39),\n",
       " ('Brewers Hill', 39),\n",
       " ('Arlington', 38),\n",
       " ('West Hills', 38),\n",
       " ('Patterson Park', 38),\n",
       " ('Rognel Heights', 38),\n",
       " ('Pleasant View Gardens', 36),\n",
       " ('Armistead Gardens', 36),\n",
       " ('CARE', 36),\n",
       " ('New Northwood', 35),\n",
       " ('Shipley Hill', 35),\n",
       " ('Heritage Crossing', 35),\n",
       " ('Carroll - Camden Industrial Area', 34),\n",
       " ('Bridgeview/Greenlawn', 34),\n",
       " ('Eastwood', 32),\n",
       " ('Walbrook', 32),\n",
       " ('Johnston Square', 31),\n",
       " ('Edgewood', 31),\n",
       " ('Hopkins Bayview', 31),\n",
       " ('Hanlon-Longwood', 31),\n",
       " ('Sharp-Leadenhall', 30),\n",
       " ('Westfield', 30),\n",
       " ('Park Circle', 29),\n",
       " ('Fallstaff', 28),\n",
       " ('Waverly', 28),\n",
       " ('Northwest Community Action', 28),\n",
       " ('Greenmount West', 27),\n",
       " ('Madison-Eastend', 26),\n",
       " ('Old Goucher', 26),\n",
       " ('Otterbein', 26),\n",
       " ('Gwynns Falls', 26),\n",
       " ('Lucille Park', 26),\n",
       " ('University Of Maryland', 25),\n",
       " ('Saint Josephs', 25),\n",
       " ('Idlewood', 25),\n",
       " ('Parkside', 25),\n",
       " ('Remington', 25),\n",
       " ('Barre Circle', 24),\n",
       " ('Yale Heights', 24),\n",
       " ('Lakeland', 23),\n",
       " ('Union Square', 22),\n",
       " ('Greenmount Cemetery', 22),\n",
       " ('Little Italy', 22),\n",
       " ('Violetville', 22),\n",
       " ('Glen', 22),\n",
       " ('Grove Park', 22),\n",
       " ('Midtown-Edmondson', 22),\n",
       " (\"Butcher's Hill\", 22),\n",
       " ('Biddle Street', 22),\n",
       " ('Dolfield', 22),\n",
       " ('Medfield', 21),\n",
       " ('Orangeville', 21),\n",
       " ('Glen Oaks', 21),\n",
       " ('Perring Loch', 21),\n",
       " ('Rosemont Homeowners/Tenants', 21),\n",
       " ('Overlea', 21),\n",
       " ('Darley Park', 21),\n",
       " ('Westport', 21),\n",
       " ('Milton-Montford', 20),\n",
       " ('Mosher', 20),\n",
       " ('Harwood', 20),\n",
       " ('Edmondson Village', 20),\n",
       " ('Ashburton', 20),\n",
       " ('Orangeville Industrial Area', 20),\n",
       " ('Mount Washington', 19),\n",
       " ('Lauraville', 19),\n",
       " ('Woodberry', 19),\n",
       " ('Patterson Place', 19),\n",
       " ('Hillen', 19),\n",
       " ('Mount Holly', 19),\n",
       " ('East Arlington', 18),\n",
       " ('Locust Point Industrial Area', 18),\n",
       " ('Saint Helena', 18),\n",
       " ('Easterwood', 18),\n",
       " ('Carroll-South Hilton', 18),\n",
       " ('Wakefield', 18),\n",
       " ('Franklintown', 17),\n",
       " ('Liberty Square', 17),\n",
       " ('West Arlington', 17),\n",
       " ('Pen Lucy', 17),\n",
       " ('Forest Park', 17),\n",
       " ('Stadium Area', 16),\n",
       " ('Lake Walker', 16),\n",
       " ('Ramblewood', 15),\n",
       " ('Greenspring', 15),\n",
       " ('Coldspring', 15),\n",
       " ('Winston-Govans', 15),\n",
       " ('Beechfield', 15),\n",
       " ('Cross Country', 15),\n",
       " ('Parklane', 14),\n",
       " ('Guilford', 14),\n",
       " ('Cylburn', 14),\n",
       " ('Abell', 14),\n",
       " ('Hoes Heights', 14),\n",
       " ('Roland Park', 14),\n",
       " ('Montebello', 13),\n",
       " ('Wilhelm Park', 13),\n",
       " ('West Forest Park', 13),\n",
       " ('Gwynns Falls/Leakin Park', 13),\n",
       " ('Pimlico Good Neighbors', 12),\n",
       " ('Hunting Ridge', 12),\n",
       " ('Seton Business Park', 12),\n",
       " ('Callaway-Garrison', 12),\n",
       " ('Carroll Park', 12),\n",
       " ('Boyd-Booth', 11),\n",
       " ('Wilson Park', 11),\n",
       " ('Cross Keys', 11),\n",
       " ('Ten Hills', 11),\n",
       " ('Middle Branch/Reedbird Parks', 11),\n",
       " ('Mid-Govans', 11),\n",
       " ('Evergreen Lawn', 11),\n",
       " ('Central Forest Park', 11),\n",
       " ('Uplands', 10),\n",
       " ('Langston Hughes', 10),\n",
       " ('Windsor Hills', 10),\n",
       " ('Mount Winans', 10),\n",
       " ('Homeland', 10),\n",
       " ('Cheswolde', 10),\n",
       " ('Cedonia', 10),\n",
       " ('Kresson', 10),\n",
       " ('Johns Hopkins Homewood', 10),\n",
       " ('Mayfield', 9),\n",
       " ('Garwyn Oaks', 9),\n",
       " ('South Clifton Park', 9),\n",
       " ('Locust Point', 9),\n",
       " ('Towanda-Grantley', 9),\n",
       " (\"Ridgely's Delight\", 8),\n",
       " ('Levindale', 8),\n",
       " ('Wyman Park', 8),\n",
       " ('Tremont', 8),\n",
       " ('Oakenshawe', 8),\n",
       " ('Kenilworth Park', 7),\n",
       " ('Beverly Hills', 7),\n",
       " ('Cedarcroft', 7),\n",
       " ('Burleith-Leighton', 7),\n",
       " ('Jones Falls Area', 7),\n",
       " ('Kernewood', 6),\n",
       " ('Fairmont', 6),\n",
       " ('Cameron Village', 6),\n",
       " ('Spring Garden Industrial Area', 6),\n",
       " ('Moravia-Walther', 6),\n",
       " ('Taylor Heights', 6),\n",
       " ('Purnell', 6),\n",
       " ('Belair-Parkside', 6),\n",
       " ('Tuscany-Canterbury', 5),\n",
       " ('Original Northwood', 5),\n",
       " ('Bellona-Gittings', 5),\n",
       " ('Loyola/Notre Dame', 5),\n",
       " ('Radnor-Winston', 4),\n",
       " ('Sabina-Mattfeldt', 4),\n",
       " ('Oaklee', 4),\n",
       " ('Chinquapin Park', 4),\n",
       " ('Curtis Bay Industrial Area', 4),\n",
       " ('Rosebank', 4),\n",
       " ('Woodbourne Heights', 3),\n",
       " ('Herring Run Park', 3),\n",
       " ('North Roland Park/Poplar Hill', 3),\n",
       " ('Mt Pleasant Park', 3),\n",
       " ('Forest Park Golf Course', 3),\n",
       " ('Saint Agnes', 3),\n",
       " ('Lower Edmondson Village', 3),\n",
       " ('Lower Herring Run Park', 3),\n",
       " ('Keswick', 2),\n",
       " ('Evesham Park', 2),\n",
       " ('Richnor Springs', 2),\n",
       " ('Evergreen', 2),\n",
       " ('Port Covington', 2),\n",
       " ('Arcadia', 2),\n",
       " ('Wrenlane', 1),\n",
       " ('Hawkins Point', 1),\n",
       " ('Wyndhurst', 1),\n",
       " ('Villages Of Homeland', 1),\n",
       " ('Belvedere', 1),\n",
       " ('Lake Evesham', 1)]"
      ]
     },
     "execution_count": 70,
     "metadata": {},
     "output_type": "execute_result"
    }
   ],
   "source": [
    "from collections import Counter\n",
    "Counter(t).most_common()\n"
   ]
  },
  {
   "cell_type": "code",
   "execution_count": 78,
   "metadata": {},
   "outputs": [],
   "source": [
    "df_nodup.loc[df_nodup['Neighborhood_New'].isna(),'Neighborhood_New']=df_nodup[df_nodup['Neighborhood_New'].isna()].apply(lambda x: find_nei(Point(x.Longitude, x.Latitude)), axis=1)"
   ]
  },
  {
   "cell_type": "code",
   "execution_count": null,
   "metadata": {},
   "outputs": [],
   "source": []
  },
  {
   "cell_type": "markdown",
   "metadata": {},
   "source": [
    "## Normalize District"
   ]
  },
  {
   "cell_type": "code",
   "execution_count": 84,
   "metadata": {},
   "outputs": [],
   "source": [
    "with open(\"Police_Districts.geojson\") as f1:\n",
    "    dis_geojson = json.load(f1)"
   ]
  },
  {
   "cell_type": "code",
   "execution_count": 91,
   "metadata": {},
   "outputs": [],
   "source": [
    "dis_ls=[]\n",
    "for dis in dis_geojson['features']:\n",
    "    dis_ls.append(dis['properties']['dist_name'])"
   ]
  },
  {
   "cell_type": "code",
   "execution_count": 92,
   "metadata": {},
   "outputs": [
    {
     "data": {
      "text/plain": [
       "['Northern',\n",
       " 'Central',\n",
       " 'Western',\n",
       " 'Eastern',\n",
       " 'Southeastern',\n",
       " 'Southern',\n",
       " 'Southwestern',\n",
       " 'Northwestern',\n",
       " 'Northeastern']"
      ]
     },
     "execution_count": 92,
     "metadata": {},
     "output_type": "execute_result"
    }
   ],
   "source": [
    "dis_ls"
   ]
  },
  {
   "cell_type": "code",
   "execution_count": null,
   "metadata": {},
   "outputs": [],
   "source": []
  },
  {
   "cell_type": "code",
   "execution_count": 94,
   "metadata": {},
   "outputs": [
    {
     "data": {
      "text/plain": [
       "array(['SOUTHERN', 'SOUTHEAST', 'NORTHERN', 'WESTERN', 'SOUTHWEST',\n",
       "       'NORTHWEST', 'NORTHEAST', 'EASTERN', 'CENTRAL', 'UNKNOWN'],\n",
       "      dtype=object)"
      ]
     },
     "execution_count": 94,
     "metadata": {},
     "output_type": "execute_result"
    }
   ],
   "source": [
    "df_nodup.District.unique()"
   ]
  },
  {
   "cell_type": "code",
   "execution_count": null,
   "metadata": {},
   "outputs": [],
   "source": []
  },
  {
   "cell_type": "code",
   "execution_count": 100,
   "metadata": {},
   "outputs": [
    {
     "name": "stdout",
     "output_type": "stream",
     "text": [
      "Matching SOUTHERN-----\n",
      "Matching SOUTHEAST-----\n",
      "Matching NORTHERN-----\n",
      "Matching WESTERN-----\n",
      "Matching SOUTHWEST-----\n",
      "Matching NORTHWEST-----\n",
      "Matching NORTHEAST-----\n",
      "Matching EASTERN-----\n",
      "Matching CENTRAL-----\n",
      "Matching UNKNOWN-----\n"
     ]
    }
   ],
   "source": [
    "dist_name_map={}\n",
    "# dist_second_match_ls=[]\n",
    "for dist in df_nodup[df_nodup.District.notna()].District.unique():\n",
    "    print('Matching {}-----'.format(dist))\n",
    "    re=process.extract(dist,dis_ls)\n",
    "#     print('Matching {}-----'.format(nei_name))\n",
    "#     print(re)\n",
    "    if re[0][1]>80:\n",
    "        dist_name_map[dist]=re[0][0]\n"
   ]
  },
  {
   "cell_type": "code",
   "execution_count": null,
   "metadata": {},
   "outputs": [],
   "source": []
  },
  {
   "cell_type": "code",
   "execution_count": 109,
   "metadata": {},
   "outputs": [],
   "source": [
    "def find_dist(pp):\n",
    "    name=None\n",
    "    for feature in dis_geojson['features']:\n",
    "        polygon = shape(feature['geometry'])\n",
    "        if polygon.contains(pp):\n",
    "            return feature['properties']['dist_name']\n",
    "        else:\n",
    "            continue\n",
    "    return name\n",
    "        "
   ]
  },
  {
   "cell_type": "code",
   "execution_count": 111,
   "metadata": {},
   "outputs": [],
   "source": [
    "df_nodup['New_District']=df_nodup.District.map(dist_name_map)"
   ]
  },
  {
   "cell_type": "code",
   "execution_count": 112,
   "metadata": {},
   "outputs": [],
   "source": [
    "df_nodup.loc[df_nodup.District=='UNKNOWN','New_District']=df_nodup[(df_nodup.District=='UNKNOWN')|df_nodup.District.isna()].apply(lambda x: find_dist(Point(x.Longitude, x.Latitude)), axis=1)"
   ]
  },
  {
   "cell_type": "code",
   "execution_count": 117,
   "metadata": {},
   "outputs": [
    {
     "data": {
      "text/plain": [
       "Northeastern    44482\n",
       "Southeastern    41913\n",
       "Central         34186\n",
       "Southern        33150\n",
       "Northern        32915\n",
       "Southwestern    30620\n",
       "Northwestern    29306\n",
       "Eastern         25819\n",
       "Western         23652\n",
       "Name: New_District, dtype: int64"
      ]
     },
     "execution_count": 117,
     "metadata": {},
     "output_type": "execute_result"
    }
   ],
   "source": [
    "df_nodup['New_District'].value_counts()"
   ]
  },
  {
   "cell_type": "code",
   "execution_count": 113,
   "metadata": {},
   "outputs": [
    {
     "name": "stdout",
     "output_type": "stream",
     "text": [
      "<class 'pandas.core.frame.DataFrame'>\n",
      "RangeIndex: 296586 entries, 0 to 296585\n",
      "Data columns (total 17 columns):\n",
      " #   Column            Non-Null Count   Dtype  \n",
      "---  ------            --------------   -----  \n",
      " 0   CrimeDate         296586 non-null  object \n",
      " 1   CrimeTime         296561 non-null  object \n",
      " 2   CrimeCode         296586 non-null  object \n",
      " 3   Location          295207 non-null  object \n",
      " 4   Description       296586 non-null  object \n",
      " 5   Inside/Outside    255272 non-null  object \n",
      " 6   Weapon            59666 non-null   object \n",
      " 7   Post              294212 non-null  object \n",
      " 8   District          296586 non-null  object \n",
      " 9   Neighborhood      286259 non-null  object \n",
      " 10  Longitude         294900 non-null  float64\n",
      " 11  Latitude          294900 non-null  float64\n",
      " 12  Premise           260538 non-null  object \n",
      " 13  Total Incidents   296586 non-null  int64  \n",
      " 14  group_count       296586 non-null  int64  \n",
      " 15  Neighborhood_New  295911 non-null  object \n",
      " 16  New_District      296043 non-null  object \n",
      "dtypes: float64(2), int64(2), object(13)\n",
      "memory usage: 38.5+ MB\n"
     ]
    }
   ],
   "source": [
    "df_nodup.info()"
   ]
  },
  {
   "cell_type": "code",
   "execution_count": null,
   "metadata": {},
   "outputs": [],
   "source": []
  },
  {
   "cell_type": "code",
   "execution_count": 118,
   "metadata": {},
   "outputs": [],
   "source": [
    "df_nodup.to_csv('cleaned_df.csv',index=False)"
   ]
  },
  {
   "cell_type": "code",
   "execution_count": null,
   "metadata": {},
   "outputs": [],
   "source": []
  },
  {
   "cell_type": "code",
   "execution_count": null,
   "metadata": {},
   "outputs": [],
   "source": []
  },
  {
   "cell_type": "code",
   "execution_count": null,
   "metadata": {},
   "outputs": [],
   "source": []
  },
  {
   "cell_type": "code",
   "execution_count": null,
   "metadata": {},
   "outputs": [],
   "source": []
  }
 ],
 "metadata": {
  "kernelspec": {
   "display_name": "Python 3.7.6 64-bit",
   "language": "python",
   "name": "python37664bitaad11810a68246cf96b4e903e9fb7d27"
  },
  "language_info": {
   "codemirror_mode": {
    "name": "ipython",
    "version": 3
   },
   "file_extension": ".py",
   "mimetype": "text/x-python",
   "name": "python",
   "nbconvert_exporter": "python",
   "pygments_lexer": "ipython3",
   "version": "3.7.6"
  },
  "toc": {
   "base_numbering": 1,
   "nav_menu": {},
   "number_sections": true,
   "sideBar": true,
   "skip_h1_title": false,
   "title_cell": "Table of Contents",
   "title_sidebar": "Contents",
   "toc_cell": false,
   "toc_position": {},
   "toc_section_display": true,
   "toc_window_display": false
  },
  "varInspector": {
   "cols": {
    "lenName": 16,
    "lenType": 16,
    "lenVar": 40
   },
   "kernels_config": {
    "python": {
     "delete_cmd_postfix": "",
     "delete_cmd_prefix": "del ",
     "library": "var_list.py",
     "varRefreshCmd": "print(var_dic_list())"
    },
    "r": {
     "delete_cmd_postfix": ") ",
     "delete_cmd_prefix": "rm(",
     "library": "var_list.r",
     "varRefreshCmd": "cat(var_dic_list()) "
    }
   },
   "types_to_exclude": [
    "module",
    "function",
    "builtin_function_or_method",
    "instance",
    "_Feature"
   ],
   "window_display": false
  }
 },
 "nbformat": 4,
 "nbformat_minor": 4
}
