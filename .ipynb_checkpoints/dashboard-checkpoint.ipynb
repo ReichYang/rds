{
 "cells": [
  {
   "cell_type": "code",
   "execution_count": 1,
   "metadata": {},
   "outputs": [],
   "source": [
    "#!/usr/bin/env python\n",
    "# coding: utf-8\n",
    "\n",
    "import string\n",
    "import re\n",
    "\n",
    "import datetime\n",
    "import numpy as np\n",
    "import pandas as pd\n",
    "\n",
    "import dash_bio as dashbio\n",
    "import dash_table\n",
    "from dash import no_update\n",
    "from dash.dependencies import Input, Output, ALL, State\n",
    "import dash_html_components as html\n",
    "import dash_core_components as dcc\n",
    "from jupyter_dash import JupyterDash\n",
    "\n",
    "import plotly.express as px\n",
    "import dash\n",
    "import plotly.graph_objects as go\n",
    "import plotly.tools as tls\n",
    "# from tick.plot import plot_point_process\n",
    "# from tick.hawkes import (SimuHawkes, HawkesKernelTimeFunc, HawkesKernelExp,\n",
    "#                          HawkesEM, SimuHawkesSumExpKernels, HawkesSumExpKern, HawkesExpKern)\n",
    "from collections import Counter\n"
   ]
  },
  {
   "cell_type": "code",
   "execution_count": 2,
   "metadata": {},
   "outputs": [
    {
     "name": "stderr",
     "output_type": "stream",
     "text": [
      "D:\\Python37\\lib\\site-packages\\IPython\\core\\interactiveshell.py:3063: DtypeWarning:\n",
      "\n",
      "Columns (7) have mixed types.Specify dtype option on import or set low_memory=False.\n",
      "\n"
     ]
    }
   ],
   "source": [
    "df=pd.read_csv(\"cleaned_df.csv\")"
   ]
  },
  {
   "cell_type": "code",
   "execution_count": 3,
   "metadata": {},
   "outputs": [],
   "source": [
    "with open(\"Neighborhoods.geojson\") as f:\n",
    "    neigh_geojson = json.load(f)\n",
    "    \n",
    "with open(\"Police_Districts.geojson\") as f1:\n",
    "    dist_geojson = json.load(f1)"
   ]
  },
  {
   "cell_type": "code",
   "execution_count": 4,
   "metadata": {},
   "outputs": [],
   "source": [
    "df['Datetime']=df.CrimeDate+' '+df.CrimeTime"
   ]
  },
  {
   "cell_type": "code",
   "execution_count": 5,
   "metadata": {},
   "outputs": [],
   "source": [
    "df['Datetime']=pd.to_datetime(df.Datetime)"
   ]
  },
  {
   "cell_type": "code",
   "execution_count": 6,
   "metadata": {},
   "outputs": [
    {
     "data": {
      "text/plain": [
       "0           6/5/2016\n",
       "1         12/20/2018\n",
       "2          4/11/2020\n",
       "3          4/27/2015\n",
       "4         12/15/2015\n",
       "             ...    \n",
       "296581     2/14/2017\n",
       "296582     2/14/2017\n",
       "296583     2/14/2017\n",
       "296584     2/14/2017\n",
       "296585      9/9/2019\n",
       "Name: CrimeDate, Length: 296586, dtype: object"
      ]
     },
     "execution_count": 6,
     "metadata": {},
     "output_type": "execute_result"
    }
   ],
   "source": [
    "df.CrimeDate"
   ]
  },
  {
   "cell_type": "code",
   "execution_count": 7,
   "metadata": {},
   "outputs": [
    {
     "data": {
      "text/plain": [
       "0          2:38:00\n",
       "1          4:00:00\n",
       "2         13:00:00\n",
       "3         15:30:00\n",
       "4         21:35:00\n",
       "            ...   \n",
       "296581     6:30:00\n",
       "296582     7:00:00\n",
       "296583     7:00:00\n",
       "296584     7:40:00\n",
       "296585     9:30:00\n",
       "Name: CrimeTime, Length: 296586, dtype: object"
      ]
     },
     "execution_count": 7,
     "metadata": {},
     "output_type": "execute_result"
    }
   ],
   "source": [
    "df.CrimeTime"
   ]
  },
  {
   "cell_type": "code",
   "execution_count": 8,
   "metadata": {},
   "outputs": [
    {
     "data": {
      "text/plain": [
       "0        2016-06-05 02:38:00\n",
       "1        2018-12-20 04:00:00\n",
       "2        2020-04-11 13:00:00\n",
       "3        2015-04-27 15:30:00\n",
       "4        2015-12-15 21:35:00\n",
       "                 ...        \n",
       "296581   2017-02-14 06:30:00\n",
       "296582   2017-02-14 07:00:00\n",
       "296583   2017-02-14 07:00:00\n",
       "296584   2017-02-14 07:40:00\n",
       "296585   2019-09-09 09:30:00\n",
       "Name: Datetime, Length: 296586, dtype: datetime64[ns]"
      ]
     },
     "execution_count": 8,
     "metadata": {},
     "output_type": "execute_result"
    }
   ],
   "source": [
    "df.Datetime"
   ]
  },
  {
   "cell_type": "code",
   "execution_count": 9,
   "metadata": {},
   "outputs": [],
   "source": [
    "df['Year']=df.Datetime.dt.year\n",
    "df['Month']=df.Datetime.dt.month\n",
    "df['MonthName']=df.Datetime.dt.month_name()\n",
    "df['Day']=df.Datetime.dt.day\n",
    "df['Quarter']=df.Datetime.dt.quarter\n",
    "df['Date']=df.Datetime.dt.date\n",
    "df['Hour']=df.Datetime.dt.hour\n",
    "df['Minute']=df.Datetime.dt.minute\n",
    "df['Period']=((df.Datetime.dt.hour% 24 + 4) // 4).map({1: 'Late Night',\n",
    "                      2: 'Early Morning',\n",
    "                      3: 'Morning',\n",
    "                      4: 'Noon',\n",
    "                      5: 'Evening',\n",
    "                      6: 'Night'})\n",
    "df['DayofWeek']=df.Datetime.dt.weekday\n",
    "df['WeekDay']=df.Datetime.dt.weekday.apply(lambda x: 'Weekend' if ((x==5)|(x==6)) else \"Weekday\")"
   ]
  },
  {
   "cell_type": "code",
   "execution_count": 10,
   "metadata": {},
   "outputs": [],
   "source": [
    "# test_df=pd.merge(neig,gr[(gr['DayofWeek']==0)&(gr['Period']=='Noon')], left_on='Neighborhood_New',right_on='Neighborhood_New', how='left').fillna(0)"
   ]
  },
  {
   "cell_type": "code",
   "execution_count": null,
   "metadata": {},
   "outputs": [],
   "source": []
  },
  {
   "cell_type": "code",
   "execution_count": 11,
   "metadata": {},
   "outputs": [],
   "source": [
    "neig=pd.DataFrame(df.groupby('Neighborhood_New').count().reset_index()['Neighborhood_New'])\n",
    "dist=pd.DataFrame(df.groupby('New_District').count().reset_index()['New_District'])"
   ]
  },
  {
   "cell_type": "code",
   "execution_count": 12,
   "metadata": {},
   "outputs": [],
   "source": [
    "# df.Year.value_counts()/len(df)* 100"
   ]
  },
  {
   "cell_type": "code",
   "execution_count": 13,
   "metadata": {},
   "outputs": [],
   "source": [
    "def intro():\n",
    "    \"\"\"\n",
    "    :return: A Div containing dashboard title & descriptions.\n",
    "    \"\"\"\n",
    "    return html.Div(\n",
    "        id=\"description-card\",\n",
    "        children=[\n",
    "            html.H3(\"Baltimore Victim-based Crime Data\"),\n",
    "            intro_tabone(),\n",
    "            intro_tabtwo()\n",
    "#             dcc.Tabs(id='tabs-example', value='tab-1', children=[\n",
    "#                 dcc.Tab(label='Introduction', value='tab-1'),\n",
    "#                 dcc.Tab(label='Control Board', value='tab-2')]),\n",
    "#             html.Div(id='tabs-example-content'),\n",
    "            #             html.H3(\"Welcome to the Clinical Analytics Dashboard\"),\n",
    "            #                 html.Blockquote(\n",
    "            #                     id=\"intro\",\n",
    "            #                     children=[\"Rejection hurts. Yes but yet, I've met nobody who has not been rejected.\\\n",
    "            #                     It is a part of life and instead of drowning in the sorrow and somberness of being rejected, we can make it fun and try to try to analyze it.\",\n",
    "            #                             ]\n",
    "            #                 ),\n",
    "#             html.Div(children=[\n",
    "#                      'This is the Dashboard analyzing the time-sapce pattern of the crime data in Baltimore for the job talk of Research Data Scientist.']),\n",
    "#             html.Br(),\n",
    "#             html.H4('Instructions'),\n",
    "#             html.Div(children=[\n",
    "#                 html.P(\"This dashboard enables multiple ways for you to interact with the plots. Every plot can be zoomed and selected, along with hovering tooltips. Despite these basics, it also supports the following interactions:\"),\n",
    "#                 html.Li(\n",
    "#                     'Subsetting the dataset by selecting the time range, the weekdays, and the hours.'),\n",
    "#                 html.Li(\n",
    "#                     'Showing specific data entries by clicking on the Heatmap.'),\n",
    "#                 html.Div('Other interaction options are detailed in the corresponding part')])\n",
    "            #                 html.Li(\n",
    "            #                     'Change the Solver of the Temporal Process and the number of days to prdict.'),\n",
    "            #                 html.Li('Change the metric to rank the important terms, and the number of topics to model.')])\n",
    "        ]\n",
    "    )"
   ]
  },
  {
   "cell_type": "code",
   "execution_count": 14,
   "metadata": {},
   "outputs": [],
   "source": [
    "def intro_tabone():\n",
    "    return html.Div(children=[\n",
    "         html.Blockquote(\"Welcome to the Clinical Analytics Dashboard\"),\n",
    "         html.P(\"This dashboard is the visual deliverale for the Research Data Scientist at National Police Foundation.\")\n",
    "        \n",
    "        \n",
    "    ])\n",
    "\n",
    "# def intro_tabtwo():\n",
    "#     return html.Div(children=[\n",
    "#         html.Div('In this tab. I will illustrate how to use this visualization tool.')\n",
    "        \n",
    "#     ])"
   ]
  },
  {
   "cell_type": "code",
   "execution_count": 15,
   "metadata": {},
   "outputs": [
    {
     "data": {
      "text/plain": [
       "[{'label': 'Burglary', 'value': 'BURGLARY'},\n",
       " {'label': 'Agg. Assault', 'value': 'AGG. ASSAULT'},\n",
       " {'label': 'Larceny From Auto', 'value': 'LARCENY FROM AUTO'},\n",
       " {'label': 'Common Assault', 'value': 'COMMON ASSAULT'},\n",
       " {'label': 'Robbery - Street', 'value': 'ROBBERY - STREET'},\n",
       " {'label': 'Larceny', 'value': 'LARCENY'},\n",
       " {'label': 'Shooting', 'value': 'SHOOTING'},\n",
       " {'label': 'Robbery - Residence', 'value': 'ROBBERY - RESIDENCE'},\n",
       " {'label': 'Robbery - Commercial', 'value': 'ROBBERY - COMMERCIAL'},\n",
       " {'label': 'Arson', 'value': 'ARSON'},\n",
       " {'label': 'Auto Theft', 'value': 'AUTO THEFT'},\n",
       " {'label': 'Rape', 'value': 'RAPE'},\n",
       " {'label': 'Homicide', 'value': 'HOMICIDE'},\n",
       " {'label': 'Robbery - Carjacking', 'value': 'ROBBERY - CARJACKING'}]"
      ]
     },
     "execution_count": 15,
     "metadata": {},
     "output_type": "execute_result"
    }
   ],
   "source": [
    "[{'label':i.title(),'value':i}for i in df.Description.unique()]"
   ]
  },
  {
   "cell_type": "code",
   "execution_count": null,
   "metadata": {},
   "outputs": [],
   "source": []
  },
  {
   "cell_type": "code",
   "execution_count": 16,
   "metadata": {},
   "outputs": [],
   "source": [
    "def intro_tabtwo():\n",
    "    return html.Div(\n",
    "        id=\"control-card\",\n",
    "        children=[\n",
    "\n",
    "            html.Div(children=[\n",
    "\n",
    "                html.Div(className='columns', children=[html.Strong(\"Select Granularity of Spatial Attributes\"),\n",
    "                                                              dcc.Checklist(\n",
    "                    id='space_grand',\n",
    "                    options=[\n",
    "                        {'label': 'District', 'value': 'New_District'},\n",
    "                        {'label': 'Neighborhood', 'value': 'Neighborhood_New'},\n",
    "                        {'label': 'Street', 'value': 'Location'}\n",
    "                    ],\n",
    "                    value=['Neighborhood_New']\n",
    "                ),\n",
    "                    html.Br(),\n",
    "                    html.Strong(\"Select Granularity of Temporal Attributes\"),\n",
    "                    dcc.Dropdown(\n",
    "                    id='time_grand',\n",
    "                    options=[\n",
    "                        {'label': 'Month', 'value': 'month'},\n",
    "                        {'label': 'Day', 'value': 'day'},\n",
    "                        {'label': 'Day of Week', 'value': 'dayofweek'},\n",
    "                        {'label': 'Weekday or Weekend',\n",
    "                         'value': 'weekday'},\n",
    "                        {'label': 'Hour', 'value': 'hour'},\n",
    "                        {'label': 'Minute', 'value': 'minute'},\n",
    "                        {'label': 'Time of Day', 'value': 'period'},\n",
    "                        {'label':'Quarter','value':'quarter'}\n",
    "\n",
    "                    ],\n",
    "                    value=['month', 'dayofweek', 'period'],\n",
    "                    multi=True\n",
    "                ),\n",
    "                    html.Br(),\n",
    "                    html.Strong(\"Select the Type of Crime(S)\"),\n",
    "                    dcc.Dropdown(\n",
    "                    id='crime_type',\n",
    "                    options=[{'label':i.title(),'value':i}for i in df.Description.unique()],\n",
    "                    value=['SHOOTING'],\n",
    "                    multi=True\n",
    "                )])\n",
    "\n",
    "\n",
    "            ])\n",
    "\n",
    "        ]\n",
    "    )"
   ]
  },
  {
   "cell_type": "code",
   "execution_count": 17,
   "metadata": {},
   "outputs": [],
   "source": [
    "def year_slider():\n",
    "    return html.Div(children=[\n",
    "                html.Strong(\"Select the Time Range for Analysis\"),\n",
    "                html.Div(style={\"width\": \"100%\", \"height\": \"100%\",\n",
    "                         \"display\": \"inline-block\", \"position\": \"relative\"},\n",
    "        className='columns', children=[dcc.RangeSlider(\n",
    "                    id='year_slider',\n",
    "                    updatemode='mouseup',  # don't let it update till mouse released\n",
    "                    min=1963,\n",
    "                    max=2020,\n",
    "                    step=None,\n",
    "                    marks={2016: {'label':'2016',\"style\": {\"transform\": \"rotate(45deg)\"}},\n",
    "                           2018:  {'label':'2018',\"style\": {\"transform\": \"rotate(45deg)\"}},\n",
    "                           2020:  {'label':'2020',\"style\": {\"transform\": \"rotate(45deg)\"}},\n",
    "                           2015:  {'label':'2015',\"style\": {\"transform\": \"rotate(45deg)\"}},\n",
    "                           2017:  {'label':'2017',\"style\": {\"transform\": \"rotate(45deg)\"}},\n",
    "                           2019:  {'label':'2019',\"style\": {\"transform\": \"rotate(45deg)\"}},\n",
    "                           2014:  {'label':'2014',\"style\": {\"transform\": \"rotate(45deg)\"}},\n",
    "                           2011:  {'label':'2011',\"style\": {\"transform\": \"rotate(45deg)\"}},\n",
    "                           2009:  {'label':'2009',\"style\": {\"transform\": \"rotate(45deg)\"}},\n",
    "                           1975:  {'label':'1975',\"style\": {\"transform\": \"rotate(45deg)\"}},\n",
    "                           2012:  {'label':'2012',\"style\": {\"transform\": \"rotate(45deg)\"}},\n",
    "                           2013:  {'label':'2013',\"style\": {\"transform\": \"rotate(45deg)\"}},\n",
    "                           1980:  {'label':'1980',\"style\": {\"transform\": \"rotate(45deg)\"}},\n",
    "                           1973:  {'label':'1973',\"style\": {\"transform\": \"rotate(45deg)\"}},\n",
    "                           2008:  {'label':'2008',\"style\": {\"transform\": \"rotate(45deg)\"}},\n",
    "                           1978:  {'label':'1978',\"style\": {\"transform\": \"rotate(45deg)\"}},\n",
    "                           1988:  {'label':'1988',\"style\": {\"transform\": \"rotate(45deg)\"}},\n",
    "                           1977:  {'label':'1977',\"style\": {\"transform\": \"rotate(45deg)\"}},\n",
    "                           1995:  {'label':'1995',\"style\": {\"transform\": \"rotate(45deg)\"}},\n",
    "                           2001:  {'label':'2001',\"style\": {\"transform\": \"rotate(45deg)\"}},\n",
    "                           2000:  {'label':'2000',\"style\": {\"transform\": \"rotate(45deg)\"}},\n",
    "                           2007:  {'label':'2007',\"style\": {\"transform\": \"rotate(45deg)\"}},\n",
    "                           1969:  {'label':'1969',\"style\": {\"transform\": \"rotate(45deg)\"}},\n",
    "                           1982:  {'label':'1982',\"style\": {\"transform\": \"rotate(45deg)\"}},\n",
    "                           1963:  {'label':'1963',\"style\": {\"transform\": \"rotate(45deg)\"}},\n",
    "                           1981: {'label': '1981',\"style\": {\"transform\": \"rotate(45deg)\"}},\n",
    "                           1999: {'label': '1999',\"style\": {\"transform\": \"rotate(45deg)\"}},\n",
    "                           2003:  {'label':'2003',\"style\": {\"transform\": \"rotate(45deg)\"}},\n",
    "                           2010:  {'label':'2010',\"style\": {\"transform\": \"rotate(45deg)\"}},\n",
    "                           2004:  {'label':'2004',\"style\": {\"transform\": \"rotate(45deg)\"}},\n",
    "                           1998:  {'label':'1998',\"style\": {\"transform\": \"rotate(45deg)\"}},\n",
    "                           1993:  {'label':'1993',\"style\": {\"transform\": \"rotate(45deg)\"}},\n",
    "                           1985: {'label': '1985',\"style\": {\"transform\": \"rotate(45deg)\"}},\n",
    "                           2006:  {'label':'2006',\"style\": {\"transform\": \"rotate(45deg)\"}}},\n",
    "                    value=[2014, 2020],\n",
    "#                     vertical=True,\n",
    "#                     verticalHeight=600\n",
    "                )])])"
   ]
  },
  {
   "cell_type": "code",
   "execution_count": 18,
   "metadata": {},
   "outputs": [],
   "source": [
    "slider_map={'{\"index\":1,\"type\":\"slider\"}':'Month',\n",
    "'{\"index\":2,\"type\":\"slider\"}':'Day',\n",
    "'{\"index\":3,\"type\":\"slider\"}':'DayofWeek',\n",
    "'{\"index\":4,\"type\":\"slider\"}':'WeekDay',\n",
    "'{\"index\":5,\"type\":\"slider\"}':'Quarter',\n",
    "'{\"index\":6,\"type\":\"slider\"}':'Hour',\n",
    "'{\"index\":7,\"type\":\"slider\"}':'Period'}\n",
    "\n",
    "# {\"index\":1,\"type\":\"slider\"}"
   ]
  },
  {
   "cell_type": "code",
   "execution_count": 19,
   "metadata": {},
   "outputs": [],
   "source": [
    "def make_sliders(time):\n",
    "    sliders = []\n",
    "    for t in time:\n",
    "        if t == 'month':\n",
    "            sliders.append(dcc.Slider(\n",
    "                id={'type':'slider','index':1},\n",
    "                updatemode='mouseup',  # don't let it update till mouse released\n",
    "                min=1,\n",
    "                max=12,\n",
    "                marks={1: 'Jan', 2: 'Feb', 3: 'Mar', 4: 'Apr', 5: 'May', 6: 'Jun',\n",
    "                       7: 'Jul', 8: 'Aug', 9: 'Sep', 10: 'Oct', 11: 'Nov', 12: 'Dec'},\n",
    "                step=1,\n",
    "                value=1\n",
    "            ))\n",
    "        elif t == 'day':\n",
    "            sliders.append(dcc.Slider(\n",
    "                id={'type':'slider','index':2},\n",
    "                updatemode='mouseup',  # don't let it update till mouse released\n",
    "                min=1,\n",
    "                max=31,\n",
    "                marks={i: str(i) for i in range(1, 32)},\n",
    "                step=1,\n",
    "                value=1\n",
    "            ))\n",
    "        elif t == 'dayofweek':\n",
    "            sliders.append(dcc.Slider(\n",
    "                id={'type':'slider','index':3},\n",
    "                updatemode='mouseup',  # don't let it update till mouse released\n",
    "                min=0,\n",
    "                max=6,\n",
    "                marks={0: \"Monday\", 1: 'Tue', 2: 'Wed',\n",
    "                       3: 'Thur', 4: 'Fri', 5: 'Sat', 6: 'Sun'},\n",
    "                step=1,\n",
    "                value=0\n",
    "            ))\n",
    "        elif t == 'weekday':\n",
    "            sliders.append(dcc.Slider(\n",
    "                id={'type':'slider','index':4},\n",
    "                updatemode='mouseup',  # don't let it update till mouse released\n",
    "                min=1,\n",
    "                max=2,\n",
    "                marks={1: 'Weekdays', 2: 'Weekends'},\n",
    "                step=1,\n",
    "                value=1\n",
    "            ))\n",
    "        elif t == 'quarter':\n",
    "            sliders.append(dcc.Slider(\n",
    "                id={'type':'slider','index':5},\n",
    "                updatemode='mouseup',  # don't let it update till mouse released\n",
    "                min=1,\n",
    "                max=4,\n",
    "                marks={1: 'Q1', 2: 'Q2', 3: 'Q3', 4: 'Q4'},\n",
    "                step=1,\n",
    "                value=1\n",
    "            ))\n",
    "        elif t == 'hour':\n",
    "            sliders.append(dcc.Slider(\n",
    "                id={'type':'slider','index':6},\n",
    "                updatemode='mouseup',  # don't let it update till mouse released\n",
    "                min=0,\n",
    "                max=23,\n",
    "                marks={0: '12 AM', 1: '1 AM', 2: '2 AM', 3: '3 AM', 4: '4 AM', 5: '5 AM', 6: '6 AM', 7: '7 AM',\n",
    "                       8: '8 AM', 9: '9 AM', 10: '10 AM', 11: '11 AM', 12: '12 PM', 13: '1 PM', 14: '2 PM', 15: '3 PM',\n",
    "                       16: '4 PM', 17: '5 PM', 18: '6 PM', 19: '7 PM', 20: '8 PM', 21: '9 PM', 22: '10 PM', 23: '11 PM'},\n",
    "                step=1,\n",
    "                value=1\n",
    "            ))\n",
    "        elif t == 'period':\n",
    "            sliders.append(dcc.Slider(\n",
    "                id={'type':'slider','index':7},\n",
    "                updatemode='mouseup',  # don't let it update till mouse released\n",
    "                min=1,\n",
    "                max=6,\n",
    "                marks={1: 'Late Night',\n",
    "                       2: 'Early Morning',\n",
    "                       3: 'Morning',\n",
    "                       4: 'Noon',\n",
    "                       5: 'Evening',\n",
    "                       6: 'Night'},\n",
    "                step=1,\n",
    "                value=1\n",
    "            ))\n",
    "    return sliders"
   ]
  },
  {
   "cell_type": "code",
   "execution_count": 20,
   "metadata": {},
   "outputs": [],
   "source": [
    "def para_html():\n",
    "    return html.Div(id='para', className=\"columns pretty_container\", children=[\n",
    "        html.Div(style={\"display\": \"inline-flex\"}, children=[html.H5('Parallel Coordinates of the Flow of Rej. Emails.'),\n",
    "#                                                              html.Div(children=[\n",
    "#                                                                  html.I(\n",
    "#                                                                      className=\"fas fa-question-circle fa-lg\", id=\"target\"),\n",
    "#                                                                  dbc.Tooltip(\"How do we read this? Bascially, each ploly line represents a combination of day/time patterns, and the color indicates the frequency of this pattern.\\\n",
    "#                                 Each variable in the data set is represented by a column of rectangles, \\\n",
    "#                                 where each rectangle corresponds to a discrete value taken on by that variable.\\\n",
    "#                                      The relative heights of the rectangles reflect the relative\\\n",
    "#                                           frequency of occurrence of the corresponding value. \", target=\"target\",\n",
    "#                                                                              style={\"max-width\": \"400px\", \"padding\": \".25rem .5rem\", \"color\": \"#fff\", \"text-align\": \"center\", \"background-color\": \"#000\", \"border-radius\": \".25rem\"}),\n",
    "#                                                              ],\n",
    "#                     className=\"p-5 text-muted\"\n",
    "#                     )\n",
    "                                                            ]),\n",
    "\n",
    "        html.Div(\"Let's highlight the most prominent streamline of the email flow. \\\n",
    "                        It could come in handy when we observed some trends in the data. \\\n",
    "                This plot will update automatically with the Date/Day/Hour you selected in the Control widgets. ☝️\",\n",
    "                 style={'margin': \"10px\"}),\n",
    "        html.Div(dcc.Input(\n",
    "            id=\"dtrue\", type=\"number\",\n",
    "            debounce=True, placeholder=\"Debounce True\",value=98\n",
    "        )),\n",
    "        html.Div(id='quant', children=[]),\n",
    "        dcc.Loading(dcc.Graph(id='paco'))])"
   ]
  },
  {
   "cell_type": "code",
   "execution_count": 21,
   "metadata": {},
   "outputs": [
    {
     "data": {
      "text/plain": [
       "{'Late Night': 1,\n",
       " 'Early Morning': 2,\n",
       " 'Morning': 3,\n",
       " 'Noon': 4,\n",
       " 'Evening': 5,\n",
       " 'Night': 6}"
      ]
     },
     "execution_count": 21,
     "metadata": {},
     "output_type": "execute_result"
    }
   ],
   "source": [
    "{'Late Night':1,\n",
    "                       'Early Morning':2,\n",
    "                       'Morning':3,\n",
    "                       'Noon':4,\n",
    "                       'Evening':5,\n",
    "                        'Night':6}"
   ]
  },
  {
   "cell_type": "code",
   "execution_count": 22,
   "metadata": {},
   "outputs": [],
   "source": [
    "def subset_df(crime, space, year, time):\n",
    "    \n",
    "    #filter crime\n",
    "    new_df=df[df.Description.isin(crime)]\n",
    "    \n",
    "    #filter year\n",
    "    new_df=new_df[(new_df.Year>=year[0])&(new_df.Year<=year[-1])]\n",
    "    \n",
    "    grouping_attr=space+list(time.keys())\n",
    "    \n",
    "    grouping_attr.extend(['Description','Total Incidents'])  \n",
    "    \n",
    "    print(grouping_attr)\n",
    "    subdf=new_df.loc[:,grouping_attr]\n",
    "    \n",
    "    return subdf\n",
    "\n",
    "\n",
    "def make_paco(df, quant):\n",
    "    col=list(df.columns)\n",
    "    col.remove('Total Incidents')\n",
    "    col_group=col\n",
    "    \n",
    "    newdf=df.groupby(col_group).count().reset_index().sort_values('Total Incidents')\n",
    "    \n",
    "    num=newdf['Total Incidents'].quantile(quant)\n",
    "    \n",
    "    newdf=newdf[newdf['Total Incidents']>num]\n",
    "    \n",
    "    fig=px.parallel_categories(newdf, dimensions=col, color='Total Incidents')\n",
    "    \n",
    "    return fig, fig.data[0]['dimensions']\n",
    "    \n",
    "    \n",
    "    "
   ]
  },
  {
   "cell_type": "code",
   "execution_count": 23,
   "metadata": {},
   "outputs": [],
   "source": [
    "def pattern_html():\n",
    "    return html.Div(id='temperal pro', className='columns pretty_container', children=[\n",
    "        html.Div(style={\"display\": \"inline-flex\"}, children=[\n",
    "            html.H5(\"Maximal Frequent Pattern Mining\",\n",
    "                    style={'margin-left': '10px'}),\n",
    "            html.Div(children=[\n",
    "                html.I(\n",
    "                    className=\"fas fa-question-circle fa-lg\", id=\"target2\"),\n",
    "#                 dbc.Tooltip(\"How can we interact with this? 1) Changing the kernel of the model to see the other kind of results; \\n 2)\\\n",
    "#                                 Selecting how many days you want to use to predict future email events;\\n 3)\\\n",
    "#                                     Showing the actual predicted result by hover on the dots in the line chart.\", target=\"target2\",\n",
    "#                             style={\"max-width\": \"400px\", \"padding\": \".25rem .5rem\", \"color\": \"#fff\", \"text-align\": \"center\", \"background-color\": \"#000\", \"border-radius\": \".25rem\"}),\n",
    "            ],\n",
    "                className=\"p-5 text-muted\"\n",
    "            )]),\n",
    "\n",
    "        html.P(\n",
    "            children=\"A Temporal Process is a kind of random process whose realization consists of discrete events \\\n",
    "                    localized in time. Compared with \\\n",
    "                    traditional Time-Seris, each data entry was allocated in different time interval. The scattering nature of receiving\\\n",
    "                    an email fits better with a Temporal Process Analysis. \\n \\\n",
    "                    A very popular kind of termporal process is the Hawkes process, which could be consider\\\n",
    "                    as an 'auto-regression' type of process. Here I used the Hawkes Process to simulate the events.\\\n",
    "                    You can select the Kernal and the days to forecast below.👇\",\n",
    "            style={'margin': '10px'}\n",
    "        ),\n",
    "        html.Div(\n",
    "            id=\"select model\",\n",
    "            style={\"text-align\": \"center\"},\n",
    "            className=\"six columns\", children=[html.Strong('Filter the Patterns'),\n",
    "                                               dcc.Checklist(\n",
    "                id='len_picker',\n",
    "                options=[\n",
    "                    {'label': 'Two',\n",
    "                     'value': 2},\n",
    "                    {'label': 'Three',\n",
    "                     'value': 3},\n",
    "                    {'label': 'Four',\n",
    "                     'value': 4},\n",
    "                    {'label': 'Five',\n",
    "                     'value': 5},\n",
    "                    {'label': 'Six',\n",
    "                     'value': 6},\n",
    "                ],\n",
    "                value=[2,3,4,5,6],\n",
    "                labelStyle={'display': 'inline-block'}\n",
    "            )\n",
    "\n",
    "            ]),\n",
    "        html.Div(\n",
    "            id=\"select_bum\",\n",
    "            style={\"text-align\": \"center\"},\n",
    "            className=\"six columns\", children=[html.Strong('Select Number of Patterns to Show'),\n",
    "                                               dcc.Slider(\n",
    "                id='numslider',\n",
    "                min=1,\n",
    "                max=100,\n",
    "                step=1,\n",
    "                value=15,\n",
    "                updatemode='drag'\n",
    "            )\n",
    "            ]),\n",
    "        html.Br(),\n",
    "        html.Br(),\n",
    "        html.Div(className='columns', children=dcc.Loading(\n",
    "            dcc.Graph(id='pattern_bar'))\n",
    "        )\n",
    "\n",
    "\n",
    "    ]\n",
    "    )"
   ]
  },
  {
   "cell_type": "code",
   "execution_count": 24,
   "metadata": {},
   "outputs": [],
   "source": [
    "from mlxtend.preprocessing import TransactionEncoder\n",
    "from mlxtend.frequent_patterns import apriori, fpmax, fpgrowth, association_rules\n",
    "\n",
    "def pattern(df, crime):\n",
    "    \n",
    "    if len(crime)==1:\n",
    "        df=df.drop(columns=['Total Incidents','Description'])\n",
    "        rules=fpmax(pd.get_dummies(df.astype('category')), min_support=0.001, max_len=6,use_colnames=True)\n",
    "    else:\n",
    "        df=df.drop(columns=['Total Incidents'])\n",
    "        rules=fpmax(pd.get_dummies(df.astype('category')), min_support=0.001, max_len=6,use_colnames=True)\n",
    "    \n",
    "    rules['len']=rules.itemsets.apply(len)\n",
    "    rules['itemsets']=rules.itemsets.apply(list)\n",
    "    rules.sort_values('support', ascending=False)\n",
    "    rules=rules.sort_values('support', ascending=False).reset_index()\n",
    "    \n",
    "    return rules"
   ]
  },
  {
   "cell_type": "code",
   "execution_count": 26,
   "metadata": {},
   "outputs": [],
   "source": [
    "def filter_df(newdf,times):\n",
    "    print(times)\n",
    "    print(newdf)\n",
    "    for t in times.items():\n",
    "        if t[0]=='Weekday':\n",
    "            real_val={1:'Weekday',2:'Weekend'}[t[1]]\n",
    "            newdf=newdf[newdf[t[0]]==real_val]\n",
    "        elif t[0]=='Period':\n",
    "            real_val={1: 'Late Night',\n",
    "                       2: 'Early Morning',\n",
    "                       3: 'Morning',\n",
    "                       4: 'Noon',\n",
    "                       5: 'Evening',\n",
    "                       6: 'Night'}[t[1]]\n",
    "            newdf=newdf[newdf[t[0]]==real_val]\n",
    "            \n",
    "        else:\n",
    "            newdf=newdf[newdf[t[0]]==t[1]]\n",
    "            print(newdf)\n",
    "    return newdf\n",
    "    "
   ]
  },
  {
   "cell_type": "code",
   "execution_count": 219,
   "metadata": {},
   "outputs": [],
   "source": [
    "def season_html():\n",
    "    return html.Div(id='season', className='columns pretty_container', children=[\n",
    "        html.Div(style={\"display\": \"inline-flex\"}, children=[\n",
    "            html.H5(\"Seasonality Mining\",\n",
    "                    style={'margin-left': '10px'}),\n",
    "            html.Div(children=[\n",
    "                html.I(\n",
    "                    className=\"fas fa-question-circle fa-lg\"),\n",
    "#                 dbc.Tooltip(\"How can we interact with this? 1) Changing the kernel of the model to see the other kind of results; \\n 2)\\\n",
    "#                                 Selecting how many days you want to use to predict future email events;\\n 3)\\\n",
    "#                                     Showing the actual predicted result by hover on the dots in the line chart.\", target=\"target2\",\n",
    "#                             style={\"max-width\": \"400px\", \"padding\": \".25rem .5rem\", \"color\": \"#fff\", \"text-align\": \"center\", \"background-color\": \"#000\", \"border-radius\": \".25rem\"}),\n",
    "            ],\n",
    "                className=\"p-5 text-muted\"\n",
    "            )]),\n",
    "\n",
    "        html.P(\n",
    "            children=\"A Temporal Process is a kind of random process whose realization consists of discrete events \\\n",
    "                    localized in time. Compared with \\\n",
    "                    traditional Time-Seris, each data entry was allocated in different time interval. The scattering nature of receiving\\\n",
    "                    an email fits better with a Temporal Process Analysis. \\n \\\n",
    "                    A very popular kind of termporal process is the Hawkes process, which could be consider\\\n",
    "                    as an 'auto-regression' type of process. Here I used the Hawkes Process to simulate the events.\\\n",
    "                    You can select the Kernal and the days to forecast below.👇\",\n",
    "            style={'margin': '10px'}\n",
    "        ),\n",
    "        html.Div(children=[ \n",
    "            dcc.Tabs(id='stabsexample', value='stab1', children=[\n",
    "                dcc.Tab(label='Fourier', value='stab1'),\n",
    "                dcc.Tab(label='SARIMA', value='stab2'),\n",
    "                 dcc.Tab(label='TABTS', value='stab3')]),\n",
    "        html.Div(id='stabcontent')])\n",
    "\n",
    "        \n",
    "    ]\n",
    "    ) "
   ]
  },
  {
   "cell_type": "code",
   "execution_count": 416,
   "metadata": {},
   "outputs": [
    {
     "name": "stdout",
     "output_type": "stream",
     "text": [
      "Dash app running on http://127.0.0.1:8100/\n"
     ]
    }
   ],
   "source": [
    "# %tb\n",
    "# app = dash.Dash(__name__, external_stylesheets=[\"https://codepen.io/chriddyp/pen/bWLwgP.css\",\n",
    "#                                                     \"https://dash-gallery.plotly.host/dash-oil-and-gas/assets/styles.css?m=1590087908.0\"])\n",
    "app = JupyterDash(__name__, external_stylesheets=[\"https://codepen.io/chriddyp/pen/bWLwgP.css\",\n",
    "                                                \"https://dash-gallery.plotly.host/dash-oil-and-gas/assets/styles.css?m=1590087908.0\",\n",
    "                                                \"https://use.fontawesome.com/releases/v5.10.2/css/all.css\"])\n",
    "# server = app.server\n",
    "# app.config.suppress_callback_exceptions = True\n",
    "\n",
    "app.layout = html.Div(\n",
    "    id=\"app-container\",\n",
    "    children=[html.Div(id=\"left-column \",\n",
    "                       style={},\n",
    "                       className=\"four columns pretty_container\",\n",
    "                       children=intro()\n",
    "                       ),\n",
    "              html.Div(\n",
    "        id=\"right-column\",\n",
    "        className=\"eight columns\",\n",
    "        style={},\n",
    "        children=[html.Div(\n",
    "            [\n",
    "                html.Div(\n",
    "                    [html.H6(),\n",
    "                     html.P(\"No. of Days Selected\"),\n",
    "                     html.Strong(id=\"days_selected\")],\n",
    "                    id=\"days\",\n",
    "                    className=\"mini_container\",\n",
    "                ),\n",
    "                html.Div(\n",
    "                    [html.H6(), html.P(\n",
    "                        \"No. of Letters Received in the Period\"),\n",
    "                     html.Strong(id=\"total\")],\n",
    "\n",
    "                    className=\"mini_container\",\n",
    "                ),\n",
    "                html.Div(\n",
    "                    [html.H6(), html.P(\n",
    "                        \"Peak Day and Hour\"),\n",
    "                     html.Strong(id=\"peak_date\")],\n",
    "\n",
    "                    className=\"mini_container\",\n",
    "                ),\n",
    "                html.Div(\n",
    "                    [html.H6(id=\"pn\"), html.P(\n",
    "                        \"Rej Letters Peak Volume\"),\n",
    "                     html.Strong(id=\"peak_num\")],\n",
    "\n",
    "                    className=\"mini_container\",\n",
    "                ),\n",
    "            ],\n",
    "            id=\"info-container\",\n",
    "            className=\"row container-display\",\n",
    "        ),\n",
    "            year_slider(),\n",
    "            html.Div(\n",
    "            className='mini_container',\n",
    "            children=[\n",
    "                dcc.Loading(dcc.Graph(id='map'))]),\n",
    "            html.Div(id='sliders'),\n",
    "            html.Div(id='test')\n",
    "\n",
    "\n",
    "\n",
    "\n",
    "\n",
    "        ]),\n",
    "\n",
    "        para_html(),\n",
    "        dcc.Store(id='pacodata'),\n",
    "        dcc.Store(id='clickpaco'),\n",
    "        html.Div(id='test_click'),\n",
    "              \n",
    "        pattern_html(),\n",
    "        season_html()\n",
    "\n",
    "\n",
    "    ])\n",
    "@app.callback(Output('stabcontent', 'children'),\n",
    "              [Input('stabsexample', 'value')])\n",
    "def render_content(tab):\n",
    "#     return tab\n",
    "    if tab == 'stab1':\n",
    "        return stab1()\n",
    "    elif tab=='stab2': \n",
    "        return sarima_html()\n",
    "    else:\n",
    "        return pro_html()\n",
    "\n",
    "@app.callback([\n",
    "    Output('pro', 'figure')\n",
    "],\n",
    "              [Input('pcrime', 'value'),\n",
    "              Input('pperiod', 'value')])\n",
    "\n",
    "def render_pro(crime, period):\n",
    "    \n",
    "\n",
    "    return pro(crime,period)\n",
    "    \n",
    "    \n",
    "    \n",
    "    \n",
    "@app.callback([\n",
    "    Output('stab1_line', 'figure'),\n",
    "              Output('stab1_table', 'data'),\n",
    "Output('stab1_table', 'columns')\n",
    "],\n",
    "              [Input('scrime', 'value'),\n",
    "              Input('speriod', 'value')])\n",
    "\n",
    "def render_ftt(crime, period):\n",
    "    \n",
    "    f,t=ftt_result(crime, period)\n",
    "    \n",
    "    colums=[{\"name\": i, \"id\": i} for i in t.columns]\n",
    "    data=t.to_dict('records')\n",
    "    return f,data,colums\n",
    "\n",
    "\n",
    "@app.callback([\n",
    "    Output('stab2_decom', 'figure'),\n",
    "              Output('stab2_par', 'data'),\n",
    "                Output('stab2_par', 'columns'),\n",
    "    Output('pred', 'figure'),\n",
    "                  Output('seco', 'data'),\n",
    "                Output('seco', 'columns'),\n",
    "    \n",
    "                  Output('noseco', 'data'),\n",
    "                Output('noseco', 'columns'),\n",
    "],\n",
    "              [Input('sacrime', 'value'),\n",
    "              Input('saperiod', 'value')])\n",
    "\n",
    "def render_sari(crime, period):\n",
    "    \n",
    "    decom_fig, pra_df, se_co, nose_co, result_df=sarima_result(crime,period)\n",
    "    pra_df=pra_df.astype('str')[['order','seasonal_order','aic']]\n",
    "    pra_dfcolums=[{\"name\": i, \"id\": i} for i in pra_df.columns]\n",
    "    pra_dfdata=pra_df.to_dict('records')\n",
    "    \n",
    "    se_cocolums=[{\"name\": i, \"id\": i} for i in se_co.columns]\n",
    "    se_codata=se_co.astype('str').to_dict('records')\n",
    "    \n",
    "    nose_cocolums=[{\"name\": i, \"id\": i} for i in nose_co.columns]\n",
    "    nose_codata=nose_co.astype('str').to_dict('records')\n",
    "    \n",
    "    fig=px.line(result_df.astype('float'), template='seaborn')\n",
    "    \n",
    "#     return decom_fig,pra_dfdata,pra_dfcolums,fig,se_codata,se_cocolums,nose_codata,nose_cocolums\n",
    "    return decom_fig, pra_dfdata,pra_dfcolums, fig,se_codata,se_cocolums,nose_codata,nose_cocolums\n",
    "\n",
    "\n",
    "\n",
    "\n",
    "\n",
    "@app.callback(Output({\"index\": 7, \"type\": \"slider\"}, 'value'),\n",
    "              [Input('clickpaco', 'data')])\n",
    "def change_silder(clickpaco):\n",
    "    found = False\n",
    "    if clickpaco == None:\n",
    "        return no_update\n",
    "    for k, v in clickpaco.items():\n",
    "        if k == 'Period':\n",
    "            return {'Late Night': 1,\n",
    "                    'Early Morning': 2,\n",
    "                    'Morning': 3,\n",
    "                    'Noon': 4,\n",
    "                    'Evening': 5,\n",
    "                    'Night': 6}[v]\n",
    "    if found == False:\n",
    "        return no_update\n",
    "\n",
    "@app.callback(Output({\"index\": 6, \"type\": \"slider\"}, 'value'),\n",
    "              [Input('clickpaco', 'data')])\n",
    "def change_silder(clickpaco):\n",
    "    found = False\n",
    "    if clickpaco == None:\n",
    "        return no_update\n",
    "    for k, v in clickpaco.items():\n",
    "        if k == 'Hour':\n",
    "            return v\n",
    "    if found == False:\n",
    "        return no_update\n",
    "\n",
    "@app.callback(Output({\"index\": 5, \"type\": \"slider\"}, 'value'),\n",
    "              [Input('clickpaco', 'data')])\n",
    "def change_silder(clickpaco):\n",
    "    found = False\n",
    "    if clickpaco == None:\n",
    "        return no_update\n",
    "    for k, v in clickpaco.items():\n",
    "        if k == 'Quarter':\n",
    "            return v\n",
    "    if found == False:\n",
    "        return no_update\n",
    "\n",
    "@app.callback(Output({\"index\": 3, \"type\": \"slider\"}, 'value'),\n",
    "              [Input('clickpaco', 'data')])\n",
    "def change_silder(clickpaco):\n",
    "    found = False\n",
    "    if clickpaco == None:\n",
    "        return no_update\n",
    "    for k, v in clickpaco.items():\n",
    "        if k == 'DayofWeek':\n",
    "            return v\n",
    "    if found == False:\n",
    "        return no_update\n",
    "\n",
    "\n",
    "@app.callback(Output({\"index\": 4, \"type\": \"slider\"}, 'value'),\n",
    "              [Input('clickpaco', 'data')])\n",
    "def change_dow(clickpaco):\n",
    "    found = False\n",
    "    if clickpaco == None:\n",
    "        return no_update\n",
    "    for k, v in clickpaco.items():\n",
    "        if k == 'WeekDay':\n",
    "            #             print('found weekday')\n",
    "            if v == 'Weekday':\n",
    "                return 1\n",
    "            else:\n",
    "                return 2\n",
    "#             return v.map({'Weekday':0,'Weekend':1})\n",
    "    if found == False:\n",
    "        return no_update\n",
    "\n",
    "\n",
    "@app.callback(Output({\"index\": 2, \"type\": \"slider\"}, 'value'),\n",
    "              [Input('clickpaco', 'data')])\n",
    "def change_day(clickpaco):\n",
    "    found = False\n",
    "    if clickpaco == None:\n",
    "        return no_update\n",
    "    for k, v in clickpaco.items():\n",
    "        if k == 'Day':\n",
    "            return v\n",
    "    if found == False:\n",
    "        return no_update\n",
    "\n",
    "@app.callback(Output({\"index\": 1, \"type\": \"slider\"}, 'value'),\n",
    "              [Input('clickpaco', 'data')])\n",
    "def change_month(clickpaco):\n",
    "    found = False\n",
    "    if clickpaco == None:\n",
    "        return no_update\n",
    "    for k, v in clickpaco.items():\n",
    "        if k == 'Month':\n",
    "            return v\n",
    "    if found == False:\n",
    "        return no_update\n",
    "\n",
    "\n",
    "@app.callback(Output('clickpaco', 'data'),\n",
    "              [Input('paco', 'clickData')],\n",
    "              [State('pacodata', 'data')])\n",
    "def save_click_data(clickData, pacodata):\n",
    "    if clickData == None:\n",
    "        return no_update\n",
    "    else:\n",
    "        df_id = clickData['points'][0]['pointNumber']\n",
    "\n",
    "        rule = {}\n",
    "\n",
    "        for i in pacodata:\n",
    "            rule[i['label']] = i['values'][df_id]\n",
    "\n",
    "        return rule\n",
    "\n",
    "\n",
    "@app.callback(Output('quant', 'children'),\n",
    "              [Input('dtrue', 'value')\n",
    "               ])\n",
    "def render_perc(tval):\n",
    "    percent = float(tval)/100.0\n",
    "\n",
    "    return percent\n",
    "\n",
    "\n",
    "@app.callback(Output('sliders', 'children'),\n",
    "              [Input('time_grand', 'value')\n",
    "               ])\n",
    "def render_sliders(time):\n",
    "\n",
    "    return html.Div(children=make_sliders(time))\n",
    "\n",
    "\n",
    "@app.callback([Output('pattern_bar', 'figure')],\n",
    "              [Input({'type': 'slider', 'index': ALL}, 'value'),\n",
    "               Input('year_slider', 'value'),\n",
    "               Input('crime_type', 'value'),\n",
    "               Input('space_grand', 'value'),\n",
    "              Input('numslider','value'),\n",
    "              Input('len_picker','value')])\n",
    "\n",
    "def update_bar(values, year, crime, space, numshow, lenpick):\n",
    "    time = {}\n",
    "    for key, value in dash.callback_context.inputs.items():\n",
    "        if 'index' in key:\n",
    "            time[slider_map[key.replace('.value', '')]] = value\n",
    "\n",
    "    subdf = subset_df(crime, space, year, time)\n",
    "    \n",
    "    rules=pattern(subdf, crime)\n",
    "    \n",
    "    \n",
    "    \n",
    "    rules=rules[rules['len'].isin(lenpick)]\n",
    "    \n",
    "    rules=rules.reset_index()\n",
    "    \n",
    "    rules=rules[:numshow]\n",
    "    bar=px.bar(rules, y='support',color='len', hover_data=['itemsets']).update_layout(xaxis={'categoryorder':'total ascending'})\n",
    "\n",
    "    \n",
    "    return [bar]\n",
    "    \n",
    "    \n",
    "\n",
    "\n",
    "@app.callback([Output('map', 'figure')],\n",
    "              [Input({'type': 'slider', 'index': ALL}, 'value'),\n",
    "               Input('year_slider', 'value'),\n",
    "               Input('crime_type', 'value'),\n",
    "               Input('space_grand', 'value')])\n",
    "def update_map(values, year, crime, space):\n",
    "    time = {}\n",
    "#     year=[]\n",
    "    for key, value in dash.callback_context.inputs.items():\n",
    "        if 'index' in key:\n",
    "            time[slider_map[key.replace('.value', '')]] = value\n",
    "\n",
    "    subdf = subset_df(crime, space, year, time)\n",
    "\n",
    "    col = list(subdf.columns)\n",
    "    col.remove('Total Incidents')\n",
    "    col_group = col\n",
    "\n",
    "    newdf=subdf.groupby(col_group).count().reset_index().sort_values('Total Incidents')\n",
    "\n",
    "#     for t in time.items():\n",
    "#             newdf=newdf[newdf[t[0]]==t[1]]\n",
    "    if 'Neighborhood_New' in space:\n",
    "        single_dimension=pd.merge(neig,filter_df(newdf, time), left_on='Neighborhood_New',right_on='Neighborhood_New', how='left').fillna(0)\n",
    "\n",
    "#         single_dimension=single_dimension[['Neighborhood_New','Total Incidents']]\n",
    "\n",
    "        mapf=px.choropleth_mapbox(data_frame=single_dimension,hover_data=single_dimension.columns, color='Total Incidents',locations='Neighborhood_New', geojson=neigh_geojson,featureidkey=\"properties.Name\",\n",
    "                               center={\"lat\": 39.30, \"lon\": -76.61},\n",
    "                               mapbox_style=\"carto-positron\", zoom=10)\n",
    "        mapf.update_layout(margin={\"r\":0,\"t\":0,\"l\":0,\"b\":0})\n",
    "        return [mapf]\n",
    "    else:\n",
    "        single_dimension=pd.merge(dist,filter_df(newdf, time), left_on='New_District',right_on='New_District', how='left').fillna(0)\n",
    "\n",
    "#         single_dimension=single_dimension[['New_District','Total Incidents']]\n",
    "\n",
    "        mapf=px.choropleth_mapbox(data_frame=single_dimension, hover_data=single_dimension.columns, color='Total Incidents',locations='New_District', geojson=dist_geojson,featureidkey=\"properties.dist_name\",\n",
    "                               center={\"lat\": 39.30, \"lon\": -76.61},\n",
    "                               mapbox_style=\"carto-positron\", zoom=10)\n",
    "        mapf.update_layout(margin={\"r\":0,\"t\":0,\"l\":0,\"b\":0})\n",
    "        return [mapf]\n",
    "\n",
    "@app.callback([Output('paco', 'figure'),\n",
    "               Output('pacodata', 'data')\n",
    "               ],\n",
    "              [Input({'type': 'slider', 'index': ALL}, 'value'),\n",
    "               Input('year_slider', 'value'),\n",
    "               Input('crime_type', 'value'),\n",
    "               Input('space_grand', 'value'),\n",
    "               Input('dtrue', 'value')])\n",
    "\n",
    "def changein_sliders(values, year, crime, space, quant):\n",
    "    time = {}\n",
    "#     year=[]\n",
    "    for key, value in dash.callback_context.inputs.items():\n",
    "        if 'index' in key:\n",
    "            time[slider_map[key.replace('.value', '')]] = value\n",
    "\n",
    "    subdf = subset_df(crime, space, year, time)\n",
    "\n",
    "    paco, pacodata = make_paco(subdf, quant/100.0)\n",
    "\n",
    "    return paco, pacodata\n",
    "\n",
    "\n",
    "# @app.callback([Output('test_click', 'children')],\n",
    "#                 [Input('pacodata', 'data')])\n",
    "\n",
    "# def see_click(click):\n",
    "#     return str(click)\n",
    "\n",
    "\n",
    "if __name__ == '__main__':\n",
    "\n",
    "    app.run_server(debug=True, port=8100)"
   ]
  },
  {
   "cell_type": "code",
   "execution_count": 257,
   "metadata": {},
   "outputs": [],
   "source": [
    "def stab1():\n",
    "    return html.Div(children=[\n",
    "        html.Div(children=[dcc.Dropdown(\n",
    "            id='scrime',\n",
    "            options=[{'label': i.title(), 'value': i}\n",
    "                     for i in df.Description.unique()],\n",
    "            value='SHOOTING'\n",
    "        ),\n",
    "            dcc.RadioItems(\n",
    "            options=[\n",
    "                {'label': 'Construct Hourly Time Series', 'value': 'hourly'},\n",
    "                {'label': 'Construct Daily Time Series', 'value': 'daily'},\n",
    "                {'label': 'Construct Monthly Time Series', 'value': 'monthly'}\n",
    "            ],\n",
    "            value='hourly',\n",
    "                id='speriod'\n",
    "        )]),\n",
    "        html.Div(className='six columns', children=[\n",
    "                 dcc.Graph(id='stab1_line')]),\n",
    "        html.Div(className='six columns',id='stab1_df', children=[\n",
    "        dash_table.DataTable(\n",
    "                id='stab1_table',page_size= 15)])\n",
    "\n",
    "\n",
    "\n",
    "    ])"
   ]
  },
  {
   "cell_type": "code",
   "execution_count": 255,
   "metadata": {},
   "outputs": [],
   "source": [
    "def ftt_result(crime, period):\n",
    "    \n",
    "    sdf=df[(df.Year>=2014)&(df.Year)<=2020]\n",
    "    \n",
    "    sdf=df[df.Description==crime]\n",
    "    \n",
    "    if period=='hourly':\n",
    "        \n",
    "        signal=sdf.resample('H', on='Datetime').sum()['Total Incidents']\n",
    "        fft_outputft, power, freq, peaks, peak_freq, peak_power= get_fftt(signal)\n",
    "        \n",
    "        output = pd.DataFrame()\n",
    "        output['index'] = peaks\n",
    "        output['freq (1/hour)'] = peak_freq\n",
    "        output['amplitude'] = peak_power\n",
    "        output['period (hour)'] = 1 / peak_freq\n",
    "#         output['fft'] = fft_output[peaks]\n",
    "        output['peak']='peak'\n",
    "        output = output.sort_values('amplitude', ascending=False)\n",
    "        \n",
    "        fft_df=pd.DataFrame()\n",
    "        fft_df['freq']=freq\n",
    "        fft_df['power']=power\n",
    "\n",
    "        f=px.line(fft_df, x='freq',y='power', title='All Frequencies and Their Amplitute')\n",
    "        f.add_trace(px.scatter(output, x='freq (1/hour)', y='amplitude', color='peak',template='ggplot2').data[0])\n",
    "        f.update_layout(margin={\"l\":0,\"b\":0},legend=dict(\n",
    "            orientation=\"h\"))\n",
    "\n",
    "        ftt_table=dash_table.DataTable(\n",
    "                id='stab1_table',\n",
    "                columns=[{\"name\": i, \"id\": i} for i in output.columns],\n",
    "                data=output.to_dict('records'))\n",
    "\n",
    "    elif period=='daily':\n",
    "        \n",
    "        signal=sdf.resample('D', on='Datetime').sum()['Total Incidents']\n",
    "        fft_outputft, power, freq, peaks, peak_freq, peak_power= get_fftt(signal)\n",
    "        \n",
    "        output = pd.DataFrame()\n",
    "        output['index'] = peaks\n",
    "        output['freq (1/day)'] = peak_freq\n",
    "        output['amplitude'] = peak_power\n",
    "        output['period (day)'] = 1 / peak_freq\n",
    "#         output['fft'] = fft_output[peaks]\n",
    "        output['peak']='peak'\n",
    "        output = output.sort_values('amplitude', ascending=False)\n",
    "                \n",
    "        fft_df=pd.DataFrame()\n",
    "        fft_df['freq']=freq\n",
    "        fft_df['power']=power\n",
    "\n",
    "        f=px.line(fft_df, x='freq',y='power', title='All Frequencies and Their Amplitute')\n",
    "        f.add_trace(px.scatter(output, x='freq (1/day)', y='amplitude', color='peak',template='ggplot2').data[0])\n",
    "        f.update_layout(margin={\"l\":0,\"b\":0},legend=dict(\n",
    "            orientation=\"h\"))\n",
    "\n",
    "        ftt_table=dash_table.DataTable(\n",
    "                id='stab1_table',\n",
    "                columns=[{\"name\": i, \"id\": i} for i in output.columns],\n",
    "                data=output.to_dict('records'))\n",
    "\n",
    "        \n",
    "    else:\n",
    "        signal=sdf.resample('M', on='Datetime').sum()['Total Incidents']\n",
    "        fft_outputft, power, freq, peaks, peak_freq, peak_power= get_fftt(signal)        \n",
    "        \n",
    "        output = pd.DataFrame()\n",
    "        output['index'] = peaks\n",
    "        output['freq (1/month)'] = peak_freq\n",
    "        output['amplitude'] = peak_power\n",
    "        output['period (month)'] = 1 / peak_freq\n",
    "#         output['fft'] = fft_output[peaks]\n",
    "        output['peak']='peak'\n",
    "        output = output.sort_values('amplitude', ascending=False)  \n",
    "        \n",
    "        fft_df=pd.DataFrame()\n",
    "        fft_df['freq']=freq\n",
    "        fft_df['power']=power\n",
    "\n",
    "        f=px.line(fft_df, x='freq',y='power', title='All Frequencies and Their Amplitute')\n",
    "        f.add_trace(px.scatter(output, x='freq (1/month)', y='amplitude', color='peak',template='ggplot2').data[0])\n",
    "        f.update_layout(margin={\"l\":0,\"b\":0},legend=dict(\n",
    "            orientation=\"h\"))\n",
    "\n",
    "\n",
    "    \n",
    "    return f, output"
   ]
  },
  {
   "cell_type": "code",
   "execution_count": 232,
   "metadata": {},
   "outputs": [],
   "source": [
    "from scipy import fft\n",
    "from scipy import signal as sig\n",
    "import matplotlib.pyplot as plt\n",
    "import numpy as np\n",
    "import pandas as pd\n",
    "import math\n",
    "\n",
    "def get_fftt(signal):\n",
    "    fft_output = fft.fft(signal)\n",
    "    power = np.abs(fft_output)\n",
    "    freq = fft.fftfreq(len(signal))\n",
    "    \n",
    "    mask = freq >= 0\n",
    "    freq = freq[mask]\n",
    "    power = power[mask]\n",
    "    \n",
    "    peaks = sig.find_peaks(power[freq >=0], prominence=200)[0]\n",
    "# peaks = power[freq >=0]\n",
    "    peak_freq =  freq[peaks]\n",
    "    peak_power = power[peaks]\n",
    "    \n",
    "    \n",
    "    return fft_output, power, freq, peaks, peak_freq, peak_power"
   ]
  },
  {
   "cell_type": "code",
   "execution_count": null,
   "metadata": {},
   "outputs": [],
   "source": [
    "# tls.mpl_to_plotly"
   ]
  },
  {
   "cell_type": "code",
   "execution_count": 386,
   "metadata": {},
   "outputs": [],
   "source": [
    "def sarima_html():\n",
    "    return html.Div(children=[\n",
    "        html.Div(children=[dcc.Dropdown(\n",
    "            id='sacrime',\n",
    "            options=[{'label': i.title(), 'value': i}\n",
    "                     for i in df.Description.unique()],\n",
    "            value='SHOOTING'\n",
    "        ),\n",
    "            dcc.RadioItems(\n",
    "            options=[\n",
    "                {'label': 'Construct Daily Time Series', 'value': 'daily'},\n",
    "                {'label': 'Construct Monthly Time Series', 'value': 'monthly'},\n",
    "                {'label': 'Construct Quarterly Time Series', 'value': 'quarterly'}\n",
    "            ],\n",
    "            value='quarterly',\n",
    "                id='saperiod'\n",
    "        )]),\n",
    "        html.Div(className='six columns', children=[\n",
    "                 dcc.Graph(id='stab2_decom')]),\n",
    "        html.Div(className='six columns', children=[\n",
    "        dash_table.DataTable(\n",
    "                id='stab2_par',page_size= 15)]),\n",
    "        \n",
    "        html.Div(className='columns', children=[\n",
    "        dcc.Graph(id='pred')]),\n",
    "        \n",
    "        html.Div(className='six columns', children=[\n",
    "        dash_table.DataTable(\n",
    "                id='seco',page_size= 15)]),\n",
    "        html.Div(className='six columns', children=[\n",
    "        dash_table.DataTable(\n",
    "                id='noseco',page_size= 15)])\n",
    "\n",
    "\n",
    "    ])"
   ]
  },
  {
   "cell_type": "code",
   "execution_count": 388,
   "metadata": {},
   "outputs": [],
   "source": [
    "def sarima_result(crime, period):\n",
    "    \n",
    "    sdf=df[(df.Year>=2014)&(df.Year)<=2020]\n",
    "    \n",
    "    sdf=df[df.Description==crime]\n",
    "    \n",
    "    if period=='monthly':\n",
    "        signal=sdf.resample('M', on='Datetime').sum()['Total Incidents']\n",
    "        decom_fig=decom(signal)\n",
    "        pra_df,se_co,nose_co,result_df=srima_fit(singnal,12)\n",
    "        \n",
    "    elif period=='daily':\n",
    "        signal=sdf.resample('D', on='Datetime').sum()['Total Incidents']\n",
    "        decom_fig=decom(signal)\n",
    "        pra_df,se_co,nose_co,result_df=srima_fit(singnal,365)\n",
    "    else:\n",
    "        signal=sdf.resample('Q', on='Datetime').sum()['Total Incidents']\n",
    "        decom_fig=decom(signal)\n",
    "        pra_df,se_co,nose_co,result_df=srima_fit(singnal,4)\n",
    "        \n",
    "    \n",
    "    return decom_fig, pra_df, se_co, nose_co, result_df\n",
    "    "
   ]
  },
  {
   "cell_type": "code",
   "execution_count": 381,
   "metadata": {},
   "outputs": [],
   "source": [
    "from statsmodels.tsa.seasonal import seasonal_decompose\n",
    "def decom(signal):\n",
    "    result = seasonal_decompose(signal)\n",
    "    fig = result.plot()\n",
    "    n_fig=tls.mpl_to_plotly(fig)\n",
    "    \n",
    "    return n_fig"
   ]
  },
  {
   "cell_type": "code",
   "execution_count": 385,
   "metadata": {},
   "outputs": [],
   "source": [
    "import pmdarima as pm\n",
    "def srima_fit(signal, m):\n",
    "    \n",
    "    \n",
    "    seasonal_model = pm.auto_arima(signal, start_p=1, start_q=1,\n",
    "                           max_p=3, max_q=3,m=m,\n",
    "                           start_P=0, seasonal=True,\n",
    "                           d=1, D=1, trace=True,\n",
    "                           error_action='ignore',  \n",
    "                           suppress_warnings=True, \n",
    "                           stepwise=True)\n",
    "    \n",
    "    non_seasonal_model = pm.auto_arima(signal, start_p=1, start_q=1,\n",
    "                           max_p=3, max_q=3,\n",
    "                           start_P=0, seasonal=False,\n",
    "                           d=1, D=1, trace=True,\n",
    "                           error_action='ignore',  \n",
    "                           suppress_warnings=True, \n",
    "                           stepwise=True)\n",
    "    \n",
    "    se_pra=seasonal_model.get_params()\n",
    "    se_pra['aic']=seasonal_model.aic()\n",
    "    \n",
    "    nose_pra=non_seasonal_model.get_params()\n",
    "    nose_pra['aic']=non_seasonal_model.aic()\n",
    "    \n",
    "    pra_df=pd.DataFrame([se_pra,nose_pra])\n",
    "    \n",
    "    se_co=pd.read_html(seasonal_model.summary().tables[1].as_html(), header=0, index_col=0)[0]\n",
    "    nose_co=pd.read_html(non_seasonal_model.summary().tables[1].as_html(), header=0, index_col=0)[0]\n",
    "    \n",
    "    \n",
    "    \n",
    "    \n",
    "    train=signal[:int(0.8*(len(signal)))]\n",
    "    test=signal[int(0.8*(len(signal))):]\n",
    "    \n",
    "    \n",
    "    seasonal_model.fit(train)\n",
    "    se_forecast = seasonal_model.predict(n_periods=len(test))\n",
    "    \n",
    "    non_seasonal_model.fit(train)\n",
    "    nose_forecast = non_seasonal_model.predict(n_periods=len(test))\n",
    "    \n",
    "    future_forecast1 = pd.DataFrame(se_forecast,index = test.index,columns=['SesonalPrediction'])\n",
    "    future_forecast2 = pd.DataFrame(nose_forecast,index = test.index,columns=['NonseaPrediction'])\n",
    "    \n",
    "    \n",
    "    result_df=pd.concat([test,future_forecast1,future_forecast2],axis=1)\n",
    "    \n",
    "    return pra_df,se_co,nose_co,result_df"
   ]
  },
  {
   "cell_type": "code",
   "execution_count": 414,
   "metadata": {},
   "outputs": [],
   "source": [
    "def pro_html():\n",
    "     return html.Div(children=[\n",
    "        html.Div(children=[dcc.Dropdown(\n",
    "            id='pcrime',\n",
    "            options=[{'label': i.title(), 'value': i}\n",
    "                     for i in df.Description.unique()],\n",
    "            value='SHOOTING'\n",
    "        ),\n",
    "            dcc.Dropdown(\n",
    "            options=[\n",
    "                {'label': 'Add Daily Seasonality', 'value': 'daily'},\n",
    "                {'label': 'Add Monthly Seasonality', 'value': 'monthly'},\n",
    "                {'label': 'Add Quarterly Seasonality', 'value': 'quarterly'}\n",
    "            ],\n",
    "            value=['quarterly'],\n",
    "                id='pperiod',\n",
    "                multi=True\n",
    "                \n",
    "        )]),\n",
    "\n",
    "        \n",
    "        html.Div(className='columns', children=[\n",
    "        dcc.Graph(id='pro')])\n",
    "\n",
    "\n",
    "\n",
    "    ])"
   ]
  },
  {
   "cell_type": "code",
   "execution_count": 413,
   "metadata": {},
   "outputs": [
    {
     "ename": "ModuleNotFoundError",
     "evalue": "No module named 'fbprophet'",
     "output_type": "error",
     "traceback": [
      "\u001b[1;31m---------------------------------------------------------------------------\u001b[0m",
      "\u001b[1;31mModuleNotFoundError\u001b[0m                       Traceback (most recent call last)",
      "\u001b[1;32m<ipython-input-413-ae49411c1625>\u001b[0m in \u001b[0;36m<module>\u001b[1;34m\u001b[0m\n\u001b[1;32m----> 1\u001b[1;33m \u001b[1;32mfrom\u001b[0m \u001b[0mfbprophet\u001b[0m \u001b[1;32mimport\u001b[0m \u001b[0mProphet\u001b[0m\u001b[1;33m\u001b[0m\u001b[1;33m\u001b[0m\u001b[0m\n\u001b[0m\u001b[0;32m      2\u001b[0m \u001b[1;32mdef\u001b[0m \u001b[0mpro\u001b[0m\u001b[1;33m(\u001b[0m\u001b[0mcrime\u001b[0m\u001b[1;33m,\u001b[0m\u001b[0mperiod\u001b[0m\u001b[1;33m)\u001b[0m\u001b[1;33m:\u001b[0m\u001b[1;33m\u001b[0m\u001b[1;33m\u001b[0m\u001b[0m\n\u001b[0;32m      3\u001b[0m \u001b[1;33m\u001b[0m\u001b[0m\n\u001b[0;32m      4\u001b[0m \u001b[1;33m\u001b[0m\u001b[0m\n\u001b[0;32m      5\u001b[0m     \u001b[0msdf\u001b[0m\u001b[1;33m=\u001b[0m\u001b[0mdf\u001b[0m\u001b[1;33m[\u001b[0m\u001b[1;33m(\u001b[0m\u001b[0mdf\u001b[0m\u001b[1;33m.\u001b[0m\u001b[0mYear\u001b[0m\u001b[1;33m>=\u001b[0m\u001b[1;36m2014\u001b[0m\u001b[1;33m)\u001b[0m\u001b[1;33m&\u001b[0m\u001b[1;33m(\u001b[0m\u001b[0mdf\u001b[0m\u001b[1;33m.\u001b[0m\u001b[0mYear\u001b[0m\u001b[1;33m)\u001b[0m\u001b[1;33m<=\u001b[0m\u001b[1;36m2020\u001b[0m\u001b[1;33m]\u001b[0m\u001b[1;33m\u001b[0m\u001b[1;33m\u001b[0m\u001b[0m\n",
      "\u001b[1;31mModuleNotFoundError\u001b[0m: No module named 'fbprophet'"
     ]
    }
   ],
   "source": [
    "from fbprophet import Prophet\n",
    "def pro(crime,period):\n",
    "    \n",
    "    \n",
    "    sdf=df[(df.Year>=2014)&(df.Year)<=2020]\n",
    "    \n",
    "    sdf=df[df.Description==crime]\n",
    "    \n",
    "    signal=sdf.resample('D', on='Datetime').sum()['Total Incidents']\n",
    "    \n",
    "    \n",
    "    if 'weekly' in period:\n",
    "    \n",
    "        m = Prophet(weekly_seasonality=True)\n",
    "    else:\n",
    "        m = Prophet(weekly_seasonality=False)\n",
    "    \n",
    "    if 'monthly' in period:\n",
    "        m.add_seasonality(name='monthly', period=30.5, fourier_order=5)\n",
    "    if 'quarterly' in period:\n",
    "        m.add_seasonality(name='quarterly', period=91.3125, fourier_order=10)\n",
    "    \n",
    "    \n",
    "    forecast = m.fit(df).predict(future)\n",
    "    \n",
    "    fig = m.plot_components(forecast)\n",
    "    \n",
    "    return tls.mpl_to_plotly(fig)\n",
    "    \n",
    "    "
   ]
  },
  {
   "cell_type": "code",
   "execution_count": 464,
   "metadata": {},
   "outputs": [
    {
     "data": {
      "text/plain": [
       "<module 'causalimpact' from 'C:\\\\Users\\\\Reich\\\\AppData\\\\Roaming\\\\Python\\\\Python37\\\\site-packages\\\\causalimpact\\\\__init__.py'>"
      ]
     },
     "execution_count": 464,
     "metadata": {},
     "output_type": "execute_result"
    }
   ],
   "source": [
    "import sys\n",
    "sys.modules.pop('causalimpact')"
   ]
  },
  {
   "cell_type": "code",
   "execution_count": 468,
   "metadata": {},
   "outputs": [
    {
     "ename": "ImportError",
     "evalue": "cannot import name 'Inferences' from 'causalimpact.inferences' (C:\\Users\\Reich\\AppData\\Roaming\\Python\\Python37\\site-packages\\causalimpact\\inferences.py)",
     "output_type": "error",
     "traceback": [
      "\u001b[1;31m---------------------------------------------------------------------------\u001b[0m",
      "\u001b[1;31mImportError\u001b[0m                               Traceback (most recent call last)",
      "\u001b[1;32m<ipython-input-468-92ec153828bf>\u001b[0m in \u001b[0;36m<module>\u001b[1;34m\u001b[0m\n\u001b[1;32m----> 1\u001b[1;33m \u001b[1;32mfrom\u001b[0m \u001b[0mcausalimpact\u001b[0m \u001b[1;32mimport\u001b[0m \u001b[0mCausalImpact\u001b[0m\u001b[1;33m\u001b[0m\u001b[1;33m\u001b[0m\u001b[0m\n\u001b[0m",
      "\u001b[1;32mD:\\Python37\\lib\\site-packages\\causalimpact\\__init__.py\u001b[0m in \u001b[0;36m<module>\u001b[1;34m\u001b[0m\n\u001b[0;32m     14\u001b[0m \u001b[1;33m\u001b[0m\u001b[0m\n\u001b[0;32m     15\u001b[0m \u001b[1;32mfrom\u001b[0m \u001b[0mcausalimpact\u001b[0m\u001b[1;33m.\u001b[0m\u001b[0m__version__\u001b[0m \u001b[1;32mimport\u001b[0m \u001b[0m__version__\u001b[0m\u001b[1;33m\u001b[0m\u001b[1;33m\u001b[0m\u001b[0m\n\u001b[1;32m---> 16\u001b[1;33m \u001b[1;32mfrom\u001b[0m \u001b[0mcausalimpact\u001b[0m\u001b[1;33m.\u001b[0m\u001b[0mmain\u001b[0m \u001b[1;32mimport\u001b[0m \u001b[0mCausalImpact\u001b[0m\u001b[1;33m\u001b[0m\u001b[1;33m\u001b[0m\u001b[0m\n\u001b[0m",
      "\u001b[1;32mD:\\Python37\\lib\\site-packages\\causalimpact\\main.py\u001b[0m in \u001b[0;36m<module>\u001b[1;34m\u001b[0m\n\u001b[0;32m     24\u001b[0m \u001b[1;32mfrom\u001b[0m \u001b[0mstatsmodels\u001b[0m\u001b[1;33m.\u001b[0m\u001b[0mtsa\u001b[0m\u001b[1;33m.\u001b[0m\u001b[0mstatespace\u001b[0m\u001b[1;33m.\u001b[0m\u001b[0mstructural\u001b[0m \u001b[1;32mimport\u001b[0m \u001b[0mUnobservedComponents\u001b[0m\u001b[1;33m\u001b[0m\u001b[1;33m\u001b[0m\u001b[0m\n\u001b[0;32m     25\u001b[0m \u001b[1;33m\u001b[0m\u001b[0m\n\u001b[1;32m---> 26\u001b[1;33m \u001b[1;32mfrom\u001b[0m \u001b[0mcausalimpact\u001b[0m\u001b[1;33m.\u001b[0m\u001b[0minferences\u001b[0m \u001b[1;32mimport\u001b[0m \u001b[0mInferences\u001b[0m\u001b[1;33m\u001b[0m\u001b[1;33m\u001b[0m\u001b[0m\n\u001b[0m\u001b[0;32m     27\u001b[0m \u001b[1;32mfrom\u001b[0m \u001b[0mcausalimpact\u001b[0m\u001b[1;33m.\u001b[0m\u001b[0mmisc\u001b[0m \u001b[1;32mimport\u001b[0m \u001b[0mstandardize\u001b[0m\u001b[1;33m\u001b[0m\u001b[1;33m\u001b[0m\u001b[0m\n\u001b[0;32m     28\u001b[0m \u001b[1;32mfrom\u001b[0m \u001b[0mcausalimpact\u001b[0m\u001b[1;33m.\u001b[0m\u001b[0mplot\u001b[0m \u001b[1;32mimport\u001b[0m \u001b[0mPlot\u001b[0m\u001b[1;33m\u001b[0m\u001b[1;33m\u001b[0m\u001b[0m\n",
      "\u001b[1;31mImportError\u001b[0m: cannot import name 'Inferences' from 'causalimpact.inferences' (C:\\Users\\Reich\\AppData\\Roaming\\Python\\Python37\\site-packages\\causalimpact\\inferences.py)"
     ]
    }
   ],
   "source": [
    "from causalimpact import CausalImpact"
   ]
  },
  {
   "cell_type": "code",
   "execution_count": 466,
   "metadata": {},
   "outputs": [],
   "source": [
    "post=signal[signal.index>pd.to_datetime('2018/10/3')]"
   ]
  },
  {
   "cell_type": "code",
   "execution_count": 467,
   "metadata": {},
   "outputs": [],
   "source": [
    "pre=signal[signal.index<pd.to_datetime('2018/10/3')]"
   ]
  },
  {
   "cell_type": "code",
   "execution_count": 462,
   "metadata": {},
   "outputs": [],
   "source": [
    "\n",
    "\n",
    "ci = CausalImpact(signal, pre, post)"
   ]
  },
  {
   "cell_type": "code",
   "execution_count": 463,
   "metadata": {},
   "outputs": [
    {
     "ename": "AttributeError",
     "evalue": "'CausalImpact' object has no attribute 'inferences'",
     "output_type": "error",
     "traceback": [
      "\u001b[1;31m---------------------------------------------------------------------------\u001b[0m",
      "\u001b[1;31mAttributeError\u001b[0m                            Traceback (most recent call last)",
      "\u001b[1;32m<ipython-input-463-ea5e1d77bc44>\u001b[0m in \u001b[0;36m<module>\u001b[1;34m\u001b[0m\n\u001b[1;32m----> 1\u001b[1;33m \u001b[0mci\u001b[0m\u001b[1;33m.\u001b[0m\u001b[0mplot\u001b[0m\u001b[1;33m(\u001b[0m\u001b[1;33m)\u001b[0m\u001b[1;33m\u001b[0m\u001b[1;33m\u001b[0m\u001b[0m\n\u001b[0m",
      "\u001b[1;32m~\\AppData\\Roaming\\Python\\Python37\\site-packages\\causalimpact\\analysis.py\u001b[0m in \u001b[0;36mplot\u001b[1;34m(self, panels)\u001b[0m\n",
      "\u001b[1;31mAttributeError\u001b[0m: 'CausalImpact' object has no attribute 'inferences'"
     ]
    },
    {
     "data": {
      "text/plain": [
       "<Figure size 1080x864 with 0 Axes>"
      ]
     },
     "metadata": {},
     "output_type": "display_data"
    }
   ],
   "source": [
    "ci.plot()"
   ]
  },
  {
   "cell_type": "code",
   "execution_count": null,
   "metadata": {},
   "outputs": [],
   "source": []
  },
  {
   "cell_type": "code",
   "execution_count": null,
   "metadata": {},
   "outputs": [],
   "source": [
    "Prophet(weekly_seasonality=False)\n",
    "m.add_seasonality(name='monthly', period=30.5, fourier_order=5)\n",
    "forecast = m.fit(df).predict(future)\n",
    "fig = m.plot_components(forecast)"
   ]
  },
  {
   "cell_type": "code",
   "execution_count": null,
   "metadata": {},
   "outputs": [],
   "source": []
  },
  {
   "cell_type": "code",
   "execution_count": 384,
   "metadata": {},
   "outputs": [
    {
     "data": {
      "application/vnd.plotly.v1+json": {
       "config": {
        "plotlyServerURL": "https://plot.ly"
       },
       "data": [
        {
         "hovertemplate": "variable=Total Incidents<br>Datetime=%{x}<br>value=%{y}<extra></extra>",
         "legendgroup": "Total Incidents",
         "line": {
          "color": "rgb(76,114,176)",
          "dash": "solid"
         },
         "mode": "lines",
         "name": "Total Incidents",
         "orientation": "v",
         "showlegend": true,
         "type": "scatter",
         "x": [
          "2019-06-30T00:00:00",
          "2019-09-30T00:00:00",
          "2019-12-31T00:00:00",
          "2020-03-31T00:00:00",
          "2020-06-30T00:00:00",
          "2020-09-30T00:00:00"
         ],
         "xaxis": "x",
         "y": [
          171,
          190,
          144,
          107,
          148,
          34
         ],
         "yaxis": "y"
        },
        {
         "hovertemplate": "variable=SesonalPrediction<br>Datetime=%{x}<br>value=%{y}<extra></extra>",
         "legendgroup": "SesonalPrediction",
         "line": {
          "color": "rgb(221,132,82)",
          "dash": "solid"
         },
         "mode": "lines",
         "name": "SesonalPrediction",
         "orientation": "v",
         "showlegend": true,
         "type": "scatter",
         "x": [
          "2019-06-30T00:00:00",
          "2019-09-30T00:00:00",
          "2019-12-31T00:00:00",
          "2020-03-31T00:00:00",
          "2020-06-30T00:00:00",
          "2020-09-30T00:00:00"
         ],
         "xaxis": "x",
         "y": [
          169.5885112628998,
          188.79165002231272,
          160.3968560735807,
          132.80642942332378,
          182.39494068622358,
          201.5980794456365
         ],
         "yaxis": "y"
        },
        {
         "hovertemplate": "variable=NonseaPrediction<br>Datetime=%{x}<br>value=%{y}<extra></extra>",
         "legendgroup": "NonseaPrediction",
         "line": {
          "color": "rgb(85,168,104)",
          "dash": "solid"
         },
         "mode": "lines",
         "name": "NonseaPrediction",
         "orientation": "v",
         "showlegend": true,
         "type": "scatter",
         "x": [
          "2019-06-30T00:00:00",
          "2019-09-30T00:00:00",
          "2019-12-31T00:00:00",
          "2020-03-31T00:00:00",
          "2020-06-30T00:00:00",
          "2020-09-30T00:00:00"
         ],
         "xaxis": "x",
         "y": [
          141.18420017968575,
          141.18420017968575,
          141.18420017968575,
          141.18420017968575,
          141.18420017968575,
          141.18420017968575
         ],
         "yaxis": "y"
        }
       ],
       "layout": {
        "legend": {
         "title": {
          "text": "variable"
         },
         "tracegroupgap": 0
        },
        "margin": {
         "t": 60
        },
        "template": {
         "data": {
          "bar": [
           {
            "error_x": {
             "color": "rgb(36,36,36)"
            },
            "error_y": {
             "color": "rgb(36,36,36)"
            },
            "marker": {
             "line": {
              "color": "rgb(234,234,242)",
              "width": 0.5
             }
            },
            "type": "bar"
           }
          ],
          "barpolar": [
           {
            "marker": {
             "line": {
              "color": "rgb(234,234,242)",
              "width": 0.5
             }
            },
            "type": "barpolar"
           }
          ],
          "carpet": [
           {
            "aaxis": {
             "endlinecolor": "rgb(36,36,36)",
             "gridcolor": "white",
             "linecolor": "white",
             "minorgridcolor": "white",
             "startlinecolor": "rgb(36,36,36)"
            },
            "baxis": {
             "endlinecolor": "rgb(36,36,36)",
             "gridcolor": "white",
             "linecolor": "white",
             "minorgridcolor": "white",
             "startlinecolor": "rgb(36,36,36)"
            },
            "type": "carpet"
           }
          ],
          "choropleth": [
           {
            "colorbar": {
             "outlinewidth": 0,
             "tickcolor": "rgb(36,36,36)",
             "ticklen": 8,
             "ticks": "outside",
             "tickwidth": 2
            },
            "type": "choropleth"
           }
          ],
          "contour": [
           {
            "colorbar": {
             "outlinewidth": 0,
             "tickcolor": "rgb(36,36,36)",
             "ticklen": 8,
             "ticks": "outside",
             "tickwidth": 2
            },
            "colorscale": [
             [
              0,
              "rgb(2,4,25)"
             ],
             [
              0.06274509803921569,
              "rgb(24,15,41)"
             ],
             [
              0.12549019607843137,
              "rgb(47,23,57)"
             ],
             [
              0.18823529411764706,
              "rgb(71,28,72)"
             ],
             [
              0.25098039215686274,
              "rgb(97,30,82)"
             ],
             [
              0.3137254901960784,
              "rgb(123,30,89)"
             ],
             [
              0.3764705882352941,
              "rgb(150,27,91)"
             ],
             [
              0.4392156862745098,
              "rgb(177,22,88)"
             ],
             [
              0.5019607843137255,
              "rgb(203,26,79)"
             ],
             [
              0.5647058823529412,
              "rgb(223,47,67)"
             ],
             [
              0.6274509803921569,
              "rgb(236,76,61)"
             ],
             [
              0.6901960784313725,
              "rgb(242,107,73)"
             ],
             [
              0.7529411764705882,
              "rgb(244,135,95)"
             ],
             [
              0.8156862745098039,
              "rgb(245,162,122)"
             ],
             [
              0.8784313725490196,
              "rgb(246,188,153)"
             ],
             [
              0.9411764705882353,
              "rgb(247,212,187)"
             ],
             [
              1,
              "rgb(250,234,220)"
             ]
            ],
            "type": "contour"
           }
          ],
          "contourcarpet": [
           {
            "colorbar": {
             "outlinewidth": 0,
             "tickcolor": "rgb(36,36,36)",
             "ticklen": 8,
             "ticks": "outside",
             "tickwidth": 2
            },
            "type": "contourcarpet"
           }
          ],
          "heatmap": [
           {
            "colorbar": {
             "outlinewidth": 0,
             "tickcolor": "rgb(36,36,36)",
             "ticklen": 8,
             "ticks": "outside",
             "tickwidth": 2
            },
            "colorscale": [
             [
              0,
              "rgb(2,4,25)"
             ],
             [
              0.06274509803921569,
              "rgb(24,15,41)"
             ],
             [
              0.12549019607843137,
              "rgb(47,23,57)"
             ],
             [
              0.18823529411764706,
              "rgb(71,28,72)"
             ],
             [
              0.25098039215686274,
              "rgb(97,30,82)"
             ],
             [
              0.3137254901960784,
              "rgb(123,30,89)"
             ],
             [
              0.3764705882352941,
              "rgb(150,27,91)"
             ],
             [
              0.4392156862745098,
              "rgb(177,22,88)"
             ],
             [
              0.5019607843137255,
              "rgb(203,26,79)"
             ],
             [
              0.5647058823529412,
              "rgb(223,47,67)"
             ],
             [
              0.6274509803921569,
              "rgb(236,76,61)"
             ],
             [
              0.6901960784313725,
              "rgb(242,107,73)"
             ],
             [
              0.7529411764705882,
              "rgb(244,135,95)"
             ],
             [
              0.8156862745098039,
              "rgb(245,162,122)"
             ],
             [
              0.8784313725490196,
              "rgb(246,188,153)"
             ],
             [
              0.9411764705882353,
              "rgb(247,212,187)"
             ],
             [
              1,
              "rgb(250,234,220)"
             ]
            ],
            "type": "heatmap"
           }
          ],
          "heatmapgl": [
           {
            "colorbar": {
             "outlinewidth": 0,
             "tickcolor": "rgb(36,36,36)",
             "ticklen": 8,
             "ticks": "outside",
             "tickwidth": 2
            },
            "colorscale": [
             [
              0,
              "rgb(2,4,25)"
             ],
             [
              0.06274509803921569,
              "rgb(24,15,41)"
             ],
             [
              0.12549019607843137,
              "rgb(47,23,57)"
             ],
             [
              0.18823529411764706,
              "rgb(71,28,72)"
             ],
             [
              0.25098039215686274,
              "rgb(97,30,82)"
             ],
             [
              0.3137254901960784,
              "rgb(123,30,89)"
             ],
             [
              0.3764705882352941,
              "rgb(150,27,91)"
             ],
             [
              0.4392156862745098,
              "rgb(177,22,88)"
             ],
             [
              0.5019607843137255,
              "rgb(203,26,79)"
             ],
             [
              0.5647058823529412,
              "rgb(223,47,67)"
             ],
             [
              0.6274509803921569,
              "rgb(236,76,61)"
             ],
             [
              0.6901960784313725,
              "rgb(242,107,73)"
             ],
             [
              0.7529411764705882,
              "rgb(244,135,95)"
             ],
             [
              0.8156862745098039,
              "rgb(245,162,122)"
             ],
             [
              0.8784313725490196,
              "rgb(246,188,153)"
             ],
             [
              0.9411764705882353,
              "rgb(247,212,187)"
             ],
             [
              1,
              "rgb(250,234,220)"
             ]
            ],
            "type": "heatmapgl"
           }
          ],
          "histogram": [
           {
            "marker": {
             "colorbar": {
              "outlinewidth": 0,
              "tickcolor": "rgb(36,36,36)",
              "ticklen": 8,
              "ticks": "outside",
              "tickwidth": 2
             }
            },
            "type": "histogram"
           }
          ],
          "histogram2d": [
           {
            "colorbar": {
             "outlinewidth": 0,
             "tickcolor": "rgb(36,36,36)",
             "ticklen": 8,
             "ticks": "outside",
             "tickwidth": 2
            },
            "colorscale": [
             [
              0,
              "rgb(2,4,25)"
             ],
             [
              0.06274509803921569,
              "rgb(24,15,41)"
             ],
             [
              0.12549019607843137,
              "rgb(47,23,57)"
             ],
             [
              0.18823529411764706,
              "rgb(71,28,72)"
             ],
             [
              0.25098039215686274,
              "rgb(97,30,82)"
             ],
             [
              0.3137254901960784,
              "rgb(123,30,89)"
             ],
             [
              0.3764705882352941,
              "rgb(150,27,91)"
             ],
             [
              0.4392156862745098,
              "rgb(177,22,88)"
             ],
             [
              0.5019607843137255,
              "rgb(203,26,79)"
             ],
             [
              0.5647058823529412,
              "rgb(223,47,67)"
             ],
             [
              0.6274509803921569,
              "rgb(236,76,61)"
             ],
             [
              0.6901960784313725,
              "rgb(242,107,73)"
             ],
             [
              0.7529411764705882,
              "rgb(244,135,95)"
             ],
             [
              0.8156862745098039,
              "rgb(245,162,122)"
             ],
             [
              0.8784313725490196,
              "rgb(246,188,153)"
             ],
             [
              0.9411764705882353,
              "rgb(247,212,187)"
             ],
             [
              1,
              "rgb(250,234,220)"
             ]
            ],
            "type": "histogram2d"
           }
          ],
          "histogram2dcontour": [
           {
            "colorbar": {
             "outlinewidth": 0,
             "tickcolor": "rgb(36,36,36)",
             "ticklen": 8,
             "ticks": "outside",
             "tickwidth": 2
            },
            "colorscale": [
             [
              0,
              "rgb(2,4,25)"
             ],
             [
              0.06274509803921569,
              "rgb(24,15,41)"
             ],
             [
              0.12549019607843137,
              "rgb(47,23,57)"
             ],
             [
              0.18823529411764706,
              "rgb(71,28,72)"
             ],
             [
              0.25098039215686274,
              "rgb(97,30,82)"
             ],
             [
              0.3137254901960784,
              "rgb(123,30,89)"
             ],
             [
              0.3764705882352941,
              "rgb(150,27,91)"
             ],
             [
              0.4392156862745098,
              "rgb(177,22,88)"
             ],
             [
              0.5019607843137255,
              "rgb(203,26,79)"
             ],
             [
              0.5647058823529412,
              "rgb(223,47,67)"
             ],
             [
              0.6274509803921569,
              "rgb(236,76,61)"
             ],
             [
              0.6901960784313725,
              "rgb(242,107,73)"
             ],
             [
              0.7529411764705882,
              "rgb(244,135,95)"
             ],
             [
              0.8156862745098039,
              "rgb(245,162,122)"
             ],
             [
              0.8784313725490196,
              "rgb(246,188,153)"
             ],
             [
              0.9411764705882353,
              "rgb(247,212,187)"
             ],
             [
              1,
              "rgb(250,234,220)"
             ]
            ],
            "type": "histogram2dcontour"
           }
          ],
          "mesh3d": [
           {
            "colorbar": {
             "outlinewidth": 0,
             "tickcolor": "rgb(36,36,36)",
             "ticklen": 8,
             "ticks": "outside",
             "tickwidth": 2
            },
            "type": "mesh3d"
           }
          ],
          "parcoords": [
           {
            "line": {
             "colorbar": {
              "outlinewidth": 0,
              "tickcolor": "rgb(36,36,36)",
              "ticklen": 8,
              "ticks": "outside",
              "tickwidth": 2
             }
            },
            "type": "parcoords"
           }
          ],
          "pie": [
           {
            "automargin": true,
            "type": "pie"
           }
          ],
          "scatter": [
           {
            "marker": {
             "colorbar": {
              "outlinewidth": 0,
              "tickcolor": "rgb(36,36,36)",
              "ticklen": 8,
              "ticks": "outside",
              "tickwidth": 2
             }
            },
            "type": "scatter"
           }
          ],
          "scatter3d": [
           {
            "line": {
             "colorbar": {
              "outlinewidth": 0,
              "tickcolor": "rgb(36,36,36)",
              "ticklen": 8,
              "ticks": "outside",
              "tickwidth": 2
             }
            },
            "marker": {
             "colorbar": {
              "outlinewidth": 0,
              "tickcolor": "rgb(36,36,36)",
              "ticklen": 8,
              "ticks": "outside",
              "tickwidth": 2
             }
            },
            "type": "scatter3d"
           }
          ],
          "scattercarpet": [
           {
            "marker": {
             "colorbar": {
              "outlinewidth": 0,
              "tickcolor": "rgb(36,36,36)",
              "ticklen": 8,
              "ticks": "outside",
              "tickwidth": 2
             }
            },
            "type": "scattercarpet"
           }
          ],
          "scattergeo": [
           {
            "marker": {
             "colorbar": {
              "outlinewidth": 0,
              "tickcolor": "rgb(36,36,36)",
              "ticklen": 8,
              "ticks": "outside",
              "tickwidth": 2
             }
            },
            "type": "scattergeo"
           }
          ],
          "scattergl": [
           {
            "marker": {
             "colorbar": {
              "outlinewidth": 0,
              "tickcolor": "rgb(36,36,36)",
              "ticklen": 8,
              "ticks": "outside",
              "tickwidth": 2
             }
            },
            "type": "scattergl"
           }
          ],
          "scattermapbox": [
           {
            "marker": {
             "colorbar": {
              "outlinewidth": 0,
              "tickcolor": "rgb(36,36,36)",
              "ticklen": 8,
              "ticks": "outside",
              "tickwidth": 2
             }
            },
            "type": "scattermapbox"
           }
          ],
          "scatterpolar": [
           {
            "marker": {
             "colorbar": {
              "outlinewidth": 0,
              "tickcolor": "rgb(36,36,36)",
              "ticklen": 8,
              "ticks": "outside",
              "tickwidth": 2
             }
            },
            "type": "scatterpolar"
           }
          ],
          "scatterpolargl": [
           {
            "marker": {
             "colorbar": {
              "outlinewidth": 0,
              "tickcolor": "rgb(36,36,36)",
              "ticklen": 8,
              "ticks": "outside",
              "tickwidth": 2
             }
            },
            "type": "scatterpolargl"
           }
          ],
          "scatterternary": [
           {
            "marker": {
             "colorbar": {
              "outlinewidth": 0,
              "tickcolor": "rgb(36,36,36)",
              "ticklen": 8,
              "ticks": "outside",
              "tickwidth": 2
             }
            },
            "type": "scatterternary"
           }
          ],
          "surface": [
           {
            "colorbar": {
             "outlinewidth": 0,
             "tickcolor": "rgb(36,36,36)",
             "ticklen": 8,
             "ticks": "outside",
             "tickwidth": 2
            },
            "colorscale": [
             [
              0,
              "rgb(2,4,25)"
             ],
             [
              0.06274509803921569,
              "rgb(24,15,41)"
             ],
             [
              0.12549019607843137,
              "rgb(47,23,57)"
             ],
             [
              0.18823529411764706,
              "rgb(71,28,72)"
             ],
             [
              0.25098039215686274,
              "rgb(97,30,82)"
             ],
             [
              0.3137254901960784,
              "rgb(123,30,89)"
             ],
             [
              0.3764705882352941,
              "rgb(150,27,91)"
             ],
             [
              0.4392156862745098,
              "rgb(177,22,88)"
             ],
             [
              0.5019607843137255,
              "rgb(203,26,79)"
             ],
             [
              0.5647058823529412,
              "rgb(223,47,67)"
             ],
             [
              0.6274509803921569,
              "rgb(236,76,61)"
             ],
             [
              0.6901960784313725,
              "rgb(242,107,73)"
             ],
             [
              0.7529411764705882,
              "rgb(244,135,95)"
             ],
             [
              0.8156862745098039,
              "rgb(245,162,122)"
             ],
             [
              0.8784313725490196,
              "rgb(246,188,153)"
             ],
             [
              0.9411764705882353,
              "rgb(247,212,187)"
             ],
             [
              1,
              "rgb(250,234,220)"
             ]
            ],
            "type": "surface"
           }
          ],
          "table": [
           {
            "cells": {
             "fill": {
              "color": "rgb(231,231,240)"
             },
             "line": {
              "color": "white"
             }
            },
            "header": {
             "fill": {
              "color": "rgb(183,183,191)"
             },
             "line": {
              "color": "white"
             }
            },
            "type": "table"
           }
          ]
         },
         "layout": {
          "annotationdefaults": {
           "arrowcolor": "rgb(67,103,167)"
          },
          "coloraxis": {
           "colorbar": {
            "outlinewidth": 0,
            "tickcolor": "rgb(36,36,36)",
            "ticklen": 8,
            "ticks": "outside",
            "tickwidth": 2
           }
          },
          "colorscale": {
           "sequential": [
            [
             0,
             "rgb(2,4,25)"
            ],
            [
             0.06274509803921569,
             "rgb(24,15,41)"
            ],
            [
             0.12549019607843137,
             "rgb(47,23,57)"
            ],
            [
             0.18823529411764706,
             "rgb(71,28,72)"
            ],
            [
             0.25098039215686274,
             "rgb(97,30,82)"
            ],
            [
             0.3137254901960784,
             "rgb(123,30,89)"
            ],
            [
             0.3764705882352941,
             "rgb(150,27,91)"
            ],
            [
             0.4392156862745098,
             "rgb(177,22,88)"
            ],
            [
             0.5019607843137255,
             "rgb(203,26,79)"
            ],
            [
             0.5647058823529412,
             "rgb(223,47,67)"
            ],
            [
             0.6274509803921569,
             "rgb(236,76,61)"
            ],
            [
             0.6901960784313725,
             "rgb(242,107,73)"
            ],
            [
             0.7529411764705882,
             "rgb(244,135,95)"
            ],
            [
             0.8156862745098039,
             "rgb(245,162,122)"
            ],
            [
             0.8784313725490196,
             "rgb(246,188,153)"
            ],
            [
             0.9411764705882353,
             "rgb(247,212,187)"
            ],
            [
             1,
             "rgb(250,234,220)"
            ]
           ],
           "sequentialminus": [
            [
             0,
             "rgb(2,4,25)"
            ],
            [
             0.06274509803921569,
             "rgb(24,15,41)"
            ],
            [
             0.12549019607843137,
             "rgb(47,23,57)"
            ],
            [
             0.18823529411764706,
             "rgb(71,28,72)"
            ],
            [
             0.25098039215686274,
             "rgb(97,30,82)"
            ],
            [
             0.3137254901960784,
             "rgb(123,30,89)"
            ],
            [
             0.3764705882352941,
             "rgb(150,27,91)"
            ],
            [
             0.4392156862745098,
             "rgb(177,22,88)"
            ],
            [
             0.5019607843137255,
             "rgb(203,26,79)"
            ],
            [
             0.5647058823529412,
             "rgb(223,47,67)"
            ],
            [
             0.6274509803921569,
             "rgb(236,76,61)"
            ],
            [
             0.6901960784313725,
             "rgb(242,107,73)"
            ],
            [
             0.7529411764705882,
             "rgb(244,135,95)"
            ],
            [
             0.8156862745098039,
             "rgb(245,162,122)"
            ],
            [
             0.8784313725490196,
             "rgb(246,188,153)"
            ],
            [
             0.9411764705882353,
             "rgb(247,212,187)"
            ],
            [
             1,
             "rgb(250,234,220)"
            ]
           ]
          },
          "colorway": [
           "rgb(76,114,176)",
           "rgb(221,132,82)",
           "rgb(85,168,104)",
           "rgb(196,78,82)",
           "rgb(129,114,179)",
           "rgb(147,120,96)",
           "rgb(218,139,195)",
           "rgb(140,140,140)",
           "rgb(204,185,116)",
           "rgb(100,181,205)"
          ],
          "font": {
           "color": "rgb(36,36,36)"
          },
          "geo": {
           "bgcolor": "white",
           "lakecolor": "white",
           "landcolor": "rgb(234,234,242)",
           "showlakes": true,
           "showland": true,
           "subunitcolor": "white"
          },
          "hoverlabel": {
           "align": "left"
          },
          "hovermode": "closest",
          "paper_bgcolor": "white",
          "plot_bgcolor": "rgb(234,234,242)",
          "polar": {
           "angularaxis": {
            "gridcolor": "white",
            "linecolor": "white",
            "showgrid": true,
            "ticks": ""
           },
           "bgcolor": "rgb(234,234,242)",
           "radialaxis": {
            "gridcolor": "white",
            "linecolor": "white",
            "showgrid": true,
            "ticks": ""
           }
          },
          "scene": {
           "xaxis": {
            "backgroundcolor": "rgb(234,234,242)",
            "gridcolor": "white",
            "gridwidth": 2,
            "linecolor": "white",
            "showbackground": true,
            "showgrid": true,
            "ticks": "",
            "zerolinecolor": "white"
           },
           "yaxis": {
            "backgroundcolor": "rgb(234,234,242)",
            "gridcolor": "white",
            "gridwidth": 2,
            "linecolor": "white",
            "showbackground": true,
            "showgrid": true,
            "ticks": "",
            "zerolinecolor": "white"
           },
           "zaxis": {
            "backgroundcolor": "rgb(234,234,242)",
            "gridcolor": "white",
            "gridwidth": 2,
            "linecolor": "white",
            "showbackground": true,
            "showgrid": true,
            "ticks": "",
            "zerolinecolor": "white"
           }
          },
          "shapedefaults": {
           "fillcolor": "rgb(67,103,167)",
           "line": {
            "width": 0
           },
           "opacity": 0.5
          },
          "ternary": {
           "aaxis": {
            "gridcolor": "white",
            "linecolor": "white",
            "showgrid": true,
            "ticks": ""
           },
           "baxis": {
            "gridcolor": "white",
            "linecolor": "white",
            "showgrid": true,
            "ticks": ""
           },
           "bgcolor": "rgb(234,234,242)",
           "caxis": {
            "gridcolor": "white",
            "linecolor": "white",
            "showgrid": true,
            "ticks": ""
           }
          },
          "xaxis": {
           "automargin": true,
           "gridcolor": "white",
           "linecolor": "white",
           "showgrid": true,
           "ticks": "",
           "title": {
            "standoff": 15
           },
           "zerolinecolor": "white"
          },
          "yaxis": {
           "automargin": true,
           "gridcolor": "white",
           "linecolor": "white",
           "showgrid": true,
           "ticks": "",
           "title": {
            "standoff": 15
           },
           "zerolinecolor": "white"
          }
         }
        },
        "xaxis": {
         "anchor": "y",
         "domain": [
          0,
          1
         ],
         "title": {
          "text": "Datetime"
         }
        },
        "yaxis": {
         "anchor": "x",
         "domain": [
          0,
          1
         ],
         "title": {
          "text": "value"
         }
        }
       }
      },
      "text/html": [
       "<div>\n",
       "        \n",
       "        \n",
       "            <div id=\"44cc643d-fada-4e93-8b70-8157b3be03a5\" class=\"plotly-graph-div\" style=\"height:525px; width:100%;\"></div>\n",
       "            <script type=\"text/javascript\">\n",
       "                require([\"plotly\"], function(Plotly) {\n",
       "                    window.PLOTLYENV=window.PLOTLYENV || {};\n",
       "                    \n",
       "                if (document.getElementById(\"44cc643d-fada-4e93-8b70-8157b3be03a5\")) {\n",
       "                    Plotly.newPlot(\n",
       "                        '44cc643d-fada-4e93-8b70-8157b3be03a5',\n",
       "                        [{\"hovertemplate\": \"variable=Total Incidents<br>Datetime=%{x}<br>value=%{y}<extra></extra>\", \"legendgroup\": \"Total Incidents\", \"line\": {\"color\": \"rgb(76,114,176)\", \"dash\": \"solid\"}, \"mode\": \"lines\", \"name\": \"Total Incidents\", \"orientation\": \"v\", \"showlegend\": true, \"type\": \"scatter\", \"x\": [\"2019-06-30T00:00:00\", \"2019-09-30T00:00:00\", \"2019-12-31T00:00:00\", \"2020-03-31T00:00:00\", \"2020-06-30T00:00:00\", \"2020-09-30T00:00:00\"], \"xaxis\": \"x\", \"y\": [171.0, 190.0, 144.0, 107.0, 148.0, 34.0], \"yaxis\": \"y\"}, {\"hovertemplate\": \"variable=SesonalPrediction<br>Datetime=%{x}<br>value=%{y}<extra></extra>\", \"legendgroup\": \"SesonalPrediction\", \"line\": {\"color\": \"rgb(221,132,82)\", \"dash\": \"solid\"}, \"mode\": \"lines\", \"name\": \"SesonalPrediction\", \"orientation\": \"v\", \"showlegend\": true, \"type\": \"scatter\", \"x\": [\"2019-06-30T00:00:00\", \"2019-09-30T00:00:00\", \"2019-12-31T00:00:00\", \"2020-03-31T00:00:00\", \"2020-06-30T00:00:00\", \"2020-09-30T00:00:00\"], \"xaxis\": \"x\", \"y\": [169.5885112628998, 188.79165002231272, 160.3968560735807, 132.80642942332378, 182.39494068622358, 201.5980794456365], \"yaxis\": \"y\"}, {\"hovertemplate\": \"variable=NonseaPrediction<br>Datetime=%{x}<br>value=%{y}<extra></extra>\", \"legendgroup\": \"NonseaPrediction\", \"line\": {\"color\": \"rgb(85,168,104)\", \"dash\": \"solid\"}, \"mode\": \"lines\", \"name\": \"NonseaPrediction\", \"orientation\": \"v\", \"showlegend\": true, \"type\": \"scatter\", \"x\": [\"2019-06-30T00:00:00\", \"2019-09-30T00:00:00\", \"2019-12-31T00:00:00\", \"2020-03-31T00:00:00\", \"2020-06-30T00:00:00\", \"2020-09-30T00:00:00\"], \"xaxis\": \"x\", \"y\": [141.18420017968575, 141.18420017968575, 141.18420017968575, 141.18420017968575, 141.18420017968575, 141.18420017968575], \"yaxis\": \"y\"}],\n",
       "                        {\"legend\": {\"title\": {\"text\": \"variable\"}, \"tracegroupgap\": 0}, \"margin\": {\"t\": 60}, \"template\": {\"data\": {\"bar\": [{\"error_x\": {\"color\": \"rgb(36,36,36)\"}, \"error_y\": {\"color\": \"rgb(36,36,36)\"}, \"marker\": {\"line\": {\"color\": \"rgb(234,234,242)\", \"width\": 0.5}}, \"type\": \"bar\"}], \"barpolar\": [{\"marker\": {\"line\": {\"color\": \"rgb(234,234,242)\", \"width\": 0.5}}, \"type\": \"barpolar\"}], \"carpet\": [{\"aaxis\": {\"endlinecolor\": \"rgb(36,36,36)\", \"gridcolor\": \"white\", \"linecolor\": \"white\", \"minorgridcolor\": \"white\", \"startlinecolor\": \"rgb(36,36,36)\"}, \"baxis\": {\"endlinecolor\": \"rgb(36,36,36)\", \"gridcolor\": \"white\", \"linecolor\": \"white\", \"minorgridcolor\": \"white\", \"startlinecolor\": \"rgb(36,36,36)\"}, \"type\": \"carpet\"}], \"choropleth\": [{\"colorbar\": {\"outlinewidth\": 0, \"tickcolor\": \"rgb(36,36,36)\", \"ticklen\": 8, \"ticks\": \"outside\", \"tickwidth\": 2}, \"type\": \"choropleth\"}], \"contour\": [{\"colorbar\": {\"outlinewidth\": 0, \"tickcolor\": \"rgb(36,36,36)\", \"ticklen\": 8, \"ticks\": \"outside\", \"tickwidth\": 2}, \"colorscale\": [[0.0, \"rgb(2,4,25)\"], [0.06274509803921569, \"rgb(24,15,41)\"], [0.12549019607843137, \"rgb(47,23,57)\"], [0.18823529411764706, \"rgb(71,28,72)\"], [0.25098039215686274, \"rgb(97,30,82)\"], [0.3137254901960784, \"rgb(123,30,89)\"], [0.3764705882352941, \"rgb(150,27,91)\"], [0.4392156862745098, \"rgb(177,22,88)\"], [0.5019607843137255, \"rgb(203,26,79)\"], [0.5647058823529412, \"rgb(223,47,67)\"], [0.6274509803921569, \"rgb(236,76,61)\"], [0.6901960784313725, \"rgb(242,107,73)\"], [0.7529411764705882, \"rgb(244,135,95)\"], [0.8156862745098039, \"rgb(245,162,122)\"], [0.8784313725490196, \"rgb(246,188,153)\"], [0.9411764705882353, \"rgb(247,212,187)\"], [1.0, \"rgb(250,234,220)\"]], \"type\": \"contour\"}], \"contourcarpet\": [{\"colorbar\": {\"outlinewidth\": 0, \"tickcolor\": \"rgb(36,36,36)\", \"ticklen\": 8, \"ticks\": \"outside\", \"tickwidth\": 2}, \"type\": \"contourcarpet\"}], \"heatmap\": [{\"colorbar\": {\"outlinewidth\": 0, \"tickcolor\": \"rgb(36,36,36)\", \"ticklen\": 8, \"ticks\": \"outside\", \"tickwidth\": 2}, \"colorscale\": [[0.0, \"rgb(2,4,25)\"], [0.06274509803921569, \"rgb(24,15,41)\"], [0.12549019607843137, \"rgb(47,23,57)\"], [0.18823529411764706, \"rgb(71,28,72)\"], [0.25098039215686274, \"rgb(97,30,82)\"], [0.3137254901960784, \"rgb(123,30,89)\"], [0.3764705882352941, \"rgb(150,27,91)\"], [0.4392156862745098, \"rgb(177,22,88)\"], [0.5019607843137255, \"rgb(203,26,79)\"], [0.5647058823529412, \"rgb(223,47,67)\"], [0.6274509803921569, \"rgb(236,76,61)\"], [0.6901960784313725, \"rgb(242,107,73)\"], [0.7529411764705882, \"rgb(244,135,95)\"], [0.8156862745098039, \"rgb(245,162,122)\"], [0.8784313725490196, \"rgb(246,188,153)\"], [0.9411764705882353, \"rgb(247,212,187)\"], [1.0, \"rgb(250,234,220)\"]], \"type\": \"heatmap\"}], \"heatmapgl\": [{\"colorbar\": {\"outlinewidth\": 0, \"tickcolor\": \"rgb(36,36,36)\", \"ticklen\": 8, \"ticks\": \"outside\", \"tickwidth\": 2}, \"colorscale\": [[0.0, \"rgb(2,4,25)\"], [0.06274509803921569, \"rgb(24,15,41)\"], [0.12549019607843137, \"rgb(47,23,57)\"], [0.18823529411764706, \"rgb(71,28,72)\"], [0.25098039215686274, \"rgb(97,30,82)\"], [0.3137254901960784, \"rgb(123,30,89)\"], [0.3764705882352941, \"rgb(150,27,91)\"], [0.4392156862745098, \"rgb(177,22,88)\"], [0.5019607843137255, \"rgb(203,26,79)\"], [0.5647058823529412, \"rgb(223,47,67)\"], [0.6274509803921569, \"rgb(236,76,61)\"], [0.6901960784313725, \"rgb(242,107,73)\"], [0.7529411764705882, \"rgb(244,135,95)\"], [0.8156862745098039, \"rgb(245,162,122)\"], [0.8784313725490196, \"rgb(246,188,153)\"], [0.9411764705882353, \"rgb(247,212,187)\"], [1.0, \"rgb(250,234,220)\"]], \"type\": \"heatmapgl\"}], \"histogram\": [{\"marker\": {\"colorbar\": {\"outlinewidth\": 0, \"tickcolor\": \"rgb(36,36,36)\", \"ticklen\": 8, \"ticks\": \"outside\", \"tickwidth\": 2}}, \"type\": \"histogram\"}], \"histogram2d\": [{\"colorbar\": {\"outlinewidth\": 0, \"tickcolor\": \"rgb(36,36,36)\", \"ticklen\": 8, \"ticks\": \"outside\", \"tickwidth\": 2}, \"colorscale\": [[0.0, \"rgb(2,4,25)\"], [0.06274509803921569, \"rgb(24,15,41)\"], [0.12549019607843137, \"rgb(47,23,57)\"], [0.18823529411764706, \"rgb(71,28,72)\"], [0.25098039215686274, \"rgb(97,30,82)\"], [0.3137254901960784, \"rgb(123,30,89)\"], [0.3764705882352941, \"rgb(150,27,91)\"], [0.4392156862745098, \"rgb(177,22,88)\"], [0.5019607843137255, \"rgb(203,26,79)\"], [0.5647058823529412, \"rgb(223,47,67)\"], [0.6274509803921569, \"rgb(236,76,61)\"], [0.6901960784313725, \"rgb(242,107,73)\"], [0.7529411764705882, \"rgb(244,135,95)\"], [0.8156862745098039, \"rgb(245,162,122)\"], [0.8784313725490196, \"rgb(246,188,153)\"], [0.9411764705882353, \"rgb(247,212,187)\"], [1.0, \"rgb(250,234,220)\"]], \"type\": \"histogram2d\"}], \"histogram2dcontour\": [{\"colorbar\": {\"outlinewidth\": 0, \"tickcolor\": \"rgb(36,36,36)\", \"ticklen\": 8, \"ticks\": \"outside\", \"tickwidth\": 2}, \"colorscale\": [[0.0, \"rgb(2,4,25)\"], [0.06274509803921569, \"rgb(24,15,41)\"], [0.12549019607843137, \"rgb(47,23,57)\"], [0.18823529411764706, \"rgb(71,28,72)\"], [0.25098039215686274, \"rgb(97,30,82)\"], [0.3137254901960784, \"rgb(123,30,89)\"], [0.3764705882352941, \"rgb(150,27,91)\"], [0.4392156862745098, \"rgb(177,22,88)\"], [0.5019607843137255, \"rgb(203,26,79)\"], [0.5647058823529412, \"rgb(223,47,67)\"], [0.6274509803921569, \"rgb(236,76,61)\"], [0.6901960784313725, \"rgb(242,107,73)\"], [0.7529411764705882, \"rgb(244,135,95)\"], [0.8156862745098039, \"rgb(245,162,122)\"], [0.8784313725490196, \"rgb(246,188,153)\"], [0.9411764705882353, \"rgb(247,212,187)\"], [1.0, \"rgb(250,234,220)\"]], \"type\": \"histogram2dcontour\"}], \"mesh3d\": [{\"colorbar\": {\"outlinewidth\": 0, \"tickcolor\": \"rgb(36,36,36)\", \"ticklen\": 8, \"ticks\": \"outside\", \"tickwidth\": 2}, \"type\": \"mesh3d\"}], \"parcoords\": [{\"line\": {\"colorbar\": {\"outlinewidth\": 0, \"tickcolor\": \"rgb(36,36,36)\", \"ticklen\": 8, \"ticks\": \"outside\", \"tickwidth\": 2}}, \"type\": \"parcoords\"}], \"pie\": [{\"automargin\": true, \"type\": \"pie\"}], \"scatter\": [{\"marker\": {\"colorbar\": {\"outlinewidth\": 0, \"tickcolor\": \"rgb(36,36,36)\", \"ticklen\": 8, \"ticks\": \"outside\", \"tickwidth\": 2}}, \"type\": \"scatter\"}], \"scatter3d\": [{\"line\": {\"colorbar\": {\"outlinewidth\": 0, \"tickcolor\": \"rgb(36,36,36)\", \"ticklen\": 8, \"ticks\": \"outside\", \"tickwidth\": 2}}, \"marker\": {\"colorbar\": {\"outlinewidth\": 0, \"tickcolor\": \"rgb(36,36,36)\", \"ticklen\": 8, \"ticks\": \"outside\", \"tickwidth\": 2}}, \"type\": \"scatter3d\"}], \"scattercarpet\": [{\"marker\": {\"colorbar\": {\"outlinewidth\": 0, \"tickcolor\": \"rgb(36,36,36)\", \"ticklen\": 8, \"ticks\": \"outside\", \"tickwidth\": 2}}, \"type\": \"scattercarpet\"}], \"scattergeo\": [{\"marker\": {\"colorbar\": {\"outlinewidth\": 0, \"tickcolor\": \"rgb(36,36,36)\", \"ticklen\": 8, \"ticks\": \"outside\", \"tickwidth\": 2}}, \"type\": \"scattergeo\"}], \"scattergl\": [{\"marker\": {\"colorbar\": {\"outlinewidth\": 0, \"tickcolor\": \"rgb(36,36,36)\", \"ticklen\": 8, \"ticks\": \"outside\", \"tickwidth\": 2}}, \"type\": \"scattergl\"}], \"scattermapbox\": [{\"marker\": {\"colorbar\": {\"outlinewidth\": 0, \"tickcolor\": \"rgb(36,36,36)\", \"ticklen\": 8, \"ticks\": \"outside\", \"tickwidth\": 2}}, \"type\": \"scattermapbox\"}], \"scatterpolar\": [{\"marker\": {\"colorbar\": {\"outlinewidth\": 0, \"tickcolor\": \"rgb(36,36,36)\", \"ticklen\": 8, \"ticks\": \"outside\", \"tickwidth\": 2}}, \"type\": \"scatterpolar\"}], \"scatterpolargl\": [{\"marker\": {\"colorbar\": {\"outlinewidth\": 0, \"tickcolor\": \"rgb(36,36,36)\", \"ticklen\": 8, \"ticks\": \"outside\", \"tickwidth\": 2}}, \"type\": \"scatterpolargl\"}], \"scatterternary\": [{\"marker\": {\"colorbar\": {\"outlinewidth\": 0, \"tickcolor\": \"rgb(36,36,36)\", \"ticklen\": 8, \"ticks\": \"outside\", \"tickwidth\": 2}}, \"type\": \"scatterternary\"}], \"surface\": [{\"colorbar\": {\"outlinewidth\": 0, \"tickcolor\": \"rgb(36,36,36)\", \"ticklen\": 8, \"ticks\": \"outside\", \"tickwidth\": 2}, \"colorscale\": [[0.0, \"rgb(2,4,25)\"], [0.06274509803921569, \"rgb(24,15,41)\"], [0.12549019607843137, \"rgb(47,23,57)\"], [0.18823529411764706, \"rgb(71,28,72)\"], [0.25098039215686274, \"rgb(97,30,82)\"], [0.3137254901960784, \"rgb(123,30,89)\"], [0.3764705882352941, \"rgb(150,27,91)\"], [0.4392156862745098, \"rgb(177,22,88)\"], [0.5019607843137255, \"rgb(203,26,79)\"], [0.5647058823529412, \"rgb(223,47,67)\"], [0.6274509803921569, \"rgb(236,76,61)\"], [0.6901960784313725, \"rgb(242,107,73)\"], [0.7529411764705882, \"rgb(244,135,95)\"], [0.8156862745098039, \"rgb(245,162,122)\"], [0.8784313725490196, \"rgb(246,188,153)\"], [0.9411764705882353, \"rgb(247,212,187)\"], [1.0, \"rgb(250,234,220)\"]], \"type\": \"surface\"}], \"table\": [{\"cells\": {\"fill\": {\"color\": \"rgb(231,231,240)\"}, \"line\": {\"color\": \"white\"}}, \"header\": {\"fill\": {\"color\": \"rgb(183,183,191)\"}, \"line\": {\"color\": \"white\"}}, \"type\": \"table\"}]}, \"layout\": {\"annotationdefaults\": {\"arrowcolor\": \"rgb(67,103,167)\"}, \"coloraxis\": {\"colorbar\": {\"outlinewidth\": 0, \"tickcolor\": \"rgb(36,36,36)\", \"ticklen\": 8, \"ticks\": \"outside\", \"tickwidth\": 2}}, \"colorscale\": {\"sequential\": [[0.0, \"rgb(2,4,25)\"], [0.06274509803921569, \"rgb(24,15,41)\"], [0.12549019607843137, \"rgb(47,23,57)\"], [0.18823529411764706, \"rgb(71,28,72)\"], [0.25098039215686274, \"rgb(97,30,82)\"], [0.3137254901960784, \"rgb(123,30,89)\"], [0.3764705882352941, \"rgb(150,27,91)\"], [0.4392156862745098, \"rgb(177,22,88)\"], [0.5019607843137255, \"rgb(203,26,79)\"], [0.5647058823529412, \"rgb(223,47,67)\"], [0.6274509803921569, \"rgb(236,76,61)\"], [0.6901960784313725, \"rgb(242,107,73)\"], [0.7529411764705882, \"rgb(244,135,95)\"], [0.8156862745098039, \"rgb(245,162,122)\"], [0.8784313725490196, \"rgb(246,188,153)\"], [0.9411764705882353, \"rgb(247,212,187)\"], [1.0, \"rgb(250,234,220)\"]], \"sequentialminus\": [[0.0, \"rgb(2,4,25)\"], [0.06274509803921569, \"rgb(24,15,41)\"], [0.12549019607843137, \"rgb(47,23,57)\"], [0.18823529411764706, \"rgb(71,28,72)\"], [0.25098039215686274, \"rgb(97,30,82)\"], [0.3137254901960784, \"rgb(123,30,89)\"], [0.3764705882352941, \"rgb(150,27,91)\"], [0.4392156862745098, \"rgb(177,22,88)\"], [0.5019607843137255, \"rgb(203,26,79)\"], [0.5647058823529412, \"rgb(223,47,67)\"], [0.6274509803921569, \"rgb(236,76,61)\"], [0.6901960784313725, \"rgb(242,107,73)\"], [0.7529411764705882, \"rgb(244,135,95)\"], [0.8156862745098039, \"rgb(245,162,122)\"], [0.8784313725490196, \"rgb(246,188,153)\"], [0.9411764705882353, \"rgb(247,212,187)\"], [1.0, \"rgb(250,234,220)\"]]}, \"colorway\": [\"rgb(76,114,176)\", \"rgb(221,132,82)\", \"rgb(85,168,104)\", \"rgb(196,78,82)\", \"rgb(129,114,179)\", \"rgb(147,120,96)\", \"rgb(218,139,195)\", \"rgb(140,140,140)\", \"rgb(204,185,116)\", \"rgb(100,181,205)\"], \"font\": {\"color\": \"rgb(36,36,36)\"}, \"geo\": {\"bgcolor\": \"white\", \"lakecolor\": \"white\", \"landcolor\": \"rgb(234,234,242)\", \"showlakes\": true, \"showland\": true, \"subunitcolor\": \"white\"}, \"hoverlabel\": {\"align\": \"left\"}, \"hovermode\": \"closest\", \"paper_bgcolor\": \"white\", \"plot_bgcolor\": \"rgb(234,234,242)\", \"polar\": {\"angularaxis\": {\"gridcolor\": \"white\", \"linecolor\": \"white\", \"showgrid\": true, \"ticks\": \"\"}, \"bgcolor\": \"rgb(234,234,242)\", \"radialaxis\": {\"gridcolor\": \"white\", \"linecolor\": \"white\", \"showgrid\": true, \"ticks\": \"\"}}, \"scene\": {\"xaxis\": {\"backgroundcolor\": \"rgb(234,234,242)\", \"gridcolor\": \"white\", \"gridwidth\": 2, \"linecolor\": \"white\", \"showbackground\": true, \"showgrid\": true, \"ticks\": \"\", \"zerolinecolor\": \"white\"}, \"yaxis\": {\"backgroundcolor\": \"rgb(234,234,242)\", \"gridcolor\": \"white\", \"gridwidth\": 2, \"linecolor\": \"white\", \"showbackground\": true, \"showgrid\": true, \"ticks\": \"\", \"zerolinecolor\": \"white\"}, \"zaxis\": {\"backgroundcolor\": \"rgb(234,234,242)\", \"gridcolor\": \"white\", \"gridwidth\": 2, \"linecolor\": \"white\", \"showbackground\": true, \"showgrid\": true, \"ticks\": \"\", \"zerolinecolor\": \"white\"}}, \"shapedefaults\": {\"fillcolor\": \"rgb(67,103,167)\", \"line\": {\"width\": 0}, \"opacity\": 0.5}, \"ternary\": {\"aaxis\": {\"gridcolor\": \"white\", \"linecolor\": \"white\", \"showgrid\": true, \"ticks\": \"\"}, \"baxis\": {\"gridcolor\": \"white\", \"linecolor\": \"white\", \"showgrid\": true, \"ticks\": \"\"}, \"bgcolor\": \"rgb(234,234,242)\", \"caxis\": {\"gridcolor\": \"white\", \"linecolor\": \"white\", \"showgrid\": true, \"ticks\": \"\"}}, \"xaxis\": {\"automargin\": true, \"gridcolor\": \"white\", \"linecolor\": \"white\", \"showgrid\": true, \"ticks\": \"\", \"title\": {\"standoff\": 15}, \"zerolinecolor\": \"white\"}, \"yaxis\": {\"automargin\": true, \"gridcolor\": \"white\", \"linecolor\": \"white\", \"showgrid\": true, \"ticks\": \"\", \"title\": {\"standoff\": 15}, \"zerolinecolor\": \"white\"}}}, \"xaxis\": {\"anchor\": \"y\", \"domain\": [0.0, 1.0], \"title\": {\"text\": \"Datetime\"}}, \"yaxis\": {\"anchor\": \"x\", \"domain\": [0.0, 1.0], \"title\": {\"text\": \"value\"}}},\n",
       "                        {\"responsive\": true}\n",
       "                    ).then(function(){\n",
       "                            \n",
       "var gd = document.getElementById('44cc643d-fada-4e93-8b70-8157b3be03a5');\n",
       "var x = new MutationObserver(function (mutations, observer) {{\n",
       "        var display = window.getComputedStyle(gd).display;\n",
       "        if (!display || display === 'none') {{\n",
       "            console.log([gd, 'removed!']);\n",
       "            Plotly.purge(gd);\n",
       "            observer.disconnect();\n",
       "        }}\n",
       "}});\n",
       "\n",
       "// Listen for the removal of the full notebook cells\n",
       "var notebookContainer = gd.closest('#notebook-container');\n",
       "if (notebookContainer) {{\n",
       "    x.observe(notebookContainer, {childList: true});\n",
       "}}\n",
       "\n",
       "// Listen for the clearing of the current output cell\n",
       "var outputEl = gd.closest('.output');\n",
       "if (outputEl) {{\n",
       "    x.observe(outputEl, {childList: true});\n",
       "}}\n",
       "\n",
       "                        })\n",
       "                };\n",
       "                });\n",
       "            </script>\n",
       "        </div>"
      ]
     },
     "metadata": {},
     "output_type": "display_data"
    }
   ],
   "source": [
    "px.line(result_df.astype('float'), template='seaborn')"
   ]
  },
  {
   "cell_type": "code",
   "execution_count": null,
   "metadata": {},
   "outputs": [],
   "source": []
  },
  {
   "cell_type": "code",
   "execution_count": 406,
   "metadata": {},
   "outputs": [],
   "source": [
    "signal=sdf.resample('D', on='Datetime').sum()['Total Incidents']"
   ]
  },
  {
   "cell_type": "code",
   "execution_count": 58,
   "metadata": {},
   "outputs": [],
   "source": [
    "sdf=df[df.Description=='SHOOTING']"
   ]
  },
  {
   "cell_type": "code",
   "execution_count": 163,
   "metadata": {},
   "outputs": [],
   "source": [
    "signal=sdf.resample('H', on='Datetime').sum()['Total Incidents']"
   ]
  },
  {
   "cell_type": "code",
   "execution_count": null,
   "metadata": {},
   "outputs": [],
   "source": []
  },
  {
   "cell_type": "code",
   "execution_count": null,
   "metadata": {},
   "outputs": [],
   "source": []
  },
  {
   "cell_type": "code",
   "execution_count": null,
   "metadata": {},
   "outputs": [],
   "source": []
  },
  {
   "cell_type": "code",
   "execution_count": 24,
   "metadata": {},
   "outputs": [],
   "source": [
    "mapf=px.choropleth_mapbox(data_frame=test, color='Total Incidents',locations='Neighborhood_New', geojson=neigh_geojson,featureidkey=\"properties.Name\",\n",
    "                           center={\"lat\": 39.5, \"lon\": -76.7073},\n",
    "                           mapbox_style=\"carto-positron\", zoom=9)"
   ]
  },
  {
   "cell_type": "code",
   "execution_count": 47,
   "metadata": {},
   "outputs": [
    {
     "name": "stdout",
     "output_type": "stream",
     "text": [
      "['New_District', 'DayofWeek', 'Period', 'Description', 'Total Incidents']\n"
     ]
    }
   ],
   "source": [
    "test=subset_df(['SHOOTING'],['New_District'],[2014, 2020],{'DayofWeek': 0, 'Period': 1})"
   ]
  },
  {
   "cell_type": "code",
   "execution_count": null,
   "metadata": {},
   "outputs": [],
   "source": [
    "rules=fpmax(pd.get_dummies(test.astype('str')), use_colnames=True, max_len=6, min_support=0.01)\n",
    "# rules = association_rules(fq, metric='lift', min_threshold=1)\n",
    "rules"
   ]
  },
  {
   "cell_type": "code",
   "execution_count": 334,
   "metadata": {},
   "outputs": [],
   "source": [
    "test=df[['New_District', 'Neighborhood_New','DayofWeek', 'Period', 'Month','Day','Description', 'Total Incidents']]"
   ]
  },
  {
   "cell_type": "code",
   "execution_count": 236,
   "metadata": {},
   "outputs": [],
   "source": [
    "test=test.astype('category')\n",
    "test=test.drop(columns=['Total Incidents'])"
   ]
  },
  {
   "cell_type": "code",
   "execution_count": 246,
   "metadata": {},
   "outputs": [],
   "source": [
    "test=df[(df.Description=='SHOOTING')&(df.Longitude>-80)]"
   ]
  },
  {
   "cell_type": "code",
   "execution_count": 259,
   "metadata": {},
   "outputs": [
    {
     "name": "stderr",
     "output_type": "stream",
     "text": [
      "D:\\Python37\\lib\\site-packages\\ipykernel_launcher.py:1: SettingWithCopyWarning:\n",
      "\n",
      "\n",
      "A value is trying to be set on a copy of a slice from a DataFrame.\n",
      "Try using .loc[row_indexer,col_indexer] = value instead\n",
      "\n",
      "See the caveats in the documentation: https://pandas.pydata.org/pandas-docs/stable/user_guide/indexing.html#returning-a-view-versus-a-copy\n",
      "\n",
      "D:\\Python37\\lib\\site-packages\\ipykernel_launcher.py:2: SettingWithCopyWarning:\n",
      "\n",
      "\n",
      "A value is trying to be set on a copy of a slice from a DataFrame.\n",
      "Try using .loc[row_indexer,col_indexer] = value instead\n",
      "\n",
      "See the caveats in the documentation: https://pandas.pydata.org/pandas-docs/stable/user_guide/indexing.html#returning-a-view-versus-a-copy\n",
      "\n"
     ]
    }
   ],
   "source": [
    "test['Lo']=test.Longitude.round(2)\n",
    "test['La']=test.Latitude.round(2)"
   ]
  },
  {
   "cell_type": "code",
   "execution_count": 288,
   "metadata": {},
   "outputs": [
    {
     "data": {
      "text/html": [
       "<div>\n",
       "<style scoped>\n",
       "    .dataframe tbody tr th:only-of-type {\n",
       "        vertical-align: middle;\n",
       "    }\n",
       "\n",
       "    .dataframe tbody tr th {\n",
       "        vertical-align: top;\n",
       "    }\n",
       "\n",
       "    .dataframe thead th {\n",
       "        text-align: right;\n",
       "    }\n",
       "</style>\n",
       "<table border=\"1\" class=\"dataframe\">\n",
       "  <thead>\n",
       "    <tr style=\"text-align: right;\">\n",
       "      <th></th>\n",
       "      <th>Lo</th>\n",
       "      <th>La</th>\n",
       "      <th>Year</th>\n",
       "      <th>Longitude</th>\n",
       "      <th>Latitude</th>\n",
       "      <th>Total Incidents</th>\n",
       "      <th>group_count</th>\n",
       "      <th>Month</th>\n",
       "      <th>Day</th>\n",
       "      <th>Quarter</th>\n",
       "      <th>Hour</th>\n",
       "      <th>Minute</th>\n",
       "      <th>DayofWeek</th>\n",
       "    </tr>\n",
       "  </thead>\n",
       "  <tbody>\n",
       "    <tr>\n",
       "      <th>0</th>\n",
       "      <td>-76.71</td>\n",
       "      <td>39.28</td>\n",
       "      <td>2017.0</td>\n",
       "      <td>-76.707653</td>\n",
       "      <td>39.281021</td>\n",
       "      <td>1</td>\n",
       "      <td>1</td>\n",
       "      <td>3.0</td>\n",
       "      <td>29.0</td>\n",
       "      <td>1.0</td>\n",
       "      <td>23.0</td>\n",
       "      <td>0.0</td>\n",
       "      <td>2.0</td>\n",
       "    </tr>\n",
       "    <tr>\n",
       "      <th>1</th>\n",
       "      <td>-76.71</td>\n",
       "      <td>39.29</td>\n",
       "      <td>2019.0</td>\n",
       "      <td>-76.707332</td>\n",
       "      <td>39.290862</td>\n",
       "      <td>1</td>\n",
       "      <td>1</td>\n",
       "      <td>8.0</td>\n",
       "      <td>29.0</td>\n",
       "      <td>3.0</td>\n",
       "      <td>17.0</td>\n",
       "      <td>0.0</td>\n",
       "      <td>3.0</td>\n",
       "    </tr>\n",
       "    <tr>\n",
       "      <th>2</th>\n",
       "      <td>-76.71</td>\n",
       "      <td>39.30</td>\n",
       "      <td>2015.0</td>\n",
       "      <td>-76.707916</td>\n",
       "      <td>39.296886</td>\n",
       "      <td>1</td>\n",
       "      <td>1</td>\n",
       "      <td>3.0</td>\n",
       "      <td>12.0</td>\n",
       "      <td>1.0</td>\n",
       "      <td>14.0</td>\n",
       "      <td>23.0</td>\n",
       "      <td>3.0</td>\n",
       "    </tr>\n",
       "    <tr>\n",
       "      <th>3</th>\n",
       "      <td>-76.71</td>\n",
       "      <td>39.31</td>\n",
       "      <td>2014.0</td>\n",
       "      <td>-153.413992</td>\n",
       "      <td>78.616474</td>\n",
       "      <td>2</td>\n",
       "      <td>2</td>\n",
       "      <td>19.0</td>\n",
       "      <td>31.0</td>\n",
       "      <td>7.0</td>\n",
       "      <td>45.0</td>\n",
       "      <td>34.0</td>\n",
       "      <td>3.0</td>\n",
       "    </tr>\n",
       "    <tr>\n",
       "      <th>4</th>\n",
       "      <td>-76.71</td>\n",
       "      <td>39.31</td>\n",
       "      <td>2015.0</td>\n",
       "      <td>-153.415406</td>\n",
       "      <td>78.620178</td>\n",
       "      <td>2</td>\n",
       "      <td>4</td>\n",
       "      <td>12.0</td>\n",
       "      <td>52.0</td>\n",
       "      <td>5.0</td>\n",
       "      <td>38.0</td>\n",
       "      <td>70.0</td>\n",
       "      <td>7.0</td>\n",
       "    </tr>\n",
       "    <tr>\n",
       "      <th>...</th>\n",
       "      <td>...</td>\n",
       "      <td>...</td>\n",
       "      <td>...</td>\n",
       "      <td>...</td>\n",
       "      <td>...</td>\n",
       "      <td>...</td>\n",
       "      <td>...</td>\n",
       "      <td>...</td>\n",
       "      <td>...</td>\n",
       "      <td>...</td>\n",
       "      <td>...</td>\n",
       "      <td>...</td>\n",
       "      <td>...</td>\n",
       "    </tr>\n",
       "    <tr>\n",
       "      <th>847</th>\n",
       "      <td>-76.53</td>\n",
       "      <td>39.33</td>\n",
       "      <td>2020.0</td>\n",
       "      <td>-229.600751</td>\n",
       "      <td>117.988243</td>\n",
       "      <td>3</td>\n",
       "      <td>3</td>\n",
       "      <td>16.0</td>\n",
       "      <td>57.0</td>\n",
       "      <td>6.0</td>\n",
       "      <td>31.0</td>\n",
       "      <td>44.0</td>\n",
       "      <td>14.0</td>\n",
       "    </tr>\n",
       "    <tr>\n",
       "      <th>848</th>\n",
       "      <td>-76.53</td>\n",
       "      <td>39.34</td>\n",
       "      <td>2019.0</td>\n",
       "      <td>-153.064928</td>\n",
       "      <td>78.674233</td>\n",
       "      <td>2</td>\n",
       "      <td>2</td>\n",
       "      <td>16.0</td>\n",
       "      <td>49.0</td>\n",
       "      <td>6.0</td>\n",
       "      <td>1.0</td>\n",
       "      <td>27.0</td>\n",
       "      <td>4.0</td>\n",
       "    </tr>\n",
       "    <tr>\n",
       "      <th>849</th>\n",
       "      <td>-76.53</td>\n",
       "      <td>39.35</td>\n",
       "      <td>2017.0</td>\n",
       "      <td>-153.066418</td>\n",
       "      <td>78.704183</td>\n",
       "      <td>2</td>\n",
       "      <td>2</td>\n",
       "      <td>12.0</td>\n",
       "      <td>49.0</td>\n",
       "      <td>5.0</td>\n",
       "      <td>34.0</td>\n",
       "      <td>96.0</td>\n",
       "      <td>6.0</td>\n",
       "    </tr>\n",
       "    <tr>\n",
       "      <th>850</th>\n",
       "      <td>-76.53</td>\n",
       "      <td>39.35</td>\n",
       "      <td>2019.0</td>\n",
       "      <td>-76.534255</td>\n",
       "      <td>39.351528</td>\n",
       "      <td>1</td>\n",
       "      <td>1</td>\n",
       "      <td>11.0</td>\n",
       "      <td>14.0</td>\n",
       "      <td>4.0</td>\n",
       "      <td>16.0</td>\n",
       "      <td>37.0</td>\n",
       "      <td>3.0</td>\n",
       "    </tr>\n",
       "    <tr>\n",
       "      <th>851</th>\n",
       "      <td>-76.53</td>\n",
       "      <td>39.36</td>\n",
       "      <td>2015.0</td>\n",
       "      <td>-76.530845</td>\n",
       "      <td>39.356899</td>\n",
       "      <td>1</td>\n",
       "      <td>1</td>\n",
       "      <td>5.0</td>\n",
       "      <td>10.0</td>\n",
       "      <td>2.0</td>\n",
       "      <td>2.0</td>\n",
       "      <td>22.0</td>\n",
       "      <td>6.0</td>\n",
       "    </tr>\n",
       "  </tbody>\n",
       "</table>\n",
       "<p>852 rows × 13 columns</p>\n",
       "</div>"
      ],
      "text/plain": [
       "        Lo     La    Year   Longitude    Latitude  Total Incidents  \\\n",
       "0   -76.71  39.28  2017.0  -76.707653   39.281021                1   \n",
       "1   -76.71  39.29  2019.0  -76.707332   39.290862                1   \n",
       "2   -76.71  39.30  2015.0  -76.707916   39.296886                1   \n",
       "3   -76.71  39.31  2014.0 -153.413992   78.616474                2   \n",
       "4   -76.71  39.31  2015.0 -153.415406   78.620178                2   \n",
       "..     ...    ...     ...         ...         ...              ...   \n",
       "847 -76.53  39.33  2020.0 -229.600751  117.988243                3   \n",
       "848 -76.53  39.34  2019.0 -153.064928   78.674233                2   \n",
       "849 -76.53  39.35  2017.0 -153.066418   78.704183                2   \n",
       "850 -76.53  39.35  2019.0  -76.534255   39.351528                1   \n",
       "851 -76.53  39.36  2015.0  -76.530845   39.356899                1   \n",
       "\n",
       "     group_count  Month   Day  Quarter  Hour  Minute  DayofWeek  \n",
       "0              1    3.0  29.0      1.0  23.0     0.0        2.0  \n",
       "1              1    8.0  29.0      3.0  17.0     0.0        3.0  \n",
       "2              1    3.0  12.0      1.0  14.0    23.0        3.0  \n",
       "3              2   19.0  31.0      7.0  45.0    34.0        3.0  \n",
       "4              4   12.0  52.0      5.0  38.0    70.0        7.0  \n",
       "..           ...    ...   ...      ...   ...     ...        ...  \n",
       "847            3   16.0  57.0      6.0  31.0    44.0       14.0  \n",
       "848            2   16.0  49.0      6.0   1.0    27.0        4.0  \n",
       "849            2   12.0  49.0      5.0  34.0    96.0        6.0  \n",
       "850            1   11.0  14.0      4.0  16.0    37.0        3.0  \n",
       "851            1    5.0  10.0      2.0   2.0    22.0        6.0  \n",
       "\n",
       "[852 rows x 13 columns]"
      ]
     },
     "execution_count": 288,
     "metadata": {},
     "output_type": "execute_result"
    }
   ],
   "source": [
    "test.groupby([\"Lo\",\"La\",'Year']).sum().reset_index()"
   ]
  },
  {
   "cell_type": "code",
   "execution_count": 321,
   "metadata": {},
   "outputs": [
    {
     "data": {
      "application/vnd.plotly.v1+json": {
       "config": {
        "plotlyServerURL": "https://plot.ly"
       },
       "data": [
        {
         "hovertemplate": "Description=SHOOTING<br>Lo=%{x}<br>La=%{y}<br>Month=%{z}<br>Total Incidents=%{marker.color}<extra></extra>",
         "legendgroup": "SHOOTING",
         "marker": {
          "color": [
           1,
           1,
           1,
           1,
           2,
           1,
           1,
           2,
           1,
           1,
           1,
           1,
           3,
           2,
           1,
           1,
           2,
           1,
           2,
           1,
           2,
           1,
           1,
           1,
           1,
           1,
           1,
           1,
           2,
           1,
           1,
           1,
           1,
           1,
           1,
           7,
           3,
           2,
           4,
           2,
           2,
           1,
           1,
           2,
           2,
           1,
           1,
           1,
           1,
           1,
           1,
           1,
           1,
           1,
           1,
           1,
           1,
           2,
           3,
           4,
           1,
           2,
           2,
           2,
           3,
           2,
           1,
           1,
           2,
           2,
           3,
           1,
           4,
           1,
           2,
           2,
           1,
           1,
           1,
           1,
           4,
           2,
           1,
           1,
           1,
           3,
           1,
           1,
           1,
           1,
           2,
           1,
           1,
           2,
           3,
           1,
           1,
           2,
           1,
           4,
           1,
           2,
           1,
           2,
           2,
           4,
           1,
           1,
           1,
           1,
           4,
           7,
           2,
           5,
           2,
           5,
           4,
           3,
           1,
           7,
           1,
           2,
           6,
           1,
           5,
           3,
           1,
           3,
           3,
           1,
           1,
           2,
           2,
           2,
           1,
           3,
           1,
           2,
           1,
           1,
           2,
           1,
           1,
           1,
           2,
           2,
           1,
           1,
           2,
           4,
           5,
           2,
           4,
           3,
           1,
           1,
           2,
           2,
           5,
           4,
           1,
           1,
           1,
           5,
           4,
           10,
           4,
           4,
           2,
           3,
           4,
           6,
           2,
           4,
           2,
           1,
           2,
           2,
           5,
           4,
           5,
           4,
           1,
           5,
           6,
           3,
           1,
           1,
           1,
           3,
           4,
           2,
           4,
           2,
           1,
           1,
           1,
           2,
           1,
           2,
           3,
           2,
           2,
           6,
           3,
           3,
           6,
           5,
           5,
           4,
           3,
           3,
           3,
           1,
           3,
           4,
           7,
           3,
           4,
           4,
           5,
           6,
           3,
           3,
           5,
           5,
           5,
           2,
           6,
           4,
           10,
           7,
           4,
           4,
           3,
           7,
           2,
           2,
           2,
           1,
           2,
           1,
           2,
           3,
           1,
           1,
           3,
           3,
           6,
           2,
           2,
           1,
           4,
           10,
           1,
           5,
           7,
           3,
           5,
           6,
           2,
           3,
           5,
           2,
           1,
           2,
           3,
           3,
           7,
           5,
           3,
           1,
           1,
           1,
           4,
           3,
           3,
           1,
           2,
           1,
           3,
           5,
           4,
           1,
           1,
           5,
           6,
           4,
           6,
           6,
           7,
           2,
           2,
           2,
           1,
           2,
           6,
           3,
           3,
           1,
           2,
           2,
           2,
           4,
           3,
           3,
           1,
           2,
           4,
           2,
           3,
           4,
           6,
           2,
           2,
           2,
           1,
           2,
           1,
           1,
           1,
           1,
           2,
           1,
           3,
           2,
           3,
           1,
           2,
           3,
           2,
           4,
           1,
           1,
           4,
           2,
           6,
           2,
           3,
           1,
           2,
           2,
           5,
           4,
           1,
           3,
           1,
           1,
           2,
           1,
           2,
           1,
           1,
           2,
           3,
           1,
           1,
           2,
           3,
           2,
           1,
           1,
           2,
           1,
           1,
           2,
           1,
           1,
           1,
           2,
           1,
           1,
           2,
           6,
           1,
           1,
           1,
           1,
           2,
           4,
           2,
           3,
           5,
           10,
           4,
           11,
           7,
           8,
           8,
           3,
           7,
           5,
           6,
           4,
           8,
           12,
           11,
           10,
           11,
           7,
           10,
           5,
           7,
           12,
           3,
           4,
           9,
           8,
           8,
           4,
           7,
           1,
           4,
           6,
           6,
           5,
           10,
           8,
           4,
           12,
           9,
           12,
           9,
           7,
           13,
           1,
           7,
           3,
           4,
           4,
           4,
           2,
           2,
           2,
           4,
           3,
           1,
           3,
           1,
           1,
           1,
           1,
           2,
           1,
           3,
           3,
           3,
           2,
           2,
           2,
           4,
           2,
           6,
           3,
           2,
           2,
           9,
           3,
           3,
           8,
           5,
           10,
           11,
           8,
           16,
           6,
           4,
           5,
           6,
           7,
           4,
           3,
           4,
           8,
           3,
           14,
           11,
           12,
           6,
           7,
           4,
           6,
           4,
           9,
           5,
           8,
           8,
           14,
           15,
           19,
           5,
           4,
           7,
           9,
           12,
           2,
           1,
           1,
           1,
           1,
           1,
           1,
           1,
           1,
           1,
           1,
           1,
           3,
           1,
           2,
           4,
           3,
           1,
           3,
           3,
           1,
           1,
           1,
           1,
           1,
           1,
           1,
           2,
           4,
           5,
           3,
           1,
           3,
           1,
           3,
           2,
           2,
           1,
           3,
           8,
           3,
           4,
           8,
           6,
           4,
           5,
           3,
           9,
           2,
           4,
           2,
           3,
           12,
           14,
           10,
           6,
           8,
           3,
           3,
           1,
           1,
           4,
           5,
           8,
           8,
           4,
           5,
           2,
           1,
           1,
           2,
           1,
           2,
           2,
           1,
           1,
           2,
           1,
           3,
           3,
           1,
           3,
           1,
           2,
           1,
           1,
           2,
           2,
           1,
           1,
           3,
           4,
           2,
           5,
           5,
           7,
           8,
           3,
           7,
           8,
           1,
           4,
           1,
           4,
           1,
           2,
           2,
           1,
           1,
           2,
           1,
           3,
           4,
           5,
           1,
           2,
           1,
           1,
           1,
           1,
           1,
           1,
           1,
           1,
           1,
           1,
           6,
           2,
           2,
           2,
           2,
           4,
           4,
           6,
           3,
           4,
           2,
           2,
           1,
           1,
           2,
           1,
           1,
           2,
           1,
           3,
           1,
           3,
           1,
           2,
           1,
           2,
           4,
           1,
           2,
           4,
           4,
           3,
           4,
           1,
           2,
           5,
           3,
           4,
           1,
           1,
           3,
           1,
           2,
           2,
           2,
           1,
           4,
           5,
           2,
           6,
           4,
           5,
           3,
           4,
           2,
           2,
           3,
           4,
           5,
           5,
           2,
           3,
           2,
           2,
           2,
           1,
           3,
           2,
           2,
           2,
           2,
           1,
           1,
           2,
           2,
           2,
           5,
           2,
           5,
           2,
           5,
           3,
           2,
           2,
           1,
           4,
           4,
           6,
           1,
           1,
           7,
           2,
           3,
           4,
           2,
           3,
           2,
           1,
           1,
           3,
           1,
           2,
           2,
           1,
           1,
           1,
           3,
           4,
           3,
           5,
           4,
           6,
           3,
           7,
           4,
           3,
           4,
           2,
           1,
           1,
           3,
           3,
           5,
           1,
           4,
           1,
           4,
           3,
           1,
           4,
           3,
           5,
           7,
           5,
           2,
           1,
           2,
           3,
           5,
           3,
           1,
           6,
           9,
           8,
           6,
           5,
           5,
           4,
           5,
           5,
           2,
           4,
           8,
           6,
           5,
           12,
           5,
           3,
           9,
           4,
           2,
           9,
           3,
           3,
           2,
           3,
           1,
           10,
           3,
           4,
           2,
           5,
           2,
           5,
           1,
           1,
           1,
           1,
           1,
           1,
           1,
           2,
           1,
           1,
           2,
           3,
           1,
           1,
           1,
           1,
           2,
           1,
           4,
           2,
           2,
           1,
           2,
           1,
           1,
           1,
           4,
           1,
           1,
           1,
           1,
           1,
           1,
           2,
           1,
           1,
           1,
           1,
           1,
           1,
           1,
           1,
           2,
           2,
           3,
           3,
           4,
           2,
           4,
           1,
           2,
           3,
           1,
           4,
           1,
           1,
           1,
           2,
           1,
           1,
           4,
           2,
           3,
           3,
           5,
           3,
           7,
           5,
           8,
           4,
           10,
           3,
           2,
           4,
           4,
           6,
           4,
           7,
           8,
           12,
           3,
           5,
           12,
           5,
           5,
           5,
           3,
           1,
           2,
           8,
           5,
           5,
           6,
           2,
           2,
           2,
           3,
           2,
           1,
           2,
           1,
           1,
           1,
           2,
           1,
           2,
           2,
           1,
           2,
           1,
           2,
           1,
           1,
           1,
           1,
           2,
           1,
           2,
           4,
           2,
           2,
           1,
           2,
           2,
           1,
           2,
           1,
           1,
           1,
           7,
           7,
           12,
           18,
           13,
           13,
           20,
           19,
           12,
           10,
           6,
           11,
           1,
           3,
           5,
           5,
           6,
           8,
           2,
           4,
           4,
           6,
           4,
           4,
           1,
           1,
           1,
           1,
           3,
           3,
           2,
           2,
           3,
           2,
           1,
           1,
           1,
           2,
           1,
           2,
           2,
           1,
           2,
           2,
           1,
           1,
           2,
           2,
           2,
           3,
           5,
           1,
           3,
           1,
           1,
           4,
           4,
           3,
           3,
           2,
           3,
           3,
           5,
           1,
           2,
           2,
           3,
           3,
           4,
           1,
           2,
           1,
           1,
           3,
           2,
           4,
           2,
           2,
           4,
           4,
           11,
           2,
           5,
           4,
           3,
           1,
           1,
           3,
           1,
           2,
           4,
           1,
           3,
           1,
           1,
           1,
           1,
           1,
           2,
           1,
           1,
           1,
           1,
           1,
           1,
           1,
           1,
           1,
           1,
           2,
           2,
           2,
           4,
           2,
           2,
           1,
           1,
           1,
           2,
           1,
           1,
           1,
           1,
           1,
           1,
           1,
           3,
           1,
           2,
           3,
           2,
           1,
           1,
           2,
           1,
           1,
           3,
           2,
           1,
           2,
           7,
           1,
           3,
           2,
           1,
           3,
           1,
           4,
           2,
           2,
           2,
           1,
           1,
           1,
           1,
           1,
           1,
           1,
           1,
           1,
           1,
           1,
           1,
           1,
           1,
           1,
           1,
           1,
           1,
           1,
           1,
           1,
           1,
           3,
           2,
           1,
           3,
           3,
           4,
           1,
           1,
           1,
           1,
           1,
           1,
           2,
           2,
           1,
           1,
           1,
           3,
           2,
           2,
           1,
           1,
           1,
           1,
           2,
           1,
           1,
           1,
           1,
           1,
           2,
           3,
           1,
           1,
           4,
           3,
           5,
           1,
           1,
           5,
           1,
           2,
           1,
           1,
           1,
           5,
           2,
           1,
           4,
           1,
           2,
           1,
           1,
           2,
           1,
           1,
           1,
           1,
           2,
           1,
           1,
           1,
           1,
           2,
           1,
           1,
           1,
           1,
           1,
           1,
           1,
           1,
           1,
           1,
           2,
           1,
           3,
           2,
           2,
           2,
           1,
           1,
           1,
           1,
           1,
           1,
           2,
           1
          ],
          "coloraxis": "coloraxis",
          "size": [
           1,
           1,
           1,
           1,
           2,
           1,
           1,
           2,
           1,
           1,
           1,
           1,
           3,
           2,
           1,
           1,
           2,
           1,
           2,
           1,
           2,
           1,
           1,
           1,
           1,
           1,
           1,
           1,
           2,
           1,
           1,
           1,
           1,
           1,
           1,
           7,
           3,
           2,
           4,
           2,
           2,
           1,
           1,
           2,
           2,
           1,
           1,
           1,
           1,
           1,
           1,
           1,
           1,
           1,
           1,
           1,
           1,
           2,
           3,
           4,
           1,
           2,
           2,
           2,
           3,
           2,
           1,
           1,
           2,
           2,
           3,
           1,
           4,
           1,
           2,
           2,
           1,
           1,
           1,
           1,
           4,
           2,
           1,
           1,
           1,
           3,
           1,
           1,
           1,
           1,
           2,
           1,
           1,
           2,
           3,
           1,
           1,
           2,
           1,
           4,
           1,
           2,
           1,
           2,
           2,
           4,
           1,
           1,
           1,
           1,
           4,
           7,
           2,
           5,
           2,
           5,
           4,
           3,
           1,
           7,
           1,
           2,
           6,
           1,
           5,
           3,
           1,
           3,
           3,
           1,
           1,
           2,
           2,
           2,
           1,
           3,
           1,
           2,
           1,
           1,
           2,
           1,
           1,
           1,
           2,
           2,
           1,
           1,
           2,
           4,
           5,
           2,
           4,
           3,
           1,
           1,
           2,
           2,
           5,
           4,
           1,
           1,
           1,
           5,
           4,
           10,
           4,
           4,
           2,
           3,
           4,
           6,
           2,
           4,
           2,
           1,
           2,
           2,
           5,
           4,
           5,
           4,
           1,
           5,
           6,
           3,
           1,
           1,
           1,
           3,
           4,
           2,
           4,
           2,
           1,
           1,
           1,
           2,
           1,
           2,
           3,
           2,
           2,
           6,
           3,
           3,
           6,
           5,
           5,
           4,
           3,
           3,
           3,
           1,
           3,
           4,
           7,
           3,
           4,
           4,
           5,
           6,
           3,
           3,
           5,
           5,
           5,
           2,
           6,
           4,
           10,
           7,
           4,
           4,
           3,
           7,
           2,
           2,
           2,
           1,
           2,
           1,
           2,
           3,
           1,
           1,
           3,
           3,
           6,
           2,
           2,
           1,
           4,
           10,
           1,
           5,
           7,
           3,
           5,
           6,
           2,
           3,
           5,
           2,
           1,
           2,
           3,
           3,
           7,
           5,
           3,
           1,
           1,
           1,
           4,
           3,
           3,
           1,
           2,
           1,
           3,
           5,
           4,
           1,
           1,
           5,
           6,
           4,
           6,
           6,
           7,
           2,
           2,
           2,
           1,
           2,
           6,
           3,
           3,
           1,
           2,
           2,
           2,
           4,
           3,
           3,
           1,
           2,
           4,
           2,
           3,
           4,
           6,
           2,
           2,
           2,
           1,
           2,
           1,
           1,
           1,
           1,
           2,
           1,
           3,
           2,
           3,
           1,
           2,
           3,
           2,
           4,
           1,
           1,
           4,
           2,
           6,
           2,
           3,
           1,
           2,
           2,
           5,
           4,
           1,
           3,
           1,
           1,
           2,
           1,
           2,
           1,
           1,
           2,
           3,
           1,
           1,
           2,
           3,
           2,
           1,
           1,
           2,
           1,
           1,
           2,
           1,
           1,
           1,
           2,
           1,
           1,
           2,
           6,
           1,
           1,
           1,
           1,
           2,
           4,
           2,
           3,
           5,
           10,
           4,
           11,
           7,
           8,
           8,
           3,
           7,
           5,
           6,
           4,
           8,
           12,
           11,
           10,
           11,
           7,
           10,
           5,
           7,
           12,
           3,
           4,
           9,
           8,
           8,
           4,
           7,
           1,
           4,
           6,
           6,
           5,
           10,
           8,
           4,
           12,
           9,
           12,
           9,
           7,
           13,
           1,
           7,
           3,
           4,
           4,
           4,
           2,
           2,
           2,
           4,
           3,
           1,
           3,
           1,
           1,
           1,
           1,
           2,
           1,
           3,
           3,
           3,
           2,
           2,
           2,
           4,
           2,
           6,
           3,
           2,
           2,
           9,
           3,
           3,
           8,
           5,
           10,
           11,
           8,
           16,
           6,
           4,
           5,
           6,
           7,
           4,
           3,
           4,
           8,
           3,
           14,
           11,
           12,
           6,
           7,
           4,
           6,
           4,
           9,
           5,
           8,
           8,
           14,
           15,
           19,
           5,
           4,
           7,
           9,
           12,
           2,
           1,
           1,
           1,
           1,
           1,
           1,
           1,
           1,
           1,
           1,
           1,
           3,
           1,
           2,
           4,
           3,
           1,
           3,
           3,
           1,
           1,
           1,
           1,
           1,
           1,
           1,
           2,
           4,
           5,
           3,
           1,
           3,
           1,
           3,
           2,
           2,
           1,
           3,
           8,
           3,
           4,
           8,
           6,
           4,
           5,
           3,
           9,
           2,
           4,
           2,
           3,
           12,
           14,
           10,
           6,
           8,
           3,
           3,
           1,
           1,
           4,
           5,
           8,
           8,
           4,
           5,
           2,
           1,
           1,
           2,
           1,
           2,
           2,
           1,
           1,
           2,
           1,
           3,
           3,
           1,
           3,
           1,
           2,
           1,
           1,
           2,
           2,
           1,
           1,
           3,
           4,
           2,
           5,
           5,
           7,
           8,
           3,
           7,
           8,
           1,
           4,
           1,
           4,
           1,
           2,
           2,
           1,
           1,
           2,
           1,
           3,
           4,
           5,
           1,
           2,
           1,
           1,
           1,
           1,
           1,
           1,
           1,
           1,
           1,
           1,
           6,
           2,
           2,
           2,
           2,
           4,
           4,
           6,
           3,
           4,
           2,
           2,
           1,
           1,
           2,
           1,
           1,
           2,
           1,
           3,
           1,
           3,
           1,
           2,
           1,
           2,
           4,
           1,
           2,
           4,
           4,
           3,
           4,
           1,
           2,
           5,
           3,
           4,
           1,
           1,
           3,
           1,
           2,
           2,
           2,
           1,
           4,
           5,
           2,
           6,
           4,
           5,
           3,
           4,
           2,
           2,
           3,
           4,
           5,
           5,
           2,
           3,
           2,
           2,
           2,
           1,
           3,
           2,
           2,
           2,
           2,
           1,
           1,
           2,
           2,
           2,
           5,
           2,
           5,
           2,
           5,
           3,
           2,
           2,
           1,
           4,
           4,
           6,
           1,
           1,
           7,
           2,
           3,
           4,
           2,
           3,
           2,
           1,
           1,
           3,
           1,
           2,
           2,
           1,
           1,
           1,
           3,
           4,
           3,
           5,
           4,
           6,
           3,
           7,
           4,
           3,
           4,
           2,
           1,
           1,
           3,
           3,
           5,
           1,
           4,
           1,
           4,
           3,
           1,
           4,
           3,
           5,
           7,
           5,
           2,
           1,
           2,
           3,
           5,
           3,
           1,
           6,
           9,
           8,
           6,
           5,
           5,
           4,
           5,
           5,
           2,
           4,
           8,
           6,
           5,
           12,
           5,
           3,
           9,
           4,
           2,
           9,
           3,
           3,
           2,
           3,
           1,
           10,
           3,
           4,
           2,
           5,
           2,
           5,
           1,
           1,
           1,
           1,
           1,
           1,
           1,
           2,
           1,
           1,
           2,
           3,
           1,
           1,
           1,
           1,
           2,
           1,
           4,
           2,
           2,
           1,
           2,
           1,
           1,
           1,
           4,
           1,
           1,
           1,
           1,
           1,
           1,
           2,
           1,
           1,
           1,
           1,
           1,
           1,
           1,
           1,
           2,
           2,
           3,
           3,
           4,
           2,
           4,
           1,
           2,
           3,
           1,
           4,
           1,
           1,
           1,
           2,
           1,
           1,
           4,
           2,
           3,
           3,
           5,
           3,
           7,
           5,
           8,
           4,
           10,
           3,
           2,
           4,
           4,
           6,
           4,
           7,
           8,
           12,
           3,
           5,
           12,
           5,
           5,
           5,
           3,
           1,
           2,
           8,
           5,
           5,
           6,
           2,
           2,
           2,
           3,
           2,
           1,
           2,
           1,
           1,
           1,
           2,
           1,
           2,
           2,
           1,
           2,
           1,
           2,
           1,
           1,
           1,
           1,
           2,
           1,
           2,
           4,
           2,
           2,
           1,
           2,
           2,
           1,
           2,
           1,
           1,
           1,
           7,
           7,
           12,
           18,
           13,
           13,
           20,
           19,
           12,
           10,
           6,
           11,
           1,
           3,
           5,
           5,
           6,
           8,
           2,
           4,
           4,
           6,
           4,
           4,
           1,
           1,
           1,
           1,
           3,
           3,
           2,
           2,
           3,
           2,
           1,
           1,
           1,
           2,
           1,
           2,
           2,
           1,
           2,
           2,
           1,
           1,
           2,
           2,
           2,
           3,
           5,
           1,
           3,
           1,
           1,
           4,
           4,
           3,
           3,
           2,
           3,
           3,
           5,
           1,
           2,
           2,
           3,
           3,
           4,
           1,
           2,
           1,
           1,
           3,
           2,
           4,
           2,
           2,
           4,
           4,
           11,
           2,
           5,
           4,
           3,
           1,
           1,
           3,
           1,
           2,
           4,
           1,
           3,
           1,
           1,
           1,
           1,
           1,
           2,
           1,
           1,
           1,
           1,
           1,
           1,
           1,
           1,
           1,
           1,
           2,
           2,
           2,
           4,
           2,
           2,
           1,
           1,
           1,
           2,
           1,
           1,
           1,
           1,
           1,
           1,
           1,
           3,
           1,
           2,
           3,
           2,
           1,
           1,
           2,
           1,
           1,
           3,
           2,
           1,
           2,
           7,
           1,
           3,
           2,
           1,
           3,
           1,
           4,
           2,
           2,
           2,
           1,
           1,
           1,
           1,
           1,
           1,
           1,
           1,
           1,
           1,
           1,
           1,
           1,
           1,
           1,
           1,
           1,
           1,
           1,
           1,
           1,
           1,
           3,
           2,
           1,
           3,
           3,
           4,
           1,
           1,
           1,
           1,
           1,
           1,
           2,
           2,
           1,
           1,
           1,
           3,
           2,
           2,
           1,
           1,
           1,
           1,
           2,
           1,
           1,
           1,
           1,
           1,
           2,
           3,
           1,
           1,
           4,
           3,
           5,
           1,
           1,
           5,
           1,
           2,
           1,
           1,
           1,
           5,
           2,
           1,
           4,
           1,
           2,
           1,
           1,
           2,
           1,
           1,
           1,
           1,
           2,
           1,
           1,
           1,
           1,
           2,
           1,
           1,
           1,
           1,
           1,
           1,
           1,
           1,
           1,
           1,
           2,
           1,
           3,
           2,
           2,
           2,
           1,
           1,
           1,
           1,
           1,
           1,
           2,
           1
          ],
          "sizemode": "area",
          "sizeref": 0.05,
          "symbol": "circle"
         },
         "mode": "markers",
         "name": "SHOOTING",
         "scene": "scene",
         "showlegend": true,
         "type": "scatter3d",
         "x": [
          -76.71,
          -76.71,
          -76.71,
          -76.71,
          -76.71,
          -76.71,
          -76.71,
          -76.71,
          -76.71,
          -76.71,
          -76.71,
          -76.71,
          -76.71,
          -76.71,
          -76.71,
          -76.7,
          -76.7,
          -76.7,
          -76.7,
          -76.7,
          -76.7,
          -76.7,
          -76.7,
          -76.7,
          -76.7,
          -76.7,
          -76.7,
          -76.7,
          -76.7,
          -76.7,
          -76.7,
          -76.7,
          -76.7,
          -76.7,
          -76.7,
          -76.7,
          -76.7,
          -76.7,
          -76.7,
          -76.7,
          -76.7,
          -76.7,
          -76.7,
          -76.7,
          -76.7,
          -76.7,
          -76.7,
          -76.7,
          -76.7,
          -76.7,
          -76.7,
          -76.7,
          -76.7,
          -76.7,
          -76.69,
          -76.69,
          -76.69,
          -76.69,
          -76.69,
          -76.69,
          -76.69,
          -76.69,
          -76.69,
          -76.69,
          -76.69,
          -76.69,
          -76.69,
          -76.69,
          -76.69,
          -76.69,
          -76.69,
          -76.69,
          -76.69,
          -76.69,
          -76.69,
          -76.69,
          -76.69,
          -76.69,
          -76.69,
          -76.69,
          -76.69,
          -76.69,
          -76.69,
          -76.69,
          -76.69,
          -76.69,
          -76.69,
          -76.69,
          -76.69,
          -76.69,
          -76.69,
          -76.69,
          -76.69,
          -76.69,
          -76.69,
          -76.69,
          -76.69,
          -76.69,
          -76.69,
          -76.69,
          -76.69,
          -76.69,
          -76.69,
          -76.69,
          -76.69,
          -76.69,
          -76.69,
          -76.68,
          -76.68,
          -76.68,
          -76.68,
          -76.68,
          -76.68,
          -76.68,
          -76.68,
          -76.68,
          -76.68,
          -76.68,
          -76.68,
          -76.68,
          -76.68,
          -76.68,
          -76.68,
          -76.68,
          -76.68,
          -76.68,
          -76.68,
          -76.68,
          -76.68,
          -76.68,
          -76.68,
          -76.68,
          -76.68,
          -76.68,
          -76.68,
          -76.68,
          -76.68,
          -76.68,
          -76.68,
          -76.68,
          -76.68,
          -76.68,
          -76.68,
          -76.68,
          -76.68,
          -76.68,
          -76.68,
          -76.68,
          -76.68,
          -76.68,
          -76.68,
          -76.68,
          -76.68,
          -76.68,
          -76.68,
          -76.68,
          -76.68,
          -76.68,
          -76.68,
          -76.68,
          -76.68,
          -76.68,
          -76.68,
          -76.68,
          -76.68,
          -76.68,
          -76.68,
          -76.68,
          -76.68,
          -76.68,
          -76.68,
          -76.68,
          -76.68,
          -76.68,
          -76.68,
          -76.68,
          -76.68,
          -76.68,
          -76.68,
          -76.68,
          -76.68,
          -76.68,
          -76.68,
          -76.68,
          -76.68,
          -76.68,
          -76.68,
          -76.68,
          -76.68,
          -76.67,
          -76.67,
          -76.67,
          -76.67,
          -76.67,
          -76.67,
          -76.67,
          -76.67,
          -76.67,
          -76.67,
          -76.67,
          -76.67,
          -76.67,
          -76.67,
          -76.67,
          -76.67,
          -76.67,
          -76.67,
          -76.67,
          -76.67,
          -76.67,
          -76.67,
          -76.67,
          -76.67,
          -76.67,
          -76.67,
          -76.67,
          -76.67,
          -76.67,
          -76.67,
          -76.67,
          -76.67,
          -76.67,
          -76.67,
          -76.67,
          -76.67,
          -76.67,
          -76.67,
          -76.67,
          -76.67,
          -76.67,
          -76.67,
          -76.67,
          -76.67,
          -76.67,
          -76.67,
          -76.67,
          -76.67,
          -76.67,
          -76.67,
          -76.67,
          -76.67,
          -76.67,
          -76.67,
          -76.67,
          -76.67,
          -76.67,
          -76.67,
          -76.67,
          -76.67,
          -76.67,
          -76.67,
          -76.67,
          -76.67,
          -76.67,
          -76.67,
          -76.67,
          -76.67,
          -76.67,
          -76.67,
          -76.67,
          -76.67,
          -76.67,
          -76.67,
          -76.67,
          -76.67,
          -76.67,
          -76.67,
          -76.67,
          -76.67,
          -76.67,
          -76.67,
          -76.66,
          -76.66,
          -76.66,
          -76.66,
          -76.66,
          -76.66,
          -76.66,
          -76.66,
          -76.66,
          -76.66,
          -76.66,
          -76.66,
          -76.66,
          -76.66,
          -76.66,
          -76.66,
          -76.66,
          -76.66,
          -76.66,
          -76.66,
          -76.66,
          -76.66,
          -76.66,
          -76.66,
          -76.66,
          -76.66,
          -76.66,
          -76.66,
          -76.66,
          -76.66,
          -76.66,
          -76.66,
          -76.66,
          -76.66,
          -76.66,
          -76.66,
          -76.66,
          -76.66,
          -76.66,
          -76.66,
          -76.66,
          -76.66,
          -76.66,
          -76.66,
          -76.66,
          -76.66,
          -76.66,
          -76.66,
          -76.66,
          -76.66,
          -76.66,
          -76.66,
          -76.66,
          -76.66,
          -76.66,
          -76.66,
          -76.66,
          -76.66,
          -76.66,
          -76.66,
          -76.66,
          -76.66,
          -76.66,
          -76.66,
          -76.66,
          -76.66,
          -76.66,
          -76.66,
          -76.66,
          -76.66,
          -76.66,
          -76.66,
          -76.66,
          -76.66,
          -76.66,
          -76.66,
          -76.66,
          -76.66,
          -76.66,
          -76.66,
          -76.66,
          -76.66,
          -76.66,
          -76.66,
          -76.66,
          -76.65,
          -76.65,
          -76.65,
          -76.65,
          -76.65,
          -76.65,
          -76.65,
          -76.65,
          -76.65,
          -76.65,
          -76.65,
          -76.65,
          -76.65,
          -76.65,
          -76.65,
          -76.65,
          -76.65,
          -76.65,
          -76.65,
          -76.65,
          -76.65,
          -76.65,
          -76.65,
          -76.65,
          -76.65,
          -76.65,
          -76.65,
          -76.65,
          -76.65,
          -76.65,
          -76.65,
          -76.65,
          -76.65,
          -76.65,
          -76.65,
          -76.65,
          -76.65,
          -76.65,
          -76.65,
          -76.65,
          -76.65,
          -76.65,
          -76.65,
          -76.65,
          -76.65,
          -76.65,
          -76.65,
          -76.65,
          -76.65,
          -76.65,
          -76.65,
          -76.65,
          -76.65,
          -76.65,
          -76.65,
          -76.65,
          -76.65,
          -76.65,
          -76.65,
          -76.65,
          -76.65,
          -76.65,
          -76.65,
          -76.65,
          -76.65,
          -76.65,
          -76.65,
          -76.65,
          -76.65,
          -76.65,
          -76.65,
          -76.65,
          -76.65,
          -76.65,
          -76.65,
          -76.65,
          -76.65,
          -76.65,
          -76.65,
          -76.65,
          -76.65,
          -76.65,
          -76.65,
          -76.65,
          -76.64,
          -76.64,
          -76.64,
          -76.64,
          -76.64,
          -76.64,
          -76.64,
          -76.64,
          -76.64,
          -76.64,
          -76.64,
          -76.64,
          -76.64,
          -76.64,
          -76.64,
          -76.64,
          -76.64,
          -76.64,
          -76.64,
          -76.64,
          -76.64,
          -76.64,
          -76.64,
          -76.64,
          -76.64,
          -76.64,
          -76.64,
          -76.64,
          -76.64,
          -76.64,
          -76.64,
          -76.64,
          -76.64,
          -76.64,
          -76.64,
          -76.64,
          -76.64,
          -76.64,
          -76.64,
          -76.64,
          -76.64,
          -76.64,
          -76.64,
          -76.64,
          -76.64,
          -76.64,
          -76.64,
          -76.64,
          -76.64,
          -76.64,
          -76.64,
          -76.64,
          -76.64,
          -76.64,
          -76.64,
          -76.64,
          -76.64,
          -76.64,
          -76.64,
          -76.64,
          -76.64,
          -76.63,
          -76.63,
          -76.63,
          -76.63,
          -76.63,
          -76.63,
          -76.63,
          -76.63,
          -76.63,
          -76.63,
          -76.63,
          -76.63,
          -76.63,
          -76.63,
          -76.63,
          -76.63,
          -76.63,
          -76.63,
          -76.63,
          -76.63,
          -76.63,
          -76.63,
          -76.63,
          -76.63,
          -76.63,
          -76.63,
          -76.63,
          -76.63,
          -76.63,
          -76.63,
          -76.63,
          -76.63,
          -76.63,
          -76.63,
          -76.63,
          -76.63,
          -76.63,
          -76.63,
          -76.63,
          -76.63,
          -76.63,
          -76.63,
          -76.63,
          -76.63,
          -76.63,
          -76.63,
          -76.63,
          -76.63,
          -76.63,
          -76.63,
          -76.63,
          -76.63,
          -76.63,
          -76.63,
          -76.63,
          -76.63,
          -76.63,
          -76.63,
          -76.63,
          -76.63,
          -76.63,
          -76.63,
          -76.63,
          -76.63,
          -76.63,
          -76.62,
          -76.62,
          -76.62,
          -76.62,
          -76.62,
          -76.62,
          -76.62,
          -76.62,
          -76.62,
          -76.62,
          -76.62,
          -76.62,
          -76.62,
          -76.62,
          -76.62,
          -76.62,
          -76.62,
          -76.62,
          -76.62,
          -76.62,
          -76.62,
          -76.62,
          -76.62,
          -76.62,
          -76.62,
          -76.62,
          -76.62,
          -76.62,
          -76.62,
          -76.62,
          -76.62,
          -76.62,
          -76.62,
          -76.62,
          -76.62,
          -76.62,
          -76.62,
          -76.62,
          -76.62,
          -76.62,
          -76.62,
          -76.62,
          -76.62,
          -76.62,
          -76.62,
          -76.62,
          -76.62,
          -76.62,
          -76.62,
          -76.62,
          -76.62,
          -76.61,
          -76.61,
          -76.61,
          -76.61,
          -76.61,
          -76.61,
          -76.61,
          -76.61,
          -76.61,
          -76.61,
          -76.61,
          -76.61,
          -76.61,
          -76.61,
          -76.61,
          -76.61,
          -76.61,
          -76.61,
          -76.61,
          -76.61,
          -76.61,
          -76.61,
          -76.61,
          -76.61,
          -76.61,
          -76.61,
          -76.61,
          -76.61,
          -76.61,
          -76.61,
          -76.61,
          -76.61,
          -76.61,
          -76.61,
          -76.61,
          -76.61,
          -76.61,
          -76.61,
          -76.61,
          -76.61,
          -76.61,
          -76.61,
          -76.61,
          -76.61,
          -76.61,
          -76.61,
          -76.61,
          -76.61,
          -76.61,
          -76.61,
          -76.61,
          -76.61,
          -76.61,
          -76.61,
          -76.61,
          -76.61,
          -76.61,
          -76.61,
          -76.61,
          -76.61,
          -76.61,
          -76.61,
          -76.61,
          -76.61,
          -76.61,
          -76.61,
          -76.61,
          -76.61,
          -76.61,
          -76.61,
          -76.61,
          -76.61,
          -76.61,
          -76.61,
          -76.61,
          -76.61,
          -76.61,
          -76.61,
          -76.61,
          -76.61,
          -76.61,
          -76.61,
          -76.61,
          -76.61,
          -76.61,
          -76.61,
          -76.61,
          -76.61,
          -76.61,
          -76.61,
          -76.61,
          -76.61,
          -76.61,
          -76.61,
          -76.61,
          -76.61,
          -76.61,
          -76.61,
          -76.61,
          -76.61,
          -76.61,
          -76.61,
          -76.61,
          -76.61,
          -76.61,
          -76.61,
          -76.61,
          -76.61,
          -76.6,
          -76.6,
          -76.6,
          -76.6,
          -76.6,
          -76.6,
          -76.6,
          -76.6,
          -76.6,
          -76.6,
          -76.6,
          -76.6,
          -76.6,
          -76.6,
          -76.6,
          -76.6,
          -76.6,
          -76.6,
          -76.6,
          -76.6,
          -76.6,
          -76.6,
          -76.6,
          -76.6,
          -76.6,
          -76.6,
          -76.6,
          -76.6,
          -76.6,
          -76.6,
          -76.6,
          -76.6,
          -76.6,
          -76.6,
          -76.6,
          -76.6,
          -76.6,
          -76.6,
          -76.6,
          -76.6,
          -76.6,
          -76.6,
          -76.6,
          -76.6,
          -76.6,
          -76.6,
          -76.6,
          -76.6,
          -76.6,
          -76.6,
          -76.6,
          -76.6,
          -76.6,
          -76.6,
          -76.6,
          -76.6,
          -76.6,
          -76.6,
          -76.6,
          -76.6,
          -76.6,
          -76.6,
          -76.6,
          -76.6,
          -76.6,
          -76.6,
          -76.6,
          -76.6,
          -76.6,
          -76.6,
          -76.6,
          -76.6,
          -76.6,
          -76.6,
          -76.6,
          -76.6,
          -76.6,
          -76.6,
          -76.6,
          -76.6,
          -76.6,
          -76.6,
          -76.6,
          -76.6,
          -76.6,
          -76.6,
          -76.6,
          -76.6,
          -76.6,
          -76.6,
          -76.6,
          -76.6,
          -76.6,
          -76.6,
          -76.6,
          -76.6,
          -76.6,
          -76.6,
          -76.6,
          -76.6,
          -76.6,
          -76.6,
          -76.6,
          -76.6,
          -76.6,
          -76.6,
          -76.59,
          -76.59,
          -76.59,
          -76.59,
          -76.59,
          -76.59,
          -76.59,
          -76.59,
          -76.59,
          -76.59,
          -76.59,
          -76.59,
          -76.59,
          -76.59,
          -76.59,
          -76.59,
          -76.59,
          -76.59,
          -76.59,
          -76.59,
          -76.59,
          -76.59,
          -76.59,
          -76.59,
          -76.59,
          -76.59,
          -76.59,
          -76.59,
          -76.59,
          -76.59,
          -76.59,
          -76.59,
          -76.59,
          -76.59,
          -76.59,
          -76.59,
          -76.59,
          -76.59,
          -76.59,
          -76.59,
          -76.59,
          -76.59,
          -76.59,
          -76.59,
          -76.59,
          -76.59,
          -76.59,
          -76.59,
          -76.59,
          -76.59,
          -76.59,
          -76.59,
          -76.59,
          -76.59,
          -76.59,
          -76.59,
          -76.59,
          -76.59,
          -76.59,
          -76.59,
          -76.59,
          -76.59,
          -76.59,
          -76.59,
          -76.59,
          -76.59,
          -76.59,
          -76.59,
          -76.59,
          -76.59,
          -76.59,
          -76.59,
          -76.59,
          -76.59,
          -76.59,
          -76.59,
          -76.59,
          -76.59,
          -76.59,
          -76.59,
          -76.59,
          -76.59,
          -76.59,
          -76.59,
          -76.59,
          -76.59,
          -76.59,
          -76.58,
          -76.58,
          -76.58,
          -76.58,
          -76.58,
          -76.58,
          -76.58,
          -76.58,
          -76.58,
          -76.58,
          -76.58,
          -76.58,
          -76.58,
          -76.58,
          -76.58,
          -76.58,
          -76.58,
          -76.58,
          -76.58,
          -76.58,
          -76.58,
          -76.58,
          -76.58,
          -76.58,
          -76.58,
          -76.58,
          -76.58,
          -76.58,
          -76.58,
          -76.58,
          -76.58,
          -76.58,
          -76.58,
          -76.58,
          -76.58,
          -76.58,
          -76.58,
          -76.58,
          -76.58,
          -76.58,
          -76.58,
          -76.58,
          -76.58,
          -76.58,
          -76.58,
          -76.58,
          -76.58,
          -76.58,
          -76.58,
          -76.58,
          -76.58,
          -76.57,
          -76.57,
          -76.57,
          -76.57,
          -76.57,
          -76.57,
          -76.57,
          -76.57,
          -76.57,
          -76.57,
          -76.57,
          -76.57,
          -76.57,
          -76.57,
          -76.57,
          -76.57,
          -76.57,
          -76.57,
          -76.57,
          -76.57,
          -76.57,
          -76.57,
          -76.57,
          -76.57,
          -76.57,
          -76.57,
          -76.57,
          -76.57,
          -76.57,
          -76.57,
          -76.57,
          -76.57,
          -76.57,
          -76.57,
          -76.57,
          -76.57,
          -76.57,
          -76.57,
          -76.57,
          -76.57,
          -76.57,
          -76.57,
          -76.57,
          -76.57,
          -76.57,
          -76.57,
          -76.57,
          -76.57,
          -76.57,
          -76.57,
          -76.57,
          -76.57,
          -76.57,
          -76.57,
          -76.57,
          -76.57,
          -76.57,
          -76.57,
          -76.57,
          -76.57,
          -76.57,
          -76.57,
          -76.57,
          -76.57,
          -76.57,
          -76.57,
          -76.57,
          -76.57,
          -76.57,
          -76.57,
          -76.57,
          -76.56,
          -76.56,
          -76.56,
          -76.56,
          -76.56,
          -76.56,
          -76.56,
          -76.56,
          -76.56,
          -76.56,
          -76.56,
          -76.56,
          -76.56,
          -76.56,
          -76.56,
          -76.56,
          -76.56,
          -76.56,
          -76.56,
          -76.56,
          -76.56,
          -76.56,
          -76.56,
          -76.56,
          -76.56,
          -76.56,
          -76.56,
          -76.56,
          -76.56,
          -76.56,
          -76.56,
          -76.56,
          -76.56,
          -76.56,
          -76.56,
          -76.56,
          -76.56,
          -76.56,
          -76.56,
          -76.56,
          -76.56,
          -76.56,
          -76.56,
          -76.56,
          -76.56,
          -76.56,
          -76.56,
          -76.56,
          -76.56,
          -76.56,
          -76.55,
          -76.55,
          -76.55,
          -76.55,
          -76.55,
          -76.55,
          -76.55,
          -76.55,
          -76.55,
          -76.55,
          -76.55,
          -76.55,
          -76.55,
          -76.55,
          -76.55,
          -76.55,
          -76.55,
          -76.55,
          -76.55,
          -76.55,
          -76.55,
          -76.55,
          -76.55,
          -76.55,
          -76.55,
          -76.55,
          -76.55,
          -76.55,
          -76.55,
          -76.55,
          -76.55,
          -76.55,
          -76.55,
          -76.55,
          -76.55,
          -76.55,
          -76.54,
          -76.54,
          -76.54,
          -76.54,
          -76.54,
          -76.54,
          -76.54,
          -76.54,
          -76.54,
          -76.54,
          -76.54,
          -76.54,
          -76.54,
          -76.54,
          -76.54,
          -76.54,
          -76.54,
          -76.54,
          -76.54,
          -76.54,
          -76.54,
          -76.54,
          -76.54,
          -76.54,
          -76.54,
          -76.54,
          -76.54,
          -76.54,
          -76.54,
          -76.54,
          -76.54,
          -76.54,
          -76.54,
          -76.54,
          -76.54,
          -76.54,
          -76.54,
          -76.53,
          -76.53,
          -76.53,
          -76.53,
          -76.53,
          -76.53,
          -76.53,
          -76.53,
          -76.53,
          -76.53,
          -76.53,
          -76.53,
          -76.53,
          -76.53,
          -76.53,
          -76.53,
          -76.53,
          -76.53,
          -76.53,
          -76.53,
          -76.53,
          -76.53
         ],
         "y": [
          39.28,
          39.29,
          39.3,
          39.31,
          39.31,
          39.31,
          39.31,
          39.33,
          39.35,
          39.36,
          39.36,
          39.36,
          39.36,
          39.36,
          39.36,
          39.27,
          39.28,
          39.28,
          39.28,
          39.28,
          39.28,
          39.28,
          39.28,
          39.28,
          39.29,
          39.29,
          39.31,
          39.31,
          39.31,
          39.31,
          39.33,
          39.33,
          39.33,
          39.33,
          39.33,
          39.33,
          39.33,
          39.33,
          39.33,
          39.33,
          39.34,
          39.34,
          39.34,
          39.34,
          39.34,
          39.34,
          39.34,
          39.35,
          39.35,
          39.35,
          39.35,
          39.36,
          39.36,
          39.37,
          39.27,
          39.27,
          39.27,
          39.28,
          39.28,
          39.28,
          39.28,
          39.28,
          39.28,
          39.28,
          39.28,
          39.29,
          39.29,
          39.29,
          39.29,
          39.29,
          39.29,
          39.29,
          39.3,
          39.3,
          39.3,
          39.3,
          39.3,
          39.3,
          39.3,
          39.3,
          39.32,
          39.32,
          39.32,
          39.32,
          39.32,
          39.32,
          39.32,
          39.33,
          39.33,
          39.33,
          39.33,
          39.34,
          39.34,
          39.34,
          39.34,
          39.34,
          39.34,
          39.34,
          39.34,
          39.35,
          39.35,
          39.35,
          39.35,
          39.35,
          39.35,
          39.35,
          39.35,
          39.27,
          39.28,
          39.28,
          39.28,
          39.28,
          39.28,
          39.28,
          39.28,
          39.28,
          39.28,
          39.28,
          39.28,
          39.28,
          39.29,
          39.29,
          39.29,
          39.29,
          39.29,
          39.29,
          39.29,
          39.29,
          39.29,
          39.29,
          39.3,
          39.3,
          39.3,
          39.3,
          39.3,
          39.3,
          39.3,
          39.3,
          39.3,
          39.31,
          39.31,
          39.31,
          39.31,
          39.31,
          39.32,
          39.32,
          39.32,
          39.32,
          39.32,
          39.32,
          39.32,
          39.32,
          39.33,
          39.33,
          39.33,
          39.33,
          39.33,
          39.33,
          39.33,
          39.33,
          39.33,
          39.33,
          39.34,
          39.34,
          39.34,
          39.34,
          39.34,
          39.34,
          39.34,
          39.34,
          39.34,
          39.34,
          39.34,
          39.34,
          39.35,
          39.35,
          39.35,
          39.35,
          39.35,
          39.35,
          39.35,
          39.35,
          39.35,
          39.35,
          39.35,
          39.35,
          39.36,
          39.36,
          39.36,
          39.27,
          39.27,
          39.27,
          39.27,
          39.28,
          39.28,
          39.28,
          39.28,
          39.28,
          39.28,
          39.28,
          39.29,
          39.29,
          39.29,
          39.29,
          39.29,
          39.29,
          39.29,
          39.29,
          39.29,
          39.29,
          39.29,
          39.29,
          39.3,
          39.3,
          39.3,
          39.3,
          39.3,
          39.3,
          39.3,
          39.3,
          39.3,
          39.3,
          39.3,
          39.3,
          39.31,
          39.31,
          39.31,
          39.31,
          39.31,
          39.31,
          39.31,
          39.31,
          39.31,
          39.31,
          39.31,
          39.31,
          39.32,
          39.32,
          39.32,
          39.32,
          39.32,
          39.33,
          39.33,
          39.33,
          39.33,
          39.33,
          39.33,
          39.34,
          39.34,
          39.34,
          39.34,
          39.34,
          39.34,
          39.34,
          39.34,
          39.34,
          39.34,
          39.34,
          39.34,
          39.35,
          39.35,
          39.35,
          39.35,
          39.35,
          39.35,
          39.35,
          39.35,
          39.35,
          39.35,
          39.35,
          39.35,
          39.27,
          39.27,
          39.28,
          39.28,
          39.28,
          39.28,
          39.28,
          39.28,
          39.28,
          39.28,
          39.28,
          39.29,
          39.29,
          39.29,
          39.29,
          39.29,
          39.29,
          39.29,
          39.29,
          39.29,
          39.29,
          39.29,
          39.29,
          39.3,
          39.3,
          39.3,
          39.3,
          39.3,
          39.3,
          39.3,
          39.3,
          39.3,
          39.3,
          39.3,
          39.31,
          39.31,
          39.31,
          39.31,
          39.31,
          39.31,
          39.31,
          39.31,
          39.31,
          39.31,
          39.31,
          39.32,
          39.32,
          39.32,
          39.32,
          39.32,
          39.32,
          39.32,
          39.32,
          39.32,
          39.33,
          39.33,
          39.33,
          39.33,
          39.33,
          39.33,
          39.33,
          39.33,
          39.33,
          39.33,
          39.33,
          39.34,
          39.34,
          39.34,
          39.34,
          39.34,
          39.34,
          39.34,
          39.34,
          39.34,
          39.34,
          39.35,
          39.35,
          39.35,
          39.35,
          39.35,
          39.35,
          39.35,
          39.35,
          39.35,
          39.36,
          39.25,
          39.25,
          39.25,
          39.25,
          39.25,
          39.25,
          39.25,
          39.26,
          39.26,
          39.26,
          39.26,
          39.26,
          39.26,
          39.27,
          39.27,
          39.27,
          39.27,
          39.27,
          39.27,
          39.27,
          39.27,
          39.27,
          39.27,
          39.28,
          39.28,
          39.28,
          39.28,
          39.28,
          39.28,
          39.28,
          39.28,
          39.28,
          39.28,
          39.28,
          39.28,
          39.29,
          39.29,
          39.29,
          39.29,
          39.29,
          39.29,
          39.29,
          39.29,
          39.29,
          39.29,
          39.29,
          39.29,
          39.3,
          39.3,
          39.3,
          39.3,
          39.3,
          39.3,
          39.3,
          39.3,
          39.3,
          39.3,
          39.3,
          39.3,
          39.31,
          39.31,
          39.31,
          39.31,
          39.31,
          39.31,
          39.31,
          39.31,
          39.31,
          39.31,
          39.31,
          39.31,
          39.32,
          39.32,
          39.32,
          39.32,
          39.32,
          39.32,
          39.32,
          39.32,
          39.32,
          39.32,
          39.32,
          39.35,
          39.36,
          39.25,
          39.25,
          39.26,
          39.26,
          39.26,
          39.26,
          39.26,
          39.26,
          39.28,
          39.28,
          39.28,
          39.28,
          39.28,
          39.28,
          39.28,
          39.28,
          39.28,
          39.28,
          39.28,
          39.29,
          39.29,
          39.29,
          39.29,
          39.29,
          39.29,
          39.29,
          39.29,
          39.29,
          39.29,
          39.29,
          39.29,
          39.3,
          39.3,
          39.3,
          39.3,
          39.3,
          39.3,
          39.3,
          39.3,
          39.3,
          39.3,
          39.3,
          39.3,
          39.31,
          39.31,
          39.31,
          39.31,
          39.31,
          39.31,
          39.31,
          39.31,
          39.31,
          39.31,
          39.31,
          39.31,
          39.32,
          39.32,
          39.33,
          39.33,
          39.33,
          39.34,
          39.24,
          39.24,
          39.24,
          39.25,
          39.25,
          39.25,
          39.25,
          39.25,
          39.25,
          39.25,
          39.25,
          39.25,
          39.25,
          39.26,
          39.26,
          39.26,
          39.26,
          39.26,
          39.26,
          39.27,
          39.28,
          39.28,
          39.28,
          39.28,
          39.28,
          39.28,
          39.28,
          39.28,
          39.28,
          39.29,
          39.29,
          39.29,
          39.29,
          39.29,
          39.29,
          39.29,
          39.29,
          39.29,
          39.29,
          39.29,
          39.29,
          39.3,
          39.3,
          39.3,
          39.3,
          39.3,
          39.3,
          39.3,
          39.3,
          39.3,
          39.3,
          39.3,
          39.3,
          39.31,
          39.31,
          39.31,
          39.31,
          39.31,
          39.31,
          39.31,
          39.31,
          39.31,
          39.31,
          39.32,
          39.33,
          39.24,
          39.24,
          39.24,
          39.24,
          39.24,
          39.25,
          39.25,
          39.25,
          39.25,
          39.25,
          39.25,
          39.25,
          39.25,
          39.28,
          39.28,
          39.28,
          39.28,
          39.28,
          39.28,
          39.29,
          39.29,
          39.29,
          39.29,
          39.29,
          39.29,
          39.29,
          39.29,
          39.29,
          39.29,
          39.29,
          39.29,
          39.3,
          39.3,
          39.3,
          39.3,
          39.3,
          39.3,
          39.31,
          39.31,
          39.31,
          39.31,
          39.31,
          39.31,
          39.31,
          39.31,
          39.32,
          39.32,
          39.32,
          39.33,
          39.33,
          39.35,
          39.23,
          39.23,
          39.23,
          39.23,
          39.24,
          39.24,
          39.24,
          39.24,
          39.24,
          39.24,
          39.24,
          39.24,
          39.24,
          39.24,
          39.24,
          39.25,
          39.25,
          39.25,
          39.25,
          39.27,
          39.27,
          39.28,
          39.28,
          39.29,
          39.29,
          39.29,
          39.29,
          39.29,
          39.29,
          39.29,
          39.29,
          39.29,
          39.29,
          39.29,
          39.3,
          39.3,
          39.3,
          39.3,
          39.3,
          39.3,
          39.3,
          39.3,
          39.3,
          39.3,
          39.3,
          39.31,
          39.31,
          39.31,
          39.31,
          39.31,
          39.31,
          39.31,
          39.31,
          39.31,
          39.31,
          39.31,
          39.31,
          39.32,
          39.32,
          39.32,
          39.32,
          39.32,
          39.32,
          39.32,
          39.32,
          39.32,
          39.32,
          39.33,
          39.33,
          39.33,
          39.33,
          39.33,
          39.33,
          39.33,
          39.33,
          39.33,
          39.33,
          39.34,
          39.34,
          39.34,
          39.34,
          39.34,
          39.34,
          39.34,
          39.34,
          39.34,
          39.35,
          39.35,
          39.35,
          39.35,
          39.35,
          39.35,
          39.35,
          39.35,
          39.35,
          39.35,
          39.35,
          39.35,
          39.36,
          39.36,
          39.36,
          39.36,
          39.36,
          39.36,
          39.36,
          39.36,
          39.37,
          39.37,
          39.22,
          39.22,
          39.23,
          39.23,
          39.23,
          39.23,
          39.23,
          39.23,
          39.23,
          39.23,
          39.23,
          39.23,
          39.23,
          39.24,
          39.24,
          39.24,
          39.24,
          39.24,
          39.24,
          39.24,
          39.24,
          39.24,
          39.29,
          39.29,
          39.29,
          39.29,
          39.29,
          39.29,
          39.29,
          39.29,
          39.29,
          39.29,
          39.29,
          39.29,
          39.3,
          39.3,
          39.3,
          39.3,
          39.3,
          39.3,
          39.3,
          39.3,
          39.3,
          39.3,
          39.3,
          39.3,
          39.31,
          39.31,
          39.31,
          39.31,
          39.31,
          39.31,
          39.31,
          39.31,
          39.31,
          39.31,
          39.31,
          39.31,
          39.32,
          39.32,
          39.32,
          39.32,
          39.32,
          39.32,
          39.32,
          39.32,
          39.32,
          39.32,
          39.32,
          39.32,
          39.33,
          39.33,
          39.33,
          39.33,
          39.33,
          39.33,
          39.34,
          39.34,
          39.34,
          39.34,
          39.34,
          39.34,
          39.34,
          39.34,
          39.34,
          39.34,
          39.35,
          39.35,
          39.35,
          39.35,
          39.35,
          39.35,
          39.35,
          39.35,
          39.36,
          39.36,
          39.36,
          39.36,
          39.36,
          39.36,
          39.36,
          39.36,
          39.36,
          39.37,
          39.37,
          39.37,
          39.22,
          39.22,
          39.22,
          39.22,
          39.22,
          39.22,
          39.23,
          39.23,
          39.23,
          39.23,
          39.23,
          39.23,
          39.23,
          39.23,
          39.23,
          39.23,
          39.23,
          39.23,
          39.28,
          39.28,
          39.28,
          39.29,
          39.29,
          39.29,
          39.29,
          39.29,
          39.29,
          39.29,
          39.3,
          39.3,
          39.3,
          39.3,
          39.3,
          39.3,
          39.3,
          39.3,
          39.3,
          39.3,
          39.3,
          39.31,
          39.31,
          39.31,
          39.31,
          39.31,
          39.31,
          39.31,
          39.31,
          39.31,
          39.31,
          39.31,
          39.32,
          39.32,
          39.32,
          39.32,
          39.32,
          39.32,
          39.32,
          39.32,
          39.32,
          39.32,
          39.33,
          39.33,
          39.33,
          39.33,
          39.33,
          39.34,
          39.34,
          39.34,
          39.34,
          39.34,
          39.35,
          39.35,
          39.35,
          39.35,
          39.35,
          39.35,
          39.35,
          39.35,
          39.36,
          39.36,
          39.36,
          39.36,
          39.36,
          39.36,
          39.36,
          39.36,
          39.37,
          39.29,
          39.29,
          39.29,
          39.29,
          39.29,
          39.29,
          39.3,
          39.3,
          39.3,
          39.3,
          39.3,
          39.3,
          39.3,
          39.3,
          39.3,
          39.3,
          39.3,
          39.3,
          39.31,
          39.31,
          39.31,
          39.31,
          39.31,
          39.31,
          39.31,
          39.31,
          39.31,
          39.31,
          39.31,
          39.31,
          39.32,
          39.32,
          39.32,
          39.32,
          39.32,
          39.32,
          39.32,
          39.32,
          39.32,
          39.32,
          39.32,
          39.33,
          39.35,
          39.35,
          39.35,
          39.36,
          39.36,
          39.36,
          39.36,
          39.36,
          39.37,
          39.28,
          39.29,
          39.29,
          39.29,
          39.29,
          39.29,
          39.29,
          39.29,
          39.29,
          39.29,
          39.29,
          39.29,
          39.29,
          39.3,
          39.3,
          39.3,
          39.3,
          39.3,
          39.3,
          39.3,
          39.3,
          39.3,
          39.3,
          39.3,
          39.31,
          39.31,
          39.31,
          39.31,
          39.32,
          39.32,
          39.32,
          39.32,
          39.32,
          39.32,
          39.32,
          39.32,
          39.32,
          39.32,
          39.32,
          39.32,
          39.33,
          39.33,
          39.33,
          39.33,
          39.33,
          39.33,
          39.33,
          39.33,
          39.34,
          39.34,
          39.35,
          39.35,
          39.35,
          39.35,
          39.35,
          39.36,
          39.36,
          39.36,
          39.36,
          39.36,
          39.36,
          39.36,
          39.37,
          39.37,
          39.37,
          39.37,
          39.37,
          39.37,
          39.37,
          39.37,
          39.37,
          39.29,
          39.29,
          39.29,
          39.29,
          39.29,
          39.29,
          39.3,
          39.3,
          39.3,
          39.3,
          39.31,
          39.31,
          39.31,
          39.31,
          39.31,
          39.32,
          39.32,
          39.32,
          39.32,
          39.32,
          39.32,
          39.32,
          39.32,
          39.32,
          39.32,
          39.32,
          39.33,
          39.33,
          39.33,
          39.33,
          39.33,
          39.33,
          39.33,
          39.33,
          39.33,
          39.33,
          39.34,
          39.34,
          39.35,
          39.35,
          39.35,
          39.35,
          39.35,
          39.35,
          39.35,
          39.35,
          39.36,
          39.36,
          39.36,
          39.37,
          39.28,
          39.28,
          39.28,
          39.29,
          39.29,
          39.29,
          39.3,
          39.32,
          39.32,
          39.32,
          39.32,
          39.32,
          39.32,
          39.32,
          39.32,
          39.33,
          39.33,
          39.33,
          39.33,
          39.33,
          39.34,
          39.34,
          39.34,
          39.34,
          39.34,
          39.34,
          39.34,
          39.35,
          39.35,
          39.35,
          39.35,
          39.35,
          39.36,
          39.36,
          39.37,
          39.37,
          39.27,
          39.28,
          39.28,
          39.28,
          39.28,
          39.28,
          39.28,
          39.28,
          39.29,
          39.3,
          39.32,
          39.32,
          39.32,
          39.32,
          39.32,
          39.32,
          39.32,
          39.32,
          39.32,
          39.33,
          39.33,
          39.33,
          39.33,
          39.33,
          39.33,
          39.34,
          39.34,
          39.34,
          39.34,
          39.34,
          39.34,
          39.35,
          39.35,
          39.35,
          39.35,
          39.35,
          39.35,
          39.26,
          39.26,
          39.27,
          39.27,
          39.27,
          39.28,
          39.28,
          39.29,
          39.33,
          39.33,
          39.33,
          39.33,
          39.33,
          39.33,
          39.33,
          39.33,
          39.33,
          39.34,
          39.34,
          39.35,
          39.35,
          39.36
         ],
         "z": [
          3,
          8,
          3,
          5,
          7,
          9,
          10,
          3,
          12,
          3,
          7,
          9,
          10,
          11,
          12,
          9,
          2,
          4,
          5,
          6,
          7,
          8,
          10,
          11,
          4,
          6,
          1,
          6,
          8,
          12,
          1,
          2,
          3,
          4,
          5,
          6,
          7,
          8,
          10,
          12,
          1,
          2,
          3,
          6,
          7,
          11,
          12,
          2,
          3,
          10,
          11,
          7,
          8,
          5,
          1,
          7,
          10,
          1,
          5,
          6,
          7,
          8,
          10,
          11,
          12,
          3,
          5,
          6,
          8,
          9,
          10,
          12,
          1,
          4,
          6,
          7,
          8,
          9,
          10,
          12,
          4,
          5,
          6,
          7,
          9,
          10,
          11,
          7,
          8,
          9,
          10,
          1,
          4,
          5,
          6,
          9,
          10,
          11,
          12,
          1,
          2,
          3,
          5,
          6,
          7,
          10,
          11,
          1,
          1,
          2,
          3,
          4,
          5,
          6,
          7,
          8,
          9,
          10,
          11,
          12,
          1,
          2,
          3,
          4,
          5,
          6,
          7,
          8,
          10,
          12,
          1,
          3,
          4,
          5,
          6,
          8,
          9,
          10,
          12,
          1,
          6,
          7,
          8,
          10,
          3,
          4,
          6,
          7,
          8,
          9,
          10,
          11,
          1,
          2,
          3,
          4,
          5,
          6,
          7,
          8,
          10,
          11,
          1,
          2,
          3,
          4,
          5,
          6,
          7,
          8,
          9,
          10,
          11,
          12,
          1,
          2,
          3,
          4,
          5,
          6,
          7,
          8,
          9,
          10,
          11,
          12,
          6,
          8,
          11,
          4,
          5,
          7,
          11,
          1,
          2,
          5,
          9,
          10,
          11,
          12,
          1,
          2,
          3,
          4,
          5,
          6,
          7,
          8,
          9,
          10,
          11,
          12,
          1,
          2,
          3,
          4,
          5,
          6,
          7,
          8,
          9,
          10,
          11,
          12,
          1,
          2,
          3,
          4,
          5,
          6,
          7,
          8,
          9,
          10,
          11,
          12,
          2,
          8,
          9,
          10,
          11,
          2,
          5,
          7,
          8,
          9,
          12,
          1,
          2,
          3,
          4,
          5,
          6,
          7,
          8,
          9,
          10,
          11,
          12,
          1,
          2,
          3,
          4,
          5,
          6,
          7,
          8,
          9,
          10,
          11,
          12,
          1,
          8,
          2,
          3,
          5,
          7,
          8,
          9,
          10,
          11,
          12,
          1,
          2,
          3,
          4,
          5,
          6,
          7,
          8,
          9,
          10,
          11,
          12,
          1,
          2,
          3,
          4,
          5,
          7,
          8,
          9,
          10,
          11,
          12,
          1,
          2,
          3,
          4,
          5,
          6,
          7,
          8,
          9,
          10,
          11,
          1,
          2,
          5,
          6,
          7,
          9,
          10,
          11,
          12,
          1,
          2,
          4,
          5,
          6,
          7,
          8,
          9,
          10,
          11,
          12,
          3,
          4,
          5,
          6,
          7,
          8,
          9,
          10,
          11,
          12,
          1,
          2,
          4,
          5,
          6,
          8,
          9,
          10,
          12,
          10,
          3,
          5,
          6,
          7,
          10,
          11,
          12,
          3,
          5,
          8,
          9,
          10,
          11,
          1,
          2,
          3,
          4,
          6,
          7,
          8,
          9,
          11,
          12,
          1,
          2,
          3,
          4,
          5,
          6,
          7,
          8,
          9,
          10,
          11,
          12,
          1,
          2,
          3,
          4,
          5,
          6,
          7,
          8,
          9,
          10,
          11,
          12,
          1,
          2,
          3,
          4,
          5,
          6,
          7,
          8,
          9,
          10,
          11,
          12,
          1,
          2,
          3,
          4,
          5,
          6,
          7,
          8,
          9,
          10,
          11,
          12,
          1,
          2,
          3,
          4,
          5,
          6,
          7,
          8,
          9,
          10,
          12,
          3,
          12,
          9,
          12,
          1,
          4,
          7,
          9,
          11,
          12,
          1,
          3,
          4,
          5,
          6,
          7,
          8,
          9,
          10,
          11,
          12,
          1,
          2,
          3,
          4,
          5,
          6,
          7,
          8,
          9,
          10,
          11,
          12,
          1,
          2,
          3,
          4,
          5,
          6,
          7,
          8,
          9,
          10,
          11,
          12,
          1,
          2,
          3,
          4,
          5,
          6,
          7,
          8,
          9,
          10,
          11,
          12,
          7,
          12,
          4,
          11,
          12,
          5,
          4,
          7,
          8,
          2,
          3,
          4,
          5,
          6,
          7,
          8,
          9,
          11,
          12,
          1,
          2,
          5,
          7,
          10,
          12,
          1,
          1,
          3,
          4,
          5,
          6,
          7,
          8,
          9,
          12,
          1,
          2,
          3,
          4,
          5,
          6,
          7,
          8,
          9,
          10,
          11,
          12,
          1,
          2,
          3,
          4,
          5,
          6,
          7,
          8,
          9,
          10,
          11,
          12,
          1,
          2,
          3,
          4,
          5,
          6,
          7,
          8,
          9,
          12,
          11,
          5,
          1,
          3,
          5,
          6,
          8,
          1,
          2,
          5,
          6,
          7,
          8,
          11,
          12,
          1,
          2,
          5,
          6,
          8,
          10,
          1,
          2,
          3,
          4,
          5,
          6,
          7,
          8,
          9,
          10,
          11,
          12,
          2,
          5,
          6,
          9,
          10,
          11,
          1,
          2,
          4,
          5,
          6,
          7,
          8,
          9,
          1,
          10,
          11,
          11,
          12,
          3,
          6,
          7,
          8,
          12,
          1,
          2,
          3,
          4,
          5,
          6,
          7,
          8,
          9,
          10,
          12,
          5,
          7,
          11,
          12,
          1,
          7,
          5,
          10,
          1,
          2,
          3,
          4,
          5,
          6,
          7,
          8,
          9,
          11,
          12,
          1,
          3,
          4,
          5,
          6,
          7,
          8,
          9,
          10,
          11,
          12,
          1,
          2,
          3,
          4,
          5,
          6,
          7,
          8,
          9,
          10,
          11,
          12,
          1,
          2,
          3,
          5,
          6,
          7,
          8,
          9,
          10,
          12,
          1,
          4,
          5,
          6,
          7,
          8,
          9,
          10,
          11,
          12,
          1,
          2,
          4,
          5,
          6,
          7,
          8,
          9,
          11,
          1,
          2,
          3,
          4,
          5,
          6,
          7,
          8,
          9,
          10,
          11,
          12,
          5,
          6,
          7,
          8,
          9,
          10,
          11,
          12,
          5,
          12,
          4,
          11,
          1,
          2,
          3,
          4,
          5,
          6,
          7,
          8,
          9,
          10,
          11,
          1,
          4,
          5,
          7,
          8,
          9,
          10,
          11,
          12,
          1,
          2,
          3,
          4,
          5,
          6,
          7,
          8,
          9,
          10,
          11,
          12,
          1,
          2,
          3,
          4,
          5,
          6,
          7,
          8,
          9,
          10,
          11,
          12,
          1,
          2,
          3,
          4,
          5,
          6,
          7,
          8,
          9,
          10,
          11,
          12,
          1,
          2,
          3,
          4,
          5,
          6,
          7,
          8,
          9,
          10,
          11,
          12,
          1,
          3,
          5,
          8,
          9,
          12,
          1,
          4,
          5,
          6,
          7,
          8,
          9,
          10,
          11,
          12,
          1,
          2,
          3,
          5,
          6,
          8,
          9,
          12,
          1,
          2,
          3,
          4,
          5,
          7,
          8,
          9,
          12,
          6,
          7,
          9,
          1,
          5,
          7,
          8,
          10,
          12,
          1,
          2,
          3,
          4,
          5,
          6,
          7,
          8,
          9,
          10,
          11,
          12,
          6,
          8,
          10,
          4,
          5,
          8,
          9,
          10,
          11,
          12,
          1,
          3,
          4,
          5,
          6,
          7,
          8,
          9,
          10,
          11,
          12,
          1,
          2,
          3,
          4,
          5,
          6,
          7,
          8,
          9,
          10,
          11,
          1,
          2,
          4,
          5,
          6,
          7,
          8,
          9,
          11,
          12,
          4,
          5,
          6,
          7,
          10,
          2,
          5,
          7,
          8,
          10,
          1,
          4,
          7,
          8,
          9,
          10,
          11,
          12,
          1,
          2,
          3,
          5,
          6,
          7,
          8,
          12,
          7,
          6,
          7,
          8,
          9,
          10,
          12,
          1,
          2,
          3,
          4,
          5,
          6,
          7,
          8,
          9,
          10,
          11,
          12,
          1,
          2,
          3,
          4,
          5,
          6,
          7,
          8,
          9,
          10,
          11,
          12,
          1,
          3,
          4,
          5,
          6,
          7,
          8,
          9,
          10,
          11,
          12,
          9,
          7,
          8,
          11,
          1,
          5,
          6,
          7,
          10,
          12,
          7,
          1,
          2,
          3,
          4,
          5,
          6,
          7,
          8,
          9,
          10,
          11,
          12,
          1,
          2,
          3,
          4,
          5,
          6,
          7,
          8,
          9,
          11,
          12,
          5,
          6,
          7,
          8,
          1,
          2,
          3,
          4,
          5,
          6,
          7,
          8,
          9,
          10,
          11,
          12,
          3,
          4,
          6,
          7,
          8,
          9,
          10,
          11,
          7,
          12,
          4,
          7,
          8,
          9,
          12,
          1,
          3,
          5,
          6,
          8,
          10,
          11,
          1,
          2,
          3,
          4,
          5,
          6,
          8,
          11,
          12,
          2,
          6,
          8,
          9,
          10,
          11,
          1,
          8,
          9,
          11,
          2,
          3,
          7,
          8,
          9,
          1,
          2,
          3,
          4,
          5,
          6,
          7,
          8,
          9,
          10,
          11,
          1,
          2,
          3,
          4,
          5,
          6,
          7,
          8,
          9,
          10,
          1,
          10,
          1,
          2,
          3,
          5,
          7,
          9,
          10,
          12,
          6,
          7,
          12,
          9,
          5,
          6,
          7,
          2,
          6,
          10,
          1,
          1,
          2,
          3,
          5,
          6,
          7,
          9,
          10,
          3,
          4,
          5,
          8,
          11,
          1,
          5,
          6,
          7,
          8,
          9,
          12,
          1,
          3,
          5,
          7,
          12,
          1,
          5,
          9,
          12,
          7,
          1,
          3,
          5,
          6,
          7,
          8,
          12,
          7,
          6,
          1,
          2,
          3,
          4,
          5,
          6,
          7,
          11,
          12,
          1,
          3,
          4,
          5,
          6,
          8,
          3,
          5,
          7,
          8,
          9,
          12,
          2,
          6,
          8,
          9,
          10,
          11,
          3,
          11,
          5,
          8,
          11,
          1,
          7,
          11,
          1,
          2,
          4,
          5,
          6,
          9,
          10,
          11,
          12,
          4,
          12,
          1,
          11,
          5
         ]
        }
       ],
       "layout": {
        "coloraxis": {
         "colorbar": {
          "title": {
           "text": "Total Incidents"
          }
         },
         "colorscale": [
          [
           0,
           "#0d0887"
          ],
          [
           0.1111111111111111,
           "#46039f"
          ],
          [
           0.2222222222222222,
           "#7201a8"
          ],
          [
           0.3333333333333333,
           "#9c179e"
          ],
          [
           0.4444444444444444,
           "#bd3786"
          ],
          [
           0.5555555555555556,
           "#d8576b"
          ],
          [
           0.6666666666666666,
           "#ed7953"
          ],
          [
           0.7777777777777778,
           "#fb9f3a"
          ],
          [
           0.8888888888888888,
           "#fdca26"
          ],
          [
           1,
           "#f0f921"
          ]
         ]
        },
        "legend": {
         "itemsizing": "constant",
         "title": {
          "text": "Description"
         },
         "tracegroupgap": 0
        },
        "margin": {
         "t": 60
        },
        "scene": {
         "domain": {
          "x": [
           0,
           1
          ],
          "y": [
           0,
           1
          ]
         },
         "xaxis": {
          "title": {
           "text": "Lo"
          }
         },
         "yaxis": {
          "title": {
           "text": "La"
          }
         },
         "zaxis": {
          "title": {
           "text": "Month"
          }
         }
        },
        "template": {
         "data": {
          "bar": [
           {
            "error_x": {
             "color": "#2a3f5f"
            },
            "error_y": {
             "color": "#2a3f5f"
            },
            "marker": {
             "line": {
              "color": "#E5ECF6",
              "width": 0.5
             }
            },
            "type": "bar"
           }
          ],
          "barpolar": [
           {
            "marker": {
             "line": {
              "color": "#E5ECF6",
              "width": 0.5
             }
            },
            "type": "barpolar"
           }
          ],
          "carpet": [
           {
            "aaxis": {
             "endlinecolor": "#2a3f5f",
             "gridcolor": "white",
             "linecolor": "white",
             "minorgridcolor": "white",
             "startlinecolor": "#2a3f5f"
            },
            "baxis": {
             "endlinecolor": "#2a3f5f",
             "gridcolor": "white",
             "linecolor": "white",
             "minorgridcolor": "white",
             "startlinecolor": "#2a3f5f"
            },
            "type": "carpet"
           }
          ],
          "choropleth": [
           {
            "colorbar": {
             "outlinewidth": 0,
             "ticks": ""
            },
            "type": "choropleth"
           }
          ],
          "contour": [
           {
            "colorbar": {
             "outlinewidth": 0,
             "ticks": ""
            },
            "colorscale": [
             [
              0,
              "#0d0887"
             ],
             [
              0.1111111111111111,
              "#46039f"
             ],
             [
              0.2222222222222222,
              "#7201a8"
             ],
             [
              0.3333333333333333,
              "#9c179e"
             ],
             [
              0.4444444444444444,
              "#bd3786"
             ],
             [
              0.5555555555555556,
              "#d8576b"
             ],
             [
              0.6666666666666666,
              "#ed7953"
             ],
             [
              0.7777777777777778,
              "#fb9f3a"
             ],
             [
              0.8888888888888888,
              "#fdca26"
             ],
             [
              1,
              "#f0f921"
             ]
            ],
            "type": "contour"
           }
          ],
          "contourcarpet": [
           {
            "colorbar": {
             "outlinewidth": 0,
             "ticks": ""
            },
            "type": "contourcarpet"
           }
          ],
          "heatmap": [
           {
            "colorbar": {
             "outlinewidth": 0,
             "ticks": ""
            },
            "colorscale": [
             [
              0,
              "#0d0887"
             ],
             [
              0.1111111111111111,
              "#46039f"
             ],
             [
              0.2222222222222222,
              "#7201a8"
             ],
             [
              0.3333333333333333,
              "#9c179e"
             ],
             [
              0.4444444444444444,
              "#bd3786"
             ],
             [
              0.5555555555555556,
              "#d8576b"
             ],
             [
              0.6666666666666666,
              "#ed7953"
             ],
             [
              0.7777777777777778,
              "#fb9f3a"
             ],
             [
              0.8888888888888888,
              "#fdca26"
             ],
             [
              1,
              "#f0f921"
             ]
            ],
            "type": "heatmap"
           }
          ],
          "heatmapgl": [
           {
            "colorbar": {
             "outlinewidth": 0,
             "ticks": ""
            },
            "colorscale": [
             [
              0,
              "#0d0887"
             ],
             [
              0.1111111111111111,
              "#46039f"
             ],
             [
              0.2222222222222222,
              "#7201a8"
             ],
             [
              0.3333333333333333,
              "#9c179e"
             ],
             [
              0.4444444444444444,
              "#bd3786"
             ],
             [
              0.5555555555555556,
              "#d8576b"
             ],
             [
              0.6666666666666666,
              "#ed7953"
             ],
             [
              0.7777777777777778,
              "#fb9f3a"
             ],
             [
              0.8888888888888888,
              "#fdca26"
             ],
             [
              1,
              "#f0f921"
             ]
            ],
            "type": "heatmapgl"
           }
          ],
          "histogram": [
           {
            "marker": {
             "colorbar": {
              "outlinewidth": 0,
              "ticks": ""
             }
            },
            "type": "histogram"
           }
          ],
          "histogram2d": [
           {
            "colorbar": {
             "outlinewidth": 0,
             "ticks": ""
            },
            "colorscale": [
             [
              0,
              "#0d0887"
             ],
             [
              0.1111111111111111,
              "#46039f"
             ],
             [
              0.2222222222222222,
              "#7201a8"
             ],
             [
              0.3333333333333333,
              "#9c179e"
             ],
             [
              0.4444444444444444,
              "#bd3786"
             ],
             [
              0.5555555555555556,
              "#d8576b"
             ],
             [
              0.6666666666666666,
              "#ed7953"
             ],
             [
              0.7777777777777778,
              "#fb9f3a"
             ],
             [
              0.8888888888888888,
              "#fdca26"
             ],
             [
              1,
              "#f0f921"
             ]
            ],
            "type": "histogram2d"
           }
          ],
          "histogram2dcontour": [
           {
            "colorbar": {
             "outlinewidth": 0,
             "ticks": ""
            },
            "colorscale": [
             [
              0,
              "#0d0887"
             ],
             [
              0.1111111111111111,
              "#46039f"
             ],
             [
              0.2222222222222222,
              "#7201a8"
             ],
             [
              0.3333333333333333,
              "#9c179e"
             ],
             [
              0.4444444444444444,
              "#bd3786"
             ],
             [
              0.5555555555555556,
              "#d8576b"
             ],
             [
              0.6666666666666666,
              "#ed7953"
             ],
             [
              0.7777777777777778,
              "#fb9f3a"
             ],
             [
              0.8888888888888888,
              "#fdca26"
             ],
             [
              1,
              "#f0f921"
             ]
            ],
            "type": "histogram2dcontour"
           }
          ],
          "mesh3d": [
           {
            "colorbar": {
             "outlinewidth": 0,
             "ticks": ""
            },
            "type": "mesh3d"
           }
          ],
          "parcoords": [
           {
            "line": {
             "colorbar": {
              "outlinewidth": 0,
              "ticks": ""
             }
            },
            "type": "parcoords"
           }
          ],
          "pie": [
           {
            "automargin": true,
            "type": "pie"
           }
          ],
          "scatter": [
           {
            "marker": {
             "colorbar": {
              "outlinewidth": 0,
              "ticks": ""
             }
            },
            "type": "scatter"
           }
          ],
          "scatter3d": [
           {
            "line": {
             "colorbar": {
              "outlinewidth": 0,
              "ticks": ""
             }
            },
            "marker": {
             "colorbar": {
              "outlinewidth": 0,
              "ticks": ""
             }
            },
            "type": "scatter3d"
           }
          ],
          "scattercarpet": [
           {
            "marker": {
             "colorbar": {
              "outlinewidth": 0,
              "ticks": ""
             }
            },
            "type": "scattercarpet"
           }
          ],
          "scattergeo": [
           {
            "marker": {
             "colorbar": {
              "outlinewidth": 0,
              "ticks": ""
             }
            },
            "type": "scattergeo"
           }
          ],
          "scattergl": [
           {
            "marker": {
             "colorbar": {
              "outlinewidth": 0,
              "ticks": ""
             }
            },
            "type": "scattergl"
           }
          ],
          "scattermapbox": [
           {
            "marker": {
             "colorbar": {
              "outlinewidth": 0,
              "ticks": ""
             }
            },
            "type": "scattermapbox"
           }
          ],
          "scatterpolar": [
           {
            "marker": {
             "colorbar": {
              "outlinewidth": 0,
              "ticks": ""
             }
            },
            "type": "scatterpolar"
           }
          ],
          "scatterpolargl": [
           {
            "marker": {
             "colorbar": {
              "outlinewidth": 0,
              "ticks": ""
             }
            },
            "type": "scatterpolargl"
           }
          ],
          "scatterternary": [
           {
            "marker": {
             "colorbar": {
              "outlinewidth": 0,
              "ticks": ""
             }
            },
            "type": "scatterternary"
           }
          ],
          "surface": [
           {
            "colorbar": {
             "outlinewidth": 0,
             "ticks": ""
            },
            "colorscale": [
             [
              0,
              "#0d0887"
             ],
             [
              0.1111111111111111,
              "#46039f"
             ],
             [
              0.2222222222222222,
              "#7201a8"
             ],
             [
              0.3333333333333333,
              "#9c179e"
             ],
             [
              0.4444444444444444,
              "#bd3786"
             ],
             [
              0.5555555555555556,
              "#d8576b"
             ],
             [
              0.6666666666666666,
              "#ed7953"
             ],
             [
              0.7777777777777778,
              "#fb9f3a"
             ],
             [
              0.8888888888888888,
              "#fdca26"
             ],
             [
              1,
              "#f0f921"
             ]
            ],
            "type": "surface"
           }
          ],
          "table": [
           {
            "cells": {
             "fill": {
              "color": "#EBF0F8"
             },
             "line": {
              "color": "white"
             }
            },
            "header": {
             "fill": {
              "color": "#C8D4E3"
             },
             "line": {
              "color": "white"
             }
            },
            "type": "table"
           }
          ]
         },
         "layout": {
          "annotationdefaults": {
           "arrowcolor": "#2a3f5f",
           "arrowhead": 0,
           "arrowwidth": 1
          },
          "coloraxis": {
           "colorbar": {
            "outlinewidth": 0,
            "ticks": ""
           }
          },
          "colorscale": {
           "diverging": [
            [
             0,
             "#8e0152"
            ],
            [
             0.1,
             "#c51b7d"
            ],
            [
             0.2,
             "#de77ae"
            ],
            [
             0.3,
             "#f1b6da"
            ],
            [
             0.4,
             "#fde0ef"
            ],
            [
             0.5,
             "#f7f7f7"
            ],
            [
             0.6,
             "#e6f5d0"
            ],
            [
             0.7,
             "#b8e186"
            ],
            [
             0.8,
             "#7fbc41"
            ],
            [
             0.9,
             "#4d9221"
            ],
            [
             1,
             "#276419"
            ]
           ],
           "sequential": [
            [
             0,
             "#0d0887"
            ],
            [
             0.1111111111111111,
             "#46039f"
            ],
            [
             0.2222222222222222,
             "#7201a8"
            ],
            [
             0.3333333333333333,
             "#9c179e"
            ],
            [
             0.4444444444444444,
             "#bd3786"
            ],
            [
             0.5555555555555556,
             "#d8576b"
            ],
            [
             0.6666666666666666,
             "#ed7953"
            ],
            [
             0.7777777777777778,
             "#fb9f3a"
            ],
            [
             0.8888888888888888,
             "#fdca26"
            ],
            [
             1,
             "#f0f921"
            ]
           ],
           "sequentialminus": [
            [
             0,
             "#0d0887"
            ],
            [
             0.1111111111111111,
             "#46039f"
            ],
            [
             0.2222222222222222,
             "#7201a8"
            ],
            [
             0.3333333333333333,
             "#9c179e"
            ],
            [
             0.4444444444444444,
             "#bd3786"
            ],
            [
             0.5555555555555556,
             "#d8576b"
            ],
            [
             0.6666666666666666,
             "#ed7953"
            ],
            [
             0.7777777777777778,
             "#fb9f3a"
            ],
            [
             0.8888888888888888,
             "#fdca26"
            ],
            [
             1,
             "#f0f921"
            ]
           ]
          },
          "colorway": [
           "#636efa",
           "#EF553B",
           "#00cc96",
           "#ab63fa",
           "#FFA15A",
           "#19d3f3",
           "#FF6692",
           "#B6E880",
           "#FF97FF",
           "#FECB52"
          ],
          "font": {
           "color": "#2a3f5f"
          },
          "geo": {
           "bgcolor": "white",
           "lakecolor": "white",
           "landcolor": "#E5ECF6",
           "showlakes": true,
           "showland": true,
           "subunitcolor": "white"
          },
          "hoverlabel": {
           "align": "left"
          },
          "hovermode": "closest",
          "mapbox": {
           "style": "light"
          },
          "paper_bgcolor": "white",
          "plot_bgcolor": "#E5ECF6",
          "polar": {
           "angularaxis": {
            "gridcolor": "white",
            "linecolor": "white",
            "ticks": ""
           },
           "bgcolor": "#E5ECF6",
           "radialaxis": {
            "gridcolor": "white",
            "linecolor": "white",
            "ticks": ""
           }
          },
          "scene": {
           "xaxis": {
            "backgroundcolor": "#E5ECF6",
            "gridcolor": "white",
            "gridwidth": 2,
            "linecolor": "white",
            "showbackground": true,
            "ticks": "",
            "zerolinecolor": "white"
           },
           "yaxis": {
            "backgroundcolor": "#E5ECF6",
            "gridcolor": "white",
            "gridwidth": 2,
            "linecolor": "white",
            "showbackground": true,
            "ticks": "",
            "zerolinecolor": "white"
           },
           "zaxis": {
            "backgroundcolor": "#E5ECF6",
            "gridcolor": "white",
            "gridwidth": 2,
            "linecolor": "white",
            "showbackground": true,
            "ticks": "",
            "zerolinecolor": "white"
           }
          },
          "shapedefaults": {
           "line": {
            "color": "#2a3f5f"
           }
          },
          "ternary": {
           "aaxis": {
            "gridcolor": "white",
            "linecolor": "white",
            "ticks": ""
           },
           "baxis": {
            "gridcolor": "white",
            "linecolor": "white",
            "ticks": ""
           },
           "bgcolor": "#E5ECF6",
           "caxis": {
            "gridcolor": "white",
            "linecolor": "white",
            "ticks": ""
           }
          },
          "title": {
           "x": 0.05
          },
          "xaxis": {
           "automargin": true,
           "gridcolor": "white",
           "linecolor": "white",
           "ticks": "",
           "title": {
            "standoff": 15
           },
           "zerolinecolor": "white",
           "zerolinewidth": 2
          },
          "yaxis": {
           "automargin": true,
           "gridcolor": "white",
           "linecolor": "white",
           "ticks": "",
           "title": {
            "standoff": 15
           },
           "zerolinecolor": "white",
           "zerolinewidth": 2
          }
         }
        }
       }
      },
      "text/html": [
       "<div>\n",
       "        \n",
       "        \n",
       "            <div id=\"9ebbc149-7d72-4170-a352-b5c3a2d18376\" class=\"plotly-graph-div\" style=\"height:525px; width:100%;\"></div>\n",
       "            <script type=\"text/javascript\">\n",
       "                require([\"plotly\"], function(Plotly) {\n",
       "                    window.PLOTLYENV=window.PLOTLYENV || {};\n",
       "                    \n",
       "                if (document.getElementById(\"9ebbc149-7d72-4170-a352-b5c3a2d18376\")) {\n",
       "                    Plotly.newPlot(\n",
       "                        '9ebbc149-7d72-4170-a352-b5c3a2d18376',\n",
       "                        [{\"hovertemplate\": \"Description=SHOOTING<br>Lo=%{x}<br>La=%{y}<br>Month=%{z}<br>Total Incidents=%{marker.color}<extra></extra>\", \"legendgroup\": \"SHOOTING\", \"marker\": {\"color\": [1, 1, 1, 1, 2, 1, 1, 2, 1, 1, 1, 1, 3, 2, 1, 1, 2, 1, 2, 1, 2, 1, 1, 1, 1, 1, 1, 1, 2, 1, 1, 1, 1, 1, 1, 7, 3, 2, 4, 2, 2, 1, 1, 2, 2, 1, 1, 1, 1, 1, 1, 1, 1, 1, 1, 1, 1, 2, 3, 4, 1, 2, 2, 2, 3, 2, 1, 1, 2, 2, 3, 1, 4, 1, 2, 2, 1, 1, 1, 1, 4, 2, 1, 1, 1, 3, 1, 1, 1, 1, 2, 1, 1, 2, 3, 1, 1, 2, 1, 4, 1, 2, 1, 2, 2, 4, 1, 1, 1, 1, 4, 7, 2, 5, 2, 5, 4, 3, 1, 7, 1, 2, 6, 1, 5, 3, 1, 3, 3, 1, 1, 2, 2, 2, 1, 3, 1, 2, 1, 1, 2, 1, 1, 1, 2, 2, 1, 1, 2, 4, 5, 2, 4, 3, 1, 1, 2, 2, 5, 4, 1, 1, 1, 5, 4, 10, 4, 4, 2, 3, 4, 6, 2, 4, 2, 1, 2, 2, 5, 4, 5, 4, 1, 5, 6, 3, 1, 1, 1, 3, 4, 2, 4, 2, 1, 1, 1, 2, 1, 2, 3, 2, 2, 6, 3, 3, 6, 5, 5, 4, 3, 3, 3, 1, 3, 4, 7, 3, 4, 4, 5, 6, 3, 3, 5, 5, 5, 2, 6, 4, 10, 7, 4, 4, 3, 7, 2, 2, 2, 1, 2, 1, 2, 3, 1, 1, 3, 3, 6, 2, 2, 1, 4, 10, 1, 5, 7, 3, 5, 6, 2, 3, 5, 2, 1, 2, 3, 3, 7, 5, 3, 1, 1, 1, 4, 3, 3, 1, 2, 1, 3, 5, 4, 1, 1, 5, 6, 4, 6, 6, 7, 2, 2, 2, 1, 2, 6, 3, 3, 1, 2, 2, 2, 4, 3, 3, 1, 2, 4, 2, 3, 4, 6, 2, 2, 2, 1, 2, 1, 1, 1, 1, 2, 1, 3, 2, 3, 1, 2, 3, 2, 4, 1, 1, 4, 2, 6, 2, 3, 1, 2, 2, 5, 4, 1, 3, 1, 1, 2, 1, 2, 1, 1, 2, 3, 1, 1, 2, 3, 2, 1, 1, 2, 1, 1, 2, 1, 1, 1, 2, 1, 1, 2, 6, 1, 1, 1, 1, 2, 4, 2, 3, 5, 10, 4, 11, 7, 8, 8, 3, 7, 5, 6, 4, 8, 12, 11, 10, 11, 7, 10, 5, 7, 12, 3, 4, 9, 8, 8, 4, 7, 1, 4, 6, 6, 5, 10, 8, 4, 12, 9, 12, 9, 7, 13, 1, 7, 3, 4, 4, 4, 2, 2, 2, 4, 3, 1, 3, 1, 1, 1, 1, 2, 1, 3, 3, 3, 2, 2, 2, 4, 2, 6, 3, 2, 2, 9, 3, 3, 8, 5, 10, 11, 8, 16, 6, 4, 5, 6, 7, 4, 3, 4, 8, 3, 14, 11, 12, 6, 7, 4, 6, 4, 9, 5, 8, 8, 14, 15, 19, 5, 4, 7, 9, 12, 2, 1, 1, 1, 1, 1, 1, 1, 1, 1, 1, 1, 3, 1, 2, 4, 3, 1, 3, 3, 1, 1, 1, 1, 1, 1, 1, 2, 4, 5, 3, 1, 3, 1, 3, 2, 2, 1, 3, 8, 3, 4, 8, 6, 4, 5, 3, 9, 2, 4, 2, 3, 12, 14, 10, 6, 8, 3, 3, 1, 1, 4, 5, 8, 8, 4, 5, 2, 1, 1, 2, 1, 2, 2, 1, 1, 2, 1, 3, 3, 1, 3, 1, 2, 1, 1, 2, 2, 1, 1, 3, 4, 2, 5, 5, 7, 8, 3, 7, 8, 1, 4, 1, 4, 1, 2, 2, 1, 1, 2, 1, 3, 4, 5, 1, 2, 1, 1, 1, 1, 1, 1, 1, 1, 1, 1, 6, 2, 2, 2, 2, 4, 4, 6, 3, 4, 2, 2, 1, 1, 2, 1, 1, 2, 1, 3, 1, 3, 1, 2, 1, 2, 4, 1, 2, 4, 4, 3, 4, 1, 2, 5, 3, 4, 1, 1, 3, 1, 2, 2, 2, 1, 4, 5, 2, 6, 4, 5, 3, 4, 2, 2, 3, 4, 5, 5, 2, 3, 2, 2, 2, 1, 3, 2, 2, 2, 2, 1, 1, 2, 2, 2, 5, 2, 5, 2, 5, 3, 2, 2, 1, 4, 4, 6, 1, 1, 7, 2, 3, 4, 2, 3, 2, 1, 1, 3, 1, 2, 2, 1, 1, 1, 3, 4, 3, 5, 4, 6, 3, 7, 4, 3, 4, 2, 1, 1, 3, 3, 5, 1, 4, 1, 4, 3, 1, 4, 3, 5, 7, 5, 2, 1, 2, 3, 5, 3, 1, 6, 9, 8, 6, 5, 5, 4, 5, 5, 2, 4, 8, 6, 5, 12, 5, 3, 9, 4, 2, 9, 3, 3, 2, 3, 1, 10, 3, 4, 2, 5, 2, 5, 1, 1, 1, 1, 1, 1, 1, 2, 1, 1, 2, 3, 1, 1, 1, 1, 2, 1, 4, 2, 2, 1, 2, 1, 1, 1, 4, 1, 1, 1, 1, 1, 1, 2, 1, 1, 1, 1, 1, 1, 1, 1, 2, 2, 3, 3, 4, 2, 4, 1, 2, 3, 1, 4, 1, 1, 1, 2, 1, 1, 4, 2, 3, 3, 5, 3, 7, 5, 8, 4, 10, 3, 2, 4, 4, 6, 4, 7, 8, 12, 3, 5, 12, 5, 5, 5, 3, 1, 2, 8, 5, 5, 6, 2, 2, 2, 3, 2, 1, 2, 1, 1, 1, 2, 1, 2, 2, 1, 2, 1, 2, 1, 1, 1, 1, 2, 1, 2, 4, 2, 2, 1, 2, 2, 1, 2, 1, 1, 1, 7, 7, 12, 18, 13, 13, 20, 19, 12, 10, 6, 11, 1, 3, 5, 5, 6, 8, 2, 4, 4, 6, 4, 4, 1, 1, 1, 1, 3, 3, 2, 2, 3, 2, 1, 1, 1, 2, 1, 2, 2, 1, 2, 2, 1, 1, 2, 2, 2, 3, 5, 1, 3, 1, 1, 4, 4, 3, 3, 2, 3, 3, 5, 1, 2, 2, 3, 3, 4, 1, 2, 1, 1, 3, 2, 4, 2, 2, 4, 4, 11, 2, 5, 4, 3, 1, 1, 3, 1, 2, 4, 1, 3, 1, 1, 1, 1, 1, 2, 1, 1, 1, 1, 1, 1, 1, 1, 1, 1, 2, 2, 2, 4, 2, 2, 1, 1, 1, 2, 1, 1, 1, 1, 1, 1, 1, 3, 1, 2, 3, 2, 1, 1, 2, 1, 1, 3, 2, 1, 2, 7, 1, 3, 2, 1, 3, 1, 4, 2, 2, 2, 1, 1, 1, 1, 1, 1, 1, 1, 1, 1, 1, 1, 1, 1, 1, 1, 1, 1, 1, 1, 1, 1, 3, 2, 1, 3, 3, 4, 1, 1, 1, 1, 1, 1, 2, 2, 1, 1, 1, 3, 2, 2, 1, 1, 1, 1, 2, 1, 1, 1, 1, 1, 2, 3, 1, 1, 4, 3, 5, 1, 1, 5, 1, 2, 1, 1, 1, 5, 2, 1, 4, 1, 2, 1, 1, 2, 1, 1, 1, 1, 2, 1, 1, 1, 1, 2, 1, 1, 1, 1, 1, 1, 1, 1, 1, 1, 2, 1, 3, 2, 2, 2, 1, 1, 1, 1, 1, 1, 2, 1], \"coloraxis\": \"coloraxis\", \"size\": [1, 1, 1, 1, 2, 1, 1, 2, 1, 1, 1, 1, 3, 2, 1, 1, 2, 1, 2, 1, 2, 1, 1, 1, 1, 1, 1, 1, 2, 1, 1, 1, 1, 1, 1, 7, 3, 2, 4, 2, 2, 1, 1, 2, 2, 1, 1, 1, 1, 1, 1, 1, 1, 1, 1, 1, 1, 2, 3, 4, 1, 2, 2, 2, 3, 2, 1, 1, 2, 2, 3, 1, 4, 1, 2, 2, 1, 1, 1, 1, 4, 2, 1, 1, 1, 3, 1, 1, 1, 1, 2, 1, 1, 2, 3, 1, 1, 2, 1, 4, 1, 2, 1, 2, 2, 4, 1, 1, 1, 1, 4, 7, 2, 5, 2, 5, 4, 3, 1, 7, 1, 2, 6, 1, 5, 3, 1, 3, 3, 1, 1, 2, 2, 2, 1, 3, 1, 2, 1, 1, 2, 1, 1, 1, 2, 2, 1, 1, 2, 4, 5, 2, 4, 3, 1, 1, 2, 2, 5, 4, 1, 1, 1, 5, 4, 10, 4, 4, 2, 3, 4, 6, 2, 4, 2, 1, 2, 2, 5, 4, 5, 4, 1, 5, 6, 3, 1, 1, 1, 3, 4, 2, 4, 2, 1, 1, 1, 2, 1, 2, 3, 2, 2, 6, 3, 3, 6, 5, 5, 4, 3, 3, 3, 1, 3, 4, 7, 3, 4, 4, 5, 6, 3, 3, 5, 5, 5, 2, 6, 4, 10, 7, 4, 4, 3, 7, 2, 2, 2, 1, 2, 1, 2, 3, 1, 1, 3, 3, 6, 2, 2, 1, 4, 10, 1, 5, 7, 3, 5, 6, 2, 3, 5, 2, 1, 2, 3, 3, 7, 5, 3, 1, 1, 1, 4, 3, 3, 1, 2, 1, 3, 5, 4, 1, 1, 5, 6, 4, 6, 6, 7, 2, 2, 2, 1, 2, 6, 3, 3, 1, 2, 2, 2, 4, 3, 3, 1, 2, 4, 2, 3, 4, 6, 2, 2, 2, 1, 2, 1, 1, 1, 1, 2, 1, 3, 2, 3, 1, 2, 3, 2, 4, 1, 1, 4, 2, 6, 2, 3, 1, 2, 2, 5, 4, 1, 3, 1, 1, 2, 1, 2, 1, 1, 2, 3, 1, 1, 2, 3, 2, 1, 1, 2, 1, 1, 2, 1, 1, 1, 2, 1, 1, 2, 6, 1, 1, 1, 1, 2, 4, 2, 3, 5, 10, 4, 11, 7, 8, 8, 3, 7, 5, 6, 4, 8, 12, 11, 10, 11, 7, 10, 5, 7, 12, 3, 4, 9, 8, 8, 4, 7, 1, 4, 6, 6, 5, 10, 8, 4, 12, 9, 12, 9, 7, 13, 1, 7, 3, 4, 4, 4, 2, 2, 2, 4, 3, 1, 3, 1, 1, 1, 1, 2, 1, 3, 3, 3, 2, 2, 2, 4, 2, 6, 3, 2, 2, 9, 3, 3, 8, 5, 10, 11, 8, 16, 6, 4, 5, 6, 7, 4, 3, 4, 8, 3, 14, 11, 12, 6, 7, 4, 6, 4, 9, 5, 8, 8, 14, 15, 19, 5, 4, 7, 9, 12, 2, 1, 1, 1, 1, 1, 1, 1, 1, 1, 1, 1, 3, 1, 2, 4, 3, 1, 3, 3, 1, 1, 1, 1, 1, 1, 1, 2, 4, 5, 3, 1, 3, 1, 3, 2, 2, 1, 3, 8, 3, 4, 8, 6, 4, 5, 3, 9, 2, 4, 2, 3, 12, 14, 10, 6, 8, 3, 3, 1, 1, 4, 5, 8, 8, 4, 5, 2, 1, 1, 2, 1, 2, 2, 1, 1, 2, 1, 3, 3, 1, 3, 1, 2, 1, 1, 2, 2, 1, 1, 3, 4, 2, 5, 5, 7, 8, 3, 7, 8, 1, 4, 1, 4, 1, 2, 2, 1, 1, 2, 1, 3, 4, 5, 1, 2, 1, 1, 1, 1, 1, 1, 1, 1, 1, 1, 6, 2, 2, 2, 2, 4, 4, 6, 3, 4, 2, 2, 1, 1, 2, 1, 1, 2, 1, 3, 1, 3, 1, 2, 1, 2, 4, 1, 2, 4, 4, 3, 4, 1, 2, 5, 3, 4, 1, 1, 3, 1, 2, 2, 2, 1, 4, 5, 2, 6, 4, 5, 3, 4, 2, 2, 3, 4, 5, 5, 2, 3, 2, 2, 2, 1, 3, 2, 2, 2, 2, 1, 1, 2, 2, 2, 5, 2, 5, 2, 5, 3, 2, 2, 1, 4, 4, 6, 1, 1, 7, 2, 3, 4, 2, 3, 2, 1, 1, 3, 1, 2, 2, 1, 1, 1, 3, 4, 3, 5, 4, 6, 3, 7, 4, 3, 4, 2, 1, 1, 3, 3, 5, 1, 4, 1, 4, 3, 1, 4, 3, 5, 7, 5, 2, 1, 2, 3, 5, 3, 1, 6, 9, 8, 6, 5, 5, 4, 5, 5, 2, 4, 8, 6, 5, 12, 5, 3, 9, 4, 2, 9, 3, 3, 2, 3, 1, 10, 3, 4, 2, 5, 2, 5, 1, 1, 1, 1, 1, 1, 1, 2, 1, 1, 2, 3, 1, 1, 1, 1, 2, 1, 4, 2, 2, 1, 2, 1, 1, 1, 4, 1, 1, 1, 1, 1, 1, 2, 1, 1, 1, 1, 1, 1, 1, 1, 2, 2, 3, 3, 4, 2, 4, 1, 2, 3, 1, 4, 1, 1, 1, 2, 1, 1, 4, 2, 3, 3, 5, 3, 7, 5, 8, 4, 10, 3, 2, 4, 4, 6, 4, 7, 8, 12, 3, 5, 12, 5, 5, 5, 3, 1, 2, 8, 5, 5, 6, 2, 2, 2, 3, 2, 1, 2, 1, 1, 1, 2, 1, 2, 2, 1, 2, 1, 2, 1, 1, 1, 1, 2, 1, 2, 4, 2, 2, 1, 2, 2, 1, 2, 1, 1, 1, 7, 7, 12, 18, 13, 13, 20, 19, 12, 10, 6, 11, 1, 3, 5, 5, 6, 8, 2, 4, 4, 6, 4, 4, 1, 1, 1, 1, 3, 3, 2, 2, 3, 2, 1, 1, 1, 2, 1, 2, 2, 1, 2, 2, 1, 1, 2, 2, 2, 3, 5, 1, 3, 1, 1, 4, 4, 3, 3, 2, 3, 3, 5, 1, 2, 2, 3, 3, 4, 1, 2, 1, 1, 3, 2, 4, 2, 2, 4, 4, 11, 2, 5, 4, 3, 1, 1, 3, 1, 2, 4, 1, 3, 1, 1, 1, 1, 1, 2, 1, 1, 1, 1, 1, 1, 1, 1, 1, 1, 2, 2, 2, 4, 2, 2, 1, 1, 1, 2, 1, 1, 1, 1, 1, 1, 1, 3, 1, 2, 3, 2, 1, 1, 2, 1, 1, 3, 2, 1, 2, 7, 1, 3, 2, 1, 3, 1, 4, 2, 2, 2, 1, 1, 1, 1, 1, 1, 1, 1, 1, 1, 1, 1, 1, 1, 1, 1, 1, 1, 1, 1, 1, 1, 3, 2, 1, 3, 3, 4, 1, 1, 1, 1, 1, 1, 2, 2, 1, 1, 1, 3, 2, 2, 1, 1, 1, 1, 2, 1, 1, 1, 1, 1, 2, 3, 1, 1, 4, 3, 5, 1, 1, 5, 1, 2, 1, 1, 1, 5, 2, 1, 4, 1, 2, 1, 1, 2, 1, 1, 1, 1, 2, 1, 1, 1, 1, 2, 1, 1, 1, 1, 1, 1, 1, 1, 1, 1, 2, 1, 3, 2, 2, 2, 1, 1, 1, 1, 1, 1, 2, 1], \"sizemode\": \"area\", \"sizeref\": 0.05, \"symbol\": \"circle\"}, \"mode\": \"markers\", \"name\": \"SHOOTING\", \"scene\": \"scene\", \"showlegend\": true, \"type\": \"scatter3d\", \"x\": [-76.71, -76.71, -76.71, -76.71, -76.71, -76.71, -76.71, -76.71, -76.71, -76.71, -76.71, -76.71, -76.71, -76.71, -76.71, -76.7, -76.7, -76.7, -76.7, -76.7, -76.7, -76.7, -76.7, -76.7, -76.7, -76.7, -76.7, -76.7, -76.7, -76.7, -76.7, -76.7, -76.7, -76.7, -76.7, -76.7, -76.7, -76.7, -76.7, -76.7, -76.7, -76.7, -76.7, -76.7, -76.7, -76.7, -76.7, -76.7, -76.7, -76.7, -76.7, -76.7, -76.7, -76.7, -76.69, -76.69, -76.69, -76.69, -76.69, -76.69, -76.69, -76.69, -76.69, -76.69, -76.69, -76.69, -76.69, -76.69, -76.69, -76.69, -76.69, -76.69, -76.69, -76.69, -76.69, -76.69, -76.69, -76.69, -76.69, -76.69, -76.69, -76.69, -76.69, -76.69, -76.69, -76.69, -76.69, -76.69, -76.69, -76.69, -76.69, -76.69, -76.69, -76.69, -76.69, -76.69, -76.69, -76.69, -76.69, -76.69, -76.69, -76.69, -76.69, -76.69, -76.69, -76.69, -76.69, -76.68, -76.68, -76.68, -76.68, -76.68, -76.68, -76.68, -76.68, -76.68, -76.68, -76.68, -76.68, -76.68, -76.68, -76.68, -76.68, -76.68, -76.68, -76.68, -76.68, -76.68, -76.68, -76.68, -76.68, -76.68, -76.68, -76.68, -76.68, -76.68, -76.68, -76.68, -76.68, -76.68, -76.68, -76.68, -76.68, -76.68, -76.68, -76.68, -76.68, -76.68, -76.68, -76.68, -76.68, -76.68, -76.68, -76.68, -76.68, -76.68, -76.68, -76.68, -76.68, -76.68, -76.68, -76.68, -76.68, -76.68, -76.68, -76.68, -76.68, -76.68, -76.68, -76.68, -76.68, -76.68, -76.68, -76.68, -76.68, -76.68, -76.68, -76.68, -76.68, -76.68, -76.68, -76.68, -76.68, -76.68, -76.68, -76.68, -76.68, -76.68, -76.68, -76.67, -76.67, -76.67, -76.67, -76.67, -76.67, -76.67, -76.67, -76.67, -76.67, -76.67, -76.67, -76.67, -76.67, -76.67, -76.67, -76.67, -76.67, -76.67, -76.67, -76.67, -76.67, -76.67, -76.67, -76.67, -76.67, -76.67, -76.67, -76.67, -76.67, -76.67, -76.67, -76.67, -76.67, -76.67, -76.67, -76.67, -76.67, -76.67, -76.67, -76.67, -76.67, -76.67, -76.67, -76.67, -76.67, -76.67, -76.67, -76.67, -76.67, -76.67, -76.67, -76.67, -76.67, -76.67, -76.67, -76.67, -76.67, -76.67, -76.67, -76.67, -76.67, -76.67, -76.67, -76.67, -76.67, -76.67, -76.67, -76.67, -76.67, -76.67, -76.67, -76.67, -76.67, -76.67, -76.67, -76.67, -76.67, -76.67, -76.67, -76.67, -76.67, -76.66, -76.66, -76.66, -76.66, -76.66, -76.66, -76.66, -76.66, -76.66, -76.66, -76.66, -76.66, -76.66, -76.66, -76.66, -76.66, -76.66, -76.66, -76.66, -76.66, -76.66, -76.66, -76.66, -76.66, -76.66, -76.66, -76.66, -76.66, -76.66, -76.66, -76.66, -76.66, -76.66, -76.66, -76.66, -76.66, -76.66, -76.66, -76.66, -76.66, -76.66, -76.66, -76.66, -76.66, -76.66, -76.66, -76.66, -76.66, -76.66, -76.66, -76.66, -76.66, -76.66, -76.66, -76.66, -76.66, -76.66, -76.66, -76.66, -76.66, -76.66, -76.66, -76.66, -76.66, -76.66, -76.66, -76.66, -76.66, -76.66, -76.66, -76.66, -76.66, -76.66, -76.66, -76.66, -76.66, -76.66, -76.66, -76.66, -76.66, -76.66, -76.66, -76.66, -76.66, -76.66, -76.65, -76.65, -76.65, -76.65, -76.65, -76.65, -76.65, -76.65, -76.65, -76.65, -76.65, -76.65, -76.65, -76.65, -76.65, -76.65, -76.65, -76.65, -76.65, -76.65, -76.65, -76.65, -76.65, -76.65, -76.65, -76.65, -76.65, -76.65, -76.65, -76.65, -76.65, -76.65, -76.65, -76.65, -76.65, -76.65, -76.65, -76.65, -76.65, -76.65, -76.65, -76.65, -76.65, -76.65, -76.65, -76.65, -76.65, -76.65, -76.65, -76.65, -76.65, -76.65, -76.65, -76.65, -76.65, -76.65, -76.65, -76.65, -76.65, -76.65, -76.65, -76.65, -76.65, -76.65, -76.65, -76.65, -76.65, -76.65, -76.65, -76.65, -76.65, -76.65, -76.65, -76.65, -76.65, -76.65, -76.65, -76.65, -76.65, -76.65, -76.65, -76.65, -76.65, -76.65, -76.64, -76.64, -76.64, -76.64, -76.64, -76.64, -76.64, -76.64, -76.64, -76.64, -76.64, -76.64, -76.64, -76.64, -76.64, -76.64, -76.64, -76.64, -76.64, -76.64, -76.64, -76.64, -76.64, -76.64, -76.64, -76.64, -76.64, -76.64, -76.64, -76.64, -76.64, -76.64, -76.64, -76.64, -76.64, -76.64, -76.64, -76.64, -76.64, -76.64, -76.64, -76.64, -76.64, -76.64, -76.64, -76.64, -76.64, -76.64, -76.64, -76.64, -76.64, -76.64, -76.64, -76.64, -76.64, -76.64, -76.64, -76.64, -76.64, -76.64, -76.64, -76.63, -76.63, -76.63, -76.63, -76.63, -76.63, -76.63, -76.63, -76.63, -76.63, -76.63, -76.63, -76.63, -76.63, -76.63, -76.63, -76.63, -76.63, -76.63, -76.63, -76.63, -76.63, -76.63, -76.63, -76.63, -76.63, -76.63, -76.63, -76.63, -76.63, -76.63, -76.63, -76.63, -76.63, -76.63, -76.63, -76.63, -76.63, -76.63, -76.63, -76.63, -76.63, -76.63, -76.63, -76.63, -76.63, -76.63, -76.63, -76.63, -76.63, -76.63, -76.63, -76.63, -76.63, -76.63, -76.63, -76.63, -76.63, -76.63, -76.63, -76.63, -76.63, -76.63, -76.63, -76.63, -76.62, -76.62, -76.62, -76.62, -76.62, -76.62, -76.62, -76.62, -76.62, -76.62, -76.62, -76.62, -76.62, -76.62, -76.62, -76.62, -76.62, -76.62, -76.62, -76.62, -76.62, -76.62, -76.62, -76.62, -76.62, -76.62, -76.62, -76.62, -76.62, -76.62, -76.62, -76.62, -76.62, -76.62, -76.62, -76.62, -76.62, -76.62, -76.62, -76.62, -76.62, -76.62, -76.62, -76.62, -76.62, -76.62, -76.62, -76.62, -76.62, -76.62, -76.62, -76.61, -76.61, -76.61, -76.61, -76.61, -76.61, -76.61, -76.61, -76.61, -76.61, -76.61, -76.61, -76.61, -76.61, -76.61, -76.61, -76.61, -76.61, -76.61, -76.61, -76.61, -76.61, -76.61, -76.61, -76.61, -76.61, -76.61, -76.61, -76.61, -76.61, -76.61, -76.61, -76.61, -76.61, -76.61, -76.61, -76.61, -76.61, -76.61, -76.61, -76.61, -76.61, -76.61, -76.61, -76.61, -76.61, -76.61, -76.61, -76.61, -76.61, -76.61, -76.61, -76.61, -76.61, -76.61, -76.61, -76.61, -76.61, -76.61, -76.61, -76.61, -76.61, -76.61, -76.61, -76.61, -76.61, -76.61, -76.61, -76.61, -76.61, -76.61, -76.61, -76.61, -76.61, -76.61, -76.61, -76.61, -76.61, -76.61, -76.61, -76.61, -76.61, -76.61, -76.61, -76.61, -76.61, -76.61, -76.61, -76.61, -76.61, -76.61, -76.61, -76.61, -76.61, -76.61, -76.61, -76.61, -76.61, -76.61, -76.61, -76.61, -76.61, -76.61, -76.61, -76.61, -76.61, -76.61, -76.61, -76.6, -76.6, -76.6, -76.6, -76.6, -76.6, -76.6, -76.6, -76.6, -76.6, -76.6, -76.6, -76.6, -76.6, -76.6, -76.6, -76.6, -76.6, -76.6, -76.6, -76.6, -76.6, -76.6, -76.6, -76.6, -76.6, -76.6, -76.6, -76.6, -76.6, -76.6, -76.6, -76.6, -76.6, -76.6, -76.6, -76.6, -76.6, -76.6, -76.6, -76.6, -76.6, -76.6, -76.6, -76.6, -76.6, -76.6, -76.6, -76.6, -76.6, -76.6, -76.6, -76.6, -76.6, -76.6, -76.6, -76.6, -76.6, -76.6, -76.6, -76.6, -76.6, -76.6, -76.6, -76.6, -76.6, -76.6, -76.6, -76.6, -76.6, -76.6, -76.6, -76.6, -76.6, -76.6, -76.6, -76.6, -76.6, -76.6, -76.6, -76.6, -76.6, -76.6, -76.6, -76.6, -76.6, -76.6, -76.6, -76.6, -76.6, -76.6, -76.6, -76.6, -76.6, -76.6, -76.6, -76.6, -76.6, -76.6, -76.6, -76.6, -76.6, -76.6, -76.6, -76.6, -76.6, -76.59, -76.59, -76.59, -76.59, -76.59, -76.59, -76.59, -76.59, -76.59, -76.59, -76.59, -76.59, -76.59, -76.59, -76.59, -76.59, -76.59, -76.59, -76.59, -76.59, -76.59, -76.59, -76.59, -76.59, -76.59, -76.59, -76.59, -76.59, -76.59, -76.59, -76.59, -76.59, -76.59, -76.59, -76.59, -76.59, -76.59, -76.59, -76.59, -76.59, -76.59, -76.59, -76.59, -76.59, -76.59, -76.59, -76.59, -76.59, -76.59, -76.59, -76.59, -76.59, -76.59, -76.59, -76.59, -76.59, -76.59, -76.59, -76.59, -76.59, -76.59, -76.59, -76.59, -76.59, -76.59, -76.59, -76.59, -76.59, -76.59, -76.59, -76.59, -76.59, -76.59, -76.59, -76.59, -76.59, -76.59, -76.59, -76.59, -76.59, -76.59, -76.59, -76.59, -76.59, -76.59, -76.59, -76.59, -76.58, -76.58, -76.58, -76.58, -76.58, -76.58, -76.58, -76.58, -76.58, -76.58, -76.58, -76.58, -76.58, -76.58, -76.58, -76.58, -76.58, -76.58, -76.58, -76.58, -76.58, -76.58, -76.58, -76.58, -76.58, -76.58, -76.58, -76.58, -76.58, -76.58, -76.58, -76.58, -76.58, -76.58, -76.58, -76.58, -76.58, -76.58, -76.58, -76.58, -76.58, -76.58, -76.58, -76.58, -76.58, -76.58, -76.58, -76.58, -76.58, -76.58, -76.58, -76.57, -76.57, -76.57, -76.57, -76.57, -76.57, -76.57, -76.57, -76.57, -76.57, -76.57, -76.57, -76.57, -76.57, -76.57, -76.57, -76.57, -76.57, -76.57, -76.57, -76.57, -76.57, -76.57, -76.57, -76.57, -76.57, -76.57, -76.57, -76.57, -76.57, -76.57, -76.57, -76.57, -76.57, -76.57, -76.57, -76.57, -76.57, -76.57, -76.57, -76.57, -76.57, -76.57, -76.57, -76.57, -76.57, -76.57, -76.57, -76.57, -76.57, -76.57, -76.57, -76.57, -76.57, -76.57, -76.57, -76.57, -76.57, -76.57, -76.57, -76.57, -76.57, -76.57, -76.57, -76.57, -76.57, -76.57, -76.57, -76.57, -76.57, -76.57, -76.56, -76.56, -76.56, -76.56, -76.56, -76.56, -76.56, -76.56, -76.56, -76.56, -76.56, -76.56, -76.56, -76.56, -76.56, -76.56, -76.56, -76.56, -76.56, -76.56, -76.56, -76.56, -76.56, -76.56, -76.56, -76.56, -76.56, -76.56, -76.56, -76.56, -76.56, -76.56, -76.56, -76.56, -76.56, -76.56, -76.56, -76.56, -76.56, -76.56, -76.56, -76.56, -76.56, -76.56, -76.56, -76.56, -76.56, -76.56, -76.56, -76.56, -76.55, -76.55, -76.55, -76.55, -76.55, -76.55, -76.55, -76.55, -76.55, -76.55, -76.55, -76.55, -76.55, -76.55, -76.55, -76.55, -76.55, -76.55, -76.55, -76.55, -76.55, -76.55, -76.55, -76.55, -76.55, -76.55, -76.55, -76.55, -76.55, -76.55, -76.55, -76.55, -76.55, -76.55, -76.55, -76.55, -76.54, -76.54, -76.54, -76.54, -76.54, -76.54, -76.54, -76.54, -76.54, -76.54, -76.54, -76.54, -76.54, -76.54, -76.54, -76.54, -76.54, -76.54, -76.54, -76.54, -76.54, -76.54, -76.54, -76.54, -76.54, -76.54, -76.54, -76.54, -76.54, -76.54, -76.54, -76.54, -76.54, -76.54, -76.54, -76.54, -76.54, -76.53, -76.53, -76.53, -76.53, -76.53, -76.53, -76.53, -76.53, -76.53, -76.53, -76.53, -76.53, -76.53, -76.53, -76.53, -76.53, -76.53, -76.53, -76.53, -76.53, -76.53, -76.53], \"y\": [39.28, 39.29, 39.3, 39.31, 39.31, 39.31, 39.31, 39.33, 39.35, 39.36, 39.36, 39.36, 39.36, 39.36, 39.36, 39.27, 39.28, 39.28, 39.28, 39.28, 39.28, 39.28, 39.28, 39.28, 39.29, 39.29, 39.31, 39.31, 39.31, 39.31, 39.33, 39.33, 39.33, 39.33, 39.33, 39.33, 39.33, 39.33, 39.33, 39.33, 39.34, 39.34, 39.34, 39.34, 39.34, 39.34, 39.34, 39.35, 39.35, 39.35, 39.35, 39.36, 39.36, 39.37, 39.27, 39.27, 39.27, 39.28, 39.28, 39.28, 39.28, 39.28, 39.28, 39.28, 39.28, 39.29, 39.29, 39.29, 39.29, 39.29, 39.29, 39.29, 39.3, 39.3, 39.3, 39.3, 39.3, 39.3, 39.3, 39.3, 39.32, 39.32, 39.32, 39.32, 39.32, 39.32, 39.32, 39.33, 39.33, 39.33, 39.33, 39.34, 39.34, 39.34, 39.34, 39.34, 39.34, 39.34, 39.34, 39.35, 39.35, 39.35, 39.35, 39.35, 39.35, 39.35, 39.35, 39.27, 39.28, 39.28, 39.28, 39.28, 39.28, 39.28, 39.28, 39.28, 39.28, 39.28, 39.28, 39.28, 39.29, 39.29, 39.29, 39.29, 39.29, 39.29, 39.29, 39.29, 39.29, 39.29, 39.3, 39.3, 39.3, 39.3, 39.3, 39.3, 39.3, 39.3, 39.3, 39.31, 39.31, 39.31, 39.31, 39.31, 39.32, 39.32, 39.32, 39.32, 39.32, 39.32, 39.32, 39.32, 39.33, 39.33, 39.33, 39.33, 39.33, 39.33, 39.33, 39.33, 39.33, 39.33, 39.34, 39.34, 39.34, 39.34, 39.34, 39.34, 39.34, 39.34, 39.34, 39.34, 39.34, 39.34, 39.35, 39.35, 39.35, 39.35, 39.35, 39.35, 39.35, 39.35, 39.35, 39.35, 39.35, 39.35, 39.36, 39.36, 39.36, 39.27, 39.27, 39.27, 39.27, 39.28, 39.28, 39.28, 39.28, 39.28, 39.28, 39.28, 39.29, 39.29, 39.29, 39.29, 39.29, 39.29, 39.29, 39.29, 39.29, 39.29, 39.29, 39.29, 39.3, 39.3, 39.3, 39.3, 39.3, 39.3, 39.3, 39.3, 39.3, 39.3, 39.3, 39.3, 39.31, 39.31, 39.31, 39.31, 39.31, 39.31, 39.31, 39.31, 39.31, 39.31, 39.31, 39.31, 39.32, 39.32, 39.32, 39.32, 39.32, 39.33, 39.33, 39.33, 39.33, 39.33, 39.33, 39.34, 39.34, 39.34, 39.34, 39.34, 39.34, 39.34, 39.34, 39.34, 39.34, 39.34, 39.34, 39.35, 39.35, 39.35, 39.35, 39.35, 39.35, 39.35, 39.35, 39.35, 39.35, 39.35, 39.35, 39.27, 39.27, 39.28, 39.28, 39.28, 39.28, 39.28, 39.28, 39.28, 39.28, 39.28, 39.29, 39.29, 39.29, 39.29, 39.29, 39.29, 39.29, 39.29, 39.29, 39.29, 39.29, 39.29, 39.3, 39.3, 39.3, 39.3, 39.3, 39.3, 39.3, 39.3, 39.3, 39.3, 39.3, 39.31, 39.31, 39.31, 39.31, 39.31, 39.31, 39.31, 39.31, 39.31, 39.31, 39.31, 39.32, 39.32, 39.32, 39.32, 39.32, 39.32, 39.32, 39.32, 39.32, 39.33, 39.33, 39.33, 39.33, 39.33, 39.33, 39.33, 39.33, 39.33, 39.33, 39.33, 39.34, 39.34, 39.34, 39.34, 39.34, 39.34, 39.34, 39.34, 39.34, 39.34, 39.35, 39.35, 39.35, 39.35, 39.35, 39.35, 39.35, 39.35, 39.35, 39.36, 39.25, 39.25, 39.25, 39.25, 39.25, 39.25, 39.25, 39.26, 39.26, 39.26, 39.26, 39.26, 39.26, 39.27, 39.27, 39.27, 39.27, 39.27, 39.27, 39.27, 39.27, 39.27, 39.27, 39.28, 39.28, 39.28, 39.28, 39.28, 39.28, 39.28, 39.28, 39.28, 39.28, 39.28, 39.28, 39.29, 39.29, 39.29, 39.29, 39.29, 39.29, 39.29, 39.29, 39.29, 39.29, 39.29, 39.29, 39.3, 39.3, 39.3, 39.3, 39.3, 39.3, 39.3, 39.3, 39.3, 39.3, 39.3, 39.3, 39.31, 39.31, 39.31, 39.31, 39.31, 39.31, 39.31, 39.31, 39.31, 39.31, 39.31, 39.31, 39.32, 39.32, 39.32, 39.32, 39.32, 39.32, 39.32, 39.32, 39.32, 39.32, 39.32, 39.35, 39.36, 39.25, 39.25, 39.26, 39.26, 39.26, 39.26, 39.26, 39.26, 39.28, 39.28, 39.28, 39.28, 39.28, 39.28, 39.28, 39.28, 39.28, 39.28, 39.28, 39.29, 39.29, 39.29, 39.29, 39.29, 39.29, 39.29, 39.29, 39.29, 39.29, 39.29, 39.29, 39.3, 39.3, 39.3, 39.3, 39.3, 39.3, 39.3, 39.3, 39.3, 39.3, 39.3, 39.3, 39.31, 39.31, 39.31, 39.31, 39.31, 39.31, 39.31, 39.31, 39.31, 39.31, 39.31, 39.31, 39.32, 39.32, 39.33, 39.33, 39.33, 39.34, 39.24, 39.24, 39.24, 39.25, 39.25, 39.25, 39.25, 39.25, 39.25, 39.25, 39.25, 39.25, 39.25, 39.26, 39.26, 39.26, 39.26, 39.26, 39.26, 39.27, 39.28, 39.28, 39.28, 39.28, 39.28, 39.28, 39.28, 39.28, 39.28, 39.29, 39.29, 39.29, 39.29, 39.29, 39.29, 39.29, 39.29, 39.29, 39.29, 39.29, 39.29, 39.3, 39.3, 39.3, 39.3, 39.3, 39.3, 39.3, 39.3, 39.3, 39.3, 39.3, 39.3, 39.31, 39.31, 39.31, 39.31, 39.31, 39.31, 39.31, 39.31, 39.31, 39.31, 39.32, 39.33, 39.24, 39.24, 39.24, 39.24, 39.24, 39.25, 39.25, 39.25, 39.25, 39.25, 39.25, 39.25, 39.25, 39.28, 39.28, 39.28, 39.28, 39.28, 39.28, 39.29, 39.29, 39.29, 39.29, 39.29, 39.29, 39.29, 39.29, 39.29, 39.29, 39.29, 39.29, 39.3, 39.3, 39.3, 39.3, 39.3, 39.3, 39.31, 39.31, 39.31, 39.31, 39.31, 39.31, 39.31, 39.31, 39.32, 39.32, 39.32, 39.33, 39.33, 39.35, 39.23, 39.23, 39.23, 39.23, 39.24, 39.24, 39.24, 39.24, 39.24, 39.24, 39.24, 39.24, 39.24, 39.24, 39.24, 39.25, 39.25, 39.25, 39.25, 39.27, 39.27, 39.28, 39.28, 39.29, 39.29, 39.29, 39.29, 39.29, 39.29, 39.29, 39.29, 39.29, 39.29, 39.29, 39.3, 39.3, 39.3, 39.3, 39.3, 39.3, 39.3, 39.3, 39.3, 39.3, 39.3, 39.31, 39.31, 39.31, 39.31, 39.31, 39.31, 39.31, 39.31, 39.31, 39.31, 39.31, 39.31, 39.32, 39.32, 39.32, 39.32, 39.32, 39.32, 39.32, 39.32, 39.32, 39.32, 39.33, 39.33, 39.33, 39.33, 39.33, 39.33, 39.33, 39.33, 39.33, 39.33, 39.34, 39.34, 39.34, 39.34, 39.34, 39.34, 39.34, 39.34, 39.34, 39.35, 39.35, 39.35, 39.35, 39.35, 39.35, 39.35, 39.35, 39.35, 39.35, 39.35, 39.35, 39.36, 39.36, 39.36, 39.36, 39.36, 39.36, 39.36, 39.36, 39.37, 39.37, 39.22, 39.22, 39.23, 39.23, 39.23, 39.23, 39.23, 39.23, 39.23, 39.23, 39.23, 39.23, 39.23, 39.24, 39.24, 39.24, 39.24, 39.24, 39.24, 39.24, 39.24, 39.24, 39.29, 39.29, 39.29, 39.29, 39.29, 39.29, 39.29, 39.29, 39.29, 39.29, 39.29, 39.29, 39.3, 39.3, 39.3, 39.3, 39.3, 39.3, 39.3, 39.3, 39.3, 39.3, 39.3, 39.3, 39.31, 39.31, 39.31, 39.31, 39.31, 39.31, 39.31, 39.31, 39.31, 39.31, 39.31, 39.31, 39.32, 39.32, 39.32, 39.32, 39.32, 39.32, 39.32, 39.32, 39.32, 39.32, 39.32, 39.32, 39.33, 39.33, 39.33, 39.33, 39.33, 39.33, 39.34, 39.34, 39.34, 39.34, 39.34, 39.34, 39.34, 39.34, 39.34, 39.34, 39.35, 39.35, 39.35, 39.35, 39.35, 39.35, 39.35, 39.35, 39.36, 39.36, 39.36, 39.36, 39.36, 39.36, 39.36, 39.36, 39.36, 39.37, 39.37, 39.37, 39.22, 39.22, 39.22, 39.22, 39.22, 39.22, 39.23, 39.23, 39.23, 39.23, 39.23, 39.23, 39.23, 39.23, 39.23, 39.23, 39.23, 39.23, 39.28, 39.28, 39.28, 39.29, 39.29, 39.29, 39.29, 39.29, 39.29, 39.29, 39.3, 39.3, 39.3, 39.3, 39.3, 39.3, 39.3, 39.3, 39.3, 39.3, 39.3, 39.31, 39.31, 39.31, 39.31, 39.31, 39.31, 39.31, 39.31, 39.31, 39.31, 39.31, 39.32, 39.32, 39.32, 39.32, 39.32, 39.32, 39.32, 39.32, 39.32, 39.32, 39.33, 39.33, 39.33, 39.33, 39.33, 39.34, 39.34, 39.34, 39.34, 39.34, 39.35, 39.35, 39.35, 39.35, 39.35, 39.35, 39.35, 39.35, 39.36, 39.36, 39.36, 39.36, 39.36, 39.36, 39.36, 39.36, 39.37, 39.29, 39.29, 39.29, 39.29, 39.29, 39.29, 39.3, 39.3, 39.3, 39.3, 39.3, 39.3, 39.3, 39.3, 39.3, 39.3, 39.3, 39.3, 39.31, 39.31, 39.31, 39.31, 39.31, 39.31, 39.31, 39.31, 39.31, 39.31, 39.31, 39.31, 39.32, 39.32, 39.32, 39.32, 39.32, 39.32, 39.32, 39.32, 39.32, 39.32, 39.32, 39.33, 39.35, 39.35, 39.35, 39.36, 39.36, 39.36, 39.36, 39.36, 39.37, 39.28, 39.29, 39.29, 39.29, 39.29, 39.29, 39.29, 39.29, 39.29, 39.29, 39.29, 39.29, 39.29, 39.3, 39.3, 39.3, 39.3, 39.3, 39.3, 39.3, 39.3, 39.3, 39.3, 39.3, 39.31, 39.31, 39.31, 39.31, 39.32, 39.32, 39.32, 39.32, 39.32, 39.32, 39.32, 39.32, 39.32, 39.32, 39.32, 39.32, 39.33, 39.33, 39.33, 39.33, 39.33, 39.33, 39.33, 39.33, 39.34, 39.34, 39.35, 39.35, 39.35, 39.35, 39.35, 39.36, 39.36, 39.36, 39.36, 39.36, 39.36, 39.36, 39.37, 39.37, 39.37, 39.37, 39.37, 39.37, 39.37, 39.37, 39.37, 39.29, 39.29, 39.29, 39.29, 39.29, 39.29, 39.3, 39.3, 39.3, 39.3, 39.31, 39.31, 39.31, 39.31, 39.31, 39.32, 39.32, 39.32, 39.32, 39.32, 39.32, 39.32, 39.32, 39.32, 39.32, 39.32, 39.33, 39.33, 39.33, 39.33, 39.33, 39.33, 39.33, 39.33, 39.33, 39.33, 39.34, 39.34, 39.35, 39.35, 39.35, 39.35, 39.35, 39.35, 39.35, 39.35, 39.36, 39.36, 39.36, 39.37, 39.28, 39.28, 39.28, 39.29, 39.29, 39.29, 39.3, 39.32, 39.32, 39.32, 39.32, 39.32, 39.32, 39.32, 39.32, 39.33, 39.33, 39.33, 39.33, 39.33, 39.34, 39.34, 39.34, 39.34, 39.34, 39.34, 39.34, 39.35, 39.35, 39.35, 39.35, 39.35, 39.36, 39.36, 39.37, 39.37, 39.27, 39.28, 39.28, 39.28, 39.28, 39.28, 39.28, 39.28, 39.29, 39.3, 39.32, 39.32, 39.32, 39.32, 39.32, 39.32, 39.32, 39.32, 39.32, 39.33, 39.33, 39.33, 39.33, 39.33, 39.33, 39.34, 39.34, 39.34, 39.34, 39.34, 39.34, 39.35, 39.35, 39.35, 39.35, 39.35, 39.35, 39.26, 39.26, 39.27, 39.27, 39.27, 39.28, 39.28, 39.29, 39.33, 39.33, 39.33, 39.33, 39.33, 39.33, 39.33, 39.33, 39.33, 39.34, 39.34, 39.35, 39.35, 39.36], \"z\": [3.0, 8.0, 3.0, 5.0, 7.0, 9.0, 10.0, 3.0, 12.0, 3.0, 7.0, 9.0, 10.0, 11.0, 12.0, 9.0, 2.0, 4.0, 5.0, 6.0, 7.0, 8.0, 10.0, 11.0, 4.0, 6.0, 1.0, 6.0, 8.0, 12.0, 1.0, 2.0, 3.0, 4.0, 5.0, 6.0, 7.0, 8.0, 10.0, 12.0, 1.0, 2.0, 3.0, 6.0, 7.0, 11.0, 12.0, 2.0, 3.0, 10.0, 11.0, 7.0, 8.0, 5.0, 1.0, 7.0, 10.0, 1.0, 5.0, 6.0, 7.0, 8.0, 10.0, 11.0, 12.0, 3.0, 5.0, 6.0, 8.0, 9.0, 10.0, 12.0, 1.0, 4.0, 6.0, 7.0, 8.0, 9.0, 10.0, 12.0, 4.0, 5.0, 6.0, 7.0, 9.0, 10.0, 11.0, 7.0, 8.0, 9.0, 10.0, 1.0, 4.0, 5.0, 6.0, 9.0, 10.0, 11.0, 12.0, 1.0, 2.0, 3.0, 5.0, 6.0, 7.0, 10.0, 11.0, 1.0, 1.0, 2.0, 3.0, 4.0, 5.0, 6.0, 7.0, 8.0, 9.0, 10.0, 11.0, 12.0, 1.0, 2.0, 3.0, 4.0, 5.0, 6.0, 7.0, 8.0, 10.0, 12.0, 1.0, 3.0, 4.0, 5.0, 6.0, 8.0, 9.0, 10.0, 12.0, 1.0, 6.0, 7.0, 8.0, 10.0, 3.0, 4.0, 6.0, 7.0, 8.0, 9.0, 10.0, 11.0, 1.0, 2.0, 3.0, 4.0, 5.0, 6.0, 7.0, 8.0, 10.0, 11.0, 1.0, 2.0, 3.0, 4.0, 5.0, 6.0, 7.0, 8.0, 9.0, 10.0, 11.0, 12.0, 1.0, 2.0, 3.0, 4.0, 5.0, 6.0, 7.0, 8.0, 9.0, 10.0, 11.0, 12.0, 6.0, 8.0, 11.0, 4.0, 5.0, 7.0, 11.0, 1.0, 2.0, 5.0, 9.0, 10.0, 11.0, 12.0, 1.0, 2.0, 3.0, 4.0, 5.0, 6.0, 7.0, 8.0, 9.0, 10.0, 11.0, 12.0, 1.0, 2.0, 3.0, 4.0, 5.0, 6.0, 7.0, 8.0, 9.0, 10.0, 11.0, 12.0, 1.0, 2.0, 3.0, 4.0, 5.0, 6.0, 7.0, 8.0, 9.0, 10.0, 11.0, 12.0, 2.0, 8.0, 9.0, 10.0, 11.0, 2.0, 5.0, 7.0, 8.0, 9.0, 12.0, 1.0, 2.0, 3.0, 4.0, 5.0, 6.0, 7.0, 8.0, 9.0, 10.0, 11.0, 12.0, 1.0, 2.0, 3.0, 4.0, 5.0, 6.0, 7.0, 8.0, 9.0, 10.0, 11.0, 12.0, 1.0, 8.0, 2.0, 3.0, 5.0, 7.0, 8.0, 9.0, 10.0, 11.0, 12.0, 1.0, 2.0, 3.0, 4.0, 5.0, 6.0, 7.0, 8.0, 9.0, 10.0, 11.0, 12.0, 1.0, 2.0, 3.0, 4.0, 5.0, 7.0, 8.0, 9.0, 10.0, 11.0, 12.0, 1.0, 2.0, 3.0, 4.0, 5.0, 6.0, 7.0, 8.0, 9.0, 10.0, 11.0, 1.0, 2.0, 5.0, 6.0, 7.0, 9.0, 10.0, 11.0, 12.0, 1.0, 2.0, 4.0, 5.0, 6.0, 7.0, 8.0, 9.0, 10.0, 11.0, 12.0, 3.0, 4.0, 5.0, 6.0, 7.0, 8.0, 9.0, 10.0, 11.0, 12.0, 1.0, 2.0, 4.0, 5.0, 6.0, 8.0, 9.0, 10.0, 12.0, 10.0, 3.0, 5.0, 6.0, 7.0, 10.0, 11.0, 12.0, 3.0, 5.0, 8.0, 9.0, 10.0, 11.0, 1.0, 2.0, 3.0, 4.0, 6.0, 7.0, 8.0, 9.0, 11.0, 12.0, 1.0, 2.0, 3.0, 4.0, 5.0, 6.0, 7.0, 8.0, 9.0, 10.0, 11.0, 12.0, 1.0, 2.0, 3.0, 4.0, 5.0, 6.0, 7.0, 8.0, 9.0, 10.0, 11.0, 12.0, 1.0, 2.0, 3.0, 4.0, 5.0, 6.0, 7.0, 8.0, 9.0, 10.0, 11.0, 12.0, 1.0, 2.0, 3.0, 4.0, 5.0, 6.0, 7.0, 8.0, 9.0, 10.0, 11.0, 12.0, 1.0, 2.0, 3.0, 4.0, 5.0, 6.0, 7.0, 8.0, 9.0, 10.0, 12.0, 3.0, 12.0, 9.0, 12.0, 1.0, 4.0, 7.0, 9.0, 11.0, 12.0, 1.0, 3.0, 4.0, 5.0, 6.0, 7.0, 8.0, 9.0, 10.0, 11.0, 12.0, 1.0, 2.0, 3.0, 4.0, 5.0, 6.0, 7.0, 8.0, 9.0, 10.0, 11.0, 12.0, 1.0, 2.0, 3.0, 4.0, 5.0, 6.0, 7.0, 8.0, 9.0, 10.0, 11.0, 12.0, 1.0, 2.0, 3.0, 4.0, 5.0, 6.0, 7.0, 8.0, 9.0, 10.0, 11.0, 12.0, 7.0, 12.0, 4.0, 11.0, 12.0, 5.0, 4.0, 7.0, 8.0, 2.0, 3.0, 4.0, 5.0, 6.0, 7.0, 8.0, 9.0, 11.0, 12.0, 1.0, 2.0, 5.0, 7.0, 10.0, 12.0, 1.0, 1.0, 3.0, 4.0, 5.0, 6.0, 7.0, 8.0, 9.0, 12.0, 1.0, 2.0, 3.0, 4.0, 5.0, 6.0, 7.0, 8.0, 9.0, 10.0, 11.0, 12.0, 1.0, 2.0, 3.0, 4.0, 5.0, 6.0, 7.0, 8.0, 9.0, 10.0, 11.0, 12.0, 1.0, 2.0, 3.0, 4.0, 5.0, 6.0, 7.0, 8.0, 9.0, 12.0, 11.0, 5.0, 1.0, 3.0, 5.0, 6.0, 8.0, 1.0, 2.0, 5.0, 6.0, 7.0, 8.0, 11.0, 12.0, 1.0, 2.0, 5.0, 6.0, 8.0, 10.0, 1.0, 2.0, 3.0, 4.0, 5.0, 6.0, 7.0, 8.0, 9.0, 10.0, 11.0, 12.0, 2.0, 5.0, 6.0, 9.0, 10.0, 11.0, 1.0, 2.0, 4.0, 5.0, 6.0, 7.0, 8.0, 9.0, 1.0, 10.0, 11.0, 11.0, 12.0, 3.0, 6.0, 7.0, 8.0, 12.0, 1.0, 2.0, 3.0, 4.0, 5.0, 6.0, 7.0, 8.0, 9.0, 10.0, 12.0, 5.0, 7.0, 11.0, 12.0, 1.0, 7.0, 5.0, 10.0, 1.0, 2.0, 3.0, 4.0, 5.0, 6.0, 7.0, 8.0, 9.0, 11.0, 12.0, 1.0, 3.0, 4.0, 5.0, 6.0, 7.0, 8.0, 9.0, 10.0, 11.0, 12.0, 1.0, 2.0, 3.0, 4.0, 5.0, 6.0, 7.0, 8.0, 9.0, 10.0, 11.0, 12.0, 1.0, 2.0, 3.0, 5.0, 6.0, 7.0, 8.0, 9.0, 10.0, 12.0, 1.0, 4.0, 5.0, 6.0, 7.0, 8.0, 9.0, 10.0, 11.0, 12.0, 1.0, 2.0, 4.0, 5.0, 6.0, 7.0, 8.0, 9.0, 11.0, 1.0, 2.0, 3.0, 4.0, 5.0, 6.0, 7.0, 8.0, 9.0, 10.0, 11.0, 12.0, 5.0, 6.0, 7.0, 8.0, 9.0, 10.0, 11.0, 12.0, 5.0, 12.0, 4.0, 11.0, 1.0, 2.0, 3.0, 4.0, 5.0, 6.0, 7.0, 8.0, 9.0, 10.0, 11.0, 1.0, 4.0, 5.0, 7.0, 8.0, 9.0, 10.0, 11.0, 12.0, 1.0, 2.0, 3.0, 4.0, 5.0, 6.0, 7.0, 8.0, 9.0, 10.0, 11.0, 12.0, 1.0, 2.0, 3.0, 4.0, 5.0, 6.0, 7.0, 8.0, 9.0, 10.0, 11.0, 12.0, 1.0, 2.0, 3.0, 4.0, 5.0, 6.0, 7.0, 8.0, 9.0, 10.0, 11.0, 12.0, 1.0, 2.0, 3.0, 4.0, 5.0, 6.0, 7.0, 8.0, 9.0, 10.0, 11.0, 12.0, 1.0, 3.0, 5.0, 8.0, 9.0, 12.0, 1.0, 4.0, 5.0, 6.0, 7.0, 8.0, 9.0, 10.0, 11.0, 12.0, 1.0, 2.0, 3.0, 5.0, 6.0, 8.0, 9.0, 12.0, 1.0, 2.0, 3.0, 4.0, 5.0, 7.0, 8.0, 9.0, 12.0, 6.0, 7.0, 9.0, 1.0, 5.0, 7.0, 8.0, 10.0, 12.0, 1.0, 2.0, 3.0, 4.0, 5.0, 6.0, 7.0, 8.0, 9.0, 10.0, 11.0, 12.0, 6.0, 8.0, 10.0, 4.0, 5.0, 8.0, 9.0, 10.0, 11.0, 12.0, 1.0, 3.0, 4.0, 5.0, 6.0, 7.0, 8.0, 9.0, 10.0, 11.0, 12.0, 1.0, 2.0, 3.0, 4.0, 5.0, 6.0, 7.0, 8.0, 9.0, 10.0, 11.0, 1.0, 2.0, 4.0, 5.0, 6.0, 7.0, 8.0, 9.0, 11.0, 12.0, 4.0, 5.0, 6.0, 7.0, 10.0, 2.0, 5.0, 7.0, 8.0, 10.0, 1.0, 4.0, 7.0, 8.0, 9.0, 10.0, 11.0, 12.0, 1.0, 2.0, 3.0, 5.0, 6.0, 7.0, 8.0, 12.0, 7.0, 6.0, 7.0, 8.0, 9.0, 10.0, 12.0, 1.0, 2.0, 3.0, 4.0, 5.0, 6.0, 7.0, 8.0, 9.0, 10.0, 11.0, 12.0, 1.0, 2.0, 3.0, 4.0, 5.0, 6.0, 7.0, 8.0, 9.0, 10.0, 11.0, 12.0, 1.0, 3.0, 4.0, 5.0, 6.0, 7.0, 8.0, 9.0, 10.0, 11.0, 12.0, 9.0, 7.0, 8.0, 11.0, 1.0, 5.0, 6.0, 7.0, 10.0, 12.0, 7.0, 1.0, 2.0, 3.0, 4.0, 5.0, 6.0, 7.0, 8.0, 9.0, 10.0, 11.0, 12.0, 1.0, 2.0, 3.0, 4.0, 5.0, 6.0, 7.0, 8.0, 9.0, 11.0, 12.0, 5.0, 6.0, 7.0, 8.0, 1.0, 2.0, 3.0, 4.0, 5.0, 6.0, 7.0, 8.0, 9.0, 10.0, 11.0, 12.0, 3.0, 4.0, 6.0, 7.0, 8.0, 9.0, 10.0, 11.0, 7.0, 12.0, 4.0, 7.0, 8.0, 9.0, 12.0, 1.0, 3.0, 5.0, 6.0, 8.0, 10.0, 11.0, 1.0, 2.0, 3.0, 4.0, 5.0, 6.0, 8.0, 11.0, 12.0, 2.0, 6.0, 8.0, 9.0, 10.0, 11.0, 1.0, 8.0, 9.0, 11.0, 2.0, 3.0, 7.0, 8.0, 9.0, 1.0, 2.0, 3.0, 4.0, 5.0, 6.0, 7.0, 8.0, 9.0, 10.0, 11.0, 1.0, 2.0, 3.0, 4.0, 5.0, 6.0, 7.0, 8.0, 9.0, 10.0, 1.0, 10.0, 1.0, 2.0, 3.0, 5.0, 7.0, 9.0, 10.0, 12.0, 6.0, 7.0, 12.0, 9.0, 5.0, 6.0, 7.0, 2.0, 6.0, 10.0, 1.0, 1.0, 2.0, 3.0, 5.0, 6.0, 7.0, 9.0, 10.0, 3.0, 4.0, 5.0, 8.0, 11.0, 1.0, 5.0, 6.0, 7.0, 8.0, 9.0, 12.0, 1.0, 3.0, 5.0, 7.0, 12.0, 1.0, 5.0, 9.0, 12.0, 7.0, 1.0, 3.0, 5.0, 6.0, 7.0, 8.0, 12.0, 7.0, 6.0, 1.0, 2.0, 3.0, 4.0, 5.0, 6.0, 7.0, 11.0, 12.0, 1.0, 3.0, 4.0, 5.0, 6.0, 8.0, 3.0, 5.0, 7.0, 8.0, 9.0, 12.0, 2.0, 6.0, 8.0, 9.0, 10.0, 11.0, 3.0, 11.0, 5.0, 8.0, 11.0, 1.0, 7.0, 11.0, 1.0, 2.0, 4.0, 5.0, 6.0, 9.0, 10.0, 11.0, 12.0, 4.0, 12.0, 1.0, 11.0, 5.0]}],\n",
       "                        {\"coloraxis\": {\"colorbar\": {\"title\": {\"text\": \"Total Incidents\"}}, \"colorscale\": [[0.0, \"#0d0887\"], [0.1111111111111111, \"#46039f\"], [0.2222222222222222, \"#7201a8\"], [0.3333333333333333, \"#9c179e\"], [0.4444444444444444, \"#bd3786\"], [0.5555555555555556, \"#d8576b\"], [0.6666666666666666, \"#ed7953\"], [0.7777777777777778, \"#fb9f3a\"], [0.8888888888888888, \"#fdca26\"], [1.0, \"#f0f921\"]]}, \"legend\": {\"itemsizing\": \"constant\", \"title\": {\"text\": \"Description\"}, \"tracegroupgap\": 0}, \"margin\": {\"t\": 60}, \"scene\": {\"domain\": {\"x\": [0.0, 1.0], \"y\": [0.0, 1.0]}, \"xaxis\": {\"title\": {\"text\": \"Lo\"}}, \"yaxis\": {\"title\": {\"text\": \"La\"}}, \"zaxis\": {\"title\": {\"text\": \"Month\"}}}, \"template\": {\"data\": {\"bar\": [{\"error_x\": {\"color\": \"#2a3f5f\"}, \"error_y\": {\"color\": \"#2a3f5f\"}, \"marker\": {\"line\": {\"color\": \"#E5ECF6\", \"width\": 0.5}}, \"type\": \"bar\"}], \"barpolar\": [{\"marker\": {\"line\": {\"color\": \"#E5ECF6\", \"width\": 0.5}}, \"type\": \"barpolar\"}], \"carpet\": [{\"aaxis\": {\"endlinecolor\": \"#2a3f5f\", \"gridcolor\": \"white\", \"linecolor\": \"white\", \"minorgridcolor\": \"white\", \"startlinecolor\": \"#2a3f5f\"}, \"baxis\": {\"endlinecolor\": \"#2a3f5f\", \"gridcolor\": \"white\", \"linecolor\": \"white\", \"minorgridcolor\": \"white\", \"startlinecolor\": \"#2a3f5f\"}, \"type\": \"carpet\"}], \"choropleth\": [{\"colorbar\": {\"outlinewidth\": 0, \"ticks\": \"\"}, \"type\": \"choropleth\"}], \"contour\": [{\"colorbar\": {\"outlinewidth\": 0, \"ticks\": \"\"}, \"colorscale\": [[0.0, \"#0d0887\"], [0.1111111111111111, \"#46039f\"], [0.2222222222222222, \"#7201a8\"], [0.3333333333333333, \"#9c179e\"], [0.4444444444444444, \"#bd3786\"], [0.5555555555555556, \"#d8576b\"], [0.6666666666666666, \"#ed7953\"], [0.7777777777777778, \"#fb9f3a\"], [0.8888888888888888, \"#fdca26\"], [1.0, \"#f0f921\"]], \"type\": \"contour\"}], \"contourcarpet\": [{\"colorbar\": {\"outlinewidth\": 0, \"ticks\": \"\"}, \"type\": \"contourcarpet\"}], \"heatmap\": [{\"colorbar\": {\"outlinewidth\": 0, \"ticks\": \"\"}, \"colorscale\": [[0.0, \"#0d0887\"], [0.1111111111111111, \"#46039f\"], [0.2222222222222222, \"#7201a8\"], [0.3333333333333333, \"#9c179e\"], [0.4444444444444444, \"#bd3786\"], [0.5555555555555556, \"#d8576b\"], [0.6666666666666666, \"#ed7953\"], [0.7777777777777778, \"#fb9f3a\"], [0.8888888888888888, \"#fdca26\"], [1.0, \"#f0f921\"]], \"type\": \"heatmap\"}], \"heatmapgl\": [{\"colorbar\": {\"outlinewidth\": 0, \"ticks\": \"\"}, \"colorscale\": [[0.0, \"#0d0887\"], [0.1111111111111111, \"#46039f\"], [0.2222222222222222, \"#7201a8\"], [0.3333333333333333, \"#9c179e\"], [0.4444444444444444, \"#bd3786\"], [0.5555555555555556, \"#d8576b\"], [0.6666666666666666, \"#ed7953\"], [0.7777777777777778, \"#fb9f3a\"], [0.8888888888888888, \"#fdca26\"], [1.0, \"#f0f921\"]], \"type\": \"heatmapgl\"}], \"histogram\": [{\"marker\": {\"colorbar\": {\"outlinewidth\": 0, \"ticks\": \"\"}}, \"type\": \"histogram\"}], \"histogram2d\": [{\"colorbar\": {\"outlinewidth\": 0, \"ticks\": \"\"}, \"colorscale\": [[0.0, \"#0d0887\"], [0.1111111111111111, \"#46039f\"], [0.2222222222222222, \"#7201a8\"], [0.3333333333333333, \"#9c179e\"], [0.4444444444444444, \"#bd3786\"], [0.5555555555555556, \"#d8576b\"], [0.6666666666666666, \"#ed7953\"], [0.7777777777777778, \"#fb9f3a\"], [0.8888888888888888, \"#fdca26\"], [1.0, \"#f0f921\"]], \"type\": \"histogram2d\"}], \"histogram2dcontour\": [{\"colorbar\": {\"outlinewidth\": 0, \"ticks\": \"\"}, \"colorscale\": [[0.0, \"#0d0887\"], [0.1111111111111111, \"#46039f\"], [0.2222222222222222, \"#7201a8\"], [0.3333333333333333, \"#9c179e\"], [0.4444444444444444, \"#bd3786\"], [0.5555555555555556, \"#d8576b\"], [0.6666666666666666, \"#ed7953\"], [0.7777777777777778, \"#fb9f3a\"], [0.8888888888888888, \"#fdca26\"], [1.0, \"#f0f921\"]], \"type\": \"histogram2dcontour\"}], \"mesh3d\": [{\"colorbar\": {\"outlinewidth\": 0, \"ticks\": \"\"}, \"type\": \"mesh3d\"}], \"parcoords\": [{\"line\": {\"colorbar\": {\"outlinewidth\": 0, \"ticks\": \"\"}}, \"type\": \"parcoords\"}], \"pie\": [{\"automargin\": true, \"type\": \"pie\"}], \"scatter\": [{\"marker\": {\"colorbar\": {\"outlinewidth\": 0, \"ticks\": \"\"}}, \"type\": \"scatter\"}], \"scatter3d\": [{\"line\": {\"colorbar\": {\"outlinewidth\": 0, \"ticks\": \"\"}}, \"marker\": {\"colorbar\": {\"outlinewidth\": 0, \"ticks\": \"\"}}, \"type\": \"scatter3d\"}], \"scattercarpet\": [{\"marker\": {\"colorbar\": {\"outlinewidth\": 0, \"ticks\": \"\"}}, \"type\": \"scattercarpet\"}], \"scattergeo\": [{\"marker\": {\"colorbar\": {\"outlinewidth\": 0, \"ticks\": \"\"}}, \"type\": \"scattergeo\"}], \"scattergl\": [{\"marker\": {\"colorbar\": {\"outlinewidth\": 0, \"ticks\": \"\"}}, \"type\": \"scattergl\"}], \"scattermapbox\": [{\"marker\": {\"colorbar\": {\"outlinewidth\": 0, \"ticks\": \"\"}}, \"type\": \"scattermapbox\"}], \"scatterpolar\": [{\"marker\": {\"colorbar\": {\"outlinewidth\": 0, \"ticks\": \"\"}}, \"type\": \"scatterpolar\"}], \"scatterpolargl\": [{\"marker\": {\"colorbar\": {\"outlinewidth\": 0, \"ticks\": \"\"}}, \"type\": \"scatterpolargl\"}], \"scatterternary\": [{\"marker\": {\"colorbar\": {\"outlinewidth\": 0, \"ticks\": \"\"}}, \"type\": \"scatterternary\"}], \"surface\": [{\"colorbar\": {\"outlinewidth\": 0, \"ticks\": \"\"}, \"colorscale\": [[0.0, \"#0d0887\"], [0.1111111111111111, \"#46039f\"], [0.2222222222222222, \"#7201a8\"], [0.3333333333333333, \"#9c179e\"], [0.4444444444444444, \"#bd3786\"], [0.5555555555555556, \"#d8576b\"], [0.6666666666666666, \"#ed7953\"], [0.7777777777777778, \"#fb9f3a\"], [0.8888888888888888, \"#fdca26\"], [1.0, \"#f0f921\"]], \"type\": \"surface\"}], \"table\": [{\"cells\": {\"fill\": {\"color\": \"#EBF0F8\"}, \"line\": {\"color\": \"white\"}}, \"header\": {\"fill\": {\"color\": \"#C8D4E3\"}, \"line\": {\"color\": \"white\"}}, \"type\": \"table\"}]}, \"layout\": {\"annotationdefaults\": {\"arrowcolor\": \"#2a3f5f\", \"arrowhead\": 0, \"arrowwidth\": 1}, \"coloraxis\": {\"colorbar\": {\"outlinewidth\": 0, \"ticks\": \"\"}}, \"colorscale\": {\"diverging\": [[0, \"#8e0152\"], [0.1, \"#c51b7d\"], [0.2, \"#de77ae\"], [0.3, \"#f1b6da\"], [0.4, \"#fde0ef\"], [0.5, \"#f7f7f7\"], [0.6, \"#e6f5d0\"], [0.7, \"#b8e186\"], [0.8, \"#7fbc41\"], [0.9, \"#4d9221\"], [1, \"#276419\"]], \"sequential\": [[0.0, \"#0d0887\"], [0.1111111111111111, \"#46039f\"], [0.2222222222222222, \"#7201a8\"], [0.3333333333333333, \"#9c179e\"], [0.4444444444444444, \"#bd3786\"], [0.5555555555555556, \"#d8576b\"], [0.6666666666666666, \"#ed7953\"], [0.7777777777777778, \"#fb9f3a\"], [0.8888888888888888, \"#fdca26\"], [1.0, \"#f0f921\"]], \"sequentialminus\": [[0.0, \"#0d0887\"], [0.1111111111111111, \"#46039f\"], [0.2222222222222222, \"#7201a8\"], [0.3333333333333333, \"#9c179e\"], [0.4444444444444444, \"#bd3786\"], [0.5555555555555556, \"#d8576b\"], [0.6666666666666666, \"#ed7953\"], [0.7777777777777778, \"#fb9f3a\"], [0.8888888888888888, \"#fdca26\"], [1.0, \"#f0f921\"]]}, \"colorway\": [\"#636efa\", \"#EF553B\", \"#00cc96\", \"#ab63fa\", \"#FFA15A\", \"#19d3f3\", \"#FF6692\", \"#B6E880\", \"#FF97FF\", \"#FECB52\"], \"font\": {\"color\": \"#2a3f5f\"}, \"geo\": {\"bgcolor\": \"white\", \"lakecolor\": \"white\", \"landcolor\": \"#E5ECF6\", \"showlakes\": true, \"showland\": true, \"subunitcolor\": \"white\"}, \"hoverlabel\": {\"align\": \"left\"}, \"hovermode\": \"closest\", \"mapbox\": {\"style\": \"light\"}, \"paper_bgcolor\": \"white\", \"plot_bgcolor\": \"#E5ECF6\", \"polar\": {\"angularaxis\": {\"gridcolor\": \"white\", \"linecolor\": \"white\", \"ticks\": \"\"}, \"bgcolor\": \"#E5ECF6\", \"radialaxis\": {\"gridcolor\": \"white\", \"linecolor\": \"white\", \"ticks\": \"\"}}, \"scene\": {\"xaxis\": {\"backgroundcolor\": \"#E5ECF6\", \"gridcolor\": \"white\", \"gridwidth\": 2, \"linecolor\": \"white\", \"showbackground\": true, \"ticks\": \"\", \"zerolinecolor\": \"white\"}, \"yaxis\": {\"backgroundcolor\": \"#E5ECF6\", \"gridcolor\": \"white\", \"gridwidth\": 2, \"linecolor\": \"white\", \"showbackground\": true, \"ticks\": \"\", \"zerolinecolor\": \"white\"}, \"zaxis\": {\"backgroundcolor\": \"#E5ECF6\", \"gridcolor\": \"white\", \"gridwidth\": 2, \"linecolor\": \"white\", \"showbackground\": true, \"ticks\": \"\", \"zerolinecolor\": \"white\"}}, \"shapedefaults\": {\"line\": {\"color\": \"#2a3f5f\"}}, \"ternary\": {\"aaxis\": {\"gridcolor\": \"white\", \"linecolor\": \"white\", \"ticks\": \"\"}, \"baxis\": {\"gridcolor\": \"white\", \"linecolor\": \"white\", \"ticks\": \"\"}, \"bgcolor\": \"#E5ECF6\", \"caxis\": {\"gridcolor\": \"white\", \"linecolor\": \"white\", \"ticks\": \"\"}}, \"title\": {\"x\": 0.05}, \"xaxis\": {\"automargin\": true, \"gridcolor\": \"white\", \"linecolor\": \"white\", \"ticks\": \"\", \"title\": {\"standoff\": 15}, \"zerolinecolor\": \"white\", \"zerolinewidth\": 2}, \"yaxis\": {\"automargin\": true, \"gridcolor\": \"white\", \"linecolor\": \"white\", \"ticks\": \"\", \"title\": {\"standoff\": 15}, \"zerolinecolor\": \"white\", \"zerolinewidth\": 2}}}},\n",
       "                        {\"responsive\": true}\n",
       "                    ).then(function(){\n",
       "                            \n",
       "var gd = document.getElementById('9ebbc149-7d72-4170-a352-b5c3a2d18376');\n",
       "var x = new MutationObserver(function (mutations, observer) {{\n",
       "        var display = window.getComputedStyle(gd).display;\n",
       "        if (!display || display === 'none') {{\n",
       "            console.log([gd, 'removed!']);\n",
       "            Plotly.purge(gd);\n",
       "            observer.disconnect();\n",
       "        }}\n",
       "}});\n",
       "\n",
       "// Listen for the removal of the full notebook cells\n",
       "var notebookContainer = gd.closest('#notebook-container');\n",
       "if (notebookContainer) {{\n",
       "    x.observe(notebookContainer, {childList: true});\n",
       "}}\n",
       "\n",
       "// Listen for the clearing of the current output cell\n",
       "var outputEl = gd.closest('.output');\n",
       "if (outputEl) {{\n",
       "    x.observe(outputEl, {childList: true});\n",
       "}}\n",
       "\n",
       "                        })\n",
       "                };\n",
       "                });\n",
       "            </script>\n",
       "        </div>"
      ]
     },
     "metadata": {},
     "output_type": "display_data"
    }
   ],
   "source": [
    "px.scatter_3d(test.groupby([\"Lo\",\"La\",'Month','Description']).sum().reset_index(), x=\"Lo\", y=\"La\", z=\"Month\", \n",
    "              color='Total Incidents',\n",
    "             size='Total Incidents',\n",
    "              symbol='Description'\n",
    "              \n",
    "             )\n"
   ]
  },
  {
   "cell_type": "code",
   "execution_count": null,
   "metadata": {},
   "outputs": [],
   "source": []
  },
  {
   "cell_type": "code",
   "execution_count": null,
   "metadata": {},
   "outputs": [],
   "source": []
  },
  {
   "cell_type": "code",
   "execution_count": 280,
   "metadata": {},
   "outputs": [
    {
     "data": {
      "application/vnd.plotly.v1+json": {
       "config": {
        "plotlyServerURL": "https://plot.ly"
       },
       "data": [
        {
         "color": "rgba(244,22,100,0.6)",
         "opacity": 0.5,
         "type": "mesh3d",
         "x": [
          -76.71,
          -76.71,
          -76.71,
          -76.71,
          -76.71,
          -76.71,
          -76.71,
          -76.71,
          -76.71,
          -76.71,
          -76.71,
          -76.71,
          -76.71,
          -76.7,
          -76.7,
          -76.7,
          -76.7,
          -76.7,
          -76.7,
          -76.7,
          -76.7,
          -76.7,
          -76.7,
          -76.7,
          -76.7,
          -76.7,
          -76.7,
          -76.7,
          -76.7,
          -76.7,
          -76.7,
          -76.7,
          -76.7,
          -76.7,
          -76.7,
          -76.7,
          -76.7,
          -76.7,
          -76.7,
          -76.7,
          -76.7,
          -76.7,
          -76.7,
          -76.7,
          -76.7,
          -76.69,
          -76.69,
          -76.69,
          -76.69,
          -76.69,
          -76.69,
          -76.69,
          -76.69,
          -76.69,
          -76.69,
          -76.69,
          -76.69,
          -76.69,
          -76.69,
          -76.69,
          -76.69,
          -76.69,
          -76.69,
          -76.69,
          -76.69,
          -76.69,
          -76.69,
          -76.69,
          -76.69,
          -76.69,
          -76.69,
          -76.69,
          -76.69,
          -76.69,
          -76.69,
          -76.69,
          -76.69,
          -76.69,
          -76.69,
          -76.69,
          -76.69,
          -76.69,
          -76.69,
          -76.69,
          -76.69,
          -76.69,
          -76.68,
          -76.68,
          -76.68,
          -76.68,
          -76.68,
          -76.68,
          -76.68,
          -76.68,
          -76.68,
          -76.68,
          -76.68,
          -76.68,
          -76.68,
          -76.68,
          -76.68,
          -76.68,
          -76.68,
          -76.68,
          -76.68,
          -76.68,
          -76.68,
          -76.68,
          -76.68,
          -76.68,
          -76.68,
          -76.68,
          -76.68,
          -76.68,
          -76.68,
          -76.68,
          -76.68,
          -76.68,
          -76.68,
          -76.68,
          -76.68,
          -76.68,
          -76.68,
          -76.68,
          -76.68,
          -76.68,
          -76.68,
          -76.68,
          -76.68,
          -76.68,
          -76.68,
          -76.68,
          -76.68,
          -76.68,
          -76.68,
          -76.68,
          -76.68,
          -76.68,
          -76.68,
          -76.68,
          -76.68,
          -76.67,
          -76.67,
          -76.67,
          -76.67,
          -76.67,
          -76.67,
          -76.67,
          -76.67,
          -76.67,
          -76.67,
          -76.67,
          -76.67,
          -76.67,
          -76.67,
          -76.67,
          -76.67,
          -76.67,
          -76.67,
          -76.67,
          -76.67,
          -76.67,
          -76.67,
          -76.67,
          -76.67,
          -76.67,
          -76.67,
          -76.67,
          -76.67,
          -76.67,
          -76.67,
          -76.67,
          -76.67,
          -76.67,
          -76.67,
          -76.67,
          -76.67,
          -76.67,
          -76.67,
          -76.67,
          -76.67,
          -76.67,
          -76.67,
          -76.67,
          -76.67,
          -76.67,
          -76.67,
          -76.67,
          -76.67,
          -76.67,
          -76.67,
          -76.67,
          -76.67,
          -76.67,
          -76.67,
          -76.67,
          -76.67,
          -76.67,
          -76.67,
          -76.66,
          -76.66,
          -76.66,
          -76.66,
          -76.66,
          -76.66,
          -76.66,
          -76.66,
          -76.66,
          -76.66,
          -76.66,
          -76.66,
          -76.66,
          -76.66,
          -76.66,
          -76.66,
          -76.66,
          -76.66,
          -76.66,
          -76.66,
          -76.66,
          -76.66,
          -76.66,
          -76.66,
          -76.66,
          -76.66,
          -76.66,
          -76.66,
          -76.66,
          -76.66,
          -76.66,
          -76.66,
          -76.66,
          -76.66,
          -76.66,
          -76.66,
          -76.66,
          -76.66,
          -76.66,
          -76.66,
          -76.66,
          -76.66,
          -76.66,
          -76.66,
          -76.66,
          -76.66,
          -76.66,
          -76.66,
          -76.66,
          -76.66,
          -76.66,
          -76.66,
          -76.66,
          -76.66,
          -76.66,
          -76.66,
          -76.66,
          -76.66,
          -76.65,
          -76.65,
          -76.65,
          -76.65,
          -76.65,
          -76.65,
          -76.65,
          -76.65,
          -76.65,
          -76.65,
          -76.65,
          -76.65,
          -76.65,
          -76.65,
          -76.65,
          -76.65,
          -76.65,
          -76.65,
          -76.65,
          -76.65,
          -76.65,
          -76.65,
          -76.65,
          -76.65,
          -76.65,
          -76.65,
          -76.65,
          -76.65,
          -76.65,
          -76.65,
          -76.65,
          -76.65,
          -76.65,
          -76.65,
          -76.65,
          -76.65,
          -76.65,
          -76.65,
          -76.65,
          -76.65,
          -76.65,
          -76.65,
          -76.65,
          -76.65,
          -76.65,
          -76.65,
          -76.65,
          -76.65,
          -76.65,
          -76.65,
          -76.65,
          -76.65,
          -76.65,
          -76.65,
          -76.65,
          -76.64,
          -76.64,
          -76.64,
          -76.64,
          -76.64,
          -76.64,
          -76.64,
          -76.64,
          -76.64,
          -76.64,
          -76.64,
          -76.64,
          -76.64,
          -76.64,
          -76.64,
          -76.64,
          -76.64,
          -76.64,
          -76.64,
          -76.64,
          -76.64,
          -76.64,
          -76.64,
          -76.64,
          -76.64,
          -76.64,
          -76.64,
          -76.64,
          -76.64,
          -76.64,
          -76.64,
          -76.64,
          -76.64,
          -76.64,
          -76.64,
          -76.64,
          -76.64,
          -76.64,
          -76.64,
          -76.64,
          -76.64,
          -76.63,
          -76.63,
          -76.63,
          -76.63,
          -76.63,
          -76.63,
          -76.63,
          -76.63,
          -76.63,
          -76.63,
          -76.63,
          -76.63,
          -76.63,
          -76.63,
          -76.63,
          -76.63,
          -76.63,
          -76.63,
          -76.63,
          -76.63,
          -76.63,
          -76.63,
          -76.63,
          -76.63,
          -76.63,
          -76.63,
          -76.63,
          -76.63,
          -76.63,
          -76.63,
          -76.63,
          -76.63,
          -76.63,
          -76.63,
          -76.63,
          -76.63,
          -76.63,
          -76.63,
          -76.63,
          -76.63,
          -76.63,
          -76.63,
          -76.63,
          -76.63,
          -76.63,
          -76.63,
          -76.63,
          -76.62,
          -76.62,
          -76.62,
          -76.62,
          -76.62,
          -76.62,
          -76.62,
          -76.62,
          -76.62,
          -76.62,
          -76.62,
          -76.62,
          -76.62,
          -76.62,
          -76.62,
          -76.62,
          -76.62,
          -76.62,
          -76.62,
          -76.62,
          -76.62,
          -76.62,
          -76.62,
          -76.62,
          -76.62,
          -76.62,
          -76.62,
          -76.62,
          -76.62,
          -76.62,
          -76.62,
          -76.62,
          -76.62,
          -76.62,
          -76.62,
          -76.62,
          -76.62,
          -76.62,
          -76.62,
          -76.62,
          -76.62,
          -76.61,
          -76.61,
          -76.61,
          -76.61,
          -76.61,
          -76.61,
          -76.61,
          -76.61,
          -76.61,
          -76.61,
          -76.61,
          -76.61,
          -76.61,
          -76.61,
          -76.61,
          -76.61,
          -76.61,
          -76.61,
          -76.61,
          -76.61,
          -76.61,
          -76.61,
          -76.61,
          -76.61,
          -76.61,
          -76.61,
          -76.61,
          -76.61,
          -76.61,
          -76.61,
          -76.61,
          -76.61,
          -76.61,
          -76.61,
          -76.61,
          -76.61,
          -76.61,
          -76.61,
          -76.61,
          -76.61,
          -76.61,
          -76.61,
          -76.61,
          -76.61,
          -76.61,
          -76.61,
          -76.61,
          -76.61,
          -76.61,
          -76.61,
          -76.61,
          -76.61,
          -76.61,
          -76.61,
          -76.61,
          -76.61,
          -76.61,
          -76.61,
          -76.61,
          -76.61,
          -76.61,
          -76.61,
          -76.61,
          -76.61,
          -76.61,
          -76.61,
          -76.61,
          -76.61,
          -76.61,
          -76.61,
          -76.61,
          -76.61,
          -76.61,
          -76.61,
          -76.6,
          -76.6,
          -76.6,
          -76.6,
          -76.6,
          -76.6,
          -76.6,
          -76.6,
          -76.6,
          -76.6,
          -76.6,
          -76.6,
          -76.6,
          -76.6,
          -76.6,
          -76.6,
          -76.6,
          -76.6,
          -76.6,
          -76.6,
          -76.6,
          -76.6,
          -76.6,
          -76.6,
          -76.6,
          -76.6,
          -76.6,
          -76.6,
          -76.6,
          -76.6,
          -76.6,
          -76.6,
          -76.6,
          -76.6,
          -76.6,
          -76.6,
          -76.6,
          -76.6,
          -76.6,
          -76.6,
          -76.6,
          -76.6,
          -76.6,
          -76.6,
          -76.6,
          -76.6,
          -76.6,
          -76.6,
          -76.6,
          -76.6,
          -76.6,
          -76.6,
          -76.6,
          -76.6,
          -76.6,
          -76.6,
          -76.6,
          -76.6,
          -76.6,
          -76.6,
          -76.6,
          -76.6,
          -76.6,
          -76.6,
          -76.6,
          -76.6,
          -76.6,
          -76.6,
          -76.6,
          -76.6,
          -76.6,
          -76.59,
          -76.59,
          -76.59,
          -76.59,
          -76.59,
          -76.59,
          -76.59,
          -76.59,
          -76.59,
          -76.59,
          -76.59,
          -76.59,
          -76.59,
          -76.59,
          -76.59,
          -76.59,
          -76.59,
          -76.59,
          -76.59,
          -76.59,
          -76.59,
          -76.59,
          -76.59,
          -76.59,
          -76.59,
          -76.59,
          -76.59,
          -76.59,
          -76.59,
          -76.59,
          -76.59,
          -76.59,
          -76.59,
          -76.59,
          -76.59,
          -76.59,
          -76.59,
          -76.59,
          -76.59,
          -76.59,
          -76.59,
          -76.59,
          -76.59,
          -76.59,
          -76.59,
          -76.59,
          -76.59,
          -76.59,
          -76.59,
          -76.59,
          -76.59,
          -76.59,
          -76.59,
          -76.59,
          -76.59,
          -76.59,
          -76.59,
          -76.59,
          -76.59,
          -76.59,
          -76.59,
          -76.59,
          -76.59,
          -76.59,
          -76.59,
          -76.58,
          -76.58,
          -76.58,
          -76.58,
          -76.58,
          -76.58,
          -76.58,
          -76.58,
          -76.58,
          -76.58,
          -76.58,
          -76.58,
          -76.58,
          -76.58,
          -76.58,
          -76.58,
          -76.58,
          -76.58,
          -76.58,
          -76.58,
          -76.58,
          -76.58,
          -76.58,
          -76.58,
          -76.58,
          -76.58,
          -76.58,
          -76.58,
          -76.58,
          -76.58,
          -76.58,
          -76.58,
          -76.58,
          -76.58,
          -76.58,
          -76.58,
          -76.57,
          -76.57,
          -76.57,
          -76.57,
          -76.57,
          -76.57,
          -76.57,
          -76.57,
          -76.57,
          -76.57,
          -76.57,
          -76.57,
          -76.57,
          -76.57,
          -76.57,
          -76.57,
          -76.57,
          -76.57,
          -76.57,
          -76.57,
          -76.57,
          -76.57,
          -76.57,
          -76.57,
          -76.57,
          -76.57,
          -76.57,
          -76.57,
          -76.57,
          -76.57,
          -76.57,
          -76.57,
          -76.57,
          -76.57,
          -76.57,
          -76.57,
          -76.57,
          -76.57,
          -76.57,
          -76.57,
          -76.57,
          -76.57,
          -76.57,
          -76.57,
          -76.57,
          -76.57,
          -76.57,
          -76.57,
          -76.57,
          -76.57,
          -76.57,
          -76.56,
          -76.56,
          -76.56,
          -76.56,
          -76.56,
          -76.56,
          -76.56,
          -76.56,
          -76.56,
          -76.56,
          -76.56,
          -76.56,
          -76.56,
          -76.56,
          -76.56,
          -76.56,
          -76.56,
          -76.56,
          -76.56,
          -76.56,
          -76.56,
          -76.56,
          -76.56,
          -76.56,
          -76.56,
          -76.56,
          -76.56,
          -76.56,
          -76.56,
          -76.56,
          -76.56,
          -76.56,
          -76.56,
          -76.56,
          -76.56,
          -76.55,
          -76.55,
          -76.55,
          -76.55,
          -76.55,
          -76.55,
          -76.55,
          -76.55,
          -76.55,
          -76.55,
          -76.55,
          -76.55,
          -76.55,
          -76.55,
          -76.55,
          -76.55,
          -76.55,
          -76.55,
          -76.55,
          -76.55,
          -76.55,
          -76.55,
          -76.55,
          -76.55,
          -76.55,
          -76.55,
          -76.55,
          -76.55,
          -76.55,
          -76.55,
          -76.55,
          -76.54,
          -76.54,
          -76.54,
          -76.54,
          -76.54,
          -76.54,
          -76.54,
          -76.54,
          -76.54,
          -76.54,
          -76.54,
          -76.54,
          -76.54,
          -76.54,
          -76.54,
          -76.54,
          -76.54,
          -76.54,
          -76.54,
          -76.54,
          -76.54,
          -76.54,
          -76.54,
          -76.54,
          -76.54,
          -76.54,
          -76.54,
          -76.54,
          -76.54,
          -76.54,
          -76.54,
          -76.53,
          -76.53,
          -76.53,
          -76.53,
          -76.53,
          -76.53,
          -76.53,
          -76.53,
          -76.53,
          -76.53,
          -76.53,
          -76.53,
          -76.53,
          -76.53,
          -76.53,
          -76.53,
          -76.53
         ],
         "y": [
          39.28,
          39.29,
          39.3,
          39.31,
          39.31,
          39.31,
          39.33,
          39.35,
          39.36,
          39.36,
          39.36,
          39.36,
          39.36,
          39.27,
          39.28,
          39.28,
          39.28,
          39.28,
          39.28,
          39.28,
          39.28,
          39.29,
          39.31,
          39.31,
          39.31,
          39.31,
          39.31,
          39.33,
          39.33,
          39.33,
          39.33,
          39.33,
          39.33,
          39.33,
          39.34,
          39.34,
          39.34,
          39.34,
          39.34,
          39.35,
          39.35,
          39.35,
          39.36,
          39.36,
          39.37,
          39.27,
          39.27,
          39.27,
          39.28,
          39.28,
          39.28,
          39.28,
          39.28,
          39.28,
          39.28,
          39.29,
          39.29,
          39.29,
          39.29,
          39.3,
          39.3,
          39.3,
          39.3,
          39.3,
          39.3,
          39.3,
          39.32,
          39.32,
          39.32,
          39.32,
          39.32,
          39.32,
          39.33,
          39.33,
          39.33,
          39.34,
          39.34,
          39.34,
          39.34,
          39.34,
          39.34,
          39.35,
          39.35,
          39.35,
          39.35,
          39.35,
          39.27,
          39.28,
          39.28,
          39.28,
          39.28,
          39.28,
          39.28,
          39.28,
          39.29,
          39.29,
          39.29,
          39.29,
          39.29,
          39.29,
          39.29,
          39.3,
          39.3,
          39.3,
          39.3,
          39.3,
          39.3,
          39.3,
          39.31,
          39.31,
          39.31,
          39.31,
          39.32,
          39.32,
          39.32,
          39.32,
          39.32,
          39.32,
          39.32,
          39.33,
          39.33,
          39.33,
          39.33,
          39.33,
          39.33,
          39.34,
          39.34,
          39.34,
          39.34,
          39.34,
          39.34,
          39.34,
          39.35,
          39.35,
          39.35,
          39.35,
          39.35,
          39.35,
          39.35,
          39.36,
          39.36,
          39.27,
          39.27,
          39.27,
          39.27,
          39.27,
          39.27,
          39.27,
          39.28,
          39.28,
          39.28,
          39.28,
          39.28,
          39.29,
          39.29,
          39.29,
          39.29,
          39.29,
          39.29,
          39.29,
          39.3,
          39.3,
          39.3,
          39.3,
          39.3,
          39.3,
          39.3,
          39.31,
          39.31,
          39.31,
          39.31,
          39.31,
          39.31,
          39.31,
          39.32,
          39.32,
          39.32,
          39.32,
          39.33,
          39.33,
          39.33,
          39.33,
          39.33,
          39.33,
          39.33,
          39.34,
          39.34,
          39.34,
          39.34,
          39.34,
          39.34,
          39.34,
          39.35,
          39.35,
          39.35,
          39.35,
          39.35,
          39.35,
          39.35,
          39.27,
          39.27,
          39.28,
          39.28,
          39.28,
          39.28,
          39.28,
          39.28,
          39.28,
          39.29,
          39.29,
          39.29,
          39.29,
          39.29,
          39.29,
          39.29,
          39.3,
          39.3,
          39.3,
          39.3,
          39.3,
          39.3,
          39.3,
          39.31,
          39.31,
          39.31,
          39.31,
          39.31,
          39.31,
          39.31,
          39.32,
          39.32,
          39.32,
          39.32,
          39.32,
          39.32,
          39.32,
          39.33,
          39.33,
          39.33,
          39.33,
          39.33,
          39.33,
          39.33,
          39.34,
          39.34,
          39.34,
          39.34,
          39.34,
          39.34,
          39.34,
          39.35,
          39.35,
          39.35,
          39.35,
          39.35,
          39.35,
          39.36,
          39.25,
          39.25,
          39.25,
          39.25,
          39.25,
          39.25,
          39.25,
          39.26,
          39.26,
          39.26,
          39.26,
          39.26,
          39.27,
          39.27,
          39.27,
          39.27,
          39.27,
          39.27,
          39.28,
          39.28,
          39.28,
          39.28,
          39.28,
          39.28,
          39.28,
          39.29,
          39.29,
          39.29,
          39.29,
          39.29,
          39.29,
          39.29,
          39.3,
          39.3,
          39.3,
          39.3,
          39.3,
          39.3,
          39.3,
          39.31,
          39.31,
          39.31,
          39.31,
          39.31,
          39.31,
          39.31,
          39.32,
          39.32,
          39.32,
          39.32,
          39.32,
          39.32,
          39.32,
          39.35,
          39.36,
          39.25,
          39.25,
          39.26,
          39.26,
          39.26,
          39.26,
          39.26,
          39.26,
          39.28,
          39.28,
          39.28,
          39.28,
          39.28,
          39.28,
          39.28,
          39.29,
          39.29,
          39.29,
          39.29,
          39.29,
          39.29,
          39.29,
          39.3,
          39.3,
          39.3,
          39.3,
          39.3,
          39.3,
          39.3,
          39.31,
          39.31,
          39.31,
          39.31,
          39.31,
          39.31,
          39.31,
          39.32,
          39.32,
          39.33,
          39.33,
          39.34,
          39.24,
          39.24,
          39.24,
          39.25,
          39.25,
          39.25,
          39.25,
          39.25,
          39.25,
          39.26,
          39.26,
          39.26,
          39.26,
          39.26,
          39.26,
          39.27,
          39.28,
          39.28,
          39.28,
          39.28,
          39.28,
          39.28,
          39.28,
          39.29,
          39.29,
          39.29,
          39.29,
          39.29,
          39.29,
          39.29,
          39.3,
          39.3,
          39.3,
          39.3,
          39.3,
          39.3,
          39.3,
          39.31,
          39.31,
          39.31,
          39.31,
          39.31,
          39.31,
          39.31,
          39.32,
          39.33,
          39.33,
          39.24,
          39.24,
          39.24,
          39.24,
          39.25,
          39.25,
          39.25,
          39.25,
          39.25,
          39.25,
          39.28,
          39.28,
          39.28,
          39.28,
          39.28,
          39.28,
          39.29,
          39.29,
          39.29,
          39.29,
          39.29,
          39.29,
          39.29,
          39.3,
          39.3,
          39.3,
          39.3,
          39.3,
          39.3,
          39.31,
          39.31,
          39.31,
          39.31,
          39.31,
          39.31,
          39.31,
          39.32,
          39.32,
          39.33,
          39.33,
          39.35,
          39.23,
          39.23,
          39.24,
          39.24,
          39.24,
          39.24,
          39.24,
          39.24,
          39.24,
          39.25,
          39.25,
          39.25,
          39.25,
          39.27,
          39.27,
          39.28,
          39.28,
          39.29,
          39.29,
          39.29,
          39.29,
          39.29,
          39.29,
          39.29,
          39.3,
          39.3,
          39.3,
          39.3,
          39.3,
          39.3,
          39.31,
          39.31,
          39.31,
          39.31,
          39.31,
          39.31,
          39.31,
          39.32,
          39.32,
          39.32,
          39.32,
          39.32,
          39.32,
          39.32,
          39.33,
          39.33,
          39.33,
          39.33,
          39.33,
          39.33,
          39.33,
          39.34,
          39.34,
          39.34,
          39.34,
          39.34,
          39.34,
          39.34,
          39.35,
          39.35,
          39.35,
          39.35,
          39.35,
          39.35,
          39.35,
          39.36,
          39.36,
          39.36,
          39.36,
          39.36,
          39.36,
          39.37,
          39.37,
          39.37,
          39.22,
          39.22,
          39.23,
          39.23,
          39.23,
          39.23,
          39.23,
          39.23,
          39.23,
          39.24,
          39.24,
          39.24,
          39.24,
          39.24,
          39.24,
          39.29,
          39.29,
          39.29,
          39.29,
          39.29,
          39.29,
          39.29,
          39.3,
          39.3,
          39.3,
          39.3,
          39.3,
          39.3,
          39.3,
          39.31,
          39.31,
          39.31,
          39.31,
          39.31,
          39.31,
          39.31,
          39.32,
          39.32,
          39.32,
          39.32,
          39.32,
          39.32,
          39.32,
          39.33,
          39.33,
          39.33,
          39.33,
          39.33,
          39.34,
          39.34,
          39.34,
          39.34,
          39.34,
          39.34,
          39.34,
          39.35,
          39.35,
          39.35,
          39.35,
          39.35,
          39.35,
          39.35,
          39.36,
          39.36,
          39.36,
          39.36,
          39.36,
          39.36,
          39.37,
          39.37,
          39.37,
          39.22,
          39.22,
          39.22,
          39.22,
          39.23,
          39.23,
          39.23,
          39.23,
          39.23,
          39.23,
          39.28,
          39.28,
          39.29,
          39.29,
          39.29,
          39.29,
          39.29,
          39.29,
          39.3,
          39.3,
          39.3,
          39.3,
          39.3,
          39.3,
          39.3,
          39.31,
          39.31,
          39.31,
          39.31,
          39.31,
          39.31,
          39.31,
          39.32,
          39.32,
          39.32,
          39.32,
          39.32,
          39.32,
          39.32,
          39.33,
          39.33,
          39.33,
          39.33,
          39.33,
          39.33,
          39.34,
          39.34,
          39.34,
          39.34,
          39.34,
          39.35,
          39.35,
          39.35,
          39.35,
          39.35,
          39.35,
          39.36,
          39.36,
          39.36,
          39.36,
          39.36,
          39.36,
          39.36,
          39.37,
          39.37,
          39.29,
          39.29,
          39.29,
          39.29,
          39.3,
          39.3,
          39.3,
          39.3,
          39.3,
          39.3,
          39.3,
          39.31,
          39.31,
          39.31,
          39.31,
          39.31,
          39.31,
          39.31,
          39.32,
          39.32,
          39.32,
          39.32,
          39.32,
          39.32,
          39.32,
          39.33,
          39.35,
          39.35,
          39.35,
          39.35,
          39.36,
          39.36,
          39.36,
          39.36,
          39.36,
          39.37,
          39.28,
          39.29,
          39.29,
          39.29,
          39.29,
          39.29,
          39.29,
          39.29,
          39.3,
          39.3,
          39.3,
          39.3,
          39.3,
          39.3,
          39.3,
          39.31,
          39.31,
          39.31,
          39.31,
          39.31,
          39.32,
          39.32,
          39.32,
          39.32,
          39.32,
          39.32,
          39.32,
          39.33,
          39.33,
          39.33,
          39.33,
          39.33,
          39.33,
          39.34,
          39.34,
          39.35,
          39.35,
          39.35,
          39.35,
          39.35,
          39.36,
          39.36,
          39.36,
          39.36,
          39.36,
          39.37,
          39.37,
          39.37,
          39.37,
          39.37,
          39.37,
          39.29,
          39.29,
          39.29,
          39.3,
          39.3,
          39.3,
          39.3,
          39.31,
          39.31,
          39.31,
          39.31,
          39.31,
          39.32,
          39.32,
          39.32,
          39.32,
          39.32,
          39.32,
          39.32,
          39.33,
          39.33,
          39.33,
          39.33,
          39.33,
          39.33,
          39.34,
          39.34,
          39.35,
          39.35,
          39.35,
          39.35,
          39.35,
          39.36,
          39.36,
          39.37,
          39.28,
          39.28,
          39.28,
          39.29,
          39.29,
          39.3,
          39.32,
          39.32,
          39.32,
          39.32,
          39.32,
          39.32,
          39.32,
          39.33,
          39.33,
          39.33,
          39.33,
          39.34,
          39.34,
          39.34,
          39.34,
          39.34,
          39.34,
          39.35,
          39.35,
          39.35,
          39.35,
          39.36,
          39.36,
          39.37,
          39.37,
          39.27,
          39.28,
          39.28,
          39.28,
          39.28,
          39.28,
          39.28,
          39.28,
          39.29,
          39.3,
          39.32,
          39.32,
          39.32,
          39.32,
          39.32,
          39.32,
          39.32,
          39.33,
          39.33,
          39.33,
          39.33,
          39.33,
          39.34,
          39.34,
          39.34,
          39.34,
          39.34,
          39.35,
          39.35,
          39.35,
          39.35,
          39.26,
          39.26,
          39.27,
          39.27,
          39.27,
          39.28,
          39.29,
          39.33,
          39.33,
          39.33,
          39.33,
          39.33,
          39.33,
          39.34,
          39.35,
          39.35,
          39.36
         ],
         "z": [
          1,
          1,
          1,
          2,
          2,
          1,
          2,
          1,
          2,
          1,
          1,
          2,
          3,
          1,
          3,
          2,
          2,
          1,
          1,
          1,
          1,
          2,
          1,
          1,
          1,
          1,
          1,
          1,
          1,
          6,
          8,
          3,
          2,
          2,
          1,
          1,
          2,
          4,
          2,
          1,
          1,
          2,
          1,
          1,
          1,
          1,
          1,
          1,
          3,
          4,
          2,
          4,
          3,
          1,
          2,
          2,
          4,
          5,
          1,
          2,
          1,
          2,
          2,
          2,
          3,
          1,
          2,
          2,
          1,
          5,
          1,
          2,
          2,
          1,
          2,
          1,
          1,
          2,
          2,
          5,
          1,
          2,
          5,
          1,
          5,
          4,
          1,
          6,
          8,
          7,
          4,
          6,
          8,
          3,
          2,
          5,
          3,
          5,
          4,
          4,
          3,
          1,
          4,
          4,
          2,
          1,
          1,
          2,
          2,
          1,
          2,
          1,
          1,
          3,
          2,
          4,
          4,
          4,
          1,
          2,
          4,
          5,
          6,
          6,
          1,
          6,
          10,
          7,
          5,
          5,
          11,
          5,
          6,
          7,
          6,
          7,
          5,
          7,
          2,
          2,
          1,
          1,
          1,
          2,
          1,
          3,
          1,
          4,
          2,
          2,
          4,
          1,
          1,
          5,
          5,
          8,
          10,
          11,
          5,
          1,
          5,
          10,
          9,
          6,
          8,
          4,
          4,
          8,
          11,
          12,
          10,
          10,
          8,
          3,
          1,
          6,
          1,
          1,
          2,
          1,
          1,
          1,
          2,
          3,
          1,
          6,
          9,
          9,
          7,
          8,
          7,
          3,
          3,
          10,
          2,
          9,
          8,
          7,
          3,
          1,
          1,
          1,
          4,
          5,
          3,
          4,
          4,
          2,
          10,
          5,
          5,
          8,
          9,
          6,
          3,
          5,
          6,
          6,
          4,
          1,
          5,
          2,
          3,
          2,
          5,
          3,
          10,
          6,
          2,
          3,
          1,
          2,
          3,
          2,
          1,
          1,
          4,
          3,
          4,
          2,
          7,
          3,
          2,
          2,
          4,
          3,
          6,
          7,
          3,
          4,
          2,
          3,
          1,
          2,
          4,
          2,
          1,
          1,
          2,
          1,
          2,
          3,
          2,
          1,
          1,
          1,
          1,
          1,
          3,
          1,
          4,
          7,
          1,
          3,
          2,
          4,
          12,
          13,
          7,
          12,
          18,
          6,
          14,
          18,
          15,
          18,
          11,
          13,
          7,
          8,
          17,
          4,
          15,
          11,
          13,
          4,
          6,
          16,
          13,
          26,
          8,
          22,
          6,
          2,
          4,
          10,
          3,
          10,
          2,
          1,
          1,
          1,
          1,
          1,
          1,
          5,
          2,
          2,
          2,
          2,
          2,
          5,
          9,
          10,
          6,
          5,
          1,
          13,
          12,
          13,
          22,
          10,
          11,
          9,
          9,
          15,
          19,
          17,
          12,
          7,
          3,
          12,
          21,
          20,
          17,
          12,
          17,
          16,
          2,
          1,
          2,
          1,
          1,
          1,
          1,
          1,
          4,
          2,
          6,
          4,
          3,
          1,
          1,
          1,
          3,
          1,
          1,
          1,
          1,
          1,
          1,
          4,
          4,
          8,
          4,
          1,
          2,
          10,
          8,
          8,
          13,
          7,
          1,
          5,
          9,
          16,
          13,
          11,
          19,
          3,
          3,
          7,
          4,
          8,
          7,
          5,
          5,
          1,
          1,
          1,
          2,
          2,
          1,
          2,
          1,
          3,
          2,
          4,
          5,
          1,
          1,
          1,
          1,
          1,
          2,
          2,
          1,
          6,
          8,
          10,
          8,
          16,
          8,
          2,
          1,
          2,
          2,
          2,
          2,
          1,
          2,
          2,
          7,
          2,
          3,
          2,
          2,
          1,
          1,
          1,
          1,
          1,
          3,
          2,
          2,
          5,
          7,
          9,
          5,
          7,
          2,
          2,
          1,
          1,
          1,
          1,
          1,
          2,
          1,
          1,
          5,
          2,
          7,
          6,
          2,
          3,
          5,
          7,
          7,
          7,
          2,
          5,
          9,
          6,
          3,
          6,
          6,
          2,
          3,
          4,
          5,
          4,
          7,
          5,
          4,
          2,
          4,
          1,
          1,
          5,
          3,
          2,
          2,
          4,
          8,
          5,
          3,
          2,
          4,
          2,
          6,
          2,
          5,
          9,
          10,
          3,
          2,
          3,
          4,
          2,
          3,
          1,
          1,
          1,
          1,
          1,
          1,
          5,
          13,
          9,
          9,
          3,
          6,
          1,
          1,
          2,
          4,
          7,
          4,
          3,
          6,
          6,
          7,
          5,
          2,
          12,
          2,
          8,
          8,
          14,
          12,
          9,
          8,
          3,
          4,
          16,
          13,
          8,
          14,
          7,
          7,
          4,
          8,
          7,
          9,
          6,
          5,
          4,
          1,
          1,
          1,
          1,
          2,
          2,
          3,
          2,
          1,
          2,
          3,
          1,
          2,
          4,
          2,
          1,
          3,
          2,
          1,
          2,
          1,
          3,
          2,
          3,
          1,
          2,
          1,
          1,
          1,
          2,
          1,
          2,
          3,
          5,
          4,
          3,
          6,
          10,
          2,
          1,
          1,
          4,
          1,
          4,
          3,
          3,
          5,
          7,
          6,
          7,
          8,
          12,
          10,
          8,
          10,
          8,
          11,
          10,
          17,
          8,
          1,
          12,
          11,
          5,
          1,
          4,
          2,
          1,
          2,
          2,
          1,
          2,
          1,
          2,
          2,
          1,
          1,
          1,
          3,
          1,
          2,
          2,
          2,
          1,
          1,
          1,
          1,
          2,
          5,
          4,
          1,
          1,
          1,
          2,
          1,
          2,
          3,
          11,
          17,
          19,
          16,
          28,
          43,
          14,
          3,
          4,
          7,
          9,
          11,
          11,
          7,
          3,
          1,
          4,
          7,
          1,
          3,
          1,
          1,
          1,
          1,
          1,
          1,
          2,
          1,
          2,
          1,
          3,
          1,
          1,
          3,
          5,
          3,
          4,
          8,
          7,
          1,
          5,
          6,
          4,
          6,
          2,
          5,
          3,
          1,
          1,
          1,
          1,
          1,
          5,
          9,
          6,
          6,
          6,
          9,
          5,
          3,
          3,
          1,
          4,
          3,
          2,
          1,
          1,
          2,
          1,
          1,
          1,
          1,
          2,
          2,
          1,
          1,
          1,
          2,
          4,
          3,
          1,
          5,
          2,
          1,
          4,
          2,
          1,
          1,
          1,
          1,
          4,
          1,
          2,
          2,
          2,
          3,
          1,
          3,
          8,
          3,
          2,
          2,
          3,
          3,
          2,
          1,
          6,
          6,
          1,
          1,
          2,
          2,
          1,
          1,
          2,
          1,
          2,
          1,
          1,
          1,
          1,
          1,
          2,
          1,
          2,
          3,
          3,
          3,
          5,
          1,
          1,
          1,
          2,
          2,
          1,
          3,
          3,
          1,
          1,
          1,
          3,
          1,
          1,
          2,
          2,
          1,
          1,
          1,
          1,
          1,
          1,
          2,
          4,
          4,
          4,
          3,
          1,
          1,
          1,
          1,
          1,
          7,
          1,
          3,
          5,
          1,
          2,
          1,
          3,
          3,
          2,
          1,
          1,
          1,
          1,
          3,
          2,
          1,
          3,
          1,
          1,
          1,
          1,
          1,
          1,
          2,
          1,
          4,
          2,
          3,
          1,
          2,
          3,
          2,
          2,
          1,
          1
         ]
        }
       ],
       "layout": {
        "template": {
         "data": {
          "bar": [
           {
            "error_x": {
             "color": "#2a3f5f"
            },
            "error_y": {
             "color": "#2a3f5f"
            },
            "marker": {
             "line": {
              "color": "#E5ECF6",
              "width": 0.5
             }
            },
            "type": "bar"
           }
          ],
          "barpolar": [
           {
            "marker": {
             "line": {
              "color": "#E5ECF6",
              "width": 0.5
             }
            },
            "type": "barpolar"
           }
          ],
          "carpet": [
           {
            "aaxis": {
             "endlinecolor": "#2a3f5f",
             "gridcolor": "white",
             "linecolor": "white",
             "minorgridcolor": "white",
             "startlinecolor": "#2a3f5f"
            },
            "baxis": {
             "endlinecolor": "#2a3f5f",
             "gridcolor": "white",
             "linecolor": "white",
             "minorgridcolor": "white",
             "startlinecolor": "#2a3f5f"
            },
            "type": "carpet"
           }
          ],
          "choropleth": [
           {
            "colorbar": {
             "outlinewidth": 0,
             "ticks": ""
            },
            "type": "choropleth"
           }
          ],
          "contour": [
           {
            "colorbar": {
             "outlinewidth": 0,
             "ticks": ""
            },
            "colorscale": [
             [
              0,
              "#0d0887"
             ],
             [
              0.1111111111111111,
              "#46039f"
             ],
             [
              0.2222222222222222,
              "#7201a8"
             ],
             [
              0.3333333333333333,
              "#9c179e"
             ],
             [
              0.4444444444444444,
              "#bd3786"
             ],
             [
              0.5555555555555556,
              "#d8576b"
             ],
             [
              0.6666666666666666,
              "#ed7953"
             ],
             [
              0.7777777777777778,
              "#fb9f3a"
             ],
             [
              0.8888888888888888,
              "#fdca26"
             ],
             [
              1,
              "#f0f921"
             ]
            ],
            "type": "contour"
           }
          ],
          "contourcarpet": [
           {
            "colorbar": {
             "outlinewidth": 0,
             "ticks": ""
            },
            "type": "contourcarpet"
           }
          ],
          "heatmap": [
           {
            "colorbar": {
             "outlinewidth": 0,
             "ticks": ""
            },
            "colorscale": [
             [
              0,
              "#0d0887"
             ],
             [
              0.1111111111111111,
              "#46039f"
             ],
             [
              0.2222222222222222,
              "#7201a8"
             ],
             [
              0.3333333333333333,
              "#9c179e"
             ],
             [
              0.4444444444444444,
              "#bd3786"
             ],
             [
              0.5555555555555556,
              "#d8576b"
             ],
             [
              0.6666666666666666,
              "#ed7953"
             ],
             [
              0.7777777777777778,
              "#fb9f3a"
             ],
             [
              0.8888888888888888,
              "#fdca26"
             ],
             [
              1,
              "#f0f921"
             ]
            ],
            "type": "heatmap"
           }
          ],
          "heatmapgl": [
           {
            "colorbar": {
             "outlinewidth": 0,
             "ticks": ""
            },
            "colorscale": [
             [
              0,
              "#0d0887"
             ],
             [
              0.1111111111111111,
              "#46039f"
             ],
             [
              0.2222222222222222,
              "#7201a8"
             ],
             [
              0.3333333333333333,
              "#9c179e"
             ],
             [
              0.4444444444444444,
              "#bd3786"
             ],
             [
              0.5555555555555556,
              "#d8576b"
             ],
             [
              0.6666666666666666,
              "#ed7953"
             ],
             [
              0.7777777777777778,
              "#fb9f3a"
             ],
             [
              0.8888888888888888,
              "#fdca26"
             ],
             [
              1,
              "#f0f921"
             ]
            ],
            "type": "heatmapgl"
           }
          ],
          "histogram": [
           {
            "marker": {
             "colorbar": {
              "outlinewidth": 0,
              "ticks": ""
             }
            },
            "type": "histogram"
           }
          ],
          "histogram2d": [
           {
            "colorbar": {
             "outlinewidth": 0,
             "ticks": ""
            },
            "colorscale": [
             [
              0,
              "#0d0887"
             ],
             [
              0.1111111111111111,
              "#46039f"
             ],
             [
              0.2222222222222222,
              "#7201a8"
             ],
             [
              0.3333333333333333,
              "#9c179e"
             ],
             [
              0.4444444444444444,
              "#bd3786"
             ],
             [
              0.5555555555555556,
              "#d8576b"
             ],
             [
              0.6666666666666666,
              "#ed7953"
             ],
             [
              0.7777777777777778,
              "#fb9f3a"
             ],
             [
              0.8888888888888888,
              "#fdca26"
             ],
             [
              1,
              "#f0f921"
             ]
            ],
            "type": "histogram2d"
           }
          ],
          "histogram2dcontour": [
           {
            "colorbar": {
             "outlinewidth": 0,
             "ticks": ""
            },
            "colorscale": [
             [
              0,
              "#0d0887"
             ],
             [
              0.1111111111111111,
              "#46039f"
             ],
             [
              0.2222222222222222,
              "#7201a8"
             ],
             [
              0.3333333333333333,
              "#9c179e"
             ],
             [
              0.4444444444444444,
              "#bd3786"
             ],
             [
              0.5555555555555556,
              "#d8576b"
             ],
             [
              0.6666666666666666,
              "#ed7953"
             ],
             [
              0.7777777777777778,
              "#fb9f3a"
             ],
             [
              0.8888888888888888,
              "#fdca26"
             ],
             [
              1,
              "#f0f921"
             ]
            ],
            "type": "histogram2dcontour"
           }
          ],
          "mesh3d": [
           {
            "colorbar": {
             "outlinewidth": 0,
             "ticks": ""
            },
            "type": "mesh3d"
           }
          ],
          "parcoords": [
           {
            "line": {
             "colorbar": {
              "outlinewidth": 0,
              "ticks": ""
             }
            },
            "type": "parcoords"
           }
          ],
          "pie": [
           {
            "automargin": true,
            "type": "pie"
           }
          ],
          "scatter": [
           {
            "marker": {
             "colorbar": {
              "outlinewidth": 0,
              "ticks": ""
             }
            },
            "type": "scatter"
           }
          ],
          "scatter3d": [
           {
            "line": {
             "colorbar": {
              "outlinewidth": 0,
              "ticks": ""
             }
            },
            "marker": {
             "colorbar": {
              "outlinewidth": 0,
              "ticks": ""
             }
            },
            "type": "scatter3d"
           }
          ],
          "scattercarpet": [
           {
            "marker": {
             "colorbar": {
              "outlinewidth": 0,
              "ticks": ""
             }
            },
            "type": "scattercarpet"
           }
          ],
          "scattergeo": [
           {
            "marker": {
             "colorbar": {
              "outlinewidth": 0,
              "ticks": ""
             }
            },
            "type": "scattergeo"
           }
          ],
          "scattergl": [
           {
            "marker": {
             "colorbar": {
              "outlinewidth": 0,
              "ticks": ""
             }
            },
            "type": "scattergl"
           }
          ],
          "scattermapbox": [
           {
            "marker": {
             "colorbar": {
              "outlinewidth": 0,
              "ticks": ""
             }
            },
            "type": "scattermapbox"
           }
          ],
          "scatterpolar": [
           {
            "marker": {
             "colorbar": {
              "outlinewidth": 0,
              "ticks": ""
             }
            },
            "type": "scatterpolar"
           }
          ],
          "scatterpolargl": [
           {
            "marker": {
             "colorbar": {
              "outlinewidth": 0,
              "ticks": ""
             }
            },
            "type": "scatterpolargl"
           }
          ],
          "scatterternary": [
           {
            "marker": {
             "colorbar": {
              "outlinewidth": 0,
              "ticks": ""
             }
            },
            "type": "scatterternary"
           }
          ],
          "surface": [
           {
            "colorbar": {
             "outlinewidth": 0,
             "ticks": ""
            },
            "colorscale": [
             [
              0,
              "#0d0887"
             ],
             [
              0.1111111111111111,
              "#46039f"
             ],
             [
              0.2222222222222222,
              "#7201a8"
             ],
             [
              0.3333333333333333,
              "#9c179e"
             ],
             [
              0.4444444444444444,
              "#bd3786"
             ],
             [
              0.5555555555555556,
              "#d8576b"
             ],
             [
              0.6666666666666666,
              "#ed7953"
             ],
             [
              0.7777777777777778,
              "#fb9f3a"
             ],
             [
              0.8888888888888888,
              "#fdca26"
             ],
             [
              1,
              "#f0f921"
             ]
            ],
            "type": "surface"
           }
          ],
          "table": [
           {
            "cells": {
             "fill": {
              "color": "#EBF0F8"
             },
             "line": {
              "color": "white"
             }
            },
            "header": {
             "fill": {
              "color": "#C8D4E3"
             },
             "line": {
              "color": "white"
             }
            },
            "type": "table"
           }
          ]
         },
         "layout": {
          "annotationdefaults": {
           "arrowcolor": "#2a3f5f",
           "arrowhead": 0,
           "arrowwidth": 1
          },
          "coloraxis": {
           "colorbar": {
            "outlinewidth": 0,
            "ticks": ""
           }
          },
          "colorscale": {
           "diverging": [
            [
             0,
             "#8e0152"
            ],
            [
             0.1,
             "#c51b7d"
            ],
            [
             0.2,
             "#de77ae"
            ],
            [
             0.3,
             "#f1b6da"
            ],
            [
             0.4,
             "#fde0ef"
            ],
            [
             0.5,
             "#f7f7f7"
            ],
            [
             0.6,
             "#e6f5d0"
            ],
            [
             0.7,
             "#b8e186"
            ],
            [
             0.8,
             "#7fbc41"
            ],
            [
             0.9,
             "#4d9221"
            ],
            [
             1,
             "#276419"
            ]
           ],
           "sequential": [
            [
             0,
             "#0d0887"
            ],
            [
             0.1111111111111111,
             "#46039f"
            ],
            [
             0.2222222222222222,
             "#7201a8"
            ],
            [
             0.3333333333333333,
             "#9c179e"
            ],
            [
             0.4444444444444444,
             "#bd3786"
            ],
            [
             0.5555555555555556,
             "#d8576b"
            ],
            [
             0.6666666666666666,
             "#ed7953"
            ],
            [
             0.7777777777777778,
             "#fb9f3a"
            ],
            [
             0.8888888888888888,
             "#fdca26"
            ],
            [
             1,
             "#f0f921"
            ]
           ],
           "sequentialminus": [
            [
             0,
             "#0d0887"
            ],
            [
             0.1111111111111111,
             "#46039f"
            ],
            [
             0.2222222222222222,
             "#7201a8"
            ],
            [
             0.3333333333333333,
             "#9c179e"
            ],
            [
             0.4444444444444444,
             "#bd3786"
            ],
            [
             0.5555555555555556,
             "#d8576b"
            ],
            [
             0.6666666666666666,
             "#ed7953"
            ],
            [
             0.7777777777777778,
             "#fb9f3a"
            ],
            [
             0.8888888888888888,
             "#fdca26"
            ],
            [
             1,
             "#f0f921"
            ]
           ]
          },
          "colorway": [
           "#636efa",
           "#EF553B",
           "#00cc96",
           "#ab63fa",
           "#FFA15A",
           "#19d3f3",
           "#FF6692",
           "#B6E880",
           "#FF97FF",
           "#FECB52"
          ],
          "font": {
           "color": "#2a3f5f"
          },
          "geo": {
           "bgcolor": "white",
           "lakecolor": "white",
           "landcolor": "#E5ECF6",
           "showlakes": true,
           "showland": true,
           "subunitcolor": "white"
          },
          "hoverlabel": {
           "align": "left"
          },
          "hovermode": "closest",
          "mapbox": {
           "style": "light"
          },
          "paper_bgcolor": "white",
          "plot_bgcolor": "#E5ECF6",
          "polar": {
           "angularaxis": {
            "gridcolor": "white",
            "linecolor": "white",
            "ticks": ""
           },
           "bgcolor": "#E5ECF6",
           "radialaxis": {
            "gridcolor": "white",
            "linecolor": "white",
            "ticks": ""
           }
          },
          "scene": {
           "xaxis": {
            "backgroundcolor": "#E5ECF6",
            "gridcolor": "white",
            "gridwidth": 2,
            "linecolor": "white",
            "showbackground": true,
            "ticks": "",
            "zerolinecolor": "white"
           },
           "yaxis": {
            "backgroundcolor": "#E5ECF6",
            "gridcolor": "white",
            "gridwidth": 2,
            "linecolor": "white",
            "showbackground": true,
            "ticks": "",
            "zerolinecolor": "white"
           },
           "zaxis": {
            "backgroundcolor": "#E5ECF6",
            "gridcolor": "white",
            "gridwidth": 2,
            "linecolor": "white",
            "showbackground": true,
            "ticks": "",
            "zerolinecolor": "white"
           }
          },
          "shapedefaults": {
           "line": {
            "color": "#2a3f5f"
           }
          },
          "ternary": {
           "aaxis": {
            "gridcolor": "white",
            "linecolor": "white",
            "ticks": ""
           },
           "baxis": {
            "gridcolor": "white",
            "linecolor": "white",
            "ticks": ""
           },
           "bgcolor": "#E5ECF6",
           "caxis": {
            "gridcolor": "white",
            "linecolor": "white",
            "ticks": ""
           }
          },
          "title": {
           "x": 0.05
          },
          "xaxis": {
           "automargin": true,
           "gridcolor": "white",
           "linecolor": "white",
           "ticks": "",
           "title": {
            "standoff": 15
           },
           "zerolinecolor": "white",
           "zerolinewidth": 2
          },
          "yaxis": {
           "automargin": true,
           "gridcolor": "white",
           "linecolor": "white",
           "ticks": "",
           "title": {
            "standoff": 15
           },
           "zerolinecolor": "white",
           "zerolinewidth": 2
          }
         }
        }
       }
      },
      "text/html": [
       "<div>\n",
       "        \n",
       "        \n",
       "            <div id=\"9b085f7c-b43a-43a5-a15f-82bca160836c\" class=\"plotly-graph-div\" style=\"height:525px; width:100%;\"></div>\n",
       "            <script type=\"text/javascript\">\n",
       "                require([\"plotly\"], function(Plotly) {\n",
       "                    window.PLOTLYENV=window.PLOTLYENV || {};\n",
       "                    \n",
       "                if (document.getElementById(\"9b085f7c-b43a-43a5-a15f-82bca160836c\")) {\n",
       "                    Plotly.newPlot(\n",
       "                        '9b085f7c-b43a-43a5-a15f-82bca160836c',\n",
       "                        [{\"color\": \"rgba(244,22,100,0.6)\", \"opacity\": 0.5, \"type\": \"mesh3d\", \"x\": [-76.71, -76.71, -76.71, -76.71, -76.71, -76.71, -76.71, -76.71, -76.71, -76.71, -76.71, -76.71, -76.71, -76.7, -76.7, -76.7, -76.7, -76.7, -76.7, -76.7, -76.7, -76.7, -76.7, -76.7, -76.7, -76.7, -76.7, -76.7, -76.7, -76.7, -76.7, -76.7, -76.7, -76.7, -76.7, -76.7, -76.7, -76.7, -76.7, -76.7, -76.7, -76.7, -76.7, -76.7, -76.7, -76.69, -76.69, -76.69, -76.69, -76.69, -76.69, -76.69, -76.69, -76.69, -76.69, -76.69, -76.69, -76.69, -76.69, -76.69, -76.69, -76.69, -76.69, -76.69, -76.69, -76.69, -76.69, -76.69, -76.69, -76.69, -76.69, -76.69, -76.69, -76.69, -76.69, -76.69, -76.69, -76.69, -76.69, -76.69, -76.69, -76.69, -76.69, -76.69, -76.69, -76.69, -76.68, -76.68, -76.68, -76.68, -76.68, -76.68, -76.68, -76.68, -76.68, -76.68, -76.68, -76.68, -76.68, -76.68, -76.68, -76.68, -76.68, -76.68, -76.68, -76.68, -76.68, -76.68, -76.68, -76.68, -76.68, -76.68, -76.68, -76.68, -76.68, -76.68, -76.68, -76.68, -76.68, -76.68, -76.68, -76.68, -76.68, -76.68, -76.68, -76.68, -76.68, -76.68, -76.68, -76.68, -76.68, -76.68, -76.68, -76.68, -76.68, -76.68, -76.68, -76.68, -76.68, -76.68, -76.68, -76.67, -76.67, -76.67, -76.67, -76.67, -76.67, -76.67, -76.67, -76.67, -76.67, -76.67, -76.67, -76.67, -76.67, -76.67, -76.67, -76.67, -76.67, -76.67, -76.67, -76.67, -76.67, -76.67, -76.67, -76.67, -76.67, -76.67, -76.67, -76.67, -76.67, -76.67, -76.67, -76.67, -76.67, -76.67, -76.67, -76.67, -76.67, -76.67, -76.67, -76.67, -76.67, -76.67, -76.67, -76.67, -76.67, -76.67, -76.67, -76.67, -76.67, -76.67, -76.67, -76.67, -76.67, -76.67, -76.67, -76.67, -76.67, -76.66, -76.66, -76.66, -76.66, -76.66, -76.66, -76.66, -76.66, -76.66, -76.66, -76.66, -76.66, -76.66, -76.66, -76.66, -76.66, -76.66, -76.66, -76.66, -76.66, -76.66, -76.66, -76.66, -76.66, -76.66, -76.66, -76.66, -76.66, -76.66, -76.66, -76.66, -76.66, -76.66, -76.66, -76.66, -76.66, -76.66, -76.66, -76.66, -76.66, -76.66, -76.66, -76.66, -76.66, -76.66, -76.66, -76.66, -76.66, -76.66, -76.66, -76.66, -76.66, -76.66, -76.66, -76.66, -76.66, -76.66, -76.66, -76.65, -76.65, -76.65, -76.65, -76.65, -76.65, -76.65, -76.65, -76.65, -76.65, -76.65, -76.65, -76.65, -76.65, -76.65, -76.65, -76.65, -76.65, -76.65, -76.65, -76.65, -76.65, -76.65, -76.65, -76.65, -76.65, -76.65, -76.65, -76.65, -76.65, -76.65, -76.65, -76.65, -76.65, -76.65, -76.65, -76.65, -76.65, -76.65, -76.65, -76.65, -76.65, -76.65, -76.65, -76.65, -76.65, -76.65, -76.65, -76.65, -76.65, -76.65, -76.65, -76.65, -76.65, -76.65, -76.64, -76.64, -76.64, -76.64, -76.64, -76.64, -76.64, -76.64, -76.64, -76.64, -76.64, -76.64, -76.64, -76.64, -76.64, -76.64, -76.64, -76.64, -76.64, -76.64, -76.64, -76.64, -76.64, -76.64, -76.64, -76.64, -76.64, -76.64, -76.64, -76.64, -76.64, -76.64, -76.64, -76.64, -76.64, -76.64, -76.64, -76.64, -76.64, -76.64, -76.64, -76.63, -76.63, -76.63, -76.63, -76.63, -76.63, -76.63, -76.63, -76.63, -76.63, -76.63, -76.63, -76.63, -76.63, -76.63, -76.63, -76.63, -76.63, -76.63, -76.63, -76.63, -76.63, -76.63, -76.63, -76.63, -76.63, -76.63, -76.63, -76.63, -76.63, -76.63, -76.63, -76.63, -76.63, -76.63, -76.63, -76.63, -76.63, -76.63, -76.63, -76.63, -76.63, -76.63, -76.63, -76.63, -76.63, -76.63, -76.62, -76.62, -76.62, -76.62, -76.62, -76.62, -76.62, -76.62, -76.62, -76.62, -76.62, -76.62, -76.62, -76.62, -76.62, -76.62, -76.62, -76.62, -76.62, -76.62, -76.62, -76.62, -76.62, -76.62, -76.62, -76.62, -76.62, -76.62, -76.62, -76.62, -76.62, -76.62, -76.62, -76.62, -76.62, -76.62, -76.62, -76.62, -76.62, -76.62, -76.62, -76.61, -76.61, -76.61, -76.61, -76.61, -76.61, -76.61, -76.61, -76.61, -76.61, -76.61, -76.61, -76.61, -76.61, -76.61, -76.61, -76.61, -76.61, -76.61, -76.61, -76.61, -76.61, -76.61, -76.61, -76.61, -76.61, -76.61, -76.61, -76.61, -76.61, -76.61, -76.61, -76.61, -76.61, -76.61, -76.61, -76.61, -76.61, -76.61, -76.61, -76.61, -76.61, -76.61, -76.61, -76.61, -76.61, -76.61, -76.61, -76.61, -76.61, -76.61, -76.61, -76.61, -76.61, -76.61, -76.61, -76.61, -76.61, -76.61, -76.61, -76.61, -76.61, -76.61, -76.61, -76.61, -76.61, -76.61, -76.61, -76.61, -76.61, -76.61, -76.61, -76.61, -76.61, -76.6, -76.6, -76.6, -76.6, -76.6, -76.6, -76.6, -76.6, -76.6, -76.6, -76.6, -76.6, -76.6, -76.6, -76.6, -76.6, -76.6, -76.6, -76.6, -76.6, -76.6, -76.6, -76.6, -76.6, -76.6, -76.6, -76.6, -76.6, -76.6, -76.6, -76.6, -76.6, -76.6, -76.6, -76.6, -76.6, -76.6, -76.6, -76.6, -76.6, -76.6, -76.6, -76.6, -76.6, -76.6, -76.6, -76.6, -76.6, -76.6, -76.6, -76.6, -76.6, -76.6, -76.6, -76.6, -76.6, -76.6, -76.6, -76.6, -76.6, -76.6, -76.6, -76.6, -76.6, -76.6, -76.6, -76.6, -76.6, -76.6, -76.6, -76.6, -76.59, -76.59, -76.59, -76.59, -76.59, -76.59, -76.59, -76.59, -76.59, -76.59, -76.59, -76.59, -76.59, -76.59, -76.59, -76.59, -76.59, -76.59, -76.59, -76.59, -76.59, -76.59, -76.59, -76.59, -76.59, -76.59, -76.59, -76.59, -76.59, -76.59, -76.59, -76.59, -76.59, -76.59, -76.59, -76.59, -76.59, -76.59, -76.59, -76.59, -76.59, -76.59, -76.59, -76.59, -76.59, -76.59, -76.59, -76.59, -76.59, -76.59, -76.59, -76.59, -76.59, -76.59, -76.59, -76.59, -76.59, -76.59, -76.59, -76.59, -76.59, -76.59, -76.59, -76.59, -76.59, -76.58, -76.58, -76.58, -76.58, -76.58, -76.58, -76.58, -76.58, -76.58, -76.58, -76.58, -76.58, -76.58, -76.58, -76.58, -76.58, -76.58, -76.58, -76.58, -76.58, -76.58, -76.58, -76.58, -76.58, -76.58, -76.58, -76.58, -76.58, -76.58, -76.58, -76.58, -76.58, -76.58, -76.58, -76.58, -76.58, -76.57, -76.57, -76.57, -76.57, -76.57, -76.57, -76.57, -76.57, -76.57, -76.57, -76.57, -76.57, -76.57, -76.57, -76.57, -76.57, -76.57, -76.57, -76.57, -76.57, -76.57, -76.57, -76.57, -76.57, -76.57, -76.57, -76.57, -76.57, -76.57, -76.57, -76.57, -76.57, -76.57, -76.57, -76.57, -76.57, -76.57, -76.57, -76.57, -76.57, -76.57, -76.57, -76.57, -76.57, -76.57, -76.57, -76.57, -76.57, -76.57, -76.57, -76.57, -76.56, -76.56, -76.56, -76.56, -76.56, -76.56, -76.56, -76.56, -76.56, -76.56, -76.56, -76.56, -76.56, -76.56, -76.56, -76.56, -76.56, -76.56, -76.56, -76.56, -76.56, -76.56, -76.56, -76.56, -76.56, -76.56, -76.56, -76.56, -76.56, -76.56, -76.56, -76.56, -76.56, -76.56, -76.56, -76.55, -76.55, -76.55, -76.55, -76.55, -76.55, -76.55, -76.55, -76.55, -76.55, -76.55, -76.55, -76.55, -76.55, -76.55, -76.55, -76.55, -76.55, -76.55, -76.55, -76.55, -76.55, -76.55, -76.55, -76.55, -76.55, -76.55, -76.55, -76.55, -76.55, -76.55, -76.54, -76.54, -76.54, -76.54, -76.54, -76.54, -76.54, -76.54, -76.54, -76.54, -76.54, -76.54, -76.54, -76.54, -76.54, -76.54, -76.54, -76.54, -76.54, -76.54, -76.54, -76.54, -76.54, -76.54, -76.54, -76.54, -76.54, -76.54, -76.54, -76.54, -76.54, -76.53, -76.53, -76.53, -76.53, -76.53, -76.53, -76.53, -76.53, -76.53, -76.53, -76.53, -76.53, -76.53, -76.53, -76.53, -76.53, -76.53], \"y\": [39.28, 39.29, 39.3, 39.31, 39.31, 39.31, 39.33, 39.35, 39.36, 39.36, 39.36, 39.36, 39.36, 39.27, 39.28, 39.28, 39.28, 39.28, 39.28, 39.28, 39.28, 39.29, 39.31, 39.31, 39.31, 39.31, 39.31, 39.33, 39.33, 39.33, 39.33, 39.33, 39.33, 39.33, 39.34, 39.34, 39.34, 39.34, 39.34, 39.35, 39.35, 39.35, 39.36, 39.36, 39.37, 39.27, 39.27, 39.27, 39.28, 39.28, 39.28, 39.28, 39.28, 39.28, 39.28, 39.29, 39.29, 39.29, 39.29, 39.3, 39.3, 39.3, 39.3, 39.3, 39.3, 39.3, 39.32, 39.32, 39.32, 39.32, 39.32, 39.32, 39.33, 39.33, 39.33, 39.34, 39.34, 39.34, 39.34, 39.34, 39.34, 39.35, 39.35, 39.35, 39.35, 39.35, 39.27, 39.28, 39.28, 39.28, 39.28, 39.28, 39.28, 39.28, 39.29, 39.29, 39.29, 39.29, 39.29, 39.29, 39.29, 39.3, 39.3, 39.3, 39.3, 39.3, 39.3, 39.3, 39.31, 39.31, 39.31, 39.31, 39.32, 39.32, 39.32, 39.32, 39.32, 39.32, 39.32, 39.33, 39.33, 39.33, 39.33, 39.33, 39.33, 39.34, 39.34, 39.34, 39.34, 39.34, 39.34, 39.34, 39.35, 39.35, 39.35, 39.35, 39.35, 39.35, 39.35, 39.36, 39.36, 39.27, 39.27, 39.27, 39.27, 39.27, 39.27, 39.27, 39.28, 39.28, 39.28, 39.28, 39.28, 39.29, 39.29, 39.29, 39.29, 39.29, 39.29, 39.29, 39.3, 39.3, 39.3, 39.3, 39.3, 39.3, 39.3, 39.31, 39.31, 39.31, 39.31, 39.31, 39.31, 39.31, 39.32, 39.32, 39.32, 39.32, 39.33, 39.33, 39.33, 39.33, 39.33, 39.33, 39.33, 39.34, 39.34, 39.34, 39.34, 39.34, 39.34, 39.34, 39.35, 39.35, 39.35, 39.35, 39.35, 39.35, 39.35, 39.27, 39.27, 39.28, 39.28, 39.28, 39.28, 39.28, 39.28, 39.28, 39.29, 39.29, 39.29, 39.29, 39.29, 39.29, 39.29, 39.3, 39.3, 39.3, 39.3, 39.3, 39.3, 39.3, 39.31, 39.31, 39.31, 39.31, 39.31, 39.31, 39.31, 39.32, 39.32, 39.32, 39.32, 39.32, 39.32, 39.32, 39.33, 39.33, 39.33, 39.33, 39.33, 39.33, 39.33, 39.34, 39.34, 39.34, 39.34, 39.34, 39.34, 39.34, 39.35, 39.35, 39.35, 39.35, 39.35, 39.35, 39.36, 39.25, 39.25, 39.25, 39.25, 39.25, 39.25, 39.25, 39.26, 39.26, 39.26, 39.26, 39.26, 39.27, 39.27, 39.27, 39.27, 39.27, 39.27, 39.28, 39.28, 39.28, 39.28, 39.28, 39.28, 39.28, 39.29, 39.29, 39.29, 39.29, 39.29, 39.29, 39.29, 39.3, 39.3, 39.3, 39.3, 39.3, 39.3, 39.3, 39.31, 39.31, 39.31, 39.31, 39.31, 39.31, 39.31, 39.32, 39.32, 39.32, 39.32, 39.32, 39.32, 39.32, 39.35, 39.36, 39.25, 39.25, 39.26, 39.26, 39.26, 39.26, 39.26, 39.26, 39.28, 39.28, 39.28, 39.28, 39.28, 39.28, 39.28, 39.29, 39.29, 39.29, 39.29, 39.29, 39.29, 39.29, 39.3, 39.3, 39.3, 39.3, 39.3, 39.3, 39.3, 39.31, 39.31, 39.31, 39.31, 39.31, 39.31, 39.31, 39.32, 39.32, 39.33, 39.33, 39.34, 39.24, 39.24, 39.24, 39.25, 39.25, 39.25, 39.25, 39.25, 39.25, 39.26, 39.26, 39.26, 39.26, 39.26, 39.26, 39.27, 39.28, 39.28, 39.28, 39.28, 39.28, 39.28, 39.28, 39.29, 39.29, 39.29, 39.29, 39.29, 39.29, 39.29, 39.3, 39.3, 39.3, 39.3, 39.3, 39.3, 39.3, 39.31, 39.31, 39.31, 39.31, 39.31, 39.31, 39.31, 39.32, 39.33, 39.33, 39.24, 39.24, 39.24, 39.24, 39.25, 39.25, 39.25, 39.25, 39.25, 39.25, 39.28, 39.28, 39.28, 39.28, 39.28, 39.28, 39.29, 39.29, 39.29, 39.29, 39.29, 39.29, 39.29, 39.3, 39.3, 39.3, 39.3, 39.3, 39.3, 39.31, 39.31, 39.31, 39.31, 39.31, 39.31, 39.31, 39.32, 39.32, 39.33, 39.33, 39.35, 39.23, 39.23, 39.24, 39.24, 39.24, 39.24, 39.24, 39.24, 39.24, 39.25, 39.25, 39.25, 39.25, 39.27, 39.27, 39.28, 39.28, 39.29, 39.29, 39.29, 39.29, 39.29, 39.29, 39.29, 39.3, 39.3, 39.3, 39.3, 39.3, 39.3, 39.31, 39.31, 39.31, 39.31, 39.31, 39.31, 39.31, 39.32, 39.32, 39.32, 39.32, 39.32, 39.32, 39.32, 39.33, 39.33, 39.33, 39.33, 39.33, 39.33, 39.33, 39.34, 39.34, 39.34, 39.34, 39.34, 39.34, 39.34, 39.35, 39.35, 39.35, 39.35, 39.35, 39.35, 39.35, 39.36, 39.36, 39.36, 39.36, 39.36, 39.36, 39.37, 39.37, 39.37, 39.22, 39.22, 39.23, 39.23, 39.23, 39.23, 39.23, 39.23, 39.23, 39.24, 39.24, 39.24, 39.24, 39.24, 39.24, 39.29, 39.29, 39.29, 39.29, 39.29, 39.29, 39.29, 39.3, 39.3, 39.3, 39.3, 39.3, 39.3, 39.3, 39.31, 39.31, 39.31, 39.31, 39.31, 39.31, 39.31, 39.32, 39.32, 39.32, 39.32, 39.32, 39.32, 39.32, 39.33, 39.33, 39.33, 39.33, 39.33, 39.34, 39.34, 39.34, 39.34, 39.34, 39.34, 39.34, 39.35, 39.35, 39.35, 39.35, 39.35, 39.35, 39.35, 39.36, 39.36, 39.36, 39.36, 39.36, 39.36, 39.37, 39.37, 39.37, 39.22, 39.22, 39.22, 39.22, 39.23, 39.23, 39.23, 39.23, 39.23, 39.23, 39.28, 39.28, 39.29, 39.29, 39.29, 39.29, 39.29, 39.29, 39.3, 39.3, 39.3, 39.3, 39.3, 39.3, 39.3, 39.31, 39.31, 39.31, 39.31, 39.31, 39.31, 39.31, 39.32, 39.32, 39.32, 39.32, 39.32, 39.32, 39.32, 39.33, 39.33, 39.33, 39.33, 39.33, 39.33, 39.34, 39.34, 39.34, 39.34, 39.34, 39.35, 39.35, 39.35, 39.35, 39.35, 39.35, 39.36, 39.36, 39.36, 39.36, 39.36, 39.36, 39.36, 39.37, 39.37, 39.29, 39.29, 39.29, 39.29, 39.3, 39.3, 39.3, 39.3, 39.3, 39.3, 39.3, 39.31, 39.31, 39.31, 39.31, 39.31, 39.31, 39.31, 39.32, 39.32, 39.32, 39.32, 39.32, 39.32, 39.32, 39.33, 39.35, 39.35, 39.35, 39.35, 39.36, 39.36, 39.36, 39.36, 39.36, 39.37, 39.28, 39.29, 39.29, 39.29, 39.29, 39.29, 39.29, 39.29, 39.3, 39.3, 39.3, 39.3, 39.3, 39.3, 39.3, 39.31, 39.31, 39.31, 39.31, 39.31, 39.32, 39.32, 39.32, 39.32, 39.32, 39.32, 39.32, 39.33, 39.33, 39.33, 39.33, 39.33, 39.33, 39.34, 39.34, 39.35, 39.35, 39.35, 39.35, 39.35, 39.36, 39.36, 39.36, 39.36, 39.36, 39.37, 39.37, 39.37, 39.37, 39.37, 39.37, 39.29, 39.29, 39.29, 39.3, 39.3, 39.3, 39.3, 39.31, 39.31, 39.31, 39.31, 39.31, 39.32, 39.32, 39.32, 39.32, 39.32, 39.32, 39.32, 39.33, 39.33, 39.33, 39.33, 39.33, 39.33, 39.34, 39.34, 39.35, 39.35, 39.35, 39.35, 39.35, 39.36, 39.36, 39.37, 39.28, 39.28, 39.28, 39.29, 39.29, 39.3, 39.32, 39.32, 39.32, 39.32, 39.32, 39.32, 39.32, 39.33, 39.33, 39.33, 39.33, 39.34, 39.34, 39.34, 39.34, 39.34, 39.34, 39.35, 39.35, 39.35, 39.35, 39.36, 39.36, 39.37, 39.37, 39.27, 39.28, 39.28, 39.28, 39.28, 39.28, 39.28, 39.28, 39.29, 39.3, 39.32, 39.32, 39.32, 39.32, 39.32, 39.32, 39.32, 39.33, 39.33, 39.33, 39.33, 39.33, 39.34, 39.34, 39.34, 39.34, 39.34, 39.35, 39.35, 39.35, 39.35, 39.26, 39.26, 39.27, 39.27, 39.27, 39.28, 39.29, 39.33, 39.33, 39.33, 39.33, 39.33, 39.33, 39.34, 39.35, 39.35, 39.36], \"z\": [1, 1, 1, 2, 2, 1, 2, 1, 2, 1, 1, 2, 3, 1, 3, 2, 2, 1, 1, 1, 1, 2, 1, 1, 1, 1, 1, 1, 1, 6, 8, 3, 2, 2, 1, 1, 2, 4, 2, 1, 1, 2, 1, 1, 1, 1, 1, 1, 3, 4, 2, 4, 3, 1, 2, 2, 4, 5, 1, 2, 1, 2, 2, 2, 3, 1, 2, 2, 1, 5, 1, 2, 2, 1, 2, 1, 1, 2, 2, 5, 1, 2, 5, 1, 5, 4, 1, 6, 8, 7, 4, 6, 8, 3, 2, 5, 3, 5, 4, 4, 3, 1, 4, 4, 2, 1, 1, 2, 2, 1, 2, 1, 1, 3, 2, 4, 4, 4, 1, 2, 4, 5, 6, 6, 1, 6, 10, 7, 5, 5, 11, 5, 6, 7, 6, 7, 5, 7, 2, 2, 1, 1, 1, 2, 1, 3, 1, 4, 2, 2, 4, 1, 1, 5, 5, 8, 10, 11, 5, 1, 5, 10, 9, 6, 8, 4, 4, 8, 11, 12, 10, 10, 8, 3, 1, 6, 1, 1, 2, 1, 1, 1, 2, 3, 1, 6, 9, 9, 7, 8, 7, 3, 3, 10, 2, 9, 8, 7, 3, 1, 1, 1, 4, 5, 3, 4, 4, 2, 10, 5, 5, 8, 9, 6, 3, 5, 6, 6, 4, 1, 5, 2, 3, 2, 5, 3, 10, 6, 2, 3, 1, 2, 3, 2, 1, 1, 4, 3, 4, 2, 7, 3, 2, 2, 4, 3, 6, 7, 3, 4, 2, 3, 1, 2, 4, 2, 1, 1, 2, 1, 2, 3, 2, 1, 1, 1, 1, 1, 3, 1, 4, 7, 1, 3, 2, 4, 12, 13, 7, 12, 18, 6, 14, 18, 15, 18, 11, 13, 7, 8, 17, 4, 15, 11, 13, 4, 6, 16, 13, 26, 8, 22, 6, 2, 4, 10, 3, 10, 2, 1, 1, 1, 1, 1, 1, 5, 2, 2, 2, 2, 2, 5, 9, 10, 6, 5, 1, 13, 12, 13, 22, 10, 11, 9, 9, 15, 19, 17, 12, 7, 3, 12, 21, 20, 17, 12, 17, 16, 2, 1, 2, 1, 1, 1, 1, 1, 4, 2, 6, 4, 3, 1, 1, 1, 3, 1, 1, 1, 1, 1, 1, 4, 4, 8, 4, 1, 2, 10, 8, 8, 13, 7, 1, 5, 9, 16, 13, 11, 19, 3, 3, 7, 4, 8, 7, 5, 5, 1, 1, 1, 2, 2, 1, 2, 1, 3, 2, 4, 5, 1, 1, 1, 1, 1, 2, 2, 1, 6, 8, 10, 8, 16, 8, 2, 1, 2, 2, 2, 2, 1, 2, 2, 7, 2, 3, 2, 2, 1, 1, 1, 1, 1, 3, 2, 2, 5, 7, 9, 5, 7, 2, 2, 1, 1, 1, 1, 1, 2, 1, 1, 5, 2, 7, 6, 2, 3, 5, 7, 7, 7, 2, 5, 9, 6, 3, 6, 6, 2, 3, 4, 5, 4, 7, 5, 4, 2, 4, 1, 1, 5, 3, 2, 2, 4, 8, 5, 3, 2, 4, 2, 6, 2, 5, 9, 10, 3, 2, 3, 4, 2, 3, 1, 1, 1, 1, 1, 1, 5, 13, 9, 9, 3, 6, 1, 1, 2, 4, 7, 4, 3, 6, 6, 7, 5, 2, 12, 2, 8, 8, 14, 12, 9, 8, 3, 4, 16, 13, 8, 14, 7, 7, 4, 8, 7, 9, 6, 5, 4, 1, 1, 1, 1, 2, 2, 3, 2, 1, 2, 3, 1, 2, 4, 2, 1, 3, 2, 1, 2, 1, 3, 2, 3, 1, 2, 1, 1, 1, 2, 1, 2, 3, 5, 4, 3, 6, 10, 2, 1, 1, 4, 1, 4, 3, 3, 5, 7, 6, 7, 8, 12, 10, 8, 10, 8, 11, 10, 17, 8, 1, 12, 11, 5, 1, 4, 2, 1, 2, 2, 1, 2, 1, 2, 2, 1, 1, 1, 3, 1, 2, 2, 2, 1, 1, 1, 1, 2, 5, 4, 1, 1, 1, 2, 1, 2, 3, 11, 17, 19, 16, 28, 43, 14, 3, 4, 7, 9, 11, 11, 7, 3, 1, 4, 7, 1, 3, 1, 1, 1, 1, 1, 1, 2, 1, 2, 1, 3, 1, 1, 3, 5, 3, 4, 8, 7, 1, 5, 6, 4, 6, 2, 5, 3, 1, 1, 1, 1, 1, 5, 9, 6, 6, 6, 9, 5, 3, 3, 1, 4, 3, 2, 1, 1, 2, 1, 1, 1, 1, 2, 2, 1, 1, 1, 2, 4, 3, 1, 5, 2, 1, 4, 2, 1, 1, 1, 1, 4, 1, 2, 2, 2, 3, 1, 3, 8, 3, 2, 2, 3, 3, 2, 1, 6, 6, 1, 1, 2, 2, 1, 1, 2, 1, 2, 1, 1, 1, 1, 1, 2, 1, 2, 3, 3, 3, 5, 1, 1, 1, 2, 2, 1, 3, 3, 1, 1, 1, 3, 1, 1, 2, 2, 1, 1, 1, 1, 1, 1, 2, 4, 4, 4, 3, 1, 1, 1, 1, 1, 7, 1, 3, 5, 1, 2, 1, 3, 3, 2, 1, 1, 1, 1, 3, 2, 1, 3, 1, 1, 1, 1, 1, 1, 2, 1, 4, 2, 3, 1, 2, 3, 2, 2, 1, 1]}],\n",
       "                        {\"template\": {\"data\": {\"bar\": [{\"error_x\": {\"color\": \"#2a3f5f\"}, \"error_y\": {\"color\": \"#2a3f5f\"}, \"marker\": {\"line\": {\"color\": \"#E5ECF6\", \"width\": 0.5}}, \"type\": \"bar\"}], \"barpolar\": [{\"marker\": {\"line\": {\"color\": \"#E5ECF6\", \"width\": 0.5}}, \"type\": \"barpolar\"}], \"carpet\": [{\"aaxis\": {\"endlinecolor\": \"#2a3f5f\", \"gridcolor\": \"white\", \"linecolor\": \"white\", \"minorgridcolor\": \"white\", \"startlinecolor\": \"#2a3f5f\"}, \"baxis\": {\"endlinecolor\": \"#2a3f5f\", \"gridcolor\": \"white\", \"linecolor\": \"white\", \"minorgridcolor\": \"white\", \"startlinecolor\": \"#2a3f5f\"}, \"type\": \"carpet\"}], \"choropleth\": [{\"colorbar\": {\"outlinewidth\": 0, \"ticks\": \"\"}, \"type\": \"choropleth\"}], \"contour\": [{\"colorbar\": {\"outlinewidth\": 0, \"ticks\": \"\"}, \"colorscale\": [[0.0, \"#0d0887\"], [0.1111111111111111, \"#46039f\"], [0.2222222222222222, \"#7201a8\"], [0.3333333333333333, \"#9c179e\"], [0.4444444444444444, \"#bd3786\"], [0.5555555555555556, \"#d8576b\"], [0.6666666666666666, \"#ed7953\"], [0.7777777777777778, \"#fb9f3a\"], [0.8888888888888888, \"#fdca26\"], [1.0, \"#f0f921\"]], \"type\": \"contour\"}], \"contourcarpet\": [{\"colorbar\": {\"outlinewidth\": 0, \"ticks\": \"\"}, \"type\": \"contourcarpet\"}], \"heatmap\": [{\"colorbar\": {\"outlinewidth\": 0, \"ticks\": \"\"}, \"colorscale\": [[0.0, \"#0d0887\"], [0.1111111111111111, \"#46039f\"], [0.2222222222222222, \"#7201a8\"], [0.3333333333333333, \"#9c179e\"], [0.4444444444444444, \"#bd3786\"], [0.5555555555555556, \"#d8576b\"], [0.6666666666666666, \"#ed7953\"], [0.7777777777777778, \"#fb9f3a\"], [0.8888888888888888, \"#fdca26\"], [1.0, \"#f0f921\"]], \"type\": \"heatmap\"}], \"heatmapgl\": [{\"colorbar\": {\"outlinewidth\": 0, \"ticks\": \"\"}, \"colorscale\": [[0.0, \"#0d0887\"], [0.1111111111111111, \"#46039f\"], [0.2222222222222222, \"#7201a8\"], [0.3333333333333333, \"#9c179e\"], [0.4444444444444444, \"#bd3786\"], [0.5555555555555556, \"#d8576b\"], [0.6666666666666666, \"#ed7953\"], [0.7777777777777778, \"#fb9f3a\"], [0.8888888888888888, \"#fdca26\"], [1.0, \"#f0f921\"]], \"type\": \"heatmapgl\"}], \"histogram\": [{\"marker\": {\"colorbar\": {\"outlinewidth\": 0, \"ticks\": \"\"}}, \"type\": \"histogram\"}], \"histogram2d\": [{\"colorbar\": {\"outlinewidth\": 0, \"ticks\": \"\"}, \"colorscale\": [[0.0, \"#0d0887\"], [0.1111111111111111, \"#46039f\"], [0.2222222222222222, \"#7201a8\"], [0.3333333333333333, \"#9c179e\"], [0.4444444444444444, \"#bd3786\"], [0.5555555555555556, \"#d8576b\"], [0.6666666666666666, \"#ed7953\"], [0.7777777777777778, \"#fb9f3a\"], [0.8888888888888888, \"#fdca26\"], [1.0, \"#f0f921\"]], \"type\": \"histogram2d\"}], \"histogram2dcontour\": [{\"colorbar\": {\"outlinewidth\": 0, \"ticks\": \"\"}, \"colorscale\": [[0.0, \"#0d0887\"], [0.1111111111111111, \"#46039f\"], [0.2222222222222222, \"#7201a8\"], [0.3333333333333333, \"#9c179e\"], [0.4444444444444444, \"#bd3786\"], [0.5555555555555556, \"#d8576b\"], [0.6666666666666666, \"#ed7953\"], [0.7777777777777778, \"#fb9f3a\"], [0.8888888888888888, \"#fdca26\"], [1.0, \"#f0f921\"]], \"type\": \"histogram2dcontour\"}], \"mesh3d\": [{\"colorbar\": {\"outlinewidth\": 0, \"ticks\": \"\"}, \"type\": \"mesh3d\"}], \"parcoords\": [{\"line\": {\"colorbar\": {\"outlinewidth\": 0, \"ticks\": \"\"}}, \"type\": \"parcoords\"}], \"pie\": [{\"automargin\": true, \"type\": \"pie\"}], \"scatter\": [{\"marker\": {\"colorbar\": {\"outlinewidth\": 0, \"ticks\": \"\"}}, \"type\": \"scatter\"}], \"scatter3d\": [{\"line\": {\"colorbar\": {\"outlinewidth\": 0, \"ticks\": \"\"}}, \"marker\": {\"colorbar\": {\"outlinewidth\": 0, \"ticks\": \"\"}}, \"type\": \"scatter3d\"}], \"scattercarpet\": [{\"marker\": {\"colorbar\": {\"outlinewidth\": 0, \"ticks\": \"\"}}, \"type\": \"scattercarpet\"}], \"scattergeo\": [{\"marker\": {\"colorbar\": {\"outlinewidth\": 0, \"ticks\": \"\"}}, \"type\": \"scattergeo\"}], \"scattergl\": [{\"marker\": {\"colorbar\": {\"outlinewidth\": 0, \"ticks\": \"\"}}, \"type\": \"scattergl\"}], \"scattermapbox\": [{\"marker\": {\"colorbar\": {\"outlinewidth\": 0, \"ticks\": \"\"}}, \"type\": \"scattermapbox\"}], \"scatterpolar\": [{\"marker\": {\"colorbar\": {\"outlinewidth\": 0, \"ticks\": \"\"}}, \"type\": \"scatterpolar\"}], \"scatterpolargl\": [{\"marker\": {\"colorbar\": {\"outlinewidth\": 0, \"ticks\": \"\"}}, \"type\": \"scatterpolargl\"}], \"scatterternary\": [{\"marker\": {\"colorbar\": {\"outlinewidth\": 0, \"ticks\": \"\"}}, \"type\": \"scatterternary\"}], \"surface\": [{\"colorbar\": {\"outlinewidth\": 0, \"ticks\": \"\"}, \"colorscale\": [[0.0, \"#0d0887\"], [0.1111111111111111, \"#46039f\"], [0.2222222222222222, \"#7201a8\"], [0.3333333333333333, \"#9c179e\"], [0.4444444444444444, \"#bd3786\"], [0.5555555555555556, \"#d8576b\"], [0.6666666666666666, \"#ed7953\"], [0.7777777777777778, \"#fb9f3a\"], [0.8888888888888888, \"#fdca26\"], [1.0, \"#f0f921\"]], \"type\": \"surface\"}], \"table\": [{\"cells\": {\"fill\": {\"color\": \"#EBF0F8\"}, \"line\": {\"color\": \"white\"}}, \"header\": {\"fill\": {\"color\": \"#C8D4E3\"}, \"line\": {\"color\": \"white\"}}, \"type\": \"table\"}]}, \"layout\": {\"annotationdefaults\": {\"arrowcolor\": \"#2a3f5f\", \"arrowhead\": 0, \"arrowwidth\": 1}, \"coloraxis\": {\"colorbar\": {\"outlinewidth\": 0, \"ticks\": \"\"}}, \"colorscale\": {\"diverging\": [[0, \"#8e0152\"], [0.1, \"#c51b7d\"], [0.2, \"#de77ae\"], [0.3, \"#f1b6da\"], [0.4, \"#fde0ef\"], [0.5, \"#f7f7f7\"], [0.6, \"#e6f5d0\"], [0.7, \"#b8e186\"], [0.8, \"#7fbc41\"], [0.9, \"#4d9221\"], [1, \"#276419\"]], \"sequential\": [[0.0, \"#0d0887\"], [0.1111111111111111, \"#46039f\"], [0.2222222222222222, \"#7201a8\"], [0.3333333333333333, \"#9c179e\"], [0.4444444444444444, \"#bd3786\"], [0.5555555555555556, \"#d8576b\"], [0.6666666666666666, \"#ed7953\"], [0.7777777777777778, \"#fb9f3a\"], [0.8888888888888888, \"#fdca26\"], [1.0, \"#f0f921\"]], \"sequentialminus\": [[0.0, \"#0d0887\"], [0.1111111111111111, \"#46039f\"], [0.2222222222222222, \"#7201a8\"], [0.3333333333333333, \"#9c179e\"], [0.4444444444444444, \"#bd3786\"], [0.5555555555555556, \"#d8576b\"], [0.6666666666666666, \"#ed7953\"], [0.7777777777777778, \"#fb9f3a\"], [0.8888888888888888, \"#fdca26\"], [1.0, \"#f0f921\"]]}, \"colorway\": [\"#636efa\", \"#EF553B\", \"#00cc96\", \"#ab63fa\", \"#FFA15A\", \"#19d3f3\", \"#FF6692\", \"#B6E880\", \"#FF97FF\", \"#FECB52\"], \"font\": {\"color\": \"#2a3f5f\"}, \"geo\": {\"bgcolor\": \"white\", \"lakecolor\": \"white\", \"landcolor\": \"#E5ECF6\", \"showlakes\": true, \"showland\": true, \"subunitcolor\": \"white\"}, \"hoverlabel\": {\"align\": \"left\"}, \"hovermode\": \"closest\", \"mapbox\": {\"style\": \"light\"}, \"paper_bgcolor\": \"white\", \"plot_bgcolor\": \"#E5ECF6\", \"polar\": {\"angularaxis\": {\"gridcolor\": \"white\", \"linecolor\": \"white\", \"ticks\": \"\"}, \"bgcolor\": \"#E5ECF6\", \"radialaxis\": {\"gridcolor\": \"white\", \"linecolor\": \"white\", \"ticks\": \"\"}}, \"scene\": {\"xaxis\": {\"backgroundcolor\": \"#E5ECF6\", \"gridcolor\": \"white\", \"gridwidth\": 2, \"linecolor\": \"white\", \"showbackground\": true, \"ticks\": \"\", \"zerolinecolor\": \"white\"}, \"yaxis\": {\"backgroundcolor\": \"#E5ECF6\", \"gridcolor\": \"white\", \"gridwidth\": 2, \"linecolor\": \"white\", \"showbackground\": true, \"ticks\": \"\", \"zerolinecolor\": \"white\"}, \"zaxis\": {\"backgroundcolor\": \"#E5ECF6\", \"gridcolor\": \"white\", \"gridwidth\": 2, \"linecolor\": \"white\", \"showbackground\": true, \"ticks\": \"\", \"zerolinecolor\": \"white\"}}, \"shapedefaults\": {\"line\": {\"color\": \"#2a3f5f\"}}, \"ternary\": {\"aaxis\": {\"gridcolor\": \"white\", \"linecolor\": \"white\", \"ticks\": \"\"}, \"baxis\": {\"gridcolor\": \"white\", \"linecolor\": \"white\", \"ticks\": \"\"}, \"bgcolor\": \"#E5ECF6\", \"caxis\": {\"gridcolor\": \"white\", \"linecolor\": \"white\", \"ticks\": \"\"}}, \"title\": {\"x\": 0.05}, \"xaxis\": {\"automargin\": true, \"gridcolor\": \"white\", \"linecolor\": \"white\", \"ticks\": \"\", \"title\": {\"standoff\": 15}, \"zerolinecolor\": \"white\", \"zerolinewidth\": 2}, \"yaxis\": {\"automargin\": true, \"gridcolor\": \"white\", \"linecolor\": \"white\", \"ticks\": \"\", \"title\": {\"standoff\": 15}, \"zerolinecolor\": \"white\", \"zerolinewidth\": 2}}}},\n",
       "                        {\"responsive\": true}\n",
       "                    ).then(function(){\n",
       "                            \n",
       "var gd = document.getElementById('9b085f7c-b43a-43a5-a15f-82bca160836c');\n",
       "var x = new MutationObserver(function (mutations, observer) {{\n",
       "        var display = window.getComputedStyle(gd).display;\n",
       "        if (!display || display === 'none') {{\n",
       "            console.log([gd, 'removed!']);\n",
       "            Plotly.purge(gd);\n",
       "            observer.disconnect();\n",
       "        }}\n",
       "}});\n",
       "\n",
       "// Listen for the removal of the full notebook cells\n",
       "var notebookContainer = gd.closest('#notebook-container');\n",
       "if (notebookContainer) {{\n",
       "    x.observe(notebookContainer, {childList: true});\n",
       "}}\n",
       "\n",
       "// Listen for the clearing of the current output cell\n",
       "var outputEl = gd.closest('.output');\n",
       "if (outputEl) {{\n",
       "    x.observe(outputEl, {childList: true});\n",
       "}}\n",
       "\n",
       "                        })\n",
       "                };\n",
       "                });\n",
       "            </script>\n",
       "        </div>"
      ]
     },
     "metadata": {},
     "output_type": "display_data"
    }
   ],
   "source": [
    "import plotly.graph_objects as go\n",
    "g_t=test.groupby([\"Lo\",\"La\",'Year'])['Total Incidents'].sum().reset_index()\n",
    "\n",
    "fig = go.Figure(data=[go.Mesh3d(x=g_t['Lo'],\n",
    "                   y=g_t['La'],\n",
    "                   z=g_t['Total Incidents'],\n",
    "                   opacity=0.5,\n",
    "                   color='rgba(244,22,100,0.6)'\n",
    "                  )])\n",
    "\n",
    "# fig = go.Figure(data=go.Volume(\n",
    "#     x=g_t['Lo'],\n",
    "#     y=g_t['La'],\n",
    "#     z=g_t['Year'],\n",
    "#     value=g_t['Total Incidents'],\n",
    "# #     isomin=0,\n",
    "# #     isomax=100,\n",
    "#     opacity=0.01, # needs to be small to see through all surfaces\n",
    "#     surface_count=210, # needs to be a large number for good volume rendering\n",
    "#     ))\n",
    "# fig.show()\n",
    "# fig.update_layout(\n",
    "#     scene = dict(\n",
    "#         xaxis = dict(nticks=4, range=[-100,100],),\n",
    "#                      yaxis = dict(nticks=4, range=[-50,100],),\n",
    "#                      zaxis = dict(nticks=4, range=[-100,100],),),\n",
    "#     width=700,\n",
    "#     margin=dict(r=20, l=10, b=10, t=10))\n",
    "\n",
    "fig.show()"
   ]
  },
  {
   "cell_type": "code",
   "execution_count": null,
   "metadata": {},
   "outputs": [],
   "source": []
  },
  {
   "cell_type": "code",
   "execution_count": null,
   "metadata": {},
   "outputs": [],
   "source": []
  },
  {
   "cell_type": "code",
   "execution_count": null,
   "metadata": {},
   "outputs": [],
   "source": [
    "['SHOOTING'],['Neighborhood_New'],[2014,2020],{'Month':0,'Period':1}"
   ]
  },
  {
   "cell_type": "code",
   "execution_count": null,
   "metadata": {},
   "outputs": [],
   "source": [
    "from mlxtend.preprocessing import TransactionEncoder\n",
    "from mlxtend.frequent_patterns import apriori, fpmax, fpgrowth, association_rules\n",
    "\n",
    "def pattern(df, crime):\n",
    "    \n",
    "    if len(crime)==1:\n",
    "        df=df.drop(columns=['Total Incidents','Description'])\n",
    "        rules=fpmax(pd.get_dummies(df).astype('category'), min_support=0.001, max_len=6,use_colnames=True)\n",
    "    else:\n",
    "        df=df.drop(columns=['Total Incidents'])\n",
    "        rules=fpmax(pd.get_dummies(df).astype('category'), min_support=0.001, max_len=6,use_colnames=True)\n",
    "    \n",
    "    rules['len']=rules.itemsets.apply(len)\n",
    "    rules['itemsets']=rules.itemsets.apply(list)\n",
    "    rules.sort_values('support', ascending=False)\n",
    "    rules=rules.sort_values('support', ascending=False).reset_index()\n",
    "    \n",
    "    return rules"
   ]
  },
  {
   "cell_type": "code",
   "execution_count": 149,
   "metadata": {},
   "outputs": [
    {
     "data": {
      "application/vnd.plotly.v1+json": {
       "config": {
        "plotlyServerURL": "https://plot.ly"
       },
       "data": [
        {
         "alignmentgroup": "True",
         "customdata": [
          [
           [
            "DayofWeek_1.0",
            "New_District_Western",
            "Period_Late Night"
           ]
          ],
          [
           [
            "New_District_Western",
            "Period_Late Night",
            "DayofWeek_2.0"
           ]
          ],
          [
           [
            "New_District_Eastern",
            "Period_Noon",
            "DayofWeek_5.0"
           ]
          ],
          [
           [
            "New_District_Western",
            "Period_Noon",
            "DayofWeek_5.0"
           ]
          ],
          [
           [
            "New_District_Western",
            "Period_Noon",
            "DayofWeek_2.0"
           ]
          ],
          [
           [
            "New_District_Western",
            "Period_Late Night",
            "DayofWeek_3.0"
           ]
          ],
          [
           [
            "New_District_Western",
            "Period_Noon",
            "DayofWeek_3.0"
           ]
          ],
          [
           [
            "DayofWeek_1.0",
            "New_District_Eastern",
            "Period_Morning"
           ]
          ],
          [
           [
            "DayofWeek_1.0",
            "New_District_Western",
            "Period_Morning"
           ]
          ],
          [
           [
            "New_District_Western",
            "DayofWeek_4.0",
            "Period_Morning"
           ]
          ],
          [
           [
            "New_District_Western",
            "Period_Night",
            "DayofWeek_0.0"
           ]
          ],
          [
           [
            "New_District_Western",
            "DayofWeek_4.0",
            "Period_Night"
           ]
          ],
          [
           [
            "Period_Night",
            "New_District_Southwestern",
            "DayofWeek_0.0"
           ]
          ],
          [
           [
            "New_District_Western",
            "Period_Night",
            "DayofWeek_6.0"
           ]
          ],
          [
           [
            "DayofWeek_1.0",
            "Period_Night",
            "New_District_Northeastern"
           ]
          ],
          [
           [
            "Period_Night",
            "New_District_Eastern",
            "DayofWeek_5.0"
           ]
          ],
          [
           [
            "Period_Night",
            "New_District_Southwestern",
            "DayofWeek_2.0"
           ]
          ],
          [
           [
            "DayofWeek_1.0",
            "New_District_Western",
            "Period_Night"
           ]
          ],
          [
           [
            "New_District_Northeastern",
            "Period_Night",
            "DayofWeek_0.0"
           ]
          ],
          [
           [
            "Period_Night",
            "New_District_Southwestern",
            "DayofWeek_4.0"
           ]
          ],
          [
           [
            "Period_Night",
            "New_District_Southern",
            "DayofWeek_5.0"
           ]
          ],
          [
           [
            "DayofWeek_1.0",
            "Period_Night",
            "New_District_Northwestern"
           ]
          ],
          [
           [
            "DayofWeek_1.0",
            "New_District_Western",
            "Period_Evening"
           ]
          ],
          [
           [
            "New_District_Western",
            "Period_Evening",
            "DayofWeek_6.0"
           ]
          ],
          [
           [
            "Period_Night",
            "New_District_Eastern",
            "DayofWeek_0.0"
           ]
          ],
          [
           [
            "New_District_Western",
            "Period_Early Morning",
            "DayofWeek_5.0"
           ]
          ],
          [
           [
            "DayofWeek_1.0",
            "New_District_Southwestern",
            "Period_Evening"
           ]
          ],
          [
           [
            "New_District_Northeastern",
            "Period_Night",
            "DayofWeek_2.0"
           ]
          ],
          [
           [
            "Period_Night",
            "New_District_Southwestern",
            "DayofWeek_5.0"
           ]
          ],
          [
           [
            "DayofWeek_1.0",
            "Period_Night",
            "New_District_Southwestern"
           ]
          ],
          [
           [
            "Period_Night",
            "New_District_Eastern",
            "DayofWeek_4.0"
           ]
          ],
          [
           [
            "DayofWeek_1.0",
            "Period_Night",
            "New_District_Eastern"
           ]
          ],
          [
           [
            "Period_Night",
            "New_District_Southwestern",
            "DayofWeek_3.0"
           ]
          ],
          [
           [
            "New_District_Southwestern",
            "Period_Evening",
            "DayofWeek_0.0"
           ]
          ],
          [
           [
            "New_District_Northeastern",
            "Period_Night",
            "DayofWeek_3.0"
           ]
          ],
          [
           [
            "New_District_Eastern",
            "Period_Evening",
            "DayofWeek_2.0"
           ]
          ],
          [
           [
            "New_District_Western",
            "Period_Evening",
            "DayofWeek_0.0"
           ]
          ],
          [
           [
            "Period_Night",
            "DayofWeek_2.0",
            "New_District_Northwestern"
           ]
          ],
          [
           [
            "New_District_Western",
            "DayofWeek_2.0",
            "Period_Night"
           ]
          ],
          [
           [
            "New_District_Eastern",
            "Period_Evening",
            "DayofWeek_4.0"
           ]
          ],
          [
           [
            "DayofWeek_1.0",
            "Period_Night",
            "New_District_Southern"
           ]
          ],
          [
           [
            "Period_Night",
            "New_District_Eastern",
            "DayofWeek_2.0"
           ]
          ],
          [
           [
            "Period_Night",
            "New_District_Northwestern",
            "DayofWeek_0.0"
           ]
          ],
          [
           [
            "Period_Early Morning",
            "New_District_Southern",
            "DayofWeek_5.0"
           ]
          ],
          [
           [
            "DayofWeek_6.0",
            "Period_Evening",
            "New_District_Northwestern"
           ]
          ],
          [
           [
            "New_District_Western",
            "Period_Early Morning",
            "DayofWeek_4.0"
           ]
          ],
          [
           [
            "DayofWeek_3.0",
            "New_District_Western",
            "Period_Night"
           ]
          ],
          [
           [
            "New_District_Eastern",
            "Period_Late Night",
            "DayofWeek_0.0"
           ]
          ],
          [
           [
            "New_District_Western",
            "Period_Night",
            "DayofWeek_5.0"
           ]
          ],
          [
           [
            "Period_Night",
            "DayofWeek_4.0",
            "New_District_Southern"
           ]
          ],
          [
           [
            "New_District_Southwestern",
            "Period_Evening",
            "DayofWeek_4.0"
           ]
          ],
          [
           [
            "Period_Night",
            "New_District_Southern",
            "DayofWeek_0.0"
           ]
          ],
          [
           [
            "Period_Evening",
            "New_District_Southern",
            "DayofWeek_0.0"
           ]
          ],
          [
           [
            "New_District_Eastern",
            "Period_Late Night",
            "DayofWeek_5.0"
           ]
          ],
          [
           [
            "Period_Late Night",
            "New_District_Southern",
            "DayofWeek_5.0"
           ]
          ],
          [
           [
            "Period_Night",
            "DayofWeek_4.0",
            "New_District_Northern"
           ]
          ],
          [
           [
            "New_District_Southwestern",
            "Period_Evening",
            "DayofWeek_6.0"
           ]
          ],
          [
           [
            "New_District_Western",
            "Period_Evening",
            "DayofWeek_2.0"
           ]
          ],
          [
           [
            "Period_Night",
            "DayofWeek_5.0",
            "New_District_Northwestern"
           ]
          ],
          [
           [
            "DayofWeek_1.0",
            "New_District_Eastern",
            "Period_Late Night"
           ]
          ],
          [
           [
            "Period_Night",
            "New_District_Eastern",
            "DayofWeek_3.0"
           ]
          ],
          [
           [
            "DayofWeek_1.0",
            "New_District_Western",
            "Period_Noon"
           ]
          ],
          [
           [
            "Period_Night",
            "DayofWeek_4.0",
            "New_District_Northwestern"
           ]
          ],
          [
           [
            "New_District_Southwestern",
            "Period_Evening",
            "DayofWeek_5.0"
           ]
          ],
          [
           [
            "New_District_Northeastern",
            "Period_Evening",
            "DayofWeek_5.0"
           ]
          ],
          [
           [
            "Period_Night",
            "New_District_Eastern",
            "DayofWeek_6.0"
           ]
          ],
          [
           [
            "New_District_Northeastern",
            "Period_Night",
            "DayofWeek_6.0"
           ]
          ],
          [
           [
            "New_District_Western",
            "Period_Evening",
            "DayofWeek_3.0"
           ]
          ],
          [
           [
            "New_District_Western",
            "Period_Evening",
            "DayofWeek_5.0"
           ]
          ],
          [
           [
            "Period_Evening",
            "DayofWeek_4.0",
            "New_District_Southern"
           ]
          ],
          [
           [
            "Period_Evening",
            "New_District_Northwestern",
            "DayofWeek_2.0"
           ]
          ],
          [
           [
            "New_District_Southwestern",
            "Period_Noon",
            "DayofWeek_2.0"
           ]
          ],
          [
           [
            "Period_Night",
            "DayofWeek_3.0",
            "New_District_Northwestern"
           ]
          ],
          [
           [
            "DayofWeek_6.0",
            "Period_Late Night",
            "New_District_Southeastern"
           ]
          ],
          [
           [
            "New_District_Eastern",
            "Period_Evening",
            "DayofWeek_6.0"
           ]
          ],
          [
           [
            "New_District_Southwestern",
            "Period_Late Night",
            "DayofWeek_6.0"
           ]
          ],
          [
           [
            "New_District_Western",
            "Period_Evening",
            "DayofWeek_4.0"
           ]
          ],
          [
           [
            "DayofWeek_1.0",
            "Period_Evening",
            "New_District_Northeastern"
           ]
          ],
          [
           [
            "New_District_Northeastern",
            "Period_Early Morning",
            "DayofWeek_0.0"
           ]
          ],
          [
           [
            "New_District_Eastern",
            "Period_Evening",
            "DayofWeek_5.0"
           ]
          ],
          [
           [
            "New_District_Northeastern",
            "Period_Late Night",
            "DayofWeek_5.0"
           ]
          ],
          [
           [
            "Period_Night",
            "New_District_Southern",
            "DayofWeek_3.0"
           ]
          ],
          [
           [
            "Period_Early Morning",
            "New_District_Southern",
            "DayofWeek_0.0"
           ]
          ],
          [
           [
            "New_District_Eastern",
            "Period_Early Morning",
            "DayofWeek_6.0"
           ]
          ],
          [
           [
            "Period_Late Night",
            "New_District_Southern",
            "DayofWeek_6.0"
           ]
          ],
          [
           [
            "New_District_Western",
            "Period_Early Morning",
            "DayofWeek_3.0"
           ]
          ],
          [
           [
            "DayofWeek_5.0",
            "Period_Late Night",
            "New_District_Northern"
           ]
          ],
          [
           [
            "New_District_Southwestern",
            "Period_Late Night",
            "DayofWeek_5.0"
           ]
          ],
          [
           [
            "Period_Night",
            "DayofWeek_5.0",
            "New_District_Southeastern"
           ]
          ],
          [
           [
            "DayofWeek_1.0",
            "Period_Night",
            "New_District_Northern"
           ]
          ],
          [
           [
            "Period_Night",
            "New_District_Southeastern",
            "DayofWeek_0.0"
           ]
          ],
          [
           [
            "New_District_Central",
            "Period_Late Night",
            "DayofWeek_6.0"
           ]
          ],
          [
           [
            "New_District_Eastern",
            "Period_Evening",
            "DayofWeek_0.0"
           ]
          ],
          [
           [
            "New_District_Northeastern",
            "Period_Evening",
            "DayofWeek_2.0"
           ]
          ],
          [
           [
            "DayofWeek_6.0",
            "Period_Late Night",
            "New_District_Northwestern"
           ]
          ],
          [
           [
            "Period_Early Morning",
            "DayofWeek_2.0",
            "New_District_Northern"
           ]
          ],
          [
           [
            "New_District_Western",
            "Period_Late Night",
            "DayofWeek_0.0"
           ]
          ],
          [
           [
            "Period_Night",
            "DayofWeek_2.0",
            "New_District_Southern"
           ]
          ],
          [
           [
            "Period_Late Night",
            "New_District_Southern",
            "DayofWeek_3.0"
           ]
          ],
          [
           [
            "New_District_Western",
            "Period_Late Night",
            "DayofWeek_5.0"
           ]
          ],
          [
           [
            "Period_Night",
            "New_District_Southern",
            "DayofWeek_6.0"
           ]
          ],
          [
           [
            "Period_Night",
            "New_District_Southwestern",
            "DayofWeek_6.0"
           ]
          ],
          [
           [
            "New_District_Eastern",
            "Period_Noon",
            "DayofWeek_6.0"
           ]
          ],
          [
           [
            "New_District_Western",
            "Period_Noon",
            "DayofWeek_4.0"
           ]
          ],
          [
           [
            "New_District_Western",
            "Period_Late Night",
            "DayofWeek_6.0"
           ]
          ],
          [
           [
            "New_District_Northeastern",
            "Period_Night",
            "DayofWeek_5.0"
           ]
          ],
          [
           [
            "New_District_Northeastern",
            "Period_Late Night",
            "DayofWeek_4.0"
           ]
          ],
          [
           [
            "New_District_Northeastern",
            "Period_Night",
            "DayofWeek_4.0"
           ]
          ],
          [
           [
            "New_District_Northeastern",
            "Period_Late Night",
            "DayofWeek_2.0"
           ]
          ],
          [
           [
            "New_District_Northeastern",
            "Period_Evening",
            "DayofWeek_3.0"
           ]
          ],
          [
           [
            "Period_Night",
            "New_District_Central",
            "DayofWeek_4.0"
           ]
          ],
          [
           [
            "New_District_Southwestern",
            "Period_Noon",
            "DayofWeek_0.0"
           ]
          ],
          [
           [
            "New_District_Northeastern",
            "Period_Evening",
            "DayofWeek_0.0"
           ]
          ],
          [
           [
            "New_District_Southwestern",
            "Period_Evening",
            "DayofWeek_3.0"
           ]
          ],
          [
           [
            "New_District_Eastern",
            "DayofWeek_4.0",
            "Period_Noon"
           ]
          ],
          [
           [
            "DayofWeek_1.0",
            "New_District_Eastern",
            "Period_Evening"
           ]
          ],
          [
           [
            "New_District_Eastern",
            "DayofWeek_2.0",
            "Period_Noon"
           ]
          ],
          [
           [
            "New_District_Southwestern",
            "Period_Evening",
            "DayofWeek_2.0"
           ]
          ],
          [
           [
            "DayofWeek_1.0",
            "Period_Evening",
            "New_District_Northwestern"
           ]
          ],
          [
           [
            "New_District_Central",
            "Period_Evening",
            "DayofWeek_0.0"
           ]
          ],
          [
           [
            "New_District_Central",
            "Period_Evening",
            "DayofWeek_6.0"
           ]
          ],
          [
           [
            "Period_Late Night",
            "DayofWeek_2.0",
            "New_District_Southeastern"
           ]
          ],
          [
           [
            "Period_Noon",
            "New_District_Southern",
            "DayofWeek_0.0"
           ]
          ],
          [
           [
            "New_District_Southwestern",
            "Period_Noon",
            "DayofWeek_5.0"
           ]
          ],
          [
           [
            "DayofWeek_1.0",
            "Period_Early Morning",
            "New_District_Northwestern"
           ]
          ],
          [
           [
            "Period_Late Night",
            "DayofWeek_2.0",
            "New_District_Northwestern"
           ]
          ],
          [
           [
            "Period_Noon",
            "DayofWeek_4.0",
            "New_District_Southern"
           ]
          ],
          [
           [
            "New_District_Eastern",
            "Period_Late Night",
            "DayofWeek_6.0"
           ]
          ],
          [
           [
            "Period_Night",
            "DayofWeek_4.0",
            "New_District_Southeastern"
           ]
          ],
          [
           [
            "New_District_Northeastern",
            "Period_Late Night",
            "DayofWeek_0.0"
           ]
          ],
          [
           [
            "New_District_Southwestern",
            "Period_Noon",
            "DayofWeek_3.0"
           ]
          ],
          [
           [
            "New_District_Northeastern",
            "Period_Late Night",
            "DayofWeek_6.0"
           ]
          ],
          [
           [
            "DayofWeek_0.0",
            "Period_Evening",
            "New_District_Northern"
           ]
          ],
          [
           [
            "Period_Night",
            "DayofWeek_2.0",
            "New_District_Northern"
           ]
          ],
          [
           [
            "DayofWeek_1.0",
            "Period_Late Night",
            "New_District_Southern"
           ]
          ],
          [
           [
            "DayofWeek_1.0",
            "New_District_Central",
            "Period_Evening"
           ]
          ],
          [
           [
            "New_District_Northern",
            "Period_Late Night",
            "DayofWeek_0.0"
           ]
          ],
          [
           [
            "New_District_Southwestern",
            "Period_Noon",
            "DayofWeek_4.0"
           ]
          ],
          [
           [
            "New_District_Eastern",
            "Period_Late Night",
            "DayofWeek_4.0"
           ]
          ],
          [
           [
            "New_District_Southwestern",
            "Period_Noon",
            "DayofWeek_6.0"
           ]
          ],
          [
           [
            "Period_Night",
            "New_District_Central",
            "DayofWeek_2.0"
           ]
          ],
          [
           [
            "Period_Night",
            "New_District_Central",
            "DayofWeek_0.0"
           ]
          ],
          [
           [
            "New_District_Southwestern",
            "Period_Late Night",
            "DayofWeek_4.0"
           ]
          ],
          [
           [
            "Period_Late Night",
            "New_District_Southern",
            "DayofWeek_0.0"
           ]
          ],
          [
           [
            "New_District_Eastern",
            "Period_Evening",
            "DayofWeek_3.0"
           ]
          ],
          [
           [
            "DayofWeek_1.0",
            "Period_Noon",
            "New_District_Northeastern"
           ]
          ],
          [
           [
            "DayofWeek_1.0",
            "Period_Late Night",
            "New_District_Southeastern"
           ]
          ],
          [
           [
            "Period_Night",
            "DayofWeek_6.0",
            "New_District_Northwestern"
           ]
          ],
          [
           [
            "Period_Night",
            "DayofWeek_3.0",
            "New_District_Southeastern"
           ]
          ],
          [
           [
            "New_District_Northeastern",
            "Period_Evening",
            "DayofWeek_6.0"
           ]
          ],
          [
           [
            "DayofWeek_5.0",
            "Period_Evening",
            "New_District_Northwestern"
           ]
          ],
          [
           [
            "DayofWeek_5.0",
            "Period_Noon",
            "New_District_Northwestern"
           ]
          ],
          [
           [
            "Period_Night",
            "DayofWeek_3.0",
            "New_District_Northern"
           ]
          ],
          [
           [
            "New_District_Northeastern",
            "Period_Noon",
            "DayofWeek_4.0"
           ]
          ],
          [
           [
            "Period_Night",
            "DayofWeek_6.0",
            "New_District_Northern"
           ]
          ],
          [
           [
            "Period_Night",
            "DayofWeek_2.0",
            "New_District_Southeastern"
           ]
          ],
          [
           [
            "DayofWeek_5.0",
            "Period_Late Night",
            "New_District_Southeastern"
           ]
          ],
          [
           [
            "New_District_Northeastern",
            "Period_Late Night",
            "DayofWeek_1.0"
           ]
          ],
          [
           [
            "Period_Late Night",
            "DayofWeek_3.0",
            "New_District_Northwestern"
           ]
          ],
          [
           [
            "New_District_Northeastern",
            "Period_Late Night",
            "DayofWeek_3.0"
           ]
          ],
          [
           [
            "Period_Evening",
            "DayofWeek_3.0",
            "New_District_Northwestern"
           ]
          ],
          [
           [
            "DayofWeek_2.0",
            "Period_Evening",
            "New_District_Northern"
           ]
          ],
          [
           [
            "Period_Late Night",
            "DayofWeek_4.0",
            "New_District_Northwestern"
           ]
          ],
          [
           [
            "DayofWeek_0.0",
            "Period_Evening",
            "New_District_Northwestern"
           ]
          ],
          [
           [
            "Period_Noon",
            "DayofWeek_3.0",
            "New_District_Northwestern"
           ]
          ],
          [
           [
            "New_District_Central",
            "Period_Late Night",
            "DayofWeek_5.0"
           ]
          ],
          [
           [
            "New_District_Eastern",
            "Period_Late Night",
            "DayofWeek_2.0"
           ]
          ],
          [
           [
            "DayofWeek_1.0",
            "Period_Late Night",
            "New_District_Northwestern"
           ]
          ],
          [
           [
            "New_District_Central",
            "Period_Late Night",
            "DayofWeek_0.0"
           ]
          ],
          [
           [
            "Period_Night",
            "New_District_Central",
            "DayofWeek_5.0"
           ]
          ],
          [
           [
            "DayofWeek_5.0",
            "Period_Evening",
            "New_District_Southeastern"
           ]
          ],
          [
           [
            "Period_Noon",
            "DayofWeek_2.0",
            "New_District_Southern"
           ]
          ],
          [
           [
            "DayofWeek_3.0",
            "Period_Morning",
            "New_District_Northern"
           ]
          ],
          [
           [
            "Period_Noon",
            "New_District_Eastern",
            "DayofWeek_0.0"
           ]
          ],
          [
           [
            "New_District_Western",
            "Period_Noon",
            "DayofWeek_0.0"
           ]
          ],
          [
           [
            "DayofWeek_1.0",
            "New_District_Southwestern",
            "Period_Noon"
           ]
          ],
          [
           [
            "DayofWeek_1.0",
            "New_District_Eastern",
            "Period_Noon"
           ]
          ],
          [
           [
            "New_District_Central",
            "Period_Evening",
            "DayofWeek_4.0"
           ]
          ],
          [
           [
            "New_District_Western",
            "DayofWeek_2.0",
            "Period_Morning"
           ]
          ],
          [
           [
            "DayofWeek_6.0",
            "Period_Noon",
            "New_District_Northwestern"
           ]
          ],
          [
           [
            "DayofWeek_1.0",
            "Period_Late Night",
            "New_District_Northern"
           ]
          ],
          [
           [
            "New_District_Southwestern",
            "Period_Late Night",
            "DayofWeek_0.0"
           ]
          ],
          [
           [
            "New_District_Western",
            "Period_Noon",
            "DayofWeek_6.0"
           ]
          ],
          [
           [
            "DayofWeek_5.0",
            "Period_Evening",
            "New_District_Northern"
           ]
          ],
          [
           [
            "Period_Night",
            "DayofWeek_5.0",
            "New_District_Northern"
           ]
          ],
          [
           [
            "New_District_Southeastern",
            "Period_Late Night",
            "DayofWeek_0.0"
           ]
          ],
          [
           [
            "Period_Early Morning",
            "New_District_Southeastern"
           ]
          ],
          [
           [
            "Period_Evening",
            "New_District_Southern",
            "DayofWeek_5.0"
           ]
          ],
          [
           [
            "Period_Noon",
            "New_District_Southern",
            "DayofWeek_6.0"
           ]
          ],
          [
           [
            "New_District_Northeastern",
            "Period_Noon",
            "DayofWeek_6.0"
           ]
          ],
          [
           [
            "DayofWeek_1.0",
            "Period_Evening",
            "New_District_Southern"
           ]
          ],
          [
           [
            "New_District_Central",
            "Period_Late Night",
            "DayofWeek_3.0"
           ]
          ],
          [
           [
            "Period_Evening",
            "New_District_Southern",
            "DayofWeek_2.0"
           ]
          ],
          [
           [
            "New_District_Northeastern",
            "Period_Noon",
            "DayofWeek_0.0"
           ]
          ],
          [
           [
            "Period_Noon",
            "DayofWeek_2.0",
            "New_District_Northwestern"
           ]
          ],
          [
           [
            "New_District_Eastern",
            "Period_Morning",
            "DayofWeek_0.0"
           ]
          ],
          [
           [
            "Period_Evening",
            "New_District_Southern",
            "DayofWeek_3.0"
           ]
          ],
          [
           [
            "Period_Evening",
            "New_District_Southern",
            "DayofWeek_6.0"
           ]
          ],
          [
           [
            "New_District_Central",
            "Period_Noon",
            "DayofWeek_5.0"
           ]
          ],
          [
           [
            "Period_Noon",
            "New_District_Northwestern",
            "DayofWeek_0.0"
           ]
          ],
          [
           [
            "Period_Noon",
            "New_District_Eastern",
            "DayofWeek_3.0"
           ]
          ],
          [
           [
            "New_District_Eastern",
            "Period_Late Night",
            "DayofWeek_3.0"
           ]
          ],
          [
           [
            "New_District_Central",
            "Period_Evening",
            "DayofWeek_2.0"
           ]
          ],
          [
           [
            "Period_Night",
            "New_District_Northern",
            "DayofWeek_0.0"
           ]
          ],
          [
           [
            "DayofWeek_3.0",
            "New_District_Eastern",
            "Period_Morning"
           ]
          ],
          [
           [
            "Period_Late Night",
            "DayofWeek_4.0",
            "New_District_Southern"
           ]
          ],
          [
           [
            "New_District_Southwestern",
            "Period_Early Morning",
            "DayofWeek_5.0"
           ]
          ],
          [
           [
            "Period_Evening",
            "DayofWeek_4.0",
            "New_District_Northern"
           ]
          ],
          [
           [
            "Period_Night",
            "New_District_Central",
            "DayofWeek_6.0"
           ]
          ],
          [
           [
            "DayofWeek_1.0",
            "Period_Noon",
            "New_District_Southern"
           ]
          ],
          [
           [
            "DayofWeek_6.0",
            "Period_Evening",
            "New_District_Southeastern"
           ]
          ],
          [
           [
            "New_District_Eastern",
            "Period_Morning",
            "DayofWeek_6.0"
           ]
          ],
          [
           [
            "DayofWeek_1.0",
            "Period_Night",
            "New_District_Central"
           ]
          ],
          [
           [
            "Period_Noon",
            "New_District_Southern",
            "DayofWeek_3.0"
           ]
          ],
          [
           [
            "Period_Late Night",
            "DayofWeek_2.0",
            "New_District_Northern"
           ]
          ],
          [
           [
            "New_District_Central",
            "Period_Late Night",
            "DayofWeek_4.0"
           ]
          ],
          [
           [
            "DayofWeek_6.0",
            "Period_Late Night",
            "New_District_Northern"
           ]
          ],
          [
           [
            "New_District_Northeastern",
            "Period_Noon",
            "DayofWeek_5.0"
           ]
          ],
          [
           [
            "Period_Evening",
            "DayofWeek_4.0",
            "New_District_Northwestern"
           ]
          ],
          [
           [
            "DayofWeek_1.0",
            "Period_Night",
            "New_District_Southeastern"
           ]
          ],
          [
           [
            "DayofWeek_5.0",
            "Period_Late Night",
            "New_District_Northwestern"
           ]
          ],
          [
           [
            "Period_Evening",
            "DayofWeek_3.0",
            "New_District_Northern"
           ]
          ],
          [
           [
            "DayofWeek_1.0",
            "Period_Noon",
            "New_District_Northwestern"
           ]
          ],
          [
           [
            "Period_Night",
            "New_District_Central",
            "DayofWeek_3.0"
           ]
          ],
          [
           [
            "Period_Noon",
            "DayofWeek_4.0",
            "New_District_Northwestern"
           ]
          ],
          [
           [
            "New_District_Southeastern",
            "Period_Evening",
            "DayofWeek_2.0"
           ]
          ],
          [
           [
            "DayofWeek_1.0",
            "Period_Evening",
            "New_District_Southeastern"
           ]
          ],
          [
           [
            "DayofWeek_0.0",
            "Period_Evening",
            "New_District_Southeastern"
           ]
          ],
          [
           [
            "DayofWeek_1.0",
            "New_District_Northeastern",
            "Period_Morning"
           ]
          ],
          [
           [
            "Period_Evening",
            "DayofWeek_3.0",
            "New_District_Southeastern"
           ]
          ],
          [
           [
            "DayofWeek_5.0",
            "Period_Morning",
            "New_District_Northwestern"
           ]
          ],
          [
           [
            "New_District_Eastern",
            "Period_Morning",
            "DayofWeek_5.0"
           ]
          ],
          [
           [
            "DayofWeek_1.0",
            "Period_Noon",
            "New_District_Southeastern"
           ]
          ],
          [
           [
            "DayofWeek_1.0",
            "New_District_Southwestern",
            "Period_Late Night"
           ]
          ],
          [
           [
            "New_District_Southwestern",
            "Period_Morning",
            "DayofWeek_6.0"
           ]
          ],
          [
           [
            "New_District_Western",
            "Period_Morning",
            "DayofWeek_6.0"
           ]
          ],
          [
           [
            "DayofWeek_6.0",
            "Period_Morning",
            "New_District_Northwestern"
           ]
          ],
          [
           [
            "New_District_Southwestern",
            "Period_Late Night",
            "DayofWeek_2.0"
           ]
          ],
          [
           [
            "New_District_Central",
            "Period_Late Night",
            "DayofWeek_2.0"
           ]
          ],
          [
           [
            "DayofWeek_1.0",
            "Period_Morning",
            "New_District_Northwestern"
           ]
          ],
          [
           [
            "New_District_Central",
            "Period_Evening",
            "DayofWeek_3.0"
           ]
          ],
          [
           [
            "DayofWeek_6.0",
            "Period_Evening",
            "New_District_Northern"
           ]
          ],
          [
           [
            "New_District_Northeastern",
            "Period_Evening",
            "DayofWeek_4.0"
           ]
          ],
          [
           [
            "New_District_Northeastern",
            "Period_Noon",
            "DayofWeek_3.0"
           ]
          ],
          [
           [
            "Period_Evening",
            "DayofWeek_4.0",
            "New_District_Southeastern"
           ]
          ],
          [
           [
            "New_District_Northeastern",
            "Period_Noon",
            "DayofWeek_2.0"
           ]
          ],
          [
           [
            "DayofWeek_3.0",
            "New_District_Southwestern",
            "Period_Morning"
           ]
          ],
          [
           [
            "Period_Night",
            "DayofWeek_6.0",
            "New_District_Southeastern"
           ]
          ],
          [
           [
            "New_District_Western",
            "Period_Morning",
            "DayofWeek_0.0"
           ]
          ],
          [
           [
            "New_District_Central",
            "Period_Evening",
            "DayofWeek_5.0"
           ]
          ],
          [
           [
            "Period_Late Night",
            "DayofWeek_4.0",
            "New_District_Northern"
           ]
          ],
          [
           [
            "New_District_Central",
            "Period_Early Morning",
            "DayofWeek_4.0"
           ]
          ],
          [
           [
            "DayofWeek_1.0",
            "New_District_Southwestern",
            "Period_Morning"
           ]
          ],
          [
           [
            "DayofWeek_2.0",
            "Period_Morning",
            "New_District_Northwestern"
           ]
          ],
          [
           [
            "New_District_Southwestern",
            "Period_Morning",
            "DayofWeek_0.0"
           ]
          ],
          [
           [
            "Period_Noon",
            "New_District_Southern",
            "DayofWeek_5.0"
           ]
          ],
          [
           [
            "DayofWeek_4.0",
            "New_District_Southern",
            "Period_Morning"
           ]
          ],
          [
           [
            "DayofWeek_1.0",
            "Period_Evening",
            "New_District_Northern"
           ]
          ],
          [
           [
            "New_District_Southwestern",
            "Period_Early Morning",
            "DayofWeek_6.0"
           ]
          ],
          [
           [
            "New_District_Northwestern",
            "Period_Morning",
            "DayofWeek_0.0"
           ]
          ],
          [
           [
            "New_District_Northeastern",
            "Period_Morning",
            "DayofWeek_0.0"
           ]
          ],
          [
           [
            "DayofWeek_4.0",
            "Period_Morning",
            "New_District_Northwestern"
           ]
          ],
          [
           [
            "New_District_Central",
            "DayofWeek_4.0",
            "Period_Morning"
           ]
          ],
          [
           [
            "DayofWeek_2.0",
            "Period_Morning",
            "New_District_Southeastern"
           ]
          ],
          [
           [
            "DayofWeek_1.0",
            "New_District_Central",
            "Period_Noon"
           ]
          ],
          [
           [
            "Period_Noon",
            "DayofWeek_3.0",
            "New_District_Southeastern"
           ]
          ],
          [
           [
            "New_District_Central",
            "Period_Early Morning",
            "DayofWeek_6.0"
           ]
          ],
          [
           [
            "Period_Late Night",
            "DayofWeek_3.0",
            "New_District_Southeastern"
           ]
          ],
          [
           [
            "DayofWeek_6.0",
            "Period_Morning",
            "New_District_Southeastern"
           ]
          ],
          [
           [
            "New_District_Southwestern",
            "DayofWeek_4.0",
            "Period_Morning"
           ]
          ],
          [
           [
            "New_District_Southwestern",
            "Period_Late Night",
            "DayofWeek_3.0"
           ]
          ],
          [
           [
            "Period_Late Night",
            "DayofWeek_3.0",
            "New_District_Northern"
           ]
          ],
          [
           [
            "DayofWeek_6.0",
            "Period_Noon",
            "New_District_Northern"
           ]
          ],
          [
           [
            "Period_Noon",
            "DayofWeek_2.0",
            "New_District_Northern"
           ]
          ],
          [
           [
            "DayofWeek_5.0",
            "Period_Noon",
            "New_District_Northern"
           ]
          ],
          [
           [
            "New_District_Western",
            "Period_Late Night",
            "DayofWeek_4.0"
           ]
          ],
          [
           [
            "Period_Noon",
            "New_District_Northern",
            "DayofWeek_0.0"
           ]
          ],
          [
           [
            "New_District_Central",
            "Period_Morning",
            "DayofWeek_5.0"
           ]
          ],
          [
           [
            "DayofWeek_1.0",
            "New_District_Southern",
            "Period_Morning"
           ]
          ],
          [
           [
            "New_District_Southern",
            "Period_Morning",
            "DayofWeek_0.0"
           ]
          ],
          [
           [
            "DayofWeek_3.0",
            "New_District_Western",
            "Period_Morning"
           ]
          ],
          [
           [
            "Period_Late Night",
            "New_District_Northwestern",
            "DayofWeek_0.0"
           ]
          ]
         ],
         "hovertemplate": "_index=%{x}<br>support=%{y}<br>itemsets=%{customdata[0]}<br>len=%{marker.color}<extra></extra>",
         "legendgroup": "",
         "marker": {
          "color": [
           3,
           3,
           3,
           3,
           3,
           3,
           3,
           3,
           3,
           3,
           3,
           3,
           3,
           3,
           3,
           3,
           3,
           3,
           3,
           3,
           3,
           3,
           3,
           3,
           3,
           3,
           3,
           3,
           3,
           3,
           3,
           3,
           3,
           3,
           3,
           3,
           3,
           3,
           3,
           3,
           3,
           3,
           3,
           3,
           3,
           3,
           3,
           3,
           3,
           3,
           3,
           3,
           3,
           3,
           3,
           3,
           3,
           3,
           3,
           3,
           3,
           3,
           3,
           3,
           3,
           3,
           3,
           3,
           3,
           3,
           3,
           3,
           3,
           3,
           3,
           3,
           3,
           3,
           3,
           3,
           3,
           3,
           3,
           3,
           3,
           3,
           3,
           3,
           3,
           3,
           3,
           3,
           3,
           3,
           3,
           3,
           3,
           3,
           3,
           3,
           3,
           3,
           3,
           3,
           3,
           3,
           3,
           3,
           3,
           3,
           3,
           3,
           3,
           3,
           3,
           3,
           3,
           3,
           3,
           3,
           3,
           3,
           3,
           3,
           3,
           3,
           3,
           3,
           3,
           3,
           3,
           3,
           3,
           3,
           3,
           3,
           3,
           3,
           3,
           3,
           3,
           3,
           3,
           3,
           3,
           3,
           3,
           3,
           3,
           3,
           3,
           3,
           3,
           3,
           3,
           3,
           3,
           3,
           3,
           3,
           3,
           3,
           3,
           3,
           3,
           3,
           3,
           3,
           3,
           3,
           3,
           3,
           3,
           3,
           3,
           3,
           3,
           3,
           3,
           3,
           3,
           3,
           3,
           3,
           3,
           3,
           2,
           3,
           3,
           3,
           3,
           3,
           3,
           3,
           3,
           3,
           3,
           3,
           3,
           3,
           3,
           3,
           3,
           3,
           3,
           3,
           3,
           3,
           3,
           3,
           3,
           3,
           3,
           3,
           3,
           3,
           3,
           3,
           3,
           3,
           3,
           3,
           3,
           3,
           3,
           3,
           3,
           3,
           3,
           3,
           3,
           3,
           3,
           3,
           3,
           3,
           3,
           3,
           3,
           3,
           3,
           3,
           3,
           3,
           3,
           3,
           3,
           3,
           3,
           3,
           3,
           3,
           3,
           3,
           3,
           3,
           3,
           3,
           3,
           3,
           3,
           3,
           3,
           3,
           3,
           3,
           3,
           3,
           3,
           3,
           3,
           3,
           3,
           3,
           3,
           3,
           3,
           3,
           3,
           3,
           3,
           3
          ],
          "coloraxis": "coloraxis"
         },
         "name": "",
         "offsetgroup": "",
         "orientation": "v",
         "showlegend": false,
         "textposition": "auto",
         "type": "bar",
         "x": [
          0,
          1,
          2,
          3,
          4,
          5,
          6,
          7,
          8,
          9,
          10,
          11,
          12,
          13,
          14,
          15,
          16,
          17,
          18,
          19,
          20,
          21,
          22,
          23,
          24,
          25,
          26,
          27,
          28,
          29,
          30,
          31,
          32,
          33,
          34,
          35,
          36,
          37,
          38,
          39,
          40,
          41,
          42,
          43,
          44,
          45,
          46,
          47,
          48,
          49,
          50,
          51,
          52,
          53,
          54,
          55,
          56,
          57,
          58,
          59,
          60,
          61,
          62,
          63,
          64,
          65,
          66,
          67,
          68,
          69,
          70,
          71,
          72,
          73,
          74,
          75,
          76,
          77,
          78,
          79,
          80,
          81,
          82,
          83,
          84,
          85,
          86,
          87,
          88,
          89,
          90,
          91,
          92,
          93,
          94,
          95,
          96,
          97,
          98,
          99,
          100,
          101,
          102,
          103,
          104,
          105,
          106,
          107,
          108,
          109,
          110,
          111,
          112,
          113,
          114,
          115,
          116,
          117,
          118,
          119,
          120,
          121,
          122,
          123,
          124,
          125,
          126,
          127,
          128,
          129,
          130,
          131,
          132,
          133,
          134,
          135,
          136,
          137,
          138,
          139,
          140,
          141,
          142,
          143,
          144,
          145,
          146,
          147,
          148,
          149,
          150,
          151,
          152,
          153,
          154,
          155,
          156,
          157,
          158,
          159,
          160,
          161,
          162,
          163,
          164,
          165,
          166,
          167,
          168,
          169,
          170,
          171,
          172,
          173,
          174,
          175,
          176,
          177,
          178,
          179,
          180,
          181,
          182,
          183,
          184,
          185,
          186,
          187,
          188,
          189,
          190,
          191,
          192,
          193,
          194,
          195,
          196,
          197,
          198,
          199,
          200,
          201,
          202,
          203,
          204,
          205,
          206,
          207,
          208,
          209,
          210,
          211,
          212,
          213,
          214,
          215,
          216,
          217,
          218,
          219,
          220,
          221,
          222,
          223,
          224,
          225,
          226,
          227,
          228,
          229,
          230,
          231,
          232,
          233,
          234,
          235,
          236,
          237,
          238,
          239,
          240,
          241,
          242,
          243,
          244,
          245,
          246,
          247,
          248,
          249,
          250,
          251,
          252,
          253,
          254,
          255,
          256,
          257,
          258,
          259,
          260,
          261,
          262,
          263,
          264,
          265,
          266,
          267,
          268,
          269,
          270,
          271,
          272,
          273,
          274,
          275,
          276,
          277,
          278,
          279,
          280,
          281
         ],
         "xaxis": "x",
         "y": [
          0.026510832383124287,
          0.023375142531356898,
          0.022519954389965794,
          0.022519954389965794,
          0.022234891676168756,
          0.022234891676168756,
          0.019384264538198404,
          0.01282782212086659,
          0.011972633979475485,
          0.009692132269099202,
          0.00855188141391106,
          0.00855188141391106,
          0.00855188141391106,
          0.008266818700114024,
          0.00798175598631699,
          0.00798175598631699,
          0.00798175598631699,
          0.007696693272519955,
          0.007696693272519955,
          0.007696693272519955,
          0.007411630558722919,
          0.007411630558722919,
          0.007411630558722919,
          0.007411630558722919,
          0.007126567844925884,
          0.0068415051311288486,
          0.0068415051311288486,
          0.006556442417331813,
          0.006556442417331813,
          0.006556442417331813,
          0.006556442417331813,
          0.006556442417331813,
          0.006556442417331813,
          0.006271379703534778,
          0.006271379703534778,
          0.006271379703534778,
          0.006271379703534778,
          0.006271379703534778,
          0.006271379703534778,
          0.0059863169897377425,
          0.0059863169897377425,
          0.0059863169897377425,
          0.0059863169897377425,
          0.0059863169897377425,
          0.005701254275940707,
          0.005701254275940707,
          0.005701254275940707,
          0.005701254275940707,
          0.005701254275940707,
          0.005701254275940707,
          0.005701254275940707,
          0.005416191562143672,
          0.005416191562143672,
          0.005416191562143672,
          0.005416191562143672,
          0.005416191562143672,
          0.005416191562143672,
          0.005416191562143672,
          0.005131128848346636,
          0.005131128848346636,
          0.005131128848346636,
          0.005131128848346636,
          0.005131128848346636,
          0.005131128848346636,
          0.005131128848346636,
          0.005131128848346636,
          0.005131128848346636,
          0.005131128848346636,
          0.004846066134549601,
          0.004846066134549601,
          0.004846066134549601,
          0.004846066134549601,
          0.004846066134549601,
          0.004846066134549601,
          0.004846066134549601,
          0.004561003420752566,
          0.004561003420752566,
          0.004561003420752566,
          0.004561003420752566,
          0.004561003420752566,
          0.004561003420752566,
          0.004561003420752566,
          0.004561003420752566,
          0.004561003420752566,
          0.00427594070695553,
          0.00427594070695553,
          0.00427594070695553,
          0.00427594070695553,
          0.00427594070695553,
          0.00427594070695553,
          0.00427594070695553,
          0.00427594070695553,
          0.00427594070695553,
          0.003990877993158495,
          0.003990877993158495,
          0.003990877993158495,
          0.003990877993158495,
          0.003990877993158495,
          0.003990877993158495,
          0.003990877993158495,
          0.003990877993158495,
          0.003990877993158495,
          0.003990877993158495,
          0.003990877993158495,
          0.003990877993158495,
          0.003990877993158495,
          0.003990877993158495,
          0.003990877993158495,
          0.003990877993158495,
          0.003990877993158495,
          0.003990877993158495,
          0.0037058152793614596,
          0.0037058152793614596,
          0.0037058152793614596,
          0.0037058152793614596,
          0.0037058152793614596,
          0.0037058152793614596,
          0.0037058152793614596,
          0.0037058152793614596,
          0.0037058152793614596,
          0.0037058152793614596,
          0.0034207525655644243,
          0.0034207525655644243,
          0.0034207525655644243,
          0.0034207525655644243,
          0.0034207525655644243,
          0.0034207525655644243,
          0.0034207525655644243,
          0.0034207525655644243,
          0.0034207525655644243,
          0.0034207525655644243,
          0.003135689851767389,
          0.003135689851767389,
          0.003135689851767389,
          0.003135689851767389,
          0.003135689851767389,
          0.003135689851767389,
          0.003135689851767389,
          0.003135689851767389,
          0.003135689851767389,
          0.003135689851767389,
          0.003135689851767389,
          0.003135689851767389,
          0.003135689851767389,
          0.003135689851767389,
          0.003135689851767389,
          0.003135689851767389,
          0.003135689851767389,
          0.003135689851767389,
          0.0028506271379703536,
          0.0028506271379703536,
          0.0028506271379703536,
          0.0028506271379703536,
          0.0028506271379703536,
          0.0028506271379703536,
          0.0028506271379703536,
          0.0028506271379703536,
          0.0028506271379703536,
          0.0028506271379703536,
          0.0028506271379703536,
          0.0028506271379703536,
          0.0028506271379703536,
          0.0028506271379703536,
          0.0028506271379703536,
          0.0028506271379703536,
          0.0028506271379703536,
          0.0028506271379703536,
          0.0028506271379703536,
          0.0028506271379703536,
          0.0028506271379703536,
          0.0028506271379703536,
          0.0028506271379703536,
          0.0028506271379703536,
          0.0028506271379703536,
          0.0028506271379703536,
          0.0028506271379703536,
          0.0028506271379703536,
          0.0028506271379703536,
          0.0028506271379703536,
          0.0028506271379703536,
          0.002565564424173318,
          0.002565564424173318,
          0.002565564424173318,
          0.002565564424173318,
          0.002565564424173318,
          0.002565564424173318,
          0.002565564424173318,
          0.002565564424173318,
          0.002565564424173318,
          0.002565564424173318,
          0.002565564424173318,
          0.002280501710376283,
          0.002280501710376283,
          0.002280501710376283,
          0.002280501710376283,
          0.002280501710376283,
          0.002280501710376283,
          0.002280501710376283,
          0.002280501710376283,
          0.002280501710376283,
          0.002280501710376283,
          0.002280501710376283,
          0.002280501710376283,
          0.002280501710376283,
          0.002280501710376283,
          0.002280501710376283,
          0.002280501710376283,
          0.002280501710376283,
          0.002280501710376283,
          0.0019954389965792475,
          0.0019954389965792475,
          0.0019954389965792475,
          0.0019954389965792475,
          0.0019954389965792475,
          0.0019954389965792475,
          0.0019954389965792475,
          0.0019954389965792475,
          0.0019954389965792475,
          0.0019954389965792475,
          0.0019954389965792475,
          0.0019954389965792475,
          0.0019954389965792475,
          0.0019954389965792475,
          0.0019954389965792475,
          0.0017103762827822121,
          0.0017103762827822121,
          0.0017103762827822121,
          0.0017103762827822121,
          0.0017103762827822121,
          0.0017103762827822121,
          0.0017103762827822121,
          0.0017103762827822121,
          0.0017103762827822121,
          0.0017103762827822121,
          0.0017103762827822121,
          0.0017103762827822121,
          0.0017103762827822121,
          0.0017103762827822121,
          0.0014253135689851768,
          0.0014253135689851768,
          0.0014253135689851768,
          0.0014253135689851768,
          0.0014253135689851768,
          0.0014253135689851768,
          0.0014253135689851768,
          0.0014253135689851768,
          0.0014253135689851768,
          0.0014253135689851768,
          0.0014253135689851768,
          0.0014253135689851768,
          0.0014253135689851768,
          0.0014253135689851768,
          0.0014253135689851768,
          0.0014253135689851768,
          0.0014253135689851768,
          0.0014253135689851768,
          0.0014253135689851768,
          0.0014253135689851768,
          0.0014253135689851768,
          0.0014253135689851768,
          0.0014253135689851768,
          0.0014253135689851768,
          0.0014253135689851768,
          0.0011402508551881414,
          0.0011402508551881414,
          0.0011402508551881414,
          0.0011402508551881414,
          0.0011402508551881414,
          0.0011402508551881414,
          0.0011402508551881414,
          0.0011402508551881414,
          0.0011402508551881414,
          0.0011402508551881414,
          0.0011402508551881414,
          0.0011402508551881414,
          0.0011402508551881414,
          0.0011402508551881414,
          0.0011402508551881414,
          0.0011402508551881414,
          0.0011402508551881414,
          0.0011402508551881414,
          0.0011402508551881414
         ],
         "yaxis": "y"
        }
       ],
       "layout": {
        "barmode": "relative",
        "coloraxis": {
         "colorbar": {
          "title": {
           "text": "len"
          }
         },
         "colorscale": [
          [
           0,
           "#0d0887"
          ],
          [
           0.1111111111111111,
           "#46039f"
          ],
          [
           0.2222222222222222,
           "#7201a8"
          ],
          [
           0.3333333333333333,
           "#9c179e"
          ],
          [
           0.4444444444444444,
           "#bd3786"
          ],
          [
           0.5555555555555556,
           "#d8576b"
          ],
          [
           0.6666666666666666,
           "#ed7953"
          ],
          [
           0.7777777777777778,
           "#fb9f3a"
          ],
          [
           0.8888888888888888,
           "#fdca26"
          ],
          [
           1,
           "#f0f921"
          ]
         ]
        },
        "legend": {
         "tracegroupgap": 0
        },
        "margin": {
         "t": 60
        },
        "template": {
         "data": {
          "bar": [
           {
            "error_x": {
             "color": "#2a3f5f"
            },
            "error_y": {
             "color": "#2a3f5f"
            },
            "marker": {
             "line": {
              "color": "#E5ECF6",
              "width": 0.5
             }
            },
            "type": "bar"
           }
          ],
          "barpolar": [
           {
            "marker": {
             "line": {
              "color": "#E5ECF6",
              "width": 0.5
             }
            },
            "type": "barpolar"
           }
          ],
          "carpet": [
           {
            "aaxis": {
             "endlinecolor": "#2a3f5f",
             "gridcolor": "white",
             "linecolor": "white",
             "minorgridcolor": "white",
             "startlinecolor": "#2a3f5f"
            },
            "baxis": {
             "endlinecolor": "#2a3f5f",
             "gridcolor": "white",
             "linecolor": "white",
             "minorgridcolor": "white",
             "startlinecolor": "#2a3f5f"
            },
            "type": "carpet"
           }
          ],
          "choropleth": [
           {
            "colorbar": {
             "outlinewidth": 0,
             "ticks": ""
            },
            "type": "choropleth"
           }
          ],
          "contour": [
           {
            "colorbar": {
             "outlinewidth": 0,
             "ticks": ""
            },
            "colorscale": [
             [
              0,
              "#0d0887"
             ],
             [
              0.1111111111111111,
              "#46039f"
             ],
             [
              0.2222222222222222,
              "#7201a8"
             ],
             [
              0.3333333333333333,
              "#9c179e"
             ],
             [
              0.4444444444444444,
              "#bd3786"
             ],
             [
              0.5555555555555556,
              "#d8576b"
             ],
             [
              0.6666666666666666,
              "#ed7953"
             ],
             [
              0.7777777777777778,
              "#fb9f3a"
             ],
             [
              0.8888888888888888,
              "#fdca26"
             ],
             [
              1,
              "#f0f921"
             ]
            ],
            "type": "contour"
           }
          ],
          "contourcarpet": [
           {
            "colorbar": {
             "outlinewidth": 0,
             "ticks": ""
            },
            "type": "contourcarpet"
           }
          ],
          "heatmap": [
           {
            "colorbar": {
             "outlinewidth": 0,
             "ticks": ""
            },
            "colorscale": [
             [
              0,
              "#0d0887"
             ],
             [
              0.1111111111111111,
              "#46039f"
             ],
             [
              0.2222222222222222,
              "#7201a8"
             ],
             [
              0.3333333333333333,
              "#9c179e"
             ],
             [
              0.4444444444444444,
              "#bd3786"
             ],
             [
              0.5555555555555556,
              "#d8576b"
             ],
             [
              0.6666666666666666,
              "#ed7953"
             ],
             [
              0.7777777777777778,
              "#fb9f3a"
             ],
             [
              0.8888888888888888,
              "#fdca26"
             ],
             [
              1,
              "#f0f921"
             ]
            ],
            "type": "heatmap"
           }
          ],
          "heatmapgl": [
           {
            "colorbar": {
             "outlinewidth": 0,
             "ticks": ""
            },
            "colorscale": [
             [
              0,
              "#0d0887"
             ],
             [
              0.1111111111111111,
              "#46039f"
             ],
             [
              0.2222222222222222,
              "#7201a8"
             ],
             [
              0.3333333333333333,
              "#9c179e"
             ],
             [
              0.4444444444444444,
              "#bd3786"
             ],
             [
              0.5555555555555556,
              "#d8576b"
             ],
             [
              0.6666666666666666,
              "#ed7953"
             ],
             [
              0.7777777777777778,
              "#fb9f3a"
             ],
             [
              0.8888888888888888,
              "#fdca26"
             ],
             [
              1,
              "#f0f921"
             ]
            ],
            "type": "heatmapgl"
           }
          ],
          "histogram": [
           {
            "marker": {
             "colorbar": {
              "outlinewidth": 0,
              "ticks": ""
             }
            },
            "type": "histogram"
           }
          ],
          "histogram2d": [
           {
            "colorbar": {
             "outlinewidth": 0,
             "ticks": ""
            },
            "colorscale": [
             [
              0,
              "#0d0887"
             ],
             [
              0.1111111111111111,
              "#46039f"
             ],
             [
              0.2222222222222222,
              "#7201a8"
             ],
             [
              0.3333333333333333,
              "#9c179e"
             ],
             [
              0.4444444444444444,
              "#bd3786"
             ],
             [
              0.5555555555555556,
              "#d8576b"
             ],
             [
              0.6666666666666666,
              "#ed7953"
             ],
             [
              0.7777777777777778,
              "#fb9f3a"
             ],
             [
              0.8888888888888888,
              "#fdca26"
             ],
             [
              1,
              "#f0f921"
             ]
            ],
            "type": "histogram2d"
           }
          ],
          "histogram2dcontour": [
           {
            "colorbar": {
             "outlinewidth": 0,
             "ticks": ""
            },
            "colorscale": [
             [
              0,
              "#0d0887"
             ],
             [
              0.1111111111111111,
              "#46039f"
             ],
             [
              0.2222222222222222,
              "#7201a8"
             ],
             [
              0.3333333333333333,
              "#9c179e"
             ],
             [
              0.4444444444444444,
              "#bd3786"
             ],
             [
              0.5555555555555556,
              "#d8576b"
             ],
             [
              0.6666666666666666,
              "#ed7953"
             ],
             [
              0.7777777777777778,
              "#fb9f3a"
             ],
             [
              0.8888888888888888,
              "#fdca26"
             ],
             [
              1,
              "#f0f921"
             ]
            ],
            "type": "histogram2dcontour"
           }
          ],
          "mesh3d": [
           {
            "colorbar": {
             "outlinewidth": 0,
             "ticks": ""
            },
            "type": "mesh3d"
           }
          ],
          "parcoords": [
           {
            "line": {
             "colorbar": {
              "outlinewidth": 0,
              "ticks": ""
             }
            },
            "type": "parcoords"
           }
          ],
          "pie": [
           {
            "automargin": true,
            "type": "pie"
           }
          ],
          "scatter": [
           {
            "marker": {
             "colorbar": {
              "outlinewidth": 0,
              "ticks": ""
             }
            },
            "type": "scatter"
           }
          ],
          "scatter3d": [
           {
            "line": {
             "colorbar": {
              "outlinewidth": 0,
              "ticks": ""
             }
            },
            "marker": {
             "colorbar": {
              "outlinewidth": 0,
              "ticks": ""
             }
            },
            "type": "scatter3d"
           }
          ],
          "scattercarpet": [
           {
            "marker": {
             "colorbar": {
              "outlinewidth": 0,
              "ticks": ""
             }
            },
            "type": "scattercarpet"
           }
          ],
          "scattergeo": [
           {
            "marker": {
             "colorbar": {
              "outlinewidth": 0,
              "ticks": ""
             }
            },
            "type": "scattergeo"
           }
          ],
          "scattergl": [
           {
            "marker": {
             "colorbar": {
              "outlinewidth": 0,
              "ticks": ""
             }
            },
            "type": "scattergl"
           }
          ],
          "scattermapbox": [
           {
            "marker": {
             "colorbar": {
              "outlinewidth": 0,
              "ticks": ""
             }
            },
            "type": "scattermapbox"
           }
          ],
          "scatterpolar": [
           {
            "marker": {
             "colorbar": {
              "outlinewidth": 0,
              "ticks": ""
             }
            },
            "type": "scatterpolar"
           }
          ],
          "scatterpolargl": [
           {
            "marker": {
             "colorbar": {
              "outlinewidth": 0,
              "ticks": ""
             }
            },
            "type": "scatterpolargl"
           }
          ],
          "scatterternary": [
           {
            "marker": {
             "colorbar": {
              "outlinewidth": 0,
              "ticks": ""
             }
            },
            "type": "scatterternary"
           }
          ],
          "surface": [
           {
            "colorbar": {
             "outlinewidth": 0,
             "ticks": ""
            },
            "colorscale": [
             [
              0,
              "#0d0887"
             ],
             [
              0.1111111111111111,
              "#46039f"
             ],
             [
              0.2222222222222222,
              "#7201a8"
             ],
             [
              0.3333333333333333,
              "#9c179e"
             ],
             [
              0.4444444444444444,
              "#bd3786"
             ],
             [
              0.5555555555555556,
              "#d8576b"
             ],
             [
              0.6666666666666666,
              "#ed7953"
             ],
             [
              0.7777777777777778,
              "#fb9f3a"
             ],
             [
              0.8888888888888888,
              "#fdca26"
             ],
             [
              1,
              "#f0f921"
             ]
            ],
            "type": "surface"
           }
          ],
          "table": [
           {
            "cells": {
             "fill": {
              "color": "#EBF0F8"
             },
             "line": {
              "color": "white"
             }
            },
            "header": {
             "fill": {
              "color": "#C8D4E3"
             },
             "line": {
              "color": "white"
             }
            },
            "type": "table"
           }
          ]
         },
         "layout": {
          "annotationdefaults": {
           "arrowcolor": "#2a3f5f",
           "arrowhead": 0,
           "arrowwidth": 1
          },
          "coloraxis": {
           "colorbar": {
            "outlinewidth": 0,
            "ticks": ""
           }
          },
          "colorscale": {
           "diverging": [
            [
             0,
             "#8e0152"
            ],
            [
             0.1,
             "#c51b7d"
            ],
            [
             0.2,
             "#de77ae"
            ],
            [
             0.3,
             "#f1b6da"
            ],
            [
             0.4,
             "#fde0ef"
            ],
            [
             0.5,
             "#f7f7f7"
            ],
            [
             0.6,
             "#e6f5d0"
            ],
            [
             0.7,
             "#b8e186"
            ],
            [
             0.8,
             "#7fbc41"
            ],
            [
             0.9,
             "#4d9221"
            ],
            [
             1,
             "#276419"
            ]
           ],
           "sequential": [
            [
             0,
             "#0d0887"
            ],
            [
             0.1111111111111111,
             "#46039f"
            ],
            [
             0.2222222222222222,
             "#7201a8"
            ],
            [
             0.3333333333333333,
             "#9c179e"
            ],
            [
             0.4444444444444444,
             "#bd3786"
            ],
            [
             0.5555555555555556,
             "#d8576b"
            ],
            [
             0.6666666666666666,
             "#ed7953"
            ],
            [
             0.7777777777777778,
             "#fb9f3a"
            ],
            [
             0.8888888888888888,
             "#fdca26"
            ],
            [
             1,
             "#f0f921"
            ]
           ],
           "sequentialminus": [
            [
             0,
             "#0d0887"
            ],
            [
             0.1111111111111111,
             "#46039f"
            ],
            [
             0.2222222222222222,
             "#7201a8"
            ],
            [
             0.3333333333333333,
             "#9c179e"
            ],
            [
             0.4444444444444444,
             "#bd3786"
            ],
            [
             0.5555555555555556,
             "#d8576b"
            ],
            [
             0.6666666666666666,
             "#ed7953"
            ],
            [
             0.7777777777777778,
             "#fb9f3a"
            ],
            [
             0.8888888888888888,
             "#fdca26"
            ],
            [
             1,
             "#f0f921"
            ]
           ]
          },
          "colorway": [
           "#636efa",
           "#EF553B",
           "#00cc96",
           "#ab63fa",
           "#FFA15A",
           "#19d3f3",
           "#FF6692",
           "#B6E880",
           "#FF97FF",
           "#FECB52"
          ],
          "font": {
           "color": "#2a3f5f"
          },
          "geo": {
           "bgcolor": "white",
           "lakecolor": "white",
           "landcolor": "#E5ECF6",
           "showlakes": true,
           "showland": true,
           "subunitcolor": "white"
          },
          "hoverlabel": {
           "align": "left"
          },
          "hovermode": "closest",
          "mapbox": {
           "style": "light"
          },
          "paper_bgcolor": "white",
          "plot_bgcolor": "#E5ECF6",
          "polar": {
           "angularaxis": {
            "gridcolor": "white",
            "linecolor": "white",
            "ticks": ""
           },
           "bgcolor": "#E5ECF6",
           "radialaxis": {
            "gridcolor": "white",
            "linecolor": "white",
            "ticks": ""
           }
          },
          "scene": {
           "xaxis": {
            "backgroundcolor": "#E5ECF6",
            "gridcolor": "white",
            "gridwidth": 2,
            "linecolor": "white",
            "showbackground": true,
            "ticks": "",
            "zerolinecolor": "white"
           },
           "yaxis": {
            "backgroundcolor": "#E5ECF6",
            "gridcolor": "white",
            "gridwidth": 2,
            "linecolor": "white",
            "showbackground": true,
            "ticks": "",
            "zerolinecolor": "white"
           },
           "zaxis": {
            "backgroundcolor": "#E5ECF6",
            "gridcolor": "white",
            "gridwidth": 2,
            "linecolor": "white",
            "showbackground": true,
            "ticks": "",
            "zerolinecolor": "white"
           }
          },
          "shapedefaults": {
           "line": {
            "color": "#2a3f5f"
           }
          },
          "ternary": {
           "aaxis": {
            "gridcolor": "white",
            "linecolor": "white",
            "ticks": ""
           },
           "baxis": {
            "gridcolor": "white",
            "linecolor": "white",
            "ticks": ""
           },
           "bgcolor": "#E5ECF6",
           "caxis": {
            "gridcolor": "white",
            "linecolor": "white",
            "ticks": ""
           }
          },
          "title": {
           "x": 0.05
          },
          "xaxis": {
           "automargin": true,
           "gridcolor": "white",
           "linecolor": "white",
           "ticks": "",
           "title": {
            "standoff": 15
           },
           "zerolinecolor": "white",
           "zerolinewidth": 2
          },
          "yaxis": {
           "automargin": true,
           "gridcolor": "white",
           "linecolor": "white",
           "ticks": "",
           "title": {
            "standoff": 15
           },
           "zerolinecolor": "white",
           "zerolinewidth": 2
          }
         }
        },
        "xaxis": {
         "anchor": "y",
         "categoryorder": "total ascending",
         "domain": [
          0,
          1
         ],
         "title": {
          "text": "_index"
         }
        },
        "yaxis": {
         "anchor": "x",
         "domain": [
          0,
          1
         ],
         "title": {
          "text": "support"
         }
        }
       }
      },
      "text/html": [
       "<div>\n",
       "        \n",
       "        \n",
       "            <div id=\"661ebbb0-e4f0-40e7-9b5e-b2dce3743682\" class=\"plotly-graph-div\" style=\"height:525px; width:100%;\"></div>\n",
       "            <script type=\"text/javascript\">\n",
       "                require([\"plotly\"], function(Plotly) {\n",
       "                    window.PLOTLYENV=window.PLOTLYENV || {};\n",
       "                    \n",
       "                if (document.getElementById(\"661ebbb0-e4f0-40e7-9b5e-b2dce3743682\")) {\n",
       "                    Plotly.newPlot(\n",
       "                        '661ebbb0-e4f0-40e7-9b5e-b2dce3743682',\n",
       "                        [{\"alignmentgroup\": \"True\", \"customdata\": [[[\"DayofWeek_1.0\", \"New_District_Western\", \"Period_Late Night\"]], [[\"New_District_Western\", \"Period_Late Night\", \"DayofWeek_2.0\"]], [[\"New_District_Eastern\", \"Period_Noon\", \"DayofWeek_5.0\"]], [[\"New_District_Western\", \"Period_Noon\", \"DayofWeek_5.0\"]], [[\"New_District_Western\", \"Period_Noon\", \"DayofWeek_2.0\"]], [[\"New_District_Western\", \"Period_Late Night\", \"DayofWeek_3.0\"]], [[\"New_District_Western\", \"Period_Noon\", \"DayofWeek_3.0\"]], [[\"DayofWeek_1.0\", \"New_District_Eastern\", \"Period_Morning\"]], [[\"DayofWeek_1.0\", \"New_District_Western\", \"Period_Morning\"]], [[\"New_District_Western\", \"DayofWeek_4.0\", \"Period_Morning\"]], [[\"New_District_Western\", \"Period_Night\", \"DayofWeek_0.0\"]], [[\"New_District_Western\", \"DayofWeek_4.0\", \"Period_Night\"]], [[\"Period_Night\", \"New_District_Southwestern\", \"DayofWeek_0.0\"]], [[\"New_District_Western\", \"Period_Night\", \"DayofWeek_6.0\"]], [[\"DayofWeek_1.0\", \"Period_Night\", \"New_District_Northeastern\"]], [[\"Period_Night\", \"New_District_Eastern\", \"DayofWeek_5.0\"]], [[\"Period_Night\", \"New_District_Southwestern\", \"DayofWeek_2.0\"]], [[\"DayofWeek_1.0\", \"New_District_Western\", \"Period_Night\"]], [[\"New_District_Northeastern\", \"Period_Night\", \"DayofWeek_0.0\"]], [[\"Period_Night\", \"New_District_Southwestern\", \"DayofWeek_4.0\"]], [[\"Period_Night\", \"New_District_Southern\", \"DayofWeek_5.0\"]], [[\"DayofWeek_1.0\", \"Period_Night\", \"New_District_Northwestern\"]], [[\"DayofWeek_1.0\", \"New_District_Western\", \"Period_Evening\"]], [[\"New_District_Western\", \"Period_Evening\", \"DayofWeek_6.0\"]], [[\"Period_Night\", \"New_District_Eastern\", \"DayofWeek_0.0\"]], [[\"New_District_Western\", \"Period_Early Morning\", \"DayofWeek_5.0\"]], [[\"DayofWeek_1.0\", \"New_District_Southwestern\", \"Period_Evening\"]], [[\"New_District_Northeastern\", \"Period_Night\", \"DayofWeek_2.0\"]], [[\"Period_Night\", \"New_District_Southwestern\", \"DayofWeek_5.0\"]], [[\"DayofWeek_1.0\", \"Period_Night\", \"New_District_Southwestern\"]], [[\"Period_Night\", \"New_District_Eastern\", \"DayofWeek_4.0\"]], [[\"DayofWeek_1.0\", \"Period_Night\", \"New_District_Eastern\"]], [[\"Period_Night\", \"New_District_Southwestern\", \"DayofWeek_3.0\"]], [[\"New_District_Southwestern\", \"Period_Evening\", \"DayofWeek_0.0\"]], [[\"New_District_Northeastern\", \"Period_Night\", \"DayofWeek_3.0\"]], [[\"New_District_Eastern\", \"Period_Evening\", \"DayofWeek_2.0\"]], [[\"New_District_Western\", \"Period_Evening\", \"DayofWeek_0.0\"]], [[\"Period_Night\", \"DayofWeek_2.0\", \"New_District_Northwestern\"]], [[\"New_District_Western\", \"DayofWeek_2.0\", \"Period_Night\"]], [[\"New_District_Eastern\", \"Period_Evening\", \"DayofWeek_4.0\"]], [[\"DayofWeek_1.0\", \"Period_Night\", \"New_District_Southern\"]], [[\"Period_Night\", \"New_District_Eastern\", \"DayofWeek_2.0\"]], [[\"Period_Night\", \"New_District_Northwestern\", \"DayofWeek_0.0\"]], [[\"Period_Early Morning\", \"New_District_Southern\", \"DayofWeek_5.0\"]], [[\"DayofWeek_6.0\", \"Period_Evening\", \"New_District_Northwestern\"]], [[\"New_District_Western\", \"Period_Early Morning\", \"DayofWeek_4.0\"]], [[\"DayofWeek_3.0\", \"New_District_Western\", \"Period_Night\"]], [[\"New_District_Eastern\", \"Period_Late Night\", \"DayofWeek_0.0\"]], [[\"New_District_Western\", \"Period_Night\", \"DayofWeek_5.0\"]], [[\"Period_Night\", \"DayofWeek_4.0\", \"New_District_Southern\"]], [[\"New_District_Southwestern\", \"Period_Evening\", \"DayofWeek_4.0\"]], [[\"Period_Night\", \"New_District_Southern\", \"DayofWeek_0.0\"]], [[\"Period_Evening\", \"New_District_Southern\", \"DayofWeek_0.0\"]], [[\"New_District_Eastern\", \"Period_Late Night\", \"DayofWeek_5.0\"]], [[\"Period_Late Night\", \"New_District_Southern\", \"DayofWeek_5.0\"]], [[\"Period_Night\", \"DayofWeek_4.0\", \"New_District_Northern\"]], [[\"New_District_Southwestern\", \"Period_Evening\", \"DayofWeek_6.0\"]], [[\"New_District_Western\", \"Period_Evening\", \"DayofWeek_2.0\"]], [[\"Period_Night\", \"DayofWeek_5.0\", \"New_District_Northwestern\"]], [[\"DayofWeek_1.0\", \"New_District_Eastern\", \"Period_Late Night\"]], [[\"Period_Night\", \"New_District_Eastern\", \"DayofWeek_3.0\"]], [[\"DayofWeek_1.0\", \"New_District_Western\", \"Period_Noon\"]], [[\"Period_Night\", \"DayofWeek_4.0\", \"New_District_Northwestern\"]], [[\"New_District_Southwestern\", \"Period_Evening\", \"DayofWeek_5.0\"]], [[\"New_District_Northeastern\", \"Period_Evening\", \"DayofWeek_5.0\"]], [[\"Period_Night\", \"New_District_Eastern\", \"DayofWeek_6.0\"]], [[\"New_District_Northeastern\", \"Period_Night\", \"DayofWeek_6.0\"]], [[\"New_District_Western\", \"Period_Evening\", \"DayofWeek_3.0\"]], [[\"New_District_Western\", \"Period_Evening\", \"DayofWeek_5.0\"]], [[\"Period_Evening\", \"DayofWeek_4.0\", \"New_District_Southern\"]], [[\"Period_Evening\", \"New_District_Northwestern\", \"DayofWeek_2.0\"]], [[\"New_District_Southwestern\", \"Period_Noon\", \"DayofWeek_2.0\"]], [[\"Period_Night\", \"DayofWeek_3.0\", \"New_District_Northwestern\"]], [[\"DayofWeek_6.0\", \"Period_Late Night\", \"New_District_Southeastern\"]], [[\"New_District_Eastern\", \"Period_Evening\", \"DayofWeek_6.0\"]], [[\"New_District_Southwestern\", \"Period_Late Night\", \"DayofWeek_6.0\"]], [[\"New_District_Western\", \"Period_Evening\", \"DayofWeek_4.0\"]], [[\"DayofWeek_1.0\", \"Period_Evening\", \"New_District_Northeastern\"]], [[\"New_District_Northeastern\", \"Period_Early Morning\", \"DayofWeek_0.0\"]], [[\"New_District_Eastern\", \"Period_Evening\", \"DayofWeek_5.0\"]], [[\"New_District_Northeastern\", \"Period_Late Night\", \"DayofWeek_5.0\"]], [[\"Period_Night\", \"New_District_Southern\", \"DayofWeek_3.0\"]], [[\"Period_Early Morning\", \"New_District_Southern\", \"DayofWeek_0.0\"]], [[\"New_District_Eastern\", \"Period_Early Morning\", \"DayofWeek_6.0\"]], [[\"Period_Late Night\", \"New_District_Southern\", \"DayofWeek_6.0\"]], [[\"New_District_Western\", \"Period_Early Morning\", \"DayofWeek_3.0\"]], [[\"DayofWeek_5.0\", \"Period_Late Night\", \"New_District_Northern\"]], [[\"New_District_Southwestern\", \"Period_Late Night\", \"DayofWeek_5.0\"]], [[\"Period_Night\", \"DayofWeek_5.0\", \"New_District_Southeastern\"]], [[\"DayofWeek_1.0\", \"Period_Night\", \"New_District_Northern\"]], [[\"Period_Night\", \"New_District_Southeastern\", \"DayofWeek_0.0\"]], [[\"New_District_Central\", \"Period_Late Night\", \"DayofWeek_6.0\"]], [[\"New_District_Eastern\", \"Period_Evening\", \"DayofWeek_0.0\"]], [[\"New_District_Northeastern\", \"Period_Evening\", \"DayofWeek_2.0\"]], [[\"DayofWeek_6.0\", \"Period_Late Night\", \"New_District_Northwestern\"]], [[\"Period_Early Morning\", \"DayofWeek_2.0\", \"New_District_Northern\"]], [[\"New_District_Western\", \"Period_Late Night\", \"DayofWeek_0.0\"]], [[\"Period_Night\", \"DayofWeek_2.0\", \"New_District_Southern\"]], [[\"Period_Late Night\", \"New_District_Southern\", \"DayofWeek_3.0\"]], [[\"New_District_Western\", \"Period_Late Night\", \"DayofWeek_5.0\"]], [[\"Period_Night\", \"New_District_Southern\", \"DayofWeek_6.0\"]], [[\"Period_Night\", \"New_District_Southwestern\", \"DayofWeek_6.0\"]], [[\"New_District_Eastern\", \"Period_Noon\", \"DayofWeek_6.0\"]], [[\"New_District_Western\", \"Period_Noon\", \"DayofWeek_4.0\"]], [[\"New_District_Western\", \"Period_Late Night\", \"DayofWeek_6.0\"]], [[\"New_District_Northeastern\", \"Period_Night\", \"DayofWeek_5.0\"]], [[\"New_District_Northeastern\", \"Period_Late Night\", \"DayofWeek_4.0\"]], [[\"New_District_Northeastern\", \"Period_Night\", \"DayofWeek_4.0\"]], [[\"New_District_Northeastern\", \"Period_Late Night\", \"DayofWeek_2.0\"]], [[\"New_District_Northeastern\", \"Period_Evening\", \"DayofWeek_3.0\"]], [[\"Period_Night\", \"New_District_Central\", \"DayofWeek_4.0\"]], [[\"New_District_Southwestern\", \"Period_Noon\", \"DayofWeek_0.0\"]], [[\"New_District_Northeastern\", \"Period_Evening\", \"DayofWeek_0.0\"]], [[\"New_District_Southwestern\", \"Period_Evening\", \"DayofWeek_3.0\"]], [[\"New_District_Eastern\", \"DayofWeek_4.0\", \"Period_Noon\"]], [[\"DayofWeek_1.0\", \"New_District_Eastern\", \"Period_Evening\"]], [[\"New_District_Eastern\", \"DayofWeek_2.0\", \"Period_Noon\"]], [[\"New_District_Southwestern\", \"Period_Evening\", \"DayofWeek_2.0\"]], [[\"DayofWeek_1.0\", \"Period_Evening\", \"New_District_Northwestern\"]], [[\"New_District_Central\", \"Period_Evening\", \"DayofWeek_0.0\"]], [[\"New_District_Central\", \"Period_Evening\", \"DayofWeek_6.0\"]], [[\"Period_Late Night\", \"DayofWeek_2.0\", \"New_District_Southeastern\"]], [[\"Period_Noon\", \"New_District_Southern\", \"DayofWeek_0.0\"]], [[\"New_District_Southwestern\", \"Period_Noon\", \"DayofWeek_5.0\"]], [[\"DayofWeek_1.0\", \"Period_Early Morning\", \"New_District_Northwestern\"]], [[\"Period_Late Night\", \"DayofWeek_2.0\", \"New_District_Northwestern\"]], [[\"Period_Noon\", \"DayofWeek_4.0\", \"New_District_Southern\"]], [[\"New_District_Eastern\", \"Period_Late Night\", \"DayofWeek_6.0\"]], [[\"Period_Night\", \"DayofWeek_4.0\", \"New_District_Southeastern\"]], [[\"New_District_Northeastern\", \"Period_Late Night\", \"DayofWeek_0.0\"]], [[\"New_District_Southwestern\", \"Period_Noon\", \"DayofWeek_3.0\"]], [[\"New_District_Northeastern\", \"Period_Late Night\", \"DayofWeek_6.0\"]], [[\"DayofWeek_0.0\", \"Period_Evening\", \"New_District_Northern\"]], [[\"Period_Night\", \"DayofWeek_2.0\", \"New_District_Northern\"]], [[\"DayofWeek_1.0\", \"Period_Late Night\", \"New_District_Southern\"]], [[\"DayofWeek_1.0\", \"New_District_Central\", \"Period_Evening\"]], [[\"New_District_Northern\", \"Period_Late Night\", \"DayofWeek_0.0\"]], [[\"New_District_Southwestern\", \"Period_Noon\", \"DayofWeek_4.0\"]], [[\"New_District_Eastern\", \"Period_Late Night\", \"DayofWeek_4.0\"]], [[\"New_District_Southwestern\", \"Period_Noon\", \"DayofWeek_6.0\"]], [[\"Period_Night\", \"New_District_Central\", \"DayofWeek_2.0\"]], [[\"Period_Night\", \"New_District_Central\", \"DayofWeek_0.0\"]], [[\"New_District_Southwestern\", \"Period_Late Night\", \"DayofWeek_4.0\"]], [[\"Period_Late Night\", \"New_District_Southern\", \"DayofWeek_0.0\"]], [[\"New_District_Eastern\", \"Period_Evening\", \"DayofWeek_3.0\"]], [[\"DayofWeek_1.0\", \"Period_Noon\", \"New_District_Northeastern\"]], [[\"DayofWeek_1.0\", \"Period_Late Night\", \"New_District_Southeastern\"]], [[\"Period_Night\", \"DayofWeek_6.0\", \"New_District_Northwestern\"]], [[\"Period_Night\", \"DayofWeek_3.0\", \"New_District_Southeastern\"]], [[\"New_District_Northeastern\", \"Period_Evening\", \"DayofWeek_6.0\"]], [[\"DayofWeek_5.0\", \"Period_Evening\", \"New_District_Northwestern\"]], [[\"DayofWeek_5.0\", \"Period_Noon\", \"New_District_Northwestern\"]], [[\"Period_Night\", \"DayofWeek_3.0\", \"New_District_Northern\"]], [[\"New_District_Northeastern\", \"Period_Noon\", \"DayofWeek_4.0\"]], [[\"Period_Night\", \"DayofWeek_6.0\", \"New_District_Northern\"]], [[\"Period_Night\", \"DayofWeek_2.0\", \"New_District_Southeastern\"]], [[\"DayofWeek_5.0\", \"Period_Late Night\", \"New_District_Southeastern\"]], [[\"New_District_Northeastern\", \"Period_Late Night\", \"DayofWeek_1.0\"]], [[\"Period_Late Night\", \"DayofWeek_3.0\", \"New_District_Northwestern\"]], [[\"New_District_Northeastern\", \"Period_Late Night\", \"DayofWeek_3.0\"]], [[\"Period_Evening\", \"DayofWeek_3.0\", \"New_District_Northwestern\"]], [[\"DayofWeek_2.0\", \"Period_Evening\", \"New_District_Northern\"]], [[\"Period_Late Night\", \"DayofWeek_4.0\", \"New_District_Northwestern\"]], [[\"DayofWeek_0.0\", \"Period_Evening\", \"New_District_Northwestern\"]], [[\"Period_Noon\", \"DayofWeek_3.0\", \"New_District_Northwestern\"]], [[\"New_District_Central\", \"Period_Late Night\", \"DayofWeek_5.0\"]], [[\"New_District_Eastern\", \"Period_Late Night\", \"DayofWeek_2.0\"]], [[\"DayofWeek_1.0\", \"Period_Late Night\", \"New_District_Northwestern\"]], [[\"New_District_Central\", \"Period_Late Night\", \"DayofWeek_0.0\"]], [[\"Period_Night\", \"New_District_Central\", \"DayofWeek_5.0\"]], [[\"DayofWeek_5.0\", \"Period_Evening\", \"New_District_Southeastern\"]], [[\"Period_Noon\", \"DayofWeek_2.0\", \"New_District_Southern\"]], [[\"DayofWeek_3.0\", \"Period_Morning\", \"New_District_Northern\"]], [[\"Period_Noon\", \"New_District_Eastern\", \"DayofWeek_0.0\"]], [[\"New_District_Western\", \"Period_Noon\", \"DayofWeek_0.0\"]], [[\"DayofWeek_1.0\", \"New_District_Southwestern\", \"Period_Noon\"]], [[\"DayofWeek_1.0\", \"New_District_Eastern\", \"Period_Noon\"]], [[\"New_District_Central\", \"Period_Evening\", \"DayofWeek_4.0\"]], [[\"New_District_Western\", \"DayofWeek_2.0\", \"Period_Morning\"]], [[\"DayofWeek_6.0\", \"Period_Noon\", \"New_District_Northwestern\"]], [[\"DayofWeek_1.0\", \"Period_Late Night\", \"New_District_Northern\"]], [[\"New_District_Southwestern\", \"Period_Late Night\", \"DayofWeek_0.0\"]], [[\"New_District_Western\", \"Period_Noon\", \"DayofWeek_6.0\"]], [[\"DayofWeek_5.0\", \"Period_Evening\", \"New_District_Northern\"]], [[\"Period_Night\", \"DayofWeek_5.0\", \"New_District_Northern\"]], [[\"New_District_Southeastern\", \"Period_Late Night\", \"DayofWeek_0.0\"]], [[\"Period_Early Morning\", \"New_District_Southeastern\"]], [[\"Period_Evening\", \"New_District_Southern\", \"DayofWeek_5.0\"]], [[\"Period_Noon\", \"New_District_Southern\", \"DayofWeek_6.0\"]], [[\"New_District_Northeastern\", \"Period_Noon\", \"DayofWeek_6.0\"]], [[\"DayofWeek_1.0\", \"Period_Evening\", \"New_District_Southern\"]], [[\"New_District_Central\", \"Period_Late Night\", \"DayofWeek_3.0\"]], [[\"Period_Evening\", \"New_District_Southern\", \"DayofWeek_2.0\"]], [[\"New_District_Northeastern\", \"Period_Noon\", \"DayofWeek_0.0\"]], [[\"Period_Noon\", \"DayofWeek_2.0\", \"New_District_Northwestern\"]], [[\"New_District_Eastern\", \"Period_Morning\", \"DayofWeek_0.0\"]], [[\"Period_Evening\", \"New_District_Southern\", \"DayofWeek_3.0\"]], [[\"Period_Evening\", \"New_District_Southern\", \"DayofWeek_6.0\"]], [[\"New_District_Central\", \"Period_Noon\", \"DayofWeek_5.0\"]], [[\"Period_Noon\", \"New_District_Northwestern\", \"DayofWeek_0.0\"]], [[\"Period_Noon\", \"New_District_Eastern\", \"DayofWeek_3.0\"]], [[\"New_District_Eastern\", \"Period_Late Night\", \"DayofWeek_3.0\"]], [[\"New_District_Central\", \"Period_Evening\", \"DayofWeek_2.0\"]], [[\"Period_Night\", \"New_District_Northern\", \"DayofWeek_0.0\"]], [[\"DayofWeek_3.0\", \"New_District_Eastern\", \"Period_Morning\"]], [[\"Period_Late Night\", \"DayofWeek_4.0\", \"New_District_Southern\"]], [[\"New_District_Southwestern\", \"Period_Early Morning\", \"DayofWeek_5.0\"]], [[\"Period_Evening\", \"DayofWeek_4.0\", \"New_District_Northern\"]], [[\"Period_Night\", \"New_District_Central\", \"DayofWeek_6.0\"]], [[\"DayofWeek_1.0\", \"Period_Noon\", \"New_District_Southern\"]], [[\"DayofWeek_6.0\", \"Period_Evening\", \"New_District_Southeastern\"]], [[\"New_District_Eastern\", \"Period_Morning\", \"DayofWeek_6.0\"]], [[\"DayofWeek_1.0\", \"Period_Night\", \"New_District_Central\"]], [[\"Period_Noon\", \"New_District_Southern\", \"DayofWeek_3.0\"]], [[\"Period_Late Night\", \"DayofWeek_2.0\", \"New_District_Northern\"]], [[\"New_District_Central\", \"Period_Late Night\", \"DayofWeek_4.0\"]], [[\"DayofWeek_6.0\", \"Period_Late Night\", \"New_District_Northern\"]], [[\"New_District_Northeastern\", \"Period_Noon\", \"DayofWeek_5.0\"]], [[\"Period_Evening\", \"DayofWeek_4.0\", \"New_District_Northwestern\"]], [[\"DayofWeek_1.0\", \"Period_Night\", \"New_District_Southeastern\"]], [[\"DayofWeek_5.0\", \"Period_Late Night\", \"New_District_Northwestern\"]], [[\"Period_Evening\", \"DayofWeek_3.0\", \"New_District_Northern\"]], [[\"DayofWeek_1.0\", \"Period_Noon\", \"New_District_Northwestern\"]], [[\"Period_Night\", \"New_District_Central\", \"DayofWeek_3.0\"]], [[\"Period_Noon\", \"DayofWeek_4.0\", \"New_District_Northwestern\"]], [[\"New_District_Southeastern\", \"Period_Evening\", \"DayofWeek_2.0\"]], [[\"DayofWeek_1.0\", \"Period_Evening\", \"New_District_Southeastern\"]], [[\"DayofWeek_0.0\", \"Period_Evening\", \"New_District_Southeastern\"]], [[\"DayofWeek_1.0\", \"New_District_Northeastern\", \"Period_Morning\"]], [[\"Period_Evening\", \"DayofWeek_3.0\", \"New_District_Southeastern\"]], [[\"DayofWeek_5.0\", \"Period_Morning\", \"New_District_Northwestern\"]], [[\"New_District_Eastern\", \"Period_Morning\", \"DayofWeek_5.0\"]], [[\"DayofWeek_1.0\", \"Period_Noon\", \"New_District_Southeastern\"]], [[\"DayofWeek_1.0\", \"New_District_Southwestern\", \"Period_Late Night\"]], [[\"New_District_Southwestern\", \"Period_Morning\", \"DayofWeek_6.0\"]], [[\"New_District_Western\", \"Period_Morning\", \"DayofWeek_6.0\"]], [[\"DayofWeek_6.0\", \"Period_Morning\", \"New_District_Northwestern\"]], [[\"New_District_Southwestern\", \"Period_Late Night\", \"DayofWeek_2.0\"]], [[\"New_District_Central\", \"Period_Late Night\", \"DayofWeek_2.0\"]], [[\"DayofWeek_1.0\", \"Period_Morning\", \"New_District_Northwestern\"]], [[\"New_District_Central\", \"Period_Evening\", \"DayofWeek_3.0\"]], [[\"DayofWeek_6.0\", \"Period_Evening\", \"New_District_Northern\"]], [[\"New_District_Northeastern\", \"Period_Evening\", \"DayofWeek_4.0\"]], [[\"New_District_Northeastern\", \"Period_Noon\", \"DayofWeek_3.0\"]], [[\"Period_Evening\", \"DayofWeek_4.0\", \"New_District_Southeastern\"]], [[\"New_District_Northeastern\", \"Period_Noon\", \"DayofWeek_2.0\"]], [[\"DayofWeek_3.0\", \"New_District_Southwestern\", \"Period_Morning\"]], [[\"Period_Night\", \"DayofWeek_6.0\", \"New_District_Southeastern\"]], [[\"New_District_Western\", \"Period_Morning\", \"DayofWeek_0.0\"]], [[\"New_District_Central\", \"Period_Evening\", \"DayofWeek_5.0\"]], [[\"Period_Late Night\", \"DayofWeek_4.0\", \"New_District_Northern\"]], [[\"New_District_Central\", \"Period_Early Morning\", \"DayofWeek_4.0\"]], [[\"DayofWeek_1.0\", \"New_District_Southwestern\", \"Period_Morning\"]], [[\"DayofWeek_2.0\", \"Period_Morning\", \"New_District_Northwestern\"]], [[\"New_District_Southwestern\", \"Period_Morning\", \"DayofWeek_0.0\"]], [[\"Period_Noon\", \"New_District_Southern\", \"DayofWeek_5.0\"]], [[\"DayofWeek_4.0\", \"New_District_Southern\", \"Period_Morning\"]], [[\"DayofWeek_1.0\", \"Period_Evening\", \"New_District_Northern\"]], [[\"New_District_Southwestern\", \"Period_Early Morning\", \"DayofWeek_6.0\"]], [[\"New_District_Northwestern\", \"Period_Morning\", \"DayofWeek_0.0\"]], [[\"New_District_Northeastern\", \"Period_Morning\", \"DayofWeek_0.0\"]], [[\"DayofWeek_4.0\", \"Period_Morning\", \"New_District_Northwestern\"]], [[\"New_District_Central\", \"DayofWeek_4.0\", \"Period_Morning\"]], [[\"DayofWeek_2.0\", \"Period_Morning\", \"New_District_Southeastern\"]], [[\"DayofWeek_1.0\", \"New_District_Central\", \"Period_Noon\"]], [[\"Period_Noon\", \"DayofWeek_3.0\", \"New_District_Southeastern\"]], [[\"New_District_Central\", \"Period_Early Morning\", \"DayofWeek_6.0\"]], [[\"Period_Late Night\", \"DayofWeek_3.0\", \"New_District_Southeastern\"]], [[\"DayofWeek_6.0\", \"Period_Morning\", \"New_District_Southeastern\"]], [[\"New_District_Southwestern\", \"DayofWeek_4.0\", \"Period_Morning\"]], [[\"New_District_Southwestern\", \"Period_Late Night\", \"DayofWeek_3.0\"]], [[\"Period_Late Night\", \"DayofWeek_3.0\", \"New_District_Northern\"]], [[\"DayofWeek_6.0\", \"Period_Noon\", \"New_District_Northern\"]], [[\"Period_Noon\", \"DayofWeek_2.0\", \"New_District_Northern\"]], [[\"DayofWeek_5.0\", \"Period_Noon\", \"New_District_Northern\"]], [[\"New_District_Western\", \"Period_Late Night\", \"DayofWeek_4.0\"]], [[\"Period_Noon\", \"New_District_Northern\", \"DayofWeek_0.0\"]], [[\"New_District_Central\", \"Period_Morning\", \"DayofWeek_5.0\"]], [[\"DayofWeek_1.0\", \"New_District_Southern\", \"Period_Morning\"]], [[\"New_District_Southern\", \"Period_Morning\", \"DayofWeek_0.0\"]], [[\"DayofWeek_3.0\", \"New_District_Western\", \"Period_Morning\"]], [[\"Period_Late Night\", \"New_District_Northwestern\", \"DayofWeek_0.0\"]]], \"hovertemplate\": \"_index=%{x}<br>support=%{y}<br>itemsets=%{customdata[0]}<br>len=%{marker.color}<extra></extra>\", \"legendgroup\": \"\", \"marker\": {\"color\": [3, 3, 3, 3, 3, 3, 3, 3, 3, 3, 3, 3, 3, 3, 3, 3, 3, 3, 3, 3, 3, 3, 3, 3, 3, 3, 3, 3, 3, 3, 3, 3, 3, 3, 3, 3, 3, 3, 3, 3, 3, 3, 3, 3, 3, 3, 3, 3, 3, 3, 3, 3, 3, 3, 3, 3, 3, 3, 3, 3, 3, 3, 3, 3, 3, 3, 3, 3, 3, 3, 3, 3, 3, 3, 3, 3, 3, 3, 3, 3, 3, 3, 3, 3, 3, 3, 3, 3, 3, 3, 3, 3, 3, 3, 3, 3, 3, 3, 3, 3, 3, 3, 3, 3, 3, 3, 3, 3, 3, 3, 3, 3, 3, 3, 3, 3, 3, 3, 3, 3, 3, 3, 3, 3, 3, 3, 3, 3, 3, 3, 3, 3, 3, 3, 3, 3, 3, 3, 3, 3, 3, 3, 3, 3, 3, 3, 3, 3, 3, 3, 3, 3, 3, 3, 3, 3, 3, 3, 3, 3, 3, 3, 3, 3, 3, 3, 3, 3, 3, 3, 3, 3, 3, 3, 3, 3, 3, 3, 3, 3, 3, 3, 3, 3, 3, 3, 2, 3, 3, 3, 3, 3, 3, 3, 3, 3, 3, 3, 3, 3, 3, 3, 3, 3, 3, 3, 3, 3, 3, 3, 3, 3, 3, 3, 3, 3, 3, 3, 3, 3, 3, 3, 3, 3, 3, 3, 3, 3, 3, 3, 3, 3, 3, 3, 3, 3, 3, 3, 3, 3, 3, 3, 3, 3, 3, 3, 3, 3, 3, 3, 3, 3, 3, 3, 3, 3, 3, 3, 3, 3, 3, 3, 3, 3, 3, 3, 3, 3, 3, 3, 3, 3, 3, 3, 3, 3, 3, 3, 3, 3, 3, 3], \"coloraxis\": \"coloraxis\"}, \"name\": \"\", \"offsetgroup\": \"\", \"orientation\": \"v\", \"showlegend\": false, \"textposition\": \"auto\", \"type\": \"bar\", \"x\": [0, 1, 2, 3, 4, 5, 6, 7, 8, 9, 10, 11, 12, 13, 14, 15, 16, 17, 18, 19, 20, 21, 22, 23, 24, 25, 26, 27, 28, 29, 30, 31, 32, 33, 34, 35, 36, 37, 38, 39, 40, 41, 42, 43, 44, 45, 46, 47, 48, 49, 50, 51, 52, 53, 54, 55, 56, 57, 58, 59, 60, 61, 62, 63, 64, 65, 66, 67, 68, 69, 70, 71, 72, 73, 74, 75, 76, 77, 78, 79, 80, 81, 82, 83, 84, 85, 86, 87, 88, 89, 90, 91, 92, 93, 94, 95, 96, 97, 98, 99, 100, 101, 102, 103, 104, 105, 106, 107, 108, 109, 110, 111, 112, 113, 114, 115, 116, 117, 118, 119, 120, 121, 122, 123, 124, 125, 126, 127, 128, 129, 130, 131, 132, 133, 134, 135, 136, 137, 138, 139, 140, 141, 142, 143, 144, 145, 146, 147, 148, 149, 150, 151, 152, 153, 154, 155, 156, 157, 158, 159, 160, 161, 162, 163, 164, 165, 166, 167, 168, 169, 170, 171, 172, 173, 174, 175, 176, 177, 178, 179, 180, 181, 182, 183, 184, 185, 186, 187, 188, 189, 190, 191, 192, 193, 194, 195, 196, 197, 198, 199, 200, 201, 202, 203, 204, 205, 206, 207, 208, 209, 210, 211, 212, 213, 214, 215, 216, 217, 218, 219, 220, 221, 222, 223, 224, 225, 226, 227, 228, 229, 230, 231, 232, 233, 234, 235, 236, 237, 238, 239, 240, 241, 242, 243, 244, 245, 246, 247, 248, 249, 250, 251, 252, 253, 254, 255, 256, 257, 258, 259, 260, 261, 262, 263, 264, 265, 266, 267, 268, 269, 270, 271, 272, 273, 274, 275, 276, 277, 278, 279, 280, 281], \"xaxis\": \"x\", \"y\": [0.026510832383124287, 0.023375142531356898, 0.022519954389965794, 0.022519954389965794, 0.022234891676168756, 0.022234891676168756, 0.019384264538198404, 0.01282782212086659, 0.011972633979475485, 0.009692132269099202, 0.00855188141391106, 0.00855188141391106, 0.00855188141391106, 0.008266818700114024, 0.00798175598631699, 0.00798175598631699, 0.00798175598631699, 0.007696693272519955, 0.007696693272519955, 0.007696693272519955, 0.007411630558722919, 0.007411630558722919, 0.007411630558722919, 0.007411630558722919, 0.007126567844925884, 0.0068415051311288486, 0.0068415051311288486, 0.006556442417331813, 0.006556442417331813, 0.006556442417331813, 0.006556442417331813, 0.006556442417331813, 0.006556442417331813, 0.006271379703534778, 0.006271379703534778, 0.006271379703534778, 0.006271379703534778, 0.006271379703534778, 0.006271379703534778, 0.0059863169897377425, 0.0059863169897377425, 0.0059863169897377425, 0.0059863169897377425, 0.0059863169897377425, 0.005701254275940707, 0.005701254275940707, 0.005701254275940707, 0.005701254275940707, 0.005701254275940707, 0.005701254275940707, 0.005701254275940707, 0.005416191562143672, 0.005416191562143672, 0.005416191562143672, 0.005416191562143672, 0.005416191562143672, 0.005416191562143672, 0.005416191562143672, 0.005131128848346636, 0.005131128848346636, 0.005131128848346636, 0.005131128848346636, 0.005131128848346636, 0.005131128848346636, 0.005131128848346636, 0.005131128848346636, 0.005131128848346636, 0.005131128848346636, 0.004846066134549601, 0.004846066134549601, 0.004846066134549601, 0.004846066134549601, 0.004846066134549601, 0.004846066134549601, 0.004846066134549601, 0.004561003420752566, 0.004561003420752566, 0.004561003420752566, 0.004561003420752566, 0.004561003420752566, 0.004561003420752566, 0.004561003420752566, 0.004561003420752566, 0.004561003420752566, 0.00427594070695553, 0.00427594070695553, 0.00427594070695553, 0.00427594070695553, 0.00427594070695553, 0.00427594070695553, 0.00427594070695553, 0.00427594070695553, 0.00427594070695553, 0.003990877993158495, 0.003990877993158495, 0.003990877993158495, 0.003990877993158495, 0.003990877993158495, 0.003990877993158495, 0.003990877993158495, 0.003990877993158495, 0.003990877993158495, 0.003990877993158495, 0.003990877993158495, 0.003990877993158495, 0.003990877993158495, 0.003990877993158495, 0.003990877993158495, 0.003990877993158495, 0.003990877993158495, 0.003990877993158495, 0.0037058152793614596, 0.0037058152793614596, 0.0037058152793614596, 0.0037058152793614596, 0.0037058152793614596, 0.0037058152793614596, 0.0037058152793614596, 0.0037058152793614596, 0.0037058152793614596, 0.0037058152793614596, 0.0034207525655644243, 0.0034207525655644243, 0.0034207525655644243, 0.0034207525655644243, 0.0034207525655644243, 0.0034207525655644243, 0.0034207525655644243, 0.0034207525655644243, 0.0034207525655644243, 0.0034207525655644243, 0.003135689851767389, 0.003135689851767389, 0.003135689851767389, 0.003135689851767389, 0.003135689851767389, 0.003135689851767389, 0.003135689851767389, 0.003135689851767389, 0.003135689851767389, 0.003135689851767389, 0.003135689851767389, 0.003135689851767389, 0.003135689851767389, 0.003135689851767389, 0.003135689851767389, 0.003135689851767389, 0.003135689851767389, 0.003135689851767389, 0.0028506271379703536, 0.0028506271379703536, 0.0028506271379703536, 0.0028506271379703536, 0.0028506271379703536, 0.0028506271379703536, 0.0028506271379703536, 0.0028506271379703536, 0.0028506271379703536, 0.0028506271379703536, 0.0028506271379703536, 0.0028506271379703536, 0.0028506271379703536, 0.0028506271379703536, 0.0028506271379703536, 0.0028506271379703536, 0.0028506271379703536, 0.0028506271379703536, 0.0028506271379703536, 0.0028506271379703536, 0.0028506271379703536, 0.0028506271379703536, 0.0028506271379703536, 0.0028506271379703536, 0.0028506271379703536, 0.0028506271379703536, 0.0028506271379703536, 0.0028506271379703536, 0.0028506271379703536, 0.0028506271379703536, 0.0028506271379703536, 0.002565564424173318, 0.002565564424173318, 0.002565564424173318, 0.002565564424173318, 0.002565564424173318, 0.002565564424173318, 0.002565564424173318, 0.002565564424173318, 0.002565564424173318, 0.002565564424173318, 0.002565564424173318, 0.002280501710376283, 0.002280501710376283, 0.002280501710376283, 0.002280501710376283, 0.002280501710376283, 0.002280501710376283, 0.002280501710376283, 0.002280501710376283, 0.002280501710376283, 0.002280501710376283, 0.002280501710376283, 0.002280501710376283, 0.002280501710376283, 0.002280501710376283, 0.002280501710376283, 0.002280501710376283, 0.002280501710376283, 0.002280501710376283, 0.0019954389965792475, 0.0019954389965792475, 0.0019954389965792475, 0.0019954389965792475, 0.0019954389965792475, 0.0019954389965792475, 0.0019954389965792475, 0.0019954389965792475, 0.0019954389965792475, 0.0019954389965792475, 0.0019954389965792475, 0.0019954389965792475, 0.0019954389965792475, 0.0019954389965792475, 0.0019954389965792475, 0.0017103762827822121, 0.0017103762827822121, 0.0017103762827822121, 0.0017103762827822121, 0.0017103762827822121, 0.0017103762827822121, 0.0017103762827822121, 0.0017103762827822121, 0.0017103762827822121, 0.0017103762827822121, 0.0017103762827822121, 0.0017103762827822121, 0.0017103762827822121, 0.0017103762827822121, 0.0014253135689851768, 0.0014253135689851768, 0.0014253135689851768, 0.0014253135689851768, 0.0014253135689851768, 0.0014253135689851768, 0.0014253135689851768, 0.0014253135689851768, 0.0014253135689851768, 0.0014253135689851768, 0.0014253135689851768, 0.0014253135689851768, 0.0014253135689851768, 0.0014253135689851768, 0.0014253135689851768, 0.0014253135689851768, 0.0014253135689851768, 0.0014253135689851768, 0.0014253135689851768, 0.0014253135689851768, 0.0014253135689851768, 0.0014253135689851768, 0.0014253135689851768, 0.0014253135689851768, 0.0014253135689851768, 0.0011402508551881414, 0.0011402508551881414, 0.0011402508551881414, 0.0011402508551881414, 0.0011402508551881414, 0.0011402508551881414, 0.0011402508551881414, 0.0011402508551881414, 0.0011402508551881414, 0.0011402508551881414, 0.0011402508551881414, 0.0011402508551881414, 0.0011402508551881414, 0.0011402508551881414, 0.0011402508551881414, 0.0011402508551881414, 0.0011402508551881414, 0.0011402508551881414, 0.0011402508551881414], \"yaxis\": \"y\"}],\n",
       "                        {\"barmode\": \"relative\", \"coloraxis\": {\"colorbar\": {\"title\": {\"text\": \"len\"}}, \"colorscale\": [[0.0, \"#0d0887\"], [0.1111111111111111, \"#46039f\"], [0.2222222222222222, \"#7201a8\"], [0.3333333333333333, \"#9c179e\"], [0.4444444444444444, \"#bd3786\"], [0.5555555555555556, \"#d8576b\"], [0.6666666666666666, \"#ed7953\"], [0.7777777777777778, \"#fb9f3a\"], [0.8888888888888888, \"#fdca26\"], [1.0, \"#f0f921\"]]}, \"legend\": {\"tracegroupgap\": 0}, \"margin\": {\"t\": 60}, \"template\": {\"data\": {\"bar\": [{\"error_x\": {\"color\": \"#2a3f5f\"}, \"error_y\": {\"color\": \"#2a3f5f\"}, \"marker\": {\"line\": {\"color\": \"#E5ECF6\", \"width\": 0.5}}, \"type\": \"bar\"}], \"barpolar\": [{\"marker\": {\"line\": {\"color\": \"#E5ECF6\", \"width\": 0.5}}, \"type\": \"barpolar\"}], \"carpet\": [{\"aaxis\": {\"endlinecolor\": \"#2a3f5f\", \"gridcolor\": \"white\", \"linecolor\": \"white\", \"minorgridcolor\": \"white\", \"startlinecolor\": \"#2a3f5f\"}, \"baxis\": {\"endlinecolor\": \"#2a3f5f\", \"gridcolor\": \"white\", \"linecolor\": \"white\", \"minorgridcolor\": \"white\", \"startlinecolor\": \"#2a3f5f\"}, \"type\": \"carpet\"}], \"choropleth\": [{\"colorbar\": {\"outlinewidth\": 0, \"ticks\": \"\"}, \"type\": \"choropleth\"}], \"contour\": [{\"colorbar\": {\"outlinewidth\": 0, \"ticks\": \"\"}, \"colorscale\": [[0.0, \"#0d0887\"], [0.1111111111111111, \"#46039f\"], [0.2222222222222222, \"#7201a8\"], [0.3333333333333333, \"#9c179e\"], [0.4444444444444444, \"#bd3786\"], [0.5555555555555556, \"#d8576b\"], [0.6666666666666666, \"#ed7953\"], [0.7777777777777778, \"#fb9f3a\"], [0.8888888888888888, \"#fdca26\"], [1.0, \"#f0f921\"]], \"type\": \"contour\"}], \"contourcarpet\": [{\"colorbar\": {\"outlinewidth\": 0, \"ticks\": \"\"}, \"type\": \"contourcarpet\"}], \"heatmap\": [{\"colorbar\": {\"outlinewidth\": 0, \"ticks\": \"\"}, \"colorscale\": [[0.0, \"#0d0887\"], [0.1111111111111111, \"#46039f\"], [0.2222222222222222, \"#7201a8\"], [0.3333333333333333, \"#9c179e\"], [0.4444444444444444, \"#bd3786\"], [0.5555555555555556, \"#d8576b\"], [0.6666666666666666, \"#ed7953\"], [0.7777777777777778, \"#fb9f3a\"], [0.8888888888888888, \"#fdca26\"], [1.0, \"#f0f921\"]], \"type\": \"heatmap\"}], \"heatmapgl\": [{\"colorbar\": {\"outlinewidth\": 0, \"ticks\": \"\"}, \"colorscale\": [[0.0, \"#0d0887\"], [0.1111111111111111, \"#46039f\"], [0.2222222222222222, \"#7201a8\"], [0.3333333333333333, \"#9c179e\"], [0.4444444444444444, \"#bd3786\"], [0.5555555555555556, \"#d8576b\"], [0.6666666666666666, \"#ed7953\"], [0.7777777777777778, \"#fb9f3a\"], [0.8888888888888888, \"#fdca26\"], [1.0, \"#f0f921\"]], \"type\": \"heatmapgl\"}], \"histogram\": [{\"marker\": {\"colorbar\": {\"outlinewidth\": 0, \"ticks\": \"\"}}, \"type\": \"histogram\"}], \"histogram2d\": [{\"colorbar\": {\"outlinewidth\": 0, \"ticks\": \"\"}, \"colorscale\": [[0.0, \"#0d0887\"], [0.1111111111111111, \"#46039f\"], [0.2222222222222222, \"#7201a8\"], [0.3333333333333333, \"#9c179e\"], [0.4444444444444444, \"#bd3786\"], [0.5555555555555556, \"#d8576b\"], [0.6666666666666666, \"#ed7953\"], [0.7777777777777778, \"#fb9f3a\"], [0.8888888888888888, \"#fdca26\"], [1.0, \"#f0f921\"]], \"type\": \"histogram2d\"}], \"histogram2dcontour\": [{\"colorbar\": {\"outlinewidth\": 0, \"ticks\": \"\"}, \"colorscale\": [[0.0, \"#0d0887\"], [0.1111111111111111, \"#46039f\"], [0.2222222222222222, \"#7201a8\"], [0.3333333333333333, \"#9c179e\"], [0.4444444444444444, \"#bd3786\"], [0.5555555555555556, \"#d8576b\"], [0.6666666666666666, \"#ed7953\"], [0.7777777777777778, \"#fb9f3a\"], [0.8888888888888888, \"#fdca26\"], [1.0, \"#f0f921\"]], \"type\": \"histogram2dcontour\"}], \"mesh3d\": [{\"colorbar\": {\"outlinewidth\": 0, \"ticks\": \"\"}, \"type\": \"mesh3d\"}], \"parcoords\": [{\"line\": {\"colorbar\": {\"outlinewidth\": 0, \"ticks\": \"\"}}, \"type\": \"parcoords\"}], \"pie\": [{\"automargin\": true, \"type\": \"pie\"}], \"scatter\": [{\"marker\": {\"colorbar\": {\"outlinewidth\": 0, \"ticks\": \"\"}}, \"type\": \"scatter\"}], \"scatter3d\": [{\"line\": {\"colorbar\": {\"outlinewidth\": 0, \"ticks\": \"\"}}, \"marker\": {\"colorbar\": {\"outlinewidth\": 0, \"ticks\": \"\"}}, \"type\": \"scatter3d\"}], \"scattercarpet\": [{\"marker\": {\"colorbar\": {\"outlinewidth\": 0, \"ticks\": \"\"}}, \"type\": \"scattercarpet\"}], \"scattergeo\": [{\"marker\": {\"colorbar\": {\"outlinewidth\": 0, \"ticks\": \"\"}}, \"type\": \"scattergeo\"}], \"scattergl\": [{\"marker\": {\"colorbar\": {\"outlinewidth\": 0, \"ticks\": \"\"}}, \"type\": \"scattergl\"}], \"scattermapbox\": [{\"marker\": {\"colorbar\": {\"outlinewidth\": 0, \"ticks\": \"\"}}, \"type\": \"scattermapbox\"}], \"scatterpolar\": [{\"marker\": {\"colorbar\": {\"outlinewidth\": 0, \"ticks\": \"\"}}, \"type\": \"scatterpolar\"}], \"scatterpolargl\": [{\"marker\": {\"colorbar\": {\"outlinewidth\": 0, \"ticks\": \"\"}}, \"type\": \"scatterpolargl\"}], \"scatterternary\": [{\"marker\": {\"colorbar\": {\"outlinewidth\": 0, \"ticks\": \"\"}}, \"type\": \"scatterternary\"}], \"surface\": [{\"colorbar\": {\"outlinewidth\": 0, \"ticks\": \"\"}, \"colorscale\": [[0.0, \"#0d0887\"], [0.1111111111111111, \"#46039f\"], [0.2222222222222222, \"#7201a8\"], [0.3333333333333333, \"#9c179e\"], [0.4444444444444444, \"#bd3786\"], [0.5555555555555556, \"#d8576b\"], [0.6666666666666666, \"#ed7953\"], [0.7777777777777778, \"#fb9f3a\"], [0.8888888888888888, \"#fdca26\"], [1.0, \"#f0f921\"]], \"type\": \"surface\"}], \"table\": [{\"cells\": {\"fill\": {\"color\": \"#EBF0F8\"}, \"line\": {\"color\": \"white\"}}, \"header\": {\"fill\": {\"color\": \"#C8D4E3\"}, \"line\": {\"color\": \"white\"}}, \"type\": \"table\"}]}, \"layout\": {\"annotationdefaults\": {\"arrowcolor\": \"#2a3f5f\", \"arrowhead\": 0, \"arrowwidth\": 1}, \"coloraxis\": {\"colorbar\": {\"outlinewidth\": 0, \"ticks\": \"\"}}, \"colorscale\": {\"diverging\": [[0, \"#8e0152\"], [0.1, \"#c51b7d\"], [0.2, \"#de77ae\"], [0.3, \"#f1b6da\"], [0.4, \"#fde0ef\"], [0.5, \"#f7f7f7\"], [0.6, \"#e6f5d0\"], [0.7, \"#b8e186\"], [0.8, \"#7fbc41\"], [0.9, \"#4d9221\"], [1, \"#276419\"]], \"sequential\": [[0.0, \"#0d0887\"], [0.1111111111111111, \"#46039f\"], [0.2222222222222222, \"#7201a8\"], [0.3333333333333333, \"#9c179e\"], [0.4444444444444444, \"#bd3786\"], [0.5555555555555556, \"#d8576b\"], [0.6666666666666666, \"#ed7953\"], [0.7777777777777778, \"#fb9f3a\"], [0.8888888888888888, \"#fdca26\"], [1.0, \"#f0f921\"]], \"sequentialminus\": [[0.0, \"#0d0887\"], [0.1111111111111111, \"#46039f\"], [0.2222222222222222, \"#7201a8\"], [0.3333333333333333, \"#9c179e\"], [0.4444444444444444, \"#bd3786\"], [0.5555555555555556, \"#d8576b\"], [0.6666666666666666, \"#ed7953\"], [0.7777777777777778, \"#fb9f3a\"], [0.8888888888888888, \"#fdca26\"], [1.0, \"#f0f921\"]]}, \"colorway\": [\"#636efa\", \"#EF553B\", \"#00cc96\", \"#ab63fa\", \"#FFA15A\", \"#19d3f3\", \"#FF6692\", \"#B6E880\", \"#FF97FF\", \"#FECB52\"], \"font\": {\"color\": \"#2a3f5f\"}, \"geo\": {\"bgcolor\": \"white\", \"lakecolor\": \"white\", \"landcolor\": \"#E5ECF6\", \"showlakes\": true, \"showland\": true, \"subunitcolor\": \"white\"}, \"hoverlabel\": {\"align\": \"left\"}, \"hovermode\": \"closest\", \"mapbox\": {\"style\": \"light\"}, \"paper_bgcolor\": \"white\", \"plot_bgcolor\": \"#E5ECF6\", \"polar\": {\"angularaxis\": {\"gridcolor\": \"white\", \"linecolor\": \"white\", \"ticks\": \"\"}, \"bgcolor\": \"#E5ECF6\", \"radialaxis\": {\"gridcolor\": \"white\", \"linecolor\": \"white\", \"ticks\": \"\"}}, \"scene\": {\"xaxis\": {\"backgroundcolor\": \"#E5ECF6\", \"gridcolor\": \"white\", \"gridwidth\": 2, \"linecolor\": \"white\", \"showbackground\": true, \"ticks\": \"\", \"zerolinecolor\": \"white\"}, \"yaxis\": {\"backgroundcolor\": \"#E5ECF6\", \"gridcolor\": \"white\", \"gridwidth\": 2, \"linecolor\": \"white\", \"showbackground\": true, \"ticks\": \"\", \"zerolinecolor\": \"white\"}, \"zaxis\": {\"backgroundcolor\": \"#E5ECF6\", \"gridcolor\": \"white\", \"gridwidth\": 2, \"linecolor\": \"white\", \"showbackground\": true, \"ticks\": \"\", \"zerolinecolor\": \"white\"}}, \"shapedefaults\": {\"line\": {\"color\": \"#2a3f5f\"}}, \"ternary\": {\"aaxis\": {\"gridcolor\": \"white\", \"linecolor\": \"white\", \"ticks\": \"\"}, \"baxis\": {\"gridcolor\": \"white\", \"linecolor\": \"white\", \"ticks\": \"\"}, \"bgcolor\": \"#E5ECF6\", \"caxis\": {\"gridcolor\": \"white\", \"linecolor\": \"white\", \"ticks\": \"\"}}, \"title\": {\"x\": 0.05}, \"xaxis\": {\"automargin\": true, \"gridcolor\": \"white\", \"linecolor\": \"white\", \"ticks\": \"\", \"title\": {\"standoff\": 15}, \"zerolinecolor\": \"white\", \"zerolinewidth\": 2}, \"yaxis\": {\"automargin\": true, \"gridcolor\": \"white\", \"linecolor\": \"white\", \"ticks\": \"\", \"title\": {\"standoff\": 15}, \"zerolinecolor\": \"white\", \"zerolinewidth\": 2}}}, \"xaxis\": {\"anchor\": \"y\", \"categoryorder\": \"total ascending\", \"domain\": [0.0, 1.0], \"title\": {\"text\": \"_index\"}}, \"yaxis\": {\"anchor\": \"x\", \"domain\": [0.0, 1.0], \"title\": {\"text\": \"support\"}}},\n",
       "                        {\"responsive\": true}\n",
       "                    ).then(function(){\n",
       "                            \n",
       "var gd = document.getElementById('661ebbb0-e4f0-40e7-9b5e-b2dce3743682');\n",
       "var x = new MutationObserver(function (mutations, observer) {{\n",
       "        var display = window.getComputedStyle(gd).display;\n",
       "        if (!display || display === 'none') {{\n",
       "            console.log([gd, 'removed!']);\n",
       "            Plotly.purge(gd);\n",
       "            observer.disconnect();\n",
       "        }}\n",
       "}});\n",
       "\n",
       "// Listen for the removal of the full notebook cells\n",
       "var notebookContainer = gd.closest('#notebook-container');\n",
       "if (notebookContainer) {{\n",
       "    x.observe(notebookContainer, {childList: true});\n",
       "}}\n",
       "\n",
       "// Listen for the clearing of the current output cell\n",
       "var outputEl = gd.closest('.output');\n",
       "if (outputEl) {{\n",
       "    x.observe(outputEl, {childList: true});\n",
       "}}\n",
       "\n",
       "                        })\n",
       "                };\n",
       "                });\n",
       "            </script>\n",
       "        </div>"
      ]
     },
     "metadata": {},
     "output_type": "display_data"
    }
   ],
   "source": [
    "# import pandas as pd\n",
    "from mlxtend.preprocessing import TransactionEncoder\n",
    "from mlxtend.frequent_patterns import apriori, fpmax, fpgrowth, association_rules\n",
    "\n",
    "\n",
    "# not_used_columns = list(set(df.columns.to_list()) - set(columns))\n",
    "\n",
    "\n",
    "# df = pd.get_dummies(df)\n",
    "\n",
    "\n",
    "\n",
    "rules=fpmax(pd.get_dummies(test.drop(columns=['Total Incidents','Description']).astype('category')), min_support=0.001, max_len=6,use_colnames=True)\n",
    "# rules = association_rules(fpmax(pd.get_dummies(test.drop(columns=['Total Incidents','Description']).astype('category')), min_support=0.01, max_len=6,use_colnames=True)\n",
    "# , metric='confidence', min_threshold=0.1)\n",
    "\n",
    "rules['len']=rules.itemsets.apply(len)\n",
    "\n",
    "rules.sort_values('support', ascending=False)\n",
    "\n",
    "rules['itemsets']=rules.itemsets.apply(list)\n",
    "# rules\n",
    "rules=rules.sort_values('support', ascending=False).reset_index()\n",
    "# rules_long=rules.melt(id_vars=['itemsets'],value_vars=['len','support'])\n",
    "px.bar(rules, y='support',color='len', hover_data=['itemsets']).update_layout(xaxis={'categoryorder':'total ascending'})\n",
    "# rules_long"
   ]
  },
  {
   "cell_type": "code",
   "execution_count": 148,
   "metadata": {},
   "outputs": [
    {
     "data": {
      "text/html": [
       "<div>\n",
       "<style scoped>\n",
       "    .dataframe tbody tr th:only-of-type {\n",
       "        vertical-align: middle;\n",
       "    }\n",
       "\n",
       "    .dataframe tbody tr th {\n",
       "        vertical-align: top;\n",
       "    }\n",
       "\n",
       "    .dataframe thead th {\n",
       "        text-align: right;\n",
       "    }\n",
       "</style>\n",
       "<table border=\"1\" class=\"dataframe\">\n",
       "  <thead>\n",
       "    <tr style=\"text-align: right;\">\n",
       "      <th></th>\n",
       "      <th>level_0</th>\n",
       "      <th>index</th>\n",
       "      <th>support</th>\n",
       "      <th>itemsets</th>\n",
       "      <th>len</th>\n",
       "    </tr>\n",
       "  </thead>\n",
       "  <tbody>\n",
       "    <tr>\n",
       "      <th>0</th>\n",
       "      <td>273</td>\n",
       "      <td>273</td>\n",
       "      <td>0.026511</td>\n",
       "      <td>[DayofWeek_1.0, New_District_Western, Period_L...</td>\n",
       "      <td>3</td>\n",
       "    </tr>\n",
       "    <tr>\n",
       "      <th>1</th>\n",
       "      <td>231</td>\n",
       "      <td>231</td>\n",
       "      <td>0.023375</td>\n",
       "      <td>[New_District_Western, Period_Late Night, Dayo...</td>\n",
       "      <td>3</td>\n",
       "    </tr>\n",
       "    <tr>\n",
       "      <th>2</th>\n",
       "      <td>262</td>\n",
       "      <td>262</td>\n",
       "      <td>0.022520</td>\n",
       "      <td>[New_District_Eastern, Period_Noon, DayofWeek_...</td>\n",
       "      <td>3</td>\n",
       "    </tr>\n",
       "    <tr>\n",
       "      <th>3</th>\n",
       "      <td>263</td>\n",
       "      <td>263</td>\n",
       "      <td>0.022520</td>\n",
       "      <td>[New_District_Western, Period_Noon, DayofWeek_...</td>\n",
       "      <td>3</td>\n",
       "    </tr>\n",
       "    <tr>\n",
       "      <th>4</th>\n",
       "      <td>230</td>\n",
       "      <td>230</td>\n",
       "      <td>0.022235</td>\n",
       "      <td>[New_District_Western, Period_Noon, DayofWeek_...</td>\n",
       "      <td>3</td>\n",
       "    </tr>\n",
       "    <tr>\n",
       "      <th>...</th>\n",
       "      <td>...</td>\n",
       "      <td>...</td>\n",
       "      <td>...</td>\n",
       "      <td>...</td>\n",
       "      <td>...</td>\n",
       "    </tr>\n",
       "    <tr>\n",
       "      <th>277</th>\n",
       "      <td>20</td>\n",
       "      <td>20</td>\n",
       "      <td>0.001140</td>\n",
       "      <td>[Period_Late Night, DayofWeek_3.0, New_Distric...</td>\n",
       "      <td>3</td>\n",
       "    </tr>\n",
       "    <tr>\n",
       "      <th>278</th>\n",
       "      <td>16</td>\n",
       "      <td>16</td>\n",
       "      <td>0.001140</td>\n",
       "      <td>[Period_Noon, DayofWeek_3.0, New_District_Sout...</td>\n",
       "      <td>3</td>\n",
       "    </tr>\n",
       "    <tr>\n",
       "      <th>279</th>\n",
       "      <td>93</td>\n",
       "      <td>93</td>\n",
       "      <td>0.001140</td>\n",
       "      <td>[DayofWeek_1.0, New_District_Central, Period_N...</td>\n",
       "      <td>3</td>\n",
       "    </tr>\n",
       "    <tr>\n",
       "      <th>280</th>\n",
       "      <td>14</td>\n",
       "      <td>14</td>\n",
       "      <td>0.001140</td>\n",
       "      <td>[DayofWeek_2.0, Period_Morning, New_District_S...</td>\n",
       "      <td>3</td>\n",
       "    </tr>\n",
       "    <tr>\n",
       "      <th>281</th>\n",
       "      <td>119</td>\n",
       "      <td>119</td>\n",
       "      <td>0.001140</td>\n",
       "      <td>[Period_Late Night, New_District_Northwestern,...</td>\n",
       "      <td>3</td>\n",
       "    </tr>\n",
       "  </tbody>\n",
       "</table>\n",
       "<p>282 rows × 5 columns</p>\n",
       "</div>"
      ],
      "text/plain": [
       "     level_0  index   support  \\\n",
       "0        273    273  0.026511   \n",
       "1        231    231  0.023375   \n",
       "2        262    262  0.022520   \n",
       "3        263    263  0.022520   \n",
       "4        230    230  0.022235   \n",
       "..       ...    ...       ...   \n",
       "277       20     20  0.001140   \n",
       "278       16     16  0.001140   \n",
       "279       93     93  0.001140   \n",
       "280       14     14  0.001140   \n",
       "281      119    119  0.001140   \n",
       "\n",
       "                                              itemsets  len  \n",
       "0    [DayofWeek_1.0, New_District_Western, Period_L...    3  \n",
       "1    [New_District_Western, Period_Late Night, Dayo...    3  \n",
       "2    [New_District_Eastern, Period_Noon, DayofWeek_...    3  \n",
       "3    [New_District_Western, Period_Noon, DayofWeek_...    3  \n",
       "4    [New_District_Western, Period_Noon, DayofWeek_...    3  \n",
       "..                                                 ...  ...  \n",
       "277  [Period_Late Night, DayofWeek_3.0, New_Distric...    3  \n",
       "278  [Period_Noon, DayofWeek_3.0, New_District_Sout...    3  \n",
       "279  [DayofWeek_1.0, New_District_Central, Period_N...    3  \n",
       "280  [DayofWeek_2.0, Period_Morning, New_District_S...    3  \n",
       "281  [Period_Late Night, New_District_Northwestern,...    3  \n",
       "\n",
       "[282 rows x 5 columns]"
      ]
     },
     "execution_count": 148,
     "metadata": {},
     "output_type": "execute_result"
    }
   ],
   "source": [
    "rules.sort_values('support', ascending=False).reset_index()"
   ]
  },
  {
   "cell_type": "code",
   "execution_count": null,
   "metadata": {},
   "outputs": [],
   "source": [
    "df.Period.value_counts()"
   ]
  },
  {
   "cell_type": "code",
   "execution_count": 47,
   "metadata": {},
   "outputs": [
    {
     "name": "stdout",
     "output_type": "stream",
     "text": [
      "<class 'pandas.core.frame.DataFrame'>\n",
      "RangeIndex: 296586 entries, 0 to 296585\n",
      "Data columns (total 29 columns):\n",
      " #   Column            Non-Null Count   Dtype         \n",
      "---  ------            --------------   -----         \n",
      " 0   CrimeDate         296586 non-null  object        \n",
      " 1   CrimeTime         296561 non-null  object        \n",
      " 2   CrimeCode         296586 non-null  object        \n",
      " 3   Location          295207 non-null  object        \n",
      " 4   Description       296586 non-null  object        \n",
      " 5   Inside/Outside    255272 non-null  object        \n",
      " 6   Weapon            59666 non-null   object        \n",
      " 7   Post              294212 non-null  object        \n",
      " 8   District          296586 non-null  object        \n",
      " 9   Neighborhood      286259 non-null  object        \n",
      " 10  Longitude         294900 non-null  float64       \n",
      " 11  Latitude          294900 non-null  float64       \n",
      " 12  Premise           260538 non-null  object        \n",
      " 13  Total Incidents   296586 non-null  int64         \n",
      " 14  group_count       296586 non-null  int64         \n",
      " 15  Neighborhood_New  295911 non-null  object        \n",
      " 16  New_District      296043 non-null  object        \n",
      " 17  Datetime          296561 non-null  datetime64[ns]\n",
      " 18  Year              296561 non-null  float64       \n",
      " 19  Month             296561 non-null  float64       \n",
      " 20  MonthName         296561 non-null  object        \n",
      " 21  Day               296561 non-null  float64       \n",
      " 22  Quarter           296561 non-null  float64       \n",
      " 23  Date              296561 non-null  object        \n",
      " 24  Hour              296561 non-null  float64       \n",
      " 25  Minute            296561 non-null  float64       \n",
      " 26  Period            296561 non-null  object        \n",
      " 27  DayofWeek         296561 non-null  float64       \n",
      " 28  WeekDay           296586 non-null  object        \n",
      "dtypes: datetime64[ns](1), float64(9), int64(2), object(17)\n",
      "memory usage: 65.6+ MB\n"
     ]
    }
   ],
   "source": [
    "df.info()"
   ]
  },
  {
   "cell_type": "code",
   "execution_count": null,
   "metadata": {},
   "outputs": [],
   "source": [
    "                        {'label': 'Month', 'value': 'month'},\n",
    "                        {'label': 'Day', 'value': 'day'},\n",
    "                        {'label': 'Day of Week', 'value': 'dayofweek'},\n",
    "                        {'label': 'Weekday or Weekend',\n",
    "                         'value': 'isweekend'},\n",
    "                        {'label': 'Hour', 'value': 'hour'},\n",
    "                        {'label': 'Minute', 'value': 'minute'},\n",
    "                        {'label': 'Time of Day', 'value': 'timeofday'}"
   ]
  },
  {
   "cell_type": "code",
   "execution_count": null,
   "metadata": {},
   "outputs": [],
   "source": [
    "import json\n",
    "from urllib.request import urlopen\n",
    "\n",
    "with urlopen('https://raw.githubusercontent.com/plotly/datasets/master/geojson-counties-fips.json') as response:\n",
    "    counties = json.load(response)\n",
    "\n",
    "import pandas as pd\n",
    "df = pd.read_csv(\"https://raw.githubusercontent.com/plotly/datasets/master/fips-unemp-16.csv\",\n",
    "                   dtype={\"fips\": str})\n",
    "\n",
    "import plotly.express as px\n",
    "\n",
    "fig = px.choropleth_mapbox(df, geojson=counties, locations='fips', color='unemp',\n",
    "                           color_continuous_scale=\"Viridis\",\n",
    "                           range_color=(0, 12),\n",
    "                           mapbox_style=\"carto-positron\",\n",
    "                           zoom=3, center = {\"lat\": 37.0902, \"lon\": -95.7129},\n",
    "                           opacity=0.5,\n",
    "                           labels={'unemp':'unemployment rate'}\n",
    "                          )\n",
    "fig.update_layout(margin={\"r\":0,\"t\":0,\"l\":0,\"b\":0})\n",
    "fig.show()"
   ]
  },
  {
   "cell_type": "code",
   "execution_count": null,
   "metadata": {},
   "outputs": [],
   "source": [
    "geojson"
   ]
  },
  {
   "cell_type": "code",
   "execution_count": 44,
   "metadata": {},
   "outputs": [
    {
     "name": "stdout",
     "output_type": "stream",
     "text": [
      "<class 'pandas.core.frame.DataFrame'>\n",
      "RangeIndex: 296586 entries, 0 to 296585\n",
      "Data columns (total 29 columns):\n",
      " #   Column            Non-Null Count   Dtype         \n",
      "---  ------            --------------   -----         \n",
      " 0   CrimeDate         296586 non-null  object        \n",
      " 1   CrimeTime         296561 non-null  object        \n",
      " 2   CrimeCode         296586 non-null  object        \n",
      " 3   Location          295207 non-null  object        \n",
      " 4   Description       296586 non-null  object        \n",
      " 5   Inside/Outside    255272 non-null  object        \n",
      " 6   Weapon            59666 non-null   object        \n",
      " 7   Post              294212 non-null  object        \n",
      " 8   District          296586 non-null  object        \n",
      " 9   Neighborhood      286259 non-null  object        \n",
      " 10  Longitude         294900 non-null  float64       \n",
      " 11  Latitude          294900 non-null  float64       \n",
      " 12  Premise           260538 non-null  object        \n",
      " 13  Total Incidents   296586 non-null  int64         \n",
      " 14  group_count       296586 non-null  int64         \n",
      " 15  Neighborhood_New  295911 non-null  object        \n",
      " 16  New_District      296043 non-null  object        \n",
      " 17  Datetime          296561 non-null  datetime64[ns]\n",
      " 18  Year              296561 non-null  float64       \n",
      " 19  Month             296561 non-null  float64       \n",
      " 20  MonthName         296561 non-null  object        \n",
      " 21  Day               296561 non-null  float64       \n",
      " 22  Quarter           296561 non-null  float64       \n",
      " 23  Date              296561 non-null  object        \n",
      " 24  Hour              296561 non-null  float64       \n",
      " 25  Minute            296561 non-null  float64       \n",
      " 26  Period            296561 non-null  object        \n",
      " 27  DayofWeek         296561 non-null  float64       \n",
      " 28  WeekDay           296586 non-null  object        \n",
      "dtypes: datetime64[ns](1), float64(9), int64(2), object(17)\n",
      "memory usage: 65.6+ MB\n"
     ]
    }
   ],
   "source": [
    "df.info()"
   ]
  },
  {
   "cell_type": "code",
   "execution_count": null,
   "metadata": {},
   "outputs": [],
   "source": [
    "fig = px.choropleth_mapbox(data_frame=df, color='group_count',locations='Neighborhood_New', geojson=neigh_geojson,featureidkey=\"properties.Name\",\n",
    "                           center={\"lat\": 39.5, \"lon\": -76.7073},\n",
    "                           mapbox_style=\"carto-positron\", zoom=9)\n",
    "# fig.update_layout(margin={\"r\":0,\"t\":0,\"l\":0,\"b\":0})\n",
    "fig.show()"
   ]
  },
  {
   "cell_type": "code",
   "execution_count": null,
   "metadata": {},
   "outputs": [],
   "source": [
    "## 2020 offcial layer\n",
    "with open(\"Neighborhoods.geojson\") as f:\n",
    "    geojson = json.load(f)\n"
   ]
  },
  {
   "cell_type": "code",
   "execution_count": null,
   "metadata": {},
   "outputs": [],
   "source": [
    "election=px.data.election()"
   ]
  },
  {
   "cell_type": "code",
   "execution_count": null,
   "metadata": {},
   "outputs": [],
   "source": []
  }
 ],
 "metadata": {
  "kernelspec": {
   "display_name": "Python 3.7.6 64-bit",
   "language": "python",
   "name": "python37664bitaad11810a68246cf96b4e903e9fb7d27"
  },
  "language_info": {
   "codemirror_mode": {
    "name": "ipython",
    "version": 3
   },
   "file_extension": ".py",
   "mimetype": "text/x-python",
   "name": "python",
   "nbconvert_exporter": "python",
   "pygments_lexer": "ipython3",
   "version": "3.7.6"
  },
  "toc": {
   "base_numbering": 1,
   "nav_menu": {},
   "number_sections": true,
   "sideBar": true,
   "skip_h1_title": false,
   "title_cell": "Table of Contents",
   "title_sidebar": "Contents",
   "toc_cell": false,
   "toc_position": {},
   "toc_section_display": true,
   "toc_window_display": false
  },
  "varInspector": {
   "cols": {
    "lenName": 16,
    "lenType": 16,
    "lenVar": 40
   },
   "kernels_config": {
    "python": {
     "delete_cmd_postfix": "",
     "delete_cmd_prefix": "del ",
     "library": "var_list.py",
     "varRefreshCmd": "print(var_dic_list())"
    },
    "r": {
     "delete_cmd_postfix": ") ",
     "delete_cmd_prefix": "rm(",
     "library": "var_list.r",
     "varRefreshCmd": "cat(var_dic_list()) "
    }
   },
   "types_to_exclude": [
    "module",
    "function",
    "builtin_function_or_method",
    "instance",
    "_Feature"
   ],
   "window_display": false
  }
 },
 "nbformat": 4,
 "nbformat_minor": 4
}
