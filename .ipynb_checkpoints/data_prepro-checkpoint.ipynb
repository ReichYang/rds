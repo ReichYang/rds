{
 "cells": [
  {
   "cell_type": "code",
   "execution_count": 1,
   "metadata": {},
   "outputs": [],
   "source": [
    "import pandas as pd\n",
    "import dash\n",
    "import numpy as np\n",
    "import plotly.express as px\n",
    "import pandas_profiling"
   ]
  },
  {
   "cell_type": "markdown",
   "metadata": {},
   "source": [
    "# Import the csv file"
   ]
  },
  {
   "cell_type": "code",
   "execution_count": 9,
   "metadata": {},
   "outputs": [],
   "source": [
    "import pandas_profiling"
   ]
  },
  {
   "cell_type": "code",
   "execution_count": 248,
   "metadata": {},
   "outputs": [
    {
     "name": "stderr",
     "output_type": "stream",
     "text": [
      "D:\\Python37\\lib\\site-packages\\IPython\\core\\interactiveshell.py:3063: DtypeWarning:\n",
      "\n",
      "Columns (7) have mixed types.Specify dtype option on import or set low_memory=False.\n",
      "\n"
     ]
    }
   ],
   "source": [
    "df=pd.read_csv('BPD_Part_1_Victim_Based_Crime_Data.csv')"
   ]
  },
  {
   "cell_type": "markdown",
   "metadata": {},
   "source": [
    "# Data Integrity Check"
   ]
  },
  {
   "cell_type": "code",
   "execution_count": 10,
   "metadata": {},
   "outputs": [
    {
     "data": {
      "application/vnd.jupyter.widget-view+json": {
       "model_id": "62c274df6f3543699c92e2a85fe1c40a",
       "version_major": 2,
       "version_minor": 0
      },
      "text/plain": [
       "HBox(children=(FloatProgress(value=0.0, description='Summarize dataset', max=30.0, style=ProgressStyle(descrip…"
      ]
     },
     "metadata": {},
     "output_type": "display_data"
    },
    {
     "name": "stdout",
     "output_type": "stream",
     "text": [
      "\n"
     ]
    },
    {
     "data": {
      "application/vnd.jupyter.widget-view+json": {
       "model_id": "ccbc4be6c1a746cfb044699de5a64d6d",
       "version_major": 2,
       "version_minor": 0
      },
      "text/plain": [
       "HBox(children=(FloatProgress(value=0.0, description='Generate report structure', max=1.0, style=ProgressStyle(…"
      ]
     },
     "metadata": {},
     "output_type": "display_data"
    },
    {
     "name": "stdout",
     "output_type": "stream",
     "text": [
      "\n"
     ]
    },
    {
     "data": {
      "application/vnd.jupyter.widget-view+json": {
       "model_id": "9150dc03dc7c4821ac51092038db5a18",
       "version_major": 2,
       "version_minor": 0
      },
      "text/plain": [
       "HBox(children=(FloatProgress(value=0.0, description='Render HTML', max=1.0, style=ProgressStyle(description_wi…"
      ]
     },
     "metadata": {},
     "output_type": "display_data"
    },
    {
     "name": "stdout",
     "output_type": "stream",
     "text": [
      "\n"
     ]
    },
    {
     "data": {
      "application/vnd.jupyter.widget-view+json": {
       "model_id": "f006ffb5630546cd881b78ad908b2232",
       "version_major": 2,
       "version_minor": 0
      },
      "text/plain": [
       "HBox(children=(FloatProgress(value=0.0, description='Export report to file', max=1.0, style=ProgressStyle(desc…"
      ]
     },
     "metadata": {},
     "output_type": "display_data"
    },
    {
     "name": "stdout",
     "output_type": "stream",
     "text": [
      "\n"
     ]
    }
   ],
   "source": [
    "# generating the EDA \n",
    "df.profile_report(title='Pandas Profiling Report').to_file(output_file=\"eda.html\")"
   ]
  },
  {
   "cell_type": "markdown",
   "metadata": {},
   "source": [
    "* Duplicates of records\n",
    "* High correlation between some variables\n",
    "* Missing values on two variables"
   ]
  },
  {
   "cell_type": "markdown",
   "metadata": {},
   "source": [
    "## Grouping the records to keep the number of incidents but drop duplicates"
   ]
  },
  {
   "cell_type": "code",
   "execution_count": 249,
   "metadata": {},
   "outputs": [],
   "source": [
    "df_nodup=df.fillna('')\\\n",
    "      .groupby(df.columns.tolist()).apply(len)\\\n",
    "      .rename('group_count')\\\n",
    "      .reset_index()\\\n",
    "      .replace('',np.nan)\\\n",
    "      .sort_values(by = ['group_count'], ascending = False)"
   ]
  },
  {
   "cell_type": "markdown",
   "metadata": {},
   "source": [
    "## ~~ Convert the Data/Time to proper time format~~"
   ]
  },
  {
   "cell_type": "code",
   "execution_count": 250,
   "metadata": {},
   "outputs": [],
   "source": [
    "# df_nodup.CrimeDate=pd.to_datetime(df_nodup.CrimeDate)\n",
    "# df_nodup.CrimeTime=pd.to_timedelta(df_nodup.CrimeTime)\n",
    "# df_nodup.CrimeTime_dt=pd.to_datetime(df_nodup.CrimeTime)"
   ]
  },
  {
   "cell_type": "markdown",
   "metadata": {},
   "source": [
    "## Handling missing values"
   ]
  },
  {
   "cell_type": "code",
   "execution_count": 251,
   "metadata": {},
   "outputs": [
    {
     "name": "stdout",
     "output_type": "stream",
     "text": [
      "<class 'pandas.core.frame.DataFrame'>\n",
      "Int64Index: 296586 entries, 215100 to 296585\n",
      "Data columns (total 17 columns):\n",
      " #   Column           Non-Null Count   Dtype  \n",
      "---  ------           --------------   -----  \n",
      " 0   CrimeDate        296586 non-null  object \n",
      " 1   CrimeTime        296561 non-null  object \n",
      " 2   CrimeCode        296586 non-null  object \n",
      " 3   Location         295207 non-null  object \n",
      " 4   Description      296586 non-null  object \n",
      " 5   Inside/Outside   260776 non-null  object \n",
      " 6   Weapon           59666 non-null   object \n",
      " 7   Post             294212 non-null  object \n",
      " 8   District         296586 non-null  object \n",
      " 9   Neighborhood     286259 non-null  object \n",
      " 10  Longitude        294900 non-null  float64\n",
      " 11  Latitude         294900 non-null  float64\n",
      " 12  Location 1       0 non-null       float64\n",
      " 13  Premise          260538 non-null  object \n",
      " 14  vri_name1        35204 non-null   object \n",
      " 15  Total Incidents  296586 non-null  int64  \n",
      " 16  group_count      296586 non-null  int64  \n",
      "dtypes: float64(3), int64(2), object(12)\n",
      "memory usage: 40.7+ MB\n"
     ]
    }
   ],
   "source": [
    "df_nodup.info()"
   ]
  },
  {
   "cell_type": "code",
   "execution_count": 252,
   "metadata": {},
   "outputs": [
    {
     "data": {
      "text/html": [
       "<div>\n",
       "<style scoped>\n",
       "    .dataframe tbody tr th:only-of-type {\n",
       "        vertical-align: middle;\n",
       "    }\n",
       "\n",
       "    .dataframe tbody tr th {\n",
       "        vertical-align: top;\n",
       "    }\n",
       "\n",
       "    .dataframe thead th {\n",
       "        text-align: right;\n",
       "    }\n",
       "</style>\n",
       "<table border=\"1\" class=\"dataframe\">\n",
       "  <thead>\n",
       "    <tr style=\"text-align: right;\">\n",
       "      <th></th>\n",
       "      <th>CrimeDate</th>\n",
       "      <th>CrimeTime</th>\n",
       "      <th>CrimeCode</th>\n",
       "      <th>Location</th>\n",
       "      <th>Description</th>\n",
       "      <th>Inside/Outside</th>\n",
       "      <th>Weapon</th>\n",
       "      <th>Post</th>\n",
       "      <th>District</th>\n",
       "      <th>Neighborhood</th>\n",
       "      <th>Longitude</th>\n",
       "      <th>Latitude</th>\n",
       "      <th>Location 1</th>\n",
       "      <th>Premise</th>\n",
       "      <th>vri_name1</th>\n",
       "      <th>Total Incidents</th>\n",
       "      <th>group_count</th>\n",
       "    </tr>\n",
       "  </thead>\n",
       "  <tbody>\n",
       "    <tr>\n",
       "      <th>2922</th>\n",
       "      <td>1/12/2015</td>\n",
       "      <td>4:40:00</td>\n",
       "      <td>4A</td>\n",
       "      <td>1700 NORMAL AV</td>\n",
       "      <td>AGG. ASSAULT</td>\n",
       "      <td>I</td>\n",
       "      <td>FIREARM</td>\n",
       "      <td>312</td>\n",
       "      <td>EASTERN</td>\n",
       "      <td>DARLEY PARK</td>\n",
       "      <td>-76.593663</td>\n",
       "      <td>39.315562</td>\n",
       "      <td>NaN</td>\n",
       "      <td>ROW/TOWNHOUSE-OCC</td>\n",
       "      <td>Eastern 1</td>\n",
       "      <td>1</td>\n",
       "      <td>10</td>\n",
       "    </tr>\n",
       "    <tr>\n",
       "      <th>123765</th>\n",
       "      <td>3/17/2020</td>\n",
       "      <td>18:27:00</td>\n",
       "      <td>4A</td>\n",
       "      <td>1800 RAMSAY ST</td>\n",
       "      <td>AGG. ASSAULT</td>\n",
       "      <td>NaN</td>\n",
       "      <td>FIREARM</td>\n",
       "      <td>934</td>\n",
       "      <td>SOUTHERN</td>\n",
       "      <td>CARROLLTON RIDGE</td>\n",
       "      <td>-76.645249</td>\n",
       "      <td>39.283106</td>\n",
       "      <td>NaN</td>\n",
       "      <td>NaN</td>\n",
       "      <td>Tri-District</td>\n",
       "      <td>1</td>\n",
       "      <td>9</td>\n",
       "    </tr>\n",
       "    <tr>\n",
       "      <th>271597</th>\n",
       "      <td>8/9/2017</td>\n",
       "      <td>20:22:00</td>\n",
       "      <td>4C</td>\n",
       "      <td>2100 HOLLINS ST</td>\n",
       "      <td>AGG. ASSAULT</td>\n",
       "      <td>I</td>\n",
       "      <td>OTHER</td>\n",
       "      <td>835</td>\n",
       "      <td>SOUTHWEST</td>\n",
       "      <td>BOOTH-BOYD</td>\n",
       "      <td>-76.650689</td>\n",
       "      <td>39.287050</td>\n",
       "      <td>NaN</td>\n",
       "      <td>ROW/TOWNHOUSE-OCC</td>\n",
       "      <td>Tri-District</td>\n",
       "      <td>1</td>\n",
       "      <td>9</td>\n",
       "    </tr>\n",
       "    <tr>\n",
       "      <th>89916</th>\n",
       "      <td>12/3/2014</td>\n",
       "      <td>15:11:00</td>\n",
       "      <td>4C</td>\n",
       "      <td>1000 EDMONDSON AV</td>\n",
       "      <td>AGG. ASSAULT</td>\n",
       "      <td>I</td>\n",
       "      <td>OTHER</td>\n",
       "      <td>713</td>\n",
       "      <td>WESTERN</td>\n",
       "      <td>HARLEM PARK</td>\n",
       "      <td>-76.634581</td>\n",
       "      <td>39.295513</td>\n",
       "      <td>NaN</td>\n",
       "      <td>ROW/TOWNHOUSE-OCC</td>\n",
       "      <td>Central</td>\n",
       "      <td>1</td>\n",
       "      <td>8</td>\n",
       "    </tr>\n",
       "    <tr>\n",
       "      <th>179796</th>\n",
       "      <td>5/25/2015</td>\n",
       "      <td>0:01:00</td>\n",
       "      <td>6E</td>\n",
       "      <td>5100 REISTERSTOWN RD</td>\n",
       "      <td>LARCENY</td>\n",
       "      <td>O</td>\n",
       "      <td>NaN</td>\n",
       "      <td>613</td>\n",
       "      <td>NORTHWEST</td>\n",
       "      <td>LANGSTON HUGHES</td>\n",
       "      <td>-76.682544</td>\n",
       "      <td>39.342345</td>\n",
       "      <td>NaN</td>\n",
       "      <td>PARKING LOT-OUTSIDE</td>\n",
       "      <td>Northwestern</td>\n",
       "      <td>1</td>\n",
       "      <td>8</td>\n",
       "    </tr>\n",
       "    <tr>\n",
       "      <th>228996</th>\n",
       "      <td>7/19/2017</td>\n",
       "      <td>16:33:00</td>\n",
       "      <td>3JF</td>\n",
       "      <td>1600 N BROADWAY</td>\n",
       "      <td>ROBBERY - RESIDENCE</td>\n",
       "      <td>I</td>\n",
       "      <td>FIREARM</td>\n",
       "      <td>314</td>\n",
       "      <td>EASTERN</td>\n",
       "      <td>OLIVER</td>\n",
       "      <td>-76.595103</td>\n",
       "      <td>39.308805</td>\n",
       "      <td>NaN</td>\n",
       "      <td>ROW/TOWNHOUSE-OCC</td>\n",
       "      <td>Eastern 1</td>\n",
       "      <td>1</td>\n",
       "      <td>6</td>\n",
       "    </tr>\n",
       "    <tr>\n",
       "      <th>155708</th>\n",
       "      <td>4/27/2015</td>\n",
       "      <td>16:00:00</td>\n",
       "      <td>4C</td>\n",
       "      <td>1600 W NORTH AVE</td>\n",
       "      <td>AGG. ASSAULT</td>\n",
       "      <td>O</td>\n",
       "      <td>OTHER</td>\n",
       "      <td>733</td>\n",
       "      <td>WESTERN</td>\n",
       "      <td>PENN NORTH</td>\n",
       "      <td>-76.643429</td>\n",
       "      <td>39.310091</td>\n",
       "      <td>NaN</td>\n",
       "      <td>STREET</td>\n",
       "      <td>Western</td>\n",
       "      <td>1</td>\n",
       "      <td>6</td>\n",
       "    </tr>\n",
       "    <tr>\n",
       "      <th>184451</th>\n",
       "      <td>5/3/2016</td>\n",
       "      <td>3:33:00</td>\n",
       "      <td>4A</td>\n",
       "      <td>2200 E BIDDLE ST</td>\n",
       "      <td>AGG. ASSAULT</td>\n",
       "      <td>O</td>\n",
       "      <td>FIREARM</td>\n",
       "      <td>331</td>\n",
       "      <td>EASTERN</td>\n",
       "      <td>BROADWAY EAST</td>\n",
       "      <td>-76.586960</td>\n",
       "      <td>39.304670</td>\n",
       "      <td>NaN</td>\n",
       "      <td>STREET</td>\n",
       "      <td>Eastern 2</td>\n",
       "      <td>1</td>\n",
       "      <td>6</td>\n",
       "    </tr>\n",
       "    <tr>\n",
       "      <th>93188</th>\n",
       "      <td>12/5/2018</td>\n",
       "      <td>20:44:00</td>\n",
       "      <td>4E</td>\n",
       "      <td>2400 W BALTIMORE ST</td>\n",
       "      <td>COMMON ASSAULT</td>\n",
       "      <td>I</td>\n",
       "      <td>NaN</td>\n",
       "      <td>714</td>\n",
       "      <td>WESTERN</td>\n",
       "      <td>SHIPLEY HILL</td>\n",
       "      <td>-76.655035</td>\n",
       "      <td>39.287728</td>\n",
       "      <td>NaN</td>\n",
       "      <td>HOSP/NURS. HOME</td>\n",
       "      <td>Tri-District</td>\n",
       "      <td>1</td>\n",
       "      <td>6</td>\n",
       "    </tr>\n",
       "    <tr>\n",
       "      <th>29289</th>\n",
       "      <td>10/14/2015</td>\n",
       "      <td>0:02:00</td>\n",
       "      <td>4C</td>\n",
       "      <td>1000 DRUID HILL AVE</td>\n",
       "      <td>AGG. ASSAULT</td>\n",
       "      <td>I</td>\n",
       "      <td>OTHER</td>\n",
       "      <td>123</td>\n",
       "      <td>CENTRAL</td>\n",
       "      <td>UPTON</td>\n",
       "      <td>-76.626366</td>\n",
       "      <td>39.300154</td>\n",
       "      <td>NaN</td>\n",
       "      <td>ROW/TOWNHOUSE-OCC</td>\n",
       "      <td>Central</td>\n",
       "      <td>1</td>\n",
       "      <td>6</td>\n",
       "    </tr>\n",
       "  </tbody>\n",
       "</table>\n",
       "</div>"
      ],
      "text/plain": [
       "         CrimeDate CrimeTime CrimeCode              Location  \\\n",
       "2922     1/12/2015   4:40:00        4A        1700 NORMAL AV   \n",
       "123765   3/17/2020  18:27:00        4A        1800 RAMSAY ST   \n",
       "271597    8/9/2017  20:22:00        4C       2100 HOLLINS ST   \n",
       "89916    12/3/2014  15:11:00        4C     1000 EDMONDSON AV   \n",
       "179796   5/25/2015   0:01:00        6E  5100 REISTERSTOWN RD   \n",
       "228996   7/19/2017  16:33:00       3JF       1600 N BROADWAY   \n",
       "155708   4/27/2015  16:00:00        4C      1600 W NORTH AVE   \n",
       "184451    5/3/2016   3:33:00        4A      2200 E BIDDLE ST   \n",
       "93188    12/5/2018  20:44:00        4E   2400 W BALTIMORE ST   \n",
       "29289   10/14/2015   0:02:00        4C   1000 DRUID HILL AVE   \n",
       "\n",
       "                Description Inside/Outside   Weapon Post   District  \\\n",
       "2922           AGG. ASSAULT              I  FIREARM  312    EASTERN   \n",
       "123765         AGG. ASSAULT            NaN  FIREARM  934   SOUTHERN   \n",
       "271597         AGG. ASSAULT              I    OTHER  835  SOUTHWEST   \n",
       "89916          AGG. ASSAULT              I    OTHER  713    WESTERN   \n",
       "179796              LARCENY              O      NaN  613  NORTHWEST   \n",
       "228996  ROBBERY - RESIDENCE              I  FIREARM  314    EASTERN   \n",
       "155708         AGG. ASSAULT              O    OTHER  733    WESTERN   \n",
       "184451         AGG. ASSAULT              O  FIREARM  331    EASTERN   \n",
       "93188        COMMON ASSAULT              I      NaN  714    WESTERN   \n",
       "29289          AGG. ASSAULT              I    OTHER  123    CENTRAL   \n",
       "\n",
       "            Neighborhood  Longitude   Latitude  Location 1  \\\n",
       "2922         DARLEY PARK -76.593663  39.315562         NaN   \n",
       "123765  CARROLLTON RIDGE -76.645249  39.283106         NaN   \n",
       "271597        BOOTH-BOYD -76.650689  39.287050         NaN   \n",
       "89916        HARLEM PARK -76.634581  39.295513         NaN   \n",
       "179796   LANGSTON HUGHES -76.682544  39.342345         NaN   \n",
       "228996            OLIVER -76.595103  39.308805         NaN   \n",
       "155708        PENN NORTH -76.643429  39.310091         NaN   \n",
       "184451     BROADWAY EAST -76.586960  39.304670         NaN   \n",
       "93188       SHIPLEY HILL -76.655035  39.287728         NaN   \n",
       "29289              UPTON -76.626366  39.300154         NaN   \n",
       "\n",
       "                    Premise     vri_name1  Total Incidents  group_count  \n",
       "2922      ROW/TOWNHOUSE-OCC     Eastern 1                1           10  \n",
       "123765                  NaN  Tri-District                1            9  \n",
       "271597    ROW/TOWNHOUSE-OCC  Tri-District                1            9  \n",
       "89916     ROW/TOWNHOUSE-OCC       Central                1            8  \n",
       "179796  PARKING LOT-OUTSIDE  Northwestern                1            8  \n",
       "228996    ROW/TOWNHOUSE-OCC     Eastern 1                1            6  \n",
       "155708               STREET       Western                1            6  \n",
       "184451               STREET     Eastern 2                1            6  \n",
       "93188       HOSP/NURS. HOME  Tri-District                1            6  \n",
       "29289     ROW/TOWNHOUSE-OCC       Central                1            6  "
      ]
     },
     "execution_count": 252,
     "metadata": {},
     "output_type": "execute_result"
    }
   ],
   "source": [
    "df_nodup[df_nodup['vri_name1'].notna()].head(10)"
   ]
  },
  {
   "cell_type": "code",
   "execution_count": 253,
   "metadata": {},
   "outputs": [
    {
     "data": {
      "text/html": [
       "<div>\n",
       "<style scoped>\n",
       "    .dataframe tbody tr th:only-of-type {\n",
       "        vertical-align: middle;\n",
       "    }\n",
       "\n",
       "    .dataframe tbody tr th {\n",
       "        vertical-align: top;\n",
       "    }\n",
       "\n",
       "    .dataframe thead tr th {\n",
       "        text-align: left;\n",
       "    }\n",
       "\n",
       "    .dataframe thead tr:last-of-type th {\n",
       "        text-align: right;\n",
       "    }\n",
       "</style>\n",
       "<table border=\"1\" class=\"dataframe\">\n",
       "  <thead>\n",
       "    <tr>\n",
       "      <th></th>\n",
       "      <th colspan=\"10\" halign=\"left\">Total Incidents</th>\n",
       "    </tr>\n",
       "    <tr>\n",
       "      <th>District</th>\n",
       "      <th>CENTRAL</th>\n",
       "      <th>EASTERN</th>\n",
       "      <th>NORTHEAST</th>\n",
       "      <th>NORTHERN</th>\n",
       "      <th>NORTHWEST</th>\n",
       "      <th>SOUTHEAST</th>\n",
       "      <th>SOUTHERN</th>\n",
       "      <th>SOUTHWEST</th>\n",
       "      <th>UNKNOWN</th>\n",
       "      <th>WESTERN</th>\n",
       "    </tr>\n",
       "    <tr>\n",
       "      <th>vri_name1</th>\n",
       "      <th></th>\n",
       "      <th></th>\n",
       "      <th></th>\n",
       "      <th></th>\n",
       "      <th></th>\n",
       "      <th></th>\n",
       "      <th></th>\n",
       "      <th></th>\n",
       "      <th></th>\n",
       "      <th></th>\n",
       "    </tr>\n",
       "  </thead>\n",
       "  <tbody>\n",
       "    <tr>\n",
       "      <th>Brooklyn</th>\n",
       "      <td>NaN</td>\n",
       "      <td>NaN</td>\n",
       "      <td>NaN</td>\n",
       "      <td>NaN</td>\n",
       "      <td>1.0</td>\n",
       "      <td>NaN</td>\n",
       "      <td>2471.0</td>\n",
       "      <td>1.0</td>\n",
       "      <td>2.0</td>\n",
       "      <td>NaN</td>\n",
       "    </tr>\n",
       "    <tr>\n",
       "      <th>Central</th>\n",
       "      <td>2783.0</td>\n",
       "      <td>29.0</td>\n",
       "      <td>NaN</td>\n",
       "      <td>1.0</td>\n",
       "      <td>1.0</td>\n",
       "      <td>NaN</td>\n",
       "      <td>5.0</td>\n",
       "      <td>1.0</td>\n",
       "      <td>1.0</td>\n",
       "      <td>2677.0</td>\n",
       "    </tr>\n",
       "    <tr>\n",
       "      <th>Eastern 1</th>\n",
       "      <td>11.0</td>\n",
       "      <td>4611.0</td>\n",
       "      <td>184.0</td>\n",
       "      <td>NaN</td>\n",
       "      <td>NaN</td>\n",
       "      <td>NaN</td>\n",
       "      <td>NaN</td>\n",
       "      <td>1.0</td>\n",
       "      <td>2.0</td>\n",
       "      <td>19.0</td>\n",
       "    </tr>\n",
       "    <tr>\n",
       "      <th>Eastern 2</th>\n",
       "      <td>4.0</td>\n",
       "      <td>3398.0</td>\n",
       "      <td>NaN</td>\n",
       "      <td>1.0</td>\n",
       "      <td>NaN</td>\n",
       "      <td>31.0</td>\n",
       "      <td>NaN</td>\n",
       "      <td>NaN</td>\n",
       "      <td>1.0</td>\n",
       "      <td>NaN</td>\n",
       "    </tr>\n",
       "    <tr>\n",
       "      <th>Northeastern</th>\n",
       "      <td>NaN</td>\n",
       "      <td>1.0</td>\n",
       "      <td>2981.0</td>\n",
       "      <td>NaN</td>\n",
       "      <td>NaN</td>\n",
       "      <td>NaN</td>\n",
       "      <td>NaN</td>\n",
       "      <td>NaN</td>\n",
       "      <td>1.0</td>\n",
       "      <td>NaN</td>\n",
       "    </tr>\n",
       "    <tr>\n",
       "      <th>Northwestern</th>\n",
       "      <td>1.0</td>\n",
       "      <td>NaN</td>\n",
       "      <td>NaN</td>\n",
       "      <td>1.0</td>\n",
       "      <td>3254.0</td>\n",
       "      <td>NaN</td>\n",
       "      <td>NaN</td>\n",
       "      <td>NaN</td>\n",
       "      <td>NaN</td>\n",
       "      <td>NaN</td>\n",
       "    </tr>\n",
       "    <tr>\n",
       "      <th>Tri-District</th>\n",
       "      <td>NaN</td>\n",
       "      <td>NaN</td>\n",
       "      <td>NaN</td>\n",
       "      <td>NaN</td>\n",
       "      <td>1.0</td>\n",
       "      <td>73.0</td>\n",
       "      <td>3121.0</td>\n",
       "      <td>2624.0</td>\n",
       "      <td>2.0</td>\n",
       "      <td>927.0</td>\n",
       "    </tr>\n",
       "    <tr>\n",
       "      <th>Western</th>\n",
       "      <td>8.0</td>\n",
       "      <td>34.0</td>\n",
       "      <td>2.0</td>\n",
       "      <td>NaN</td>\n",
       "      <td>2.0</td>\n",
       "      <td>NaN</td>\n",
       "      <td>7.0</td>\n",
       "      <td>1.0</td>\n",
       "      <td>2.0</td>\n",
       "      <td>5925.0</td>\n",
       "    </tr>\n",
       "  </tbody>\n",
       "</table>\n",
       "</div>"
      ],
      "text/plain": [
       "             Total Incidents                                                 \\\n",
       "District             CENTRAL EASTERN NORTHEAST NORTHERN NORTHWEST SOUTHEAST   \n",
       "vri_name1                                                                     \n",
       "Brooklyn                 NaN     NaN       NaN      NaN       1.0       NaN   \n",
       "Central               2783.0    29.0       NaN      1.0       1.0       NaN   \n",
       "Eastern 1               11.0  4611.0     184.0      NaN       NaN       NaN   \n",
       "Eastern 2                4.0  3398.0       NaN      1.0       NaN      31.0   \n",
       "Northeastern             NaN     1.0    2981.0      NaN       NaN       NaN   \n",
       "Northwestern             1.0     NaN       NaN      1.0    3254.0       NaN   \n",
       "Tri-District             NaN     NaN       NaN      NaN       1.0      73.0   \n",
       "Western                  8.0    34.0       2.0      NaN       2.0       NaN   \n",
       "\n",
       "                                                 \n",
       "District     SOUTHERN SOUTHWEST UNKNOWN WESTERN  \n",
       "vri_name1                                        \n",
       "Brooklyn       2471.0       1.0     2.0     NaN  \n",
       "Central           5.0       1.0     1.0  2677.0  \n",
       "Eastern 1         NaN       1.0     2.0    19.0  \n",
       "Eastern 2         NaN       NaN     1.0     NaN  \n",
       "Northeastern      NaN       NaN     1.0     NaN  \n",
       "Northwestern      NaN       NaN     NaN     NaN  \n",
       "Tri-District   3121.0    2624.0     2.0   927.0  \n",
       "Western           7.0       1.0     2.0  5925.0  "
      ]
     },
     "execution_count": 253,
     "metadata": {},
     "output_type": "execute_result"
    }
   ],
   "source": [
    "# df_nodup[df_nodup['vri_name1'].notna()][['vri_name1','District']].\n",
    "pd.pivot_table(index=['vri_name1'], columns=['District'], data=df_nodup[df_nodup['vri_name1'].notna()][['vri_name1','District','Total Incidents']], aggfunc=np.sum)"
   ]
  },
  {
   "cell_type": "code",
   "execution_count": 254,
   "metadata": {},
   "outputs": [],
   "source": [
    "df_nodup=df_nodup.drop(columns=['Location 1','vri_name1'])"
   ]
  },
  {
   "cell_type": "markdown",
   "metadata": {},
   "source": [
    "## Value Consistency"
   ]
  },
  {
   "cell_type": "code",
   "execution_count": 255,
   "metadata": {},
   "outputs": [
    {
     "data": {
      "text/plain": [
       "array(['5D', '5E', '4C', '6D', '5A', '4A', '4E', '3AF', '6E', '6J', '9S',\n",
       "       '3JF', '3CF', '3NF', '6A', '6G', '3B', '4B', '5F', '8AO', '3P',\n",
       "       '3AO', '6C', '8AV', '3AK', '7A', '5G', '3JO', '4D', '5C', '7C',\n",
       "       '2A', '6L', '1A', '3GK', '8GO', '6F', '3BJ', '8H', '3AJF', '3K',\n",
       "       '3AJK', '3GF', '8BO', '3JK', '3F', '1K', '5B', '3EF', '3D', '3NK',\n",
       "       '3LF', '3CO', '6B', '8J', '3CK', '8FO', '1O', '8EO', '8BV', '6H',\n",
       "       '3NO', '3GO', '3AJO', '3M', '7B', '3EO', '3H', '2B', '3EK', '3LO',\n",
       "       '8CO', '6K', '8GV', '8CV', '3LK', '8FV', '8EV', '8I', '8DO', '3N'],\n",
       "      dtype=object)"
      ]
     },
     "execution_count": 255,
     "metadata": {},
     "output_type": "execute_result"
    }
   ],
   "source": [
    "df_nodup.CrimeCode.unique()"
   ]
  },
  {
   "cell_type": "code",
   "execution_count": 256,
   "metadata": {},
   "outputs": [
    {
     "data": {
      "text/plain": [
       "array(['BURGLARY', 'AGG. ASSAULT', 'LARCENY FROM AUTO', 'COMMON ASSAULT',\n",
       "       'ROBBERY - STREET', 'LARCENY', 'SHOOTING', 'ROBBERY - RESIDENCE',\n",
       "       'ROBBERY - COMMERCIAL', 'ARSON', 'AUTO THEFT', 'RAPE', 'HOMICIDE',\n",
       "       'ROBBERY - CARJACKING'], dtype=object)"
      ]
     },
     "execution_count": 256,
     "metadata": {},
     "output_type": "execute_result"
    }
   ],
   "source": [
    "df_nodup.Description.unique()"
   ]
  },
  {
   "cell_type": "code",
   "execution_count": 257,
   "metadata": {},
   "outputs": [],
   "source": [
    "#Before Mapping"
   ]
  },
  {
   "cell_type": "code",
   "execution_count": 258,
   "metadata": {},
   "outputs": [
    {
     "data": {
      "text/plain": [
       "array(['I', nan, 'O', 'Outside', 'Inside'], dtype=object)"
      ]
     },
     "execution_count": 258,
     "metadata": {},
     "output_type": "execute_result"
    }
   ],
   "source": [
    "df_nodup['Inside/Outside'].unique()"
   ]
  },
  {
   "cell_type": "code",
   "execution_count": 259,
   "metadata": {},
   "outputs": [],
   "source": [
    "df_nodup['Inside/Outside']=df_nodup['Inside/Outside'].map({'O':'Outside','I':'Inside'})"
   ]
  },
  {
   "cell_type": "code",
   "execution_count": 260,
   "metadata": {},
   "outputs": [],
   "source": [
    "#After Mapping"
   ]
  },
  {
   "cell_type": "code",
   "execution_count": 261,
   "metadata": {},
   "outputs": [
    {
     "data": {
      "text/plain": [
       "array(['Inside', nan, 'Outside'], dtype=object)"
      ]
     },
     "execution_count": 261,
     "metadata": {},
     "output_type": "execute_result"
    }
   ],
   "source": [
    "df_nodup['Inside/Outside'].unique()"
   ]
  },
  {
   "cell_type": "code",
   "execution_count": null,
   "metadata": {},
   "outputs": [],
   "source": []
  },
  {
   "cell_type": "code",
   "execution_count": 262,
   "metadata": {},
   "outputs": [],
   "source": [
    "# cleaning posts"
   ]
  },
  {
   "cell_type": "code",
   "execution_count": 263,
   "metadata": {},
   "outputs": [],
   "source": [
    "df_nodup.loc[df_nodup['Post'].notna(),'Post']=df_nodup[df_nodup['Post'].notna()]['Post'].apply(lambda x: str(x).replace('.0',''))"
   ]
  },
  {
   "cell_type": "code",
   "execution_count": 264,
   "metadata": {},
   "outputs": [
    {
     "data": {
      "text/plain": [
       "array(['922', '232', '533', '731', '832', '835', '912', '625', '632',\n",
       "       '426', '724', '813', '212', '441', '411', '423', '445', '714',\n",
       "       '941', '511', '312', '622', '634', '614', nan, '132', '934', '125',\n",
       "       '833', '334', '134', '713', '313', '633', '923', '225', '322',\n",
       "       '613', '231', '711', '624', '222', '523', '413', '721', '443',\n",
       "       '323', '942', '114', '425', '124', '113', '723', '822', '433',\n",
       "       '424', '121', '621', '211', '712', '422', '314', '512', '824',\n",
       "       '221', '534', '733', '331', '233', '412', '123', '631', '812',\n",
       "       '214', '324', '514', '821', '931', '521', '911', '111', '722',\n",
       "       '224', '414', '234', '513', '213', '442', '532', '834', '321',\n",
       "       '943', '525', '223', '432', '612', '831', '735', '734', '131',\n",
       "       '112', '431', '935', '932', '814', '421', '623', '333', '921',\n",
       "       '823', '913', '434', '311', '332', '524', '522', '515', '531',\n",
       "       '444', '133', '611', '811', '815', '732', '415', '122', '933',\n",
       "       'ED4', '427', 'SW2', '816', 'ED1', '626', '141'], dtype=object)"
      ]
     },
     "execution_count": 264,
     "metadata": {},
     "output_type": "execute_result"
    }
   ],
   "source": [
    "df_nodup['Post'].unique()"
   ]
  },
  {
   "cell_type": "code",
   "execution_count": null,
   "metadata": {},
   "outputs": [],
   "source": []
  },
  {
   "cell_type": "code",
   "execution_count": 266,
   "metadata": {},
   "outputs": [],
   "source": [
    "df_nodup.to_csv('cleaned_df.csv',index=False)"
   ]
  },
  {
   "cell_type": "code",
   "execution_count": null,
   "metadata": {},
   "outputs": [],
   "source": []
  },
  {
   "cell_type": "code",
   "execution_count": null,
   "metadata": {},
   "outputs": [],
   "source": []
  },
  {
   "cell_type": "code",
   "execution_count": null,
   "metadata": {},
   "outputs": [],
   "source": []
  },
  {
   "cell_type": "code",
   "execution_count": 231,
   "metadata": {},
   "outputs": [],
   "source": [
    "df_nodup['Year']=df_nodup.CrimeDate.dt.year"
   ]
  },
  {
   "cell_type": "code",
   "execution_count": 232,
   "metadata": {},
   "outputs": [],
   "source": [
    "df_nodup['Month']=df_nodup.CrimeDate.dt.month"
   ]
  },
  {
   "cell_type": "code",
   "execution_count": 233,
   "metadata": {},
   "outputs": [],
   "source": [
    "df_nodup['Day']=df_nodup.CrimeDate.dt.day"
   ]
  },
  {
   "cell_type": "code",
   "execution_count": 234,
   "metadata": {},
   "outputs": [],
   "source": [
    "df_nodup['DayofWeek']=df_nodup.CrimeDate.dt.dayofweek"
   ]
  },
  {
   "cell_type": "code",
   "execution_count": null,
   "metadata": {},
   "outputs": [],
   "source": [
    "df_nodup.CrimeTime_dt.dt.hour"
   ]
  },
  {
   "cell_type": "code",
   "execution_count": 245,
   "metadata": {},
   "outputs": [],
   "source": [
    "df_nodup.to_csv('nodup.csv')"
   ]
  },
  {
   "cell_type": "code",
   "execution_count": null,
   "metadata": {},
   "outputs": [],
   "source": []
  }
 ],
 "metadata": {
  "kernelspec": {
   "display_name": "Python 3.7.6 64-bit",
   "language": "python",
   "name": "python37664bitaad11810a68246cf96b4e903e9fb7d27"
  },
  "language_info": {
   "codemirror_mode": {
    "name": "ipython",
    "version": 3
   },
   "file_extension": ".py",
   "mimetype": "text/x-python",
   "name": "python",
   "nbconvert_exporter": "python",
   "pygments_lexer": "ipython3",
   "version": "3.7.6"
  },
  "toc": {
   "base_numbering": 1,
   "nav_menu": {},
   "number_sections": true,
   "sideBar": true,
   "skip_h1_title": false,
   "title_cell": "Table of Contents",
   "title_sidebar": "Contents",
   "toc_cell": false,
   "toc_position": {},
   "toc_section_display": true,
   "toc_window_display": false
  },
  "varInspector": {
   "cols": {
    "lenName": 16,
    "lenType": 16,
    "lenVar": 40
   },
   "kernels_config": {
    "python": {
     "delete_cmd_postfix": "",
     "delete_cmd_prefix": "del ",
     "library": "var_list.py",
     "varRefreshCmd": "print(var_dic_list())"
    },
    "r": {
     "delete_cmd_postfix": ") ",
     "delete_cmd_prefix": "rm(",
     "library": "var_list.r",
     "varRefreshCmd": "cat(var_dic_list()) "
    }
   },
   "types_to_exclude": [
    "module",
    "function",
    "builtin_function_or_method",
    "instance",
    "_Feature"
   ],
   "window_display": false
  }
 },
 "nbformat": 4,
 "nbformat_minor": 4
}
